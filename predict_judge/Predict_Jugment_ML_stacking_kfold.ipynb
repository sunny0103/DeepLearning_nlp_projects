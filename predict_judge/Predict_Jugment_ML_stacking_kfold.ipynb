{
  "cells": [
    {
      "cell_type": "markdown",
      "metadata": {
        "id": "view-in-github",
        "colab_type": "text"
      },
      "source": [
        "<a href=\"https://colab.research.google.com/github/sunny0103/DeepLearning_projects/blob/main/predict_judge/Predict_Jugment_ML_stacking_kfold.ipynb\" target=\"_parent\"><img src=\"https://colab.research.google.com/assets/colab-badge.svg\" alt=\"Open In Colab\"/></a>"
      ]
    },
    {
      "cell_type": "markdown",
      "metadata": {
        "id": "WmXsYLUJ62eM"
      },
      "source": [
        "* 0: loss, 1:win"
      ]
    },
    {
      "cell_type": "code",
      "execution_count": 1,
      "metadata": {
        "colab": {
          "base_uri": "https://localhost:8080/"
        },
        "id": "zZsWhst6yiNE",
        "outputId": "4afa2730-9919-44c3-e838-1aa7677c9f5b"
      },
      "outputs": [
        {
          "output_type": "stream",
          "name": "stdout",
          "text": [
            "Requirement already satisfied: rich in /usr/local/lib/python3.10/dist-packages (13.4.2)\n",
            "Requirement already satisfied: markdown-it-py>=2.2.0 in /usr/local/lib/python3.10/dist-packages (from rich) (3.0.0)\n",
            "Requirement already satisfied: pygments<3.0.0,>=2.13.0 in /usr/local/lib/python3.10/dist-packages (from rich) (2.14.0)\n",
            "Requirement already satisfied: mdurl~=0.1 in /usr/local/lib/python3.10/dist-packages (from markdown-it-py>=2.2.0->rich) (0.1.2)\n"
          ]
        }
      ],
      "source": [
        "!pip install rich"
      ]
    },
    {
      "cell_type": "code",
      "execution_count": 2,
      "metadata": {
        "colab": {
          "base_uri": "https://localhost:8080/"
        },
        "id": "MsIAbMkC_Wrt",
        "outputId": "50e68bef-f731-46b8-b46b-8bbe68f5aeaf"
      },
      "outputs": [
        {
          "output_type": "stream",
          "name": "stdout",
          "text": [
            "Mounted at /content/drive\n"
          ]
        }
      ],
      "source": [
        "from google.colab import drive\n",
        "drive.mount('/content/drive')"
      ]
    },
    {
      "cell_type": "code",
      "execution_count": 3,
      "metadata": {
        "colab": {
          "base_uri": "https://localhost:8080/"
        },
        "id": "PLNub4VQ48Mo",
        "outputId": "eceba7c9-23ad-42a2-9833-49788ebfdcec"
      },
      "outputs": [
        {
          "output_type": "stream",
          "name": "stdout",
          "text": [
            "/content/drive/MyDrive/Data/judge\n"
          ]
        }
      ],
      "source": [
        "cd \"/content/drive/MyDrive/Data/judge\""
      ]
    },
    {
      "cell_type": "code",
      "execution_count": 4,
      "metadata": {
        "id": "V6SaHUEd5YLN"
      },
      "outputs": [],
      "source": [
        "import warnings\n",
        "warnings.filterwarnings('ignore')\n",
        "\n",
        "import os, sys\n",
        "import rich\n",
        "from rich.table import Table\n",
        "import re\n",
        "import pandas as pd\n",
        "import numpy as np\n",
        "import matplotlib.pyplot as plt\n",
        "import seaborn as sns\n",
        "\n",
        "from sklearn.feature_extraction.text import TfidfVectorizer\n",
        "from sklearn.model_selection import StratifiedKFold\n",
        "from sklearn.metrics import accuracy_score\n",
        "# from sklearn.linear_model import SGDClassifier\n",
        "# from skelarn.ensemble import RandomForestClassifier, AdaBoostClassifier\n",
        "# from sklearn.svm import SVC\n",
        "# from sklearn.neighbors import KNeighborsClassifier\n",
        "\n",
        "from sklearn.ensemble import StackingClassifier\n",
        "from tqdm.auto import tqdm\n",
        "from sklearn.linear_model  import LogisticRegression\n",
        "from sklearn import svm\n",
        "from sklearn.naive_bayes import GaussianNB\n",
        "from sklearn.ensemble import (RandomForestClassifier,\n",
        "                              AdaBoostClassifier,\n",
        "                              ExtraTreesClassifier,\n",
        "                              BaggingClassifier,\n",
        "                              GradientBoostingClassifier,\n",
        "                              VotingClassifier)\n",
        "\n",
        "from sklearn.neighbors import KNeighborsClassifier\n",
        "from lightgbm import LGBMClassifier\n",
        "\n",
        "\n",
        "# import nltk\n",
        "# nltk.download('all')\n",
        "# from nltk.corpus import stopwords"
      ]
    },
    {
      "cell_type": "code",
      "execution_count": 5,
      "metadata": {
        "colab": {
          "base_uri": "https://localhost:8080/",
          "height": 465
        },
        "id": "3wzq6QoJ5bc7",
        "outputId": "f7b04fad-1bb5-4f85-d1e0-9555f30b63bc"
      },
      "outputs": [
        {
          "output_type": "stream",
          "name": "stdout",
          "text": [
            "--train--\n",
            "(2478, 5)\n"
          ]
        },
        {
          "output_type": "display_data",
          "data": {
            "text/plain": [
              "           ID         first_party                    second_party  \\\n",
              "0  TRAIN_0000   Phil A. St. Amant              Herman A. Thompson   \n",
              "1  TRAIN_0001      Stephen Duncan                  Lawrence Owens   \n",
              "2  TRAIN_0002   Billy Joe Magwood  Tony Patterson, Warden, et al.   \n",
              "3  TRAIN_0003          Linkletter                          Walker   \n",
              "4  TRAIN_0004  William Earl Fikes                         Alabama   \n",
              "\n",
              "                                               facts  first_party_winner  \n",
              "0  On June 27, 1962, Phil St. Amant, a candidate ...                   1  \n",
              "1  Ramon Nelson was riding his bike when he suffe...                   0  \n",
              "2  An Alabama state court convicted Billy Joe Mag...                   1  \n",
              "3  Victor Linkletter was convicted in state court...                   0  \n",
              "4  On April 24, 1953 in Selma, Alabama, an intrud...                   1  "
            ],
            "text/html": [
              "\n",
              "  <div id=\"df-67d8e14a-59bd-4155-9161-16cb4448932f\">\n",
              "    <div class=\"colab-df-container\">\n",
              "      <div>\n",
              "<style scoped>\n",
              "    .dataframe tbody tr th:only-of-type {\n",
              "        vertical-align: middle;\n",
              "    }\n",
              "\n",
              "    .dataframe tbody tr th {\n",
              "        vertical-align: top;\n",
              "    }\n",
              "\n",
              "    .dataframe thead th {\n",
              "        text-align: right;\n",
              "    }\n",
              "</style>\n",
              "<table border=\"1\" class=\"dataframe\">\n",
              "  <thead>\n",
              "    <tr style=\"text-align: right;\">\n",
              "      <th></th>\n",
              "      <th>ID</th>\n",
              "      <th>first_party</th>\n",
              "      <th>second_party</th>\n",
              "      <th>facts</th>\n",
              "      <th>first_party_winner</th>\n",
              "    </tr>\n",
              "  </thead>\n",
              "  <tbody>\n",
              "    <tr>\n",
              "      <th>0</th>\n",
              "      <td>TRAIN_0000</td>\n",
              "      <td>Phil A. St. Amant</td>\n",
              "      <td>Herman A. Thompson</td>\n",
              "      <td>On June 27, 1962, Phil St. Amant, a candidate ...</td>\n",
              "      <td>1</td>\n",
              "    </tr>\n",
              "    <tr>\n",
              "      <th>1</th>\n",
              "      <td>TRAIN_0001</td>\n",
              "      <td>Stephen Duncan</td>\n",
              "      <td>Lawrence Owens</td>\n",
              "      <td>Ramon Nelson was riding his bike when he suffe...</td>\n",
              "      <td>0</td>\n",
              "    </tr>\n",
              "    <tr>\n",
              "      <th>2</th>\n",
              "      <td>TRAIN_0002</td>\n",
              "      <td>Billy Joe Magwood</td>\n",
              "      <td>Tony Patterson, Warden, et al.</td>\n",
              "      <td>An Alabama state court convicted Billy Joe Mag...</td>\n",
              "      <td>1</td>\n",
              "    </tr>\n",
              "    <tr>\n",
              "      <th>3</th>\n",
              "      <td>TRAIN_0003</td>\n",
              "      <td>Linkletter</td>\n",
              "      <td>Walker</td>\n",
              "      <td>Victor Linkletter was convicted in state court...</td>\n",
              "      <td>0</td>\n",
              "    </tr>\n",
              "    <tr>\n",
              "      <th>4</th>\n",
              "      <td>TRAIN_0004</td>\n",
              "      <td>William Earl Fikes</td>\n",
              "      <td>Alabama</td>\n",
              "      <td>On April 24, 1953 in Selma, Alabama, an intrud...</td>\n",
              "      <td>1</td>\n",
              "    </tr>\n",
              "  </tbody>\n",
              "</table>\n",
              "</div>\n",
              "      <button class=\"colab-df-convert\" onclick=\"convertToInteractive('df-67d8e14a-59bd-4155-9161-16cb4448932f')\"\n",
              "              title=\"Convert this dataframe to an interactive table.\"\n",
              "              style=\"display:none;\">\n",
              "        \n",
              "  <svg xmlns=\"http://www.w3.org/2000/svg\" height=\"24px\"viewBox=\"0 0 24 24\"\n",
              "       width=\"24px\">\n",
              "    <path d=\"M0 0h24v24H0V0z\" fill=\"none\"/>\n",
              "    <path d=\"M18.56 5.44l.94 2.06.94-2.06 2.06-.94-2.06-.94-.94-2.06-.94 2.06-2.06.94zm-11 1L8.5 8.5l.94-2.06 2.06-.94-2.06-.94L8.5 2.5l-.94 2.06-2.06.94zm10 10l.94 2.06.94-2.06 2.06-.94-2.06-.94-.94-2.06-.94 2.06-2.06.94z\"/><path d=\"M17.41 7.96l-1.37-1.37c-.4-.4-.92-.59-1.43-.59-.52 0-1.04.2-1.43.59L10.3 9.45l-7.72 7.72c-.78.78-.78 2.05 0 2.83L4 21.41c.39.39.9.59 1.41.59.51 0 1.02-.2 1.41-.59l7.78-7.78 2.81-2.81c.8-.78.8-2.07 0-2.86zM5.41 20L4 18.59l7.72-7.72 1.47 1.35L5.41 20z\"/>\n",
              "  </svg>\n",
              "      </button>\n",
              "      \n",
              "  <style>\n",
              "    .colab-df-container {\n",
              "      display:flex;\n",
              "      flex-wrap:wrap;\n",
              "      gap: 12px;\n",
              "    }\n",
              "\n",
              "    .colab-df-convert {\n",
              "      background-color: #E8F0FE;\n",
              "      border: none;\n",
              "      border-radius: 50%;\n",
              "      cursor: pointer;\n",
              "      display: none;\n",
              "      fill: #1967D2;\n",
              "      height: 32px;\n",
              "      padding: 0 0 0 0;\n",
              "      width: 32px;\n",
              "    }\n",
              "\n",
              "    .colab-df-convert:hover {\n",
              "      background-color: #E2EBFA;\n",
              "      box-shadow: 0px 1px 2px rgba(60, 64, 67, 0.3), 0px 1px 3px 1px rgba(60, 64, 67, 0.15);\n",
              "      fill: #174EA6;\n",
              "    }\n",
              "\n",
              "    [theme=dark] .colab-df-convert {\n",
              "      background-color: #3B4455;\n",
              "      fill: #D2E3FC;\n",
              "    }\n",
              "\n",
              "    [theme=dark] .colab-df-convert:hover {\n",
              "      background-color: #434B5C;\n",
              "      box-shadow: 0px 1px 3px 1px rgba(0, 0, 0, 0.15);\n",
              "      filter: drop-shadow(0px 1px 2px rgba(0, 0, 0, 0.3));\n",
              "      fill: #FFFFFF;\n",
              "    }\n",
              "  </style>\n",
              "\n",
              "      <script>\n",
              "        const buttonEl =\n",
              "          document.querySelector('#df-67d8e14a-59bd-4155-9161-16cb4448932f button.colab-df-convert');\n",
              "        buttonEl.style.display =\n",
              "          google.colab.kernel.accessAllowed ? 'block' : 'none';\n",
              "\n",
              "        async function convertToInteractive(key) {\n",
              "          const element = document.querySelector('#df-67d8e14a-59bd-4155-9161-16cb4448932f');\n",
              "          const dataTable =\n",
              "            await google.colab.kernel.invokeFunction('convertToInteractive',\n",
              "                                                     [key], {});\n",
              "          if (!dataTable) return;\n",
              "\n",
              "          const docLinkHtml = 'Like what you see? Visit the ' +\n",
              "            '<a target=\"_blank\" href=https://colab.research.google.com/notebooks/data_table.ipynb>data table notebook</a>'\n",
              "            + ' to learn more about interactive tables.';\n",
              "          element.innerHTML = '';\n",
              "          dataTable['output_type'] = 'display_data';\n",
              "          await google.colab.output.renderOutput(dataTable, element);\n",
              "          const docLink = document.createElement('div');\n",
              "          docLink.innerHTML = docLinkHtml;\n",
              "          element.appendChild(docLink);\n",
              "        }\n",
              "      </script>\n",
              "    </div>\n",
              "  </div>\n",
              "  "
            ]
          },
          "metadata": {}
        },
        {
          "output_type": "stream",
          "name": "stdout",
          "text": [
            "--test--\n",
            "(1240, 4)\n"
          ]
        },
        {
          "output_type": "display_data",
          "data": {
            "text/plain": [
              "          ID                                        first_party  \\\n",
              "0  TEST_0000                                            Salerno   \n",
              "1  TEST_0001             Milberg Weiss Bershad Hynes and Lerach   \n",
              "2  TEST_0002  No. 07-582\\t Title: \\t Federal Communications ...   \n",
              "3  TEST_0003                                    Harold Kaufman    \n",
              "4  TEST_0004                                             Berger   \n",
              "\n",
              "                            second_party  \\\n",
              "0                          United States   \n",
              "1                          Lexecon, Inc.   \n",
              "2  Fox Television Stations, Inc., et al.   \n",
              "3                          United States   \n",
              "4                                 Hanlon   \n",
              "\n",
              "                                               facts  \n",
              "0  The 1984 Bail Reform Act allowed the federal c...  \n",
              "1  Lexecon Inc. was a defendant in a class action...  \n",
              "2  In 2002 and 2003, Fox Television Stations broa...  \n",
              "3  During his trial for armed robbery of a federa...  \n",
              "4  In 1993, a magistrate judge issued a warrant a...  "
            ],
            "text/html": [
              "\n",
              "  <div id=\"df-8360dbde-54b2-4e84-8952-14415ebb10f2\">\n",
              "    <div class=\"colab-df-container\">\n",
              "      <div>\n",
              "<style scoped>\n",
              "    .dataframe tbody tr th:only-of-type {\n",
              "        vertical-align: middle;\n",
              "    }\n",
              "\n",
              "    .dataframe tbody tr th {\n",
              "        vertical-align: top;\n",
              "    }\n",
              "\n",
              "    .dataframe thead th {\n",
              "        text-align: right;\n",
              "    }\n",
              "</style>\n",
              "<table border=\"1\" class=\"dataframe\">\n",
              "  <thead>\n",
              "    <tr style=\"text-align: right;\">\n",
              "      <th></th>\n",
              "      <th>ID</th>\n",
              "      <th>first_party</th>\n",
              "      <th>second_party</th>\n",
              "      <th>facts</th>\n",
              "    </tr>\n",
              "  </thead>\n",
              "  <tbody>\n",
              "    <tr>\n",
              "      <th>0</th>\n",
              "      <td>TEST_0000</td>\n",
              "      <td>Salerno</td>\n",
              "      <td>United States</td>\n",
              "      <td>The 1984 Bail Reform Act allowed the federal c...</td>\n",
              "    </tr>\n",
              "    <tr>\n",
              "      <th>1</th>\n",
              "      <td>TEST_0001</td>\n",
              "      <td>Milberg Weiss Bershad Hynes and Lerach</td>\n",
              "      <td>Lexecon, Inc.</td>\n",
              "      <td>Lexecon Inc. was a defendant in a class action...</td>\n",
              "    </tr>\n",
              "    <tr>\n",
              "      <th>2</th>\n",
              "      <td>TEST_0002</td>\n",
              "      <td>No. 07-582\\t Title: \\t Federal Communications ...</td>\n",
              "      <td>Fox Television Stations, Inc., et al.</td>\n",
              "      <td>In 2002 and 2003, Fox Television Stations broa...</td>\n",
              "    </tr>\n",
              "    <tr>\n",
              "      <th>3</th>\n",
              "      <td>TEST_0003</td>\n",
              "      <td>Harold Kaufman</td>\n",
              "      <td>United States</td>\n",
              "      <td>During his trial for armed robbery of a federa...</td>\n",
              "    </tr>\n",
              "    <tr>\n",
              "      <th>4</th>\n",
              "      <td>TEST_0004</td>\n",
              "      <td>Berger</td>\n",
              "      <td>Hanlon</td>\n",
              "      <td>In 1993, a magistrate judge issued a warrant a...</td>\n",
              "    </tr>\n",
              "  </tbody>\n",
              "</table>\n",
              "</div>\n",
              "      <button class=\"colab-df-convert\" onclick=\"convertToInteractive('df-8360dbde-54b2-4e84-8952-14415ebb10f2')\"\n",
              "              title=\"Convert this dataframe to an interactive table.\"\n",
              "              style=\"display:none;\">\n",
              "        \n",
              "  <svg xmlns=\"http://www.w3.org/2000/svg\" height=\"24px\"viewBox=\"0 0 24 24\"\n",
              "       width=\"24px\">\n",
              "    <path d=\"M0 0h24v24H0V0z\" fill=\"none\"/>\n",
              "    <path d=\"M18.56 5.44l.94 2.06.94-2.06 2.06-.94-2.06-.94-.94-2.06-.94 2.06-2.06.94zm-11 1L8.5 8.5l.94-2.06 2.06-.94-2.06-.94L8.5 2.5l-.94 2.06-2.06.94zm10 10l.94 2.06.94-2.06 2.06-.94-2.06-.94-.94-2.06-.94 2.06-2.06.94z\"/><path d=\"M17.41 7.96l-1.37-1.37c-.4-.4-.92-.59-1.43-.59-.52 0-1.04.2-1.43.59L10.3 9.45l-7.72 7.72c-.78.78-.78 2.05 0 2.83L4 21.41c.39.39.9.59 1.41.59.51 0 1.02-.2 1.41-.59l7.78-7.78 2.81-2.81c.8-.78.8-2.07 0-2.86zM5.41 20L4 18.59l7.72-7.72 1.47 1.35L5.41 20z\"/>\n",
              "  </svg>\n",
              "      </button>\n",
              "      \n",
              "  <style>\n",
              "    .colab-df-container {\n",
              "      display:flex;\n",
              "      flex-wrap:wrap;\n",
              "      gap: 12px;\n",
              "    }\n",
              "\n",
              "    .colab-df-convert {\n",
              "      background-color: #E8F0FE;\n",
              "      border: none;\n",
              "      border-radius: 50%;\n",
              "      cursor: pointer;\n",
              "      display: none;\n",
              "      fill: #1967D2;\n",
              "      height: 32px;\n",
              "      padding: 0 0 0 0;\n",
              "      width: 32px;\n",
              "    }\n",
              "\n",
              "    .colab-df-convert:hover {\n",
              "      background-color: #E2EBFA;\n",
              "      box-shadow: 0px 1px 2px rgba(60, 64, 67, 0.3), 0px 1px 3px 1px rgba(60, 64, 67, 0.15);\n",
              "      fill: #174EA6;\n",
              "    }\n",
              "\n",
              "    [theme=dark] .colab-df-convert {\n",
              "      background-color: #3B4455;\n",
              "      fill: #D2E3FC;\n",
              "    }\n",
              "\n",
              "    [theme=dark] .colab-df-convert:hover {\n",
              "      background-color: #434B5C;\n",
              "      box-shadow: 0px 1px 3px 1px rgba(0, 0, 0, 0.15);\n",
              "      filter: drop-shadow(0px 1px 2px rgba(0, 0, 0, 0.3));\n",
              "      fill: #FFFFFF;\n",
              "    }\n",
              "  </style>\n",
              "\n",
              "      <script>\n",
              "        const buttonEl =\n",
              "          document.querySelector('#df-8360dbde-54b2-4e84-8952-14415ebb10f2 button.colab-df-convert');\n",
              "        buttonEl.style.display =\n",
              "          google.colab.kernel.accessAllowed ? 'block' : 'none';\n",
              "\n",
              "        async function convertToInteractive(key) {\n",
              "          const element = document.querySelector('#df-8360dbde-54b2-4e84-8952-14415ebb10f2');\n",
              "          const dataTable =\n",
              "            await google.colab.kernel.invokeFunction('convertToInteractive',\n",
              "                                                     [key], {});\n",
              "          if (!dataTable) return;\n",
              "\n",
              "          const docLinkHtml = 'Like what you see? Visit the ' +\n",
              "            '<a target=\"_blank\" href=https://colab.research.google.com/notebooks/data_table.ipynb>data table notebook</a>'\n",
              "            + ' to learn more about interactive tables.';\n",
              "          element.innerHTML = '';\n",
              "          dataTable['output_type'] = 'display_data';\n",
              "          await google.colab.output.renderOutput(dataTable, element);\n",
              "          const docLink = document.createElement('div');\n",
              "          docLink.innerHTML = docLinkHtml;\n",
              "          element.appendChild(docLink);\n",
              "        }\n",
              "      </script>\n",
              "    </div>\n",
              "  </div>\n",
              "  "
            ]
          },
          "metadata": {}
        }
      ],
      "source": [
        "train_df = pd.read_csv('./train.csv')\n",
        "test_df = pd.read_csv('./test.csv')\n",
        "print('--train--')\n",
        "print(train_df.shape)\n",
        "display(train_df.head())\n",
        "print('--test--')\n",
        "print(test_df.shape)\n",
        "display(test_df.head())"
      ]
    },
    {
      "cell_type": "code",
      "execution_count": 6,
      "metadata": {
        "id": "uRiD5FM_5gGb"
      },
      "outputs": [],
      "source": [
        "# drop_col = ['first_party', 'second_party']\n",
        "# train_df = train_df.drop(drop_col, axis=1)\n",
        "# test_df = test_df.drop(drop_col, axis=1)"
      ]
    },
    {
      "cell_type": "code",
      "execution_count": 7,
      "metadata": {
        "id": "Y0K5Wd0-6Jgg"
      },
      "outputs": [],
      "source": [
        "# train_df.isnull().sum()"
      ]
    },
    {
      "cell_type": "code",
      "execution_count": 8,
      "metadata": {
        "id": "DXboZl94ADQF"
      },
      "outputs": [],
      "source": [
        "# train_text = list(train_df['facts'])\n",
        "# test_text = list(test_df['facts'])"
      ]
    },
    {
      "cell_type": "code",
      "execution_count": 9,
      "metadata": {
        "id": "aYuf2Q6O_SPt"
      },
      "outputs": [],
      "source": [
        "# from nltk.stem import WordNetLemmatizer\n",
        "# lemmatizer = WordNetLemmatizer() #표제어 추출"
      ]
    },
    {
      "cell_type": "code",
      "execution_count": 10,
      "metadata": {
        "id": "aT-fUJLEFLh2"
      },
      "outputs": [],
      "source": [
        "# def create_corpus(text):\n",
        "#   corpus =[]\n",
        "\n",
        "#   for i in range(len(text)):\n",
        "#     r = re.sub('[^a-zA-Z]', ' ', text[i])\n",
        "#     r = r.lower()\n",
        "#     r = r.split()\n",
        "#     r = [word for word in r if word not in stopwords.words('english')]\n",
        "#     r = [lemmatizer.lemmatize(word) for word in r]\n",
        "#     r = ' '.join(r)\n",
        "#     corpus.append(r)\n",
        "\n",
        "#   return corpus\n",
        "\n",
        "def preprocess(text):\n",
        "  text = text.lower()\n",
        "  text = re.sub('[^a-zA-Z]', ' ', text)  # re.sub(r\"[^A-Za-zㄱ-ㅎㅏ-ㅣ가-힣 ]\",\"\", text)\n",
        "  return text"
      ]
    },
    {
      "cell_type": "code",
      "execution_count": 11,
      "metadata": {
        "id": "otkdUd4lF_tn"
      },
      "outputs": [],
      "source": [
        "# train_df['text'] = create_corpus(train_text)\n",
        "# test_df['text'] = create_corpus(test_text)\n",
        "\n",
        "train_df['preprocessed'] = train_df.facts.apply(lambda x : preprocess(x))\n",
        "test_df['preprocessed'] = test_df.facts.apply(lambda x : preprocess(x))"
      ]
    },
    {
      "cell_type": "code",
      "source": [
        "train_df['context'] = train_df['first_party'] +','+train_df['second_party'] +','+ train_df['preprocessed']\n",
        "test_df['context'] = test_df['first_party'] +','+test_df['second_party'] +','+ test_df['preprocessed']"
      ],
      "metadata": {
        "id": "MRBaGRFVr5xe"
      },
      "execution_count": 12,
      "outputs": []
    },
    {
      "cell_type": "code",
      "execution_count": 13,
      "metadata": {
        "id": "EonaJkxW0r4R"
      },
      "outputs": [],
      "source": [
        "# vectorizer = TfidfVectorizer()\n",
        "# def get_vector(vectorizer, df, train_mode):\n",
        "#     if train_mode:\n",
        "#         X_facts = vectorizer.fit_transform(df['text'])\n",
        "#     else:\n",
        "#         X_facts = vectorizer.transform(df['text'])\n",
        "#     X_party1 = vectorizer.transform(df['first_party'])\n",
        "#     X_party2 = vectorizer.transform(df['second_party'])\n",
        "\n",
        "#     X = np.concatenate([X_party1.todense(), X_party2.todense(), X_facts.todense()], axis=1)\n",
        "#     return X"
      ]
    },
    {
      "cell_type": "code",
      "execution_count": 14,
      "metadata": {
        "id": "e4VYghAL1WBu"
      },
      "outputs": [],
      "source": [
        "# X = get_vector(vectorizer, train_df, True)\n",
        "# y = train_df[\"first_party_winner\"]\n",
        "# X_test = get_vector(vectorizer, test_df, False)"
      ]
    },
    {
      "cell_type": "code",
      "source": [
        "from sklearn.pipeline import Pipeline\n",
        "def get_pipe(model, model_name: str) -> Pipeline:\n",
        "    \"TfidfVectorizer와 모델을 연결한 파이프라인을 반환하는 함수\"\n",
        "    tfidf = TfidfVectorizer(analyzer=\"char\", ngram_range=(1, 3))\n",
        "    pipe = Pipeline([\n",
        "        (\"tfidf\", tfidf),\n",
        "        (model_name, model)\n",
        "    ])\n",
        "    return pipe"
      ],
      "metadata": {
        "id": "Svr4OHY8sZ1t"
      },
      "execution_count": 16,
      "outputs": []
    },
    {
      "cell_type": "code",
      "source": [
        "def return_kfold_accuarcy(model, k: int = 5) -> float:\n",
        "    \"모델을 입력받아 KFold 예측 후 accuracy score를 반환하는 함수\"\n",
        "    kfold = StratifiedKFold(k, shuffle=True, random_state=42)\n",
        "    result = []\n",
        "    for train_idx, test_idx in kfold.split(train_df[\"context\"], train_df[\"first_party_winner\"]):\n",
        "        train, val = train_df.iloc[train_idx], train_df.iloc[test_idx]\n",
        "        model.fit(train[\"context\"], train[\"first_party_winner\"])\n",
        "        pred = model.predict(val[\"context\"])\n",
        "        acc = accuracy_score(val[\"first_party_winner\"], pred)\n",
        "        result.append(acc)\n",
        "\n",
        "    return np.mean(result)"
      ],
      "metadata": {
        "id": "ENb9FI-pseCY"
      },
      "execution_count": 30,
      "outputs": []
    },
    {
      "cell_type": "code",
      "execution_count": 25,
      "metadata": {
        "id": "WEzuBHywA0N9"
      },
      "outputs": [],
      "source": [
        "# from sklearn.model_selection import train_test_split\n",
        "\n",
        "# X_train, X_val, y_train, y_val = train_test_split(X, y, test_size=0.2, random_state=42, stratify=y)\n",
        "\n",
        "# print('training data:', X_train.shape)\n",
        "# print('validation data:', X_val.shape)"
      ]
    },
    {
      "cell_type": "code",
      "execution_count": 26,
      "metadata": {
        "id": "PC5JEx18WGrm"
      },
      "outputs": [],
      "source": [
        "# def return_kfold_accuracy(model,k:int=5)->float:\n",
        "#   kfold = StratifiedKFold(k, shuffle=True, random_state=42)\n",
        "#   result = []\n",
        "#   for train_idx, test_idx in kfold.split(train_df['text'], train_df[\"first_party_winner\"]):\n",
        "#     train, val = train_df.loc[train_idx], train_df.loc[test_idx]\n",
        "#     X_train = get_vector(vectorizer, train, True)\n",
        "#     X_train = np.array(X_train)\n",
        "#     X_test = get_vector(vectorizer, val, False)\n",
        "#     X_test = np.array(X_test)\n",
        "#     model.fit(X_train, train[\"first_party_winner\"])\n",
        "#     pred = model.predict(X_test)\n",
        "#     acc = accuracy_score(val[\"first_party_winner\"], pred)\n",
        "#     result.append(acc)\n",
        "\n",
        "#   return np.mean(result)"
      ]
    },
    {
      "cell_type": "code",
      "execution_count": 20,
      "metadata": {
        "id": "4GAi47NiOD79"
      },
      "outputs": [],
      "source": [
        "# X_train = np.array(X_train)\n",
        "# X_val = np.array(X_val)\n",
        "\n",
        "# def return_accuracy(model)->float:\n",
        "#   model.fit(X_train, y_train)\n",
        "#   pred = model.predict(X_val)\n",
        "#   acc = accuracy_score(y_val, pred)\n",
        "#   return acc"
      ]
    },
    {
      "cell_type": "code",
      "execution_count": 27,
      "metadata": {
        "id": "3Wx2sMo2L3Lj"
      },
      "outputs": [],
      "source": [
        "models =[\n",
        "    # ('lr', LogisticRegression()),\n",
        "    ('clf',svm.SVC(probability=True)),\n",
        "    # ('gnb', GaussianNB()),\n",
        "    ('rf',RandomForestClassifier()),\n",
        "    # ('ada', AdaBoostClassifier()),\n",
        "    ('et', ExtraTreesClassifier()),\n",
        "    # ('bag', BaggingClassifier()),\n",
        "    # ('grad', GradientBoostingClassifier()),\n",
        "    # ('lgb', LGBMClassifier()),\n",
        "    # ('kn', KNeighborsClassifier())\n",
        "    ]\n",
        "\n",
        "model_pipes = [(name, get_pipe(model, name)) for name, model in models]"
      ]
    },
    {
      "cell_type": "code",
      "execution_count": 28,
      "metadata": {
        "colab": {
          "base_uri": "https://localhost:8080/",
          "height": 153,
          "referenced_widgets": [
            "553d6ae941f1411485b40858dce4df70",
            "868801862b59495da183d27f61127f85",
            "32cb297af37b432da33c9c2680c7e1b2",
            "a8b28b8d297d472f94677c732a662849",
            "a1a77dd6c7d444aaaee94dac4dc8962b",
            "13d88c294f234f0bbb338c1c75a1d575",
            "515ee2e4c1c54b09938c763ab8e29627",
            "fd3b89bb46724ea9af775abe6427023b",
            "b5ad52a41bb7409d8bf5f88b3818f749",
            "415ce0a0730b4454bede94e1c3b02112",
            "1012e560736848248ac4d8815e3dbc5c"
          ]
        },
        "id": "_BrVea4v8x5_",
        "outputId": "282b0d7b-e21e-452c-ebea-8991c7d6797c"
      },
      "outputs": [
        {
          "output_type": "display_data",
          "data": {
            "text/plain": [
              "  0%|          | 0/3 [00:00<?, ?it/s]"
            ],
            "application/vnd.jupyter.widget-view+json": {
              "version_major": 2,
              "version_minor": 0,
              "model_id": "553d6ae941f1411485b40858dce4df70"
            }
          },
          "metadata": {}
        },
        {
          "output_type": "display_data",
          "data": {
            "text/plain": [
              "\u001b[3m    Model comparison     \u001b[0m\n",
              "┏━━━━━━━━━━━━┳━━━━━━━━━━┓\n",
              "┃\u001b[1m \u001b[0m\u001b[1mModel Name\u001b[0m\u001b[1m \u001b[0m┃\u001b[1m \u001b[0m\u001b[1mAccuracy\u001b[0m\u001b[1m \u001b[0m┃\n",
              "┡━━━━━━━━━━━━╇━━━━━━━━━━┩\n",
              "│\u001b[32m \u001b[0m\u001b[32mclf       \u001b[0m\u001b[32m \u001b[0m│    0.665 │\n",
              "│\u001b[32m \u001b[0m\u001b[32mrf        \u001b[0m\u001b[32m \u001b[0m│    0.661 │\n",
              "│\u001b[32m \u001b[0m\u001b[32met        \u001b[0m\u001b[32m \u001b[0m│    0.663 │\n",
              "└────────────┴──────────┘\n"
            ],
            "text/html": [
              "<pre style=\"white-space:pre;overflow-x:auto;line-height:normal;font-family:Menlo,'DejaVu Sans Mono',consolas,'Courier New',monospace\"><span style=\"font-style: italic\">    Model comparison     </span>\n",
              "┏━━━━━━━━━━━━┳━━━━━━━━━━┓\n",
              "┃<span style=\"font-weight: bold\"> Model Name </span>┃<span style=\"font-weight: bold\"> Accuracy </span>┃\n",
              "┡━━━━━━━━━━━━╇━━━━━━━━━━┩\n",
              "│<span style=\"color: #008000; text-decoration-color: #008000\"> clf        </span>│    0.665 │\n",
              "│<span style=\"color: #008000; text-decoration-color: #008000\"> rf         </span>│    0.661 │\n",
              "│<span style=\"color: #008000; text-decoration-color: #008000\"> et         </span>│    0.663 │\n",
              "└────────────┴──────────┘\n",
              "</pre>\n"
            ]
          },
          "metadata": {}
        }
      ],
      "source": [
        "table = Table(title = 'Model comparison')\n",
        "table.add_column(\"Model Name\", justify=\"left\", style=\"green\")\n",
        "table.add_column(\"Accuracy\", justify=\"right\")\n",
        "\n",
        "\n",
        "for model_name, model in tqdm(model_pipes, leave=False):\n",
        "    acc = return_kfold_accuarcy(model)\n",
        "    table.add_row(model_name, f\"{acc:0.3f}\")\n",
        "\n",
        "rich.print(table)\n"
      ]
    },
    {
      "cell_type": "code",
      "execution_count": 32,
      "metadata": {
        "colab": {
          "base_uri": "https://localhost:8080/",
          "height": 34
        },
        "id": "A4AuVSKh95d9",
        "outputId": "75f3d13a-0688-45a1-b30c-8a0381777230"
      },
      "outputs": [
        {
          "output_type": "display_data",
          "data": {
            "text/plain": [
              "\u001b[1;36m0.6650521342456825\u001b[0m\n"
            ],
            "text/html": [
              "<pre style=\"white-space:pre;overflow-x:auto;line-height:normal;font-family:Menlo,'DejaVu Sans Mono',consolas,'Courier New',monospace\"><span style=\"color: #008080; text-decoration-color: #008080; font-weight: bold\">0.6650521342456825</span>\n",
              "</pre>\n"
            ]
          },
          "metadata": {}
        }
      ],
      "source": [
        "stack_models = [(name, get_pipe(model, name)) for name, model in models]\n",
        "stacking = StackingClassifier(stack_models)\n",
        "acc = return_kfold_accuarcy(stacking)\n",
        "rich.print(acc)"
      ]
    },
    {
      "cell_type": "code",
      "execution_count": 33,
      "metadata": {
        "id": "c4fwF8hE-NmP"
      },
      "outputs": [],
      "source": [
        "# X = np.array(X)\n",
        "stacking.fit(train_df[\"context\"], train_df[\"first_party_winner\"])\n",
        "\n",
        "# X_test = np.array(X_test)\n",
        "y_pred = stacking.predict(test_df['context'])"
      ]
    },
    {
      "cell_type": "code",
      "execution_count": 34,
      "metadata": {
        "id": "nD2W9qOJDm_m",
        "colab": {
          "base_uri": "https://localhost:8080/"
        },
        "outputId": "1bb092fd-1dec-4c22-f60a-f082d5106177"
      },
      "outputs": [
        {
          "output_type": "execute_result",
          "data": {
            "text/plain": [
              "array([1, 1, 1, ..., 1, 1, 1])"
            ]
          },
          "metadata": {},
          "execution_count": 34
        }
      ],
      "source": [
        "y_pred"
      ]
    },
    {
      "cell_type": "code",
      "execution_count": 35,
      "metadata": {
        "id": "BSnJqj3ljmN0",
        "colab": {
          "base_uri": "https://localhost:8080/"
        },
        "outputId": "773a37be-16d9-4738-95bc-f525838c76ca"
      },
      "outputs": [
        {
          "output_type": "stream",
          "name": "stdout",
          "text": [
            "Done\n"
          ]
        }
      ],
      "source": [
        "submit = pd.read_csv('./sample_submission.csv')\n",
        "submit['first_party_winner'] = y_pred\n",
        "submit.to_csv('./stacking_fold_submit.csv', index=False)\n",
        "print('Done')"
      ]
    },
    {
      "cell_type": "code",
      "execution_count": null,
      "metadata": {
        "id": "-rFi7ivnj_3S"
      },
      "outputs": [],
      "source": []
    }
  ],
  "metadata": {
    "accelerator": "GPU",
    "colab": {
      "machine_shape": "hm",
      "provenance": [],
      "gpuType": "A100",
      "authorship_tag": "ABX9TyNGaBVM7r2o6dDWdtweIkjl",
      "include_colab_link": true
    },
    "kernelspec": {
      "display_name": "Python 3",
      "name": "python3"
    },
    "language_info": {
      "name": "python"
    },
    "widgets": {
      "application/vnd.jupyter.widget-state+json": {
        "553d6ae941f1411485b40858dce4df70": {
          "model_module": "@jupyter-widgets/controls",
          "model_name": "HBoxModel",
          "model_module_version": "1.5.0",
          "state": {
            "_dom_classes": [],
            "_model_module": "@jupyter-widgets/controls",
            "_model_module_version": "1.5.0",
            "_model_name": "HBoxModel",
            "_view_count": null,
            "_view_module": "@jupyter-widgets/controls",
            "_view_module_version": "1.5.0",
            "_view_name": "HBoxView",
            "box_style": "",
            "children": [
              "IPY_MODEL_868801862b59495da183d27f61127f85",
              "IPY_MODEL_32cb297af37b432da33c9c2680c7e1b2",
              "IPY_MODEL_a8b28b8d297d472f94677c732a662849"
            ],
            "layout": "IPY_MODEL_a1a77dd6c7d444aaaee94dac4dc8962b"
          }
        },
        "868801862b59495da183d27f61127f85": {
          "model_module": "@jupyter-widgets/controls",
          "model_name": "HTMLModel",
          "model_module_version": "1.5.0",
          "state": {
            "_dom_classes": [],
            "_model_module": "@jupyter-widgets/controls",
            "_model_module_version": "1.5.0",
            "_model_name": "HTMLModel",
            "_view_count": null,
            "_view_module": "@jupyter-widgets/controls",
            "_view_module_version": "1.5.0",
            "_view_name": "HTMLView",
            "description": "",
            "description_tooltip": null,
            "layout": "IPY_MODEL_13d88c294f234f0bbb338c1c75a1d575",
            "placeholder": "​",
            "style": "IPY_MODEL_515ee2e4c1c54b09938c763ab8e29627",
            "value": "100%"
          }
        },
        "32cb297af37b432da33c9c2680c7e1b2": {
          "model_module": "@jupyter-widgets/controls",
          "model_name": "FloatProgressModel",
          "model_module_version": "1.5.0",
          "state": {
            "_dom_classes": [],
            "_model_module": "@jupyter-widgets/controls",
            "_model_module_version": "1.5.0",
            "_model_name": "FloatProgressModel",
            "_view_count": null,
            "_view_module": "@jupyter-widgets/controls",
            "_view_module_version": "1.5.0",
            "_view_name": "ProgressView",
            "bar_style": "",
            "description": "",
            "description_tooltip": null,
            "layout": "IPY_MODEL_fd3b89bb46724ea9af775abe6427023b",
            "max": 3,
            "min": 0,
            "orientation": "horizontal",
            "style": "IPY_MODEL_b5ad52a41bb7409d8bf5f88b3818f749",
            "value": 3
          }
        },
        "a8b28b8d297d472f94677c732a662849": {
          "model_module": "@jupyter-widgets/controls",
          "model_name": "HTMLModel",
          "model_module_version": "1.5.0",
          "state": {
            "_dom_classes": [],
            "_model_module": "@jupyter-widgets/controls",
            "_model_module_version": "1.5.0",
            "_model_name": "HTMLModel",
            "_view_count": null,
            "_view_module": "@jupyter-widgets/controls",
            "_view_module_version": "1.5.0",
            "_view_name": "HTMLView",
            "description": "",
            "description_tooltip": null,
            "layout": "IPY_MODEL_415ce0a0730b4454bede94e1c3b02112",
            "placeholder": "​",
            "style": "IPY_MODEL_1012e560736848248ac4d8815e3dbc5c",
            "value": " 3/3 [12:04&lt;00:00, 173.11s/it]"
          }
        },
        "a1a77dd6c7d444aaaee94dac4dc8962b": {
          "model_module": "@jupyter-widgets/base",
          "model_name": "LayoutModel",
          "model_module_version": "1.2.0",
          "state": {
            "_model_module": "@jupyter-widgets/base",
            "_model_module_version": "1.2.0",
            "_model_name": "LayoutModel",
            "_view_count": null,
            "_view_module": "@jupyter-widgets/base",
            "_view_module_version": "1.2.0",
            "_view_name": "LayoutView",
            "align_content": null,
            "align_items": null,
            "align_self": null,
            "border": null,
            "bottom": null,
            "display": null,
            "flex": null,
            "flex_flow": null,
            "grid_area": null,
            "grid_auto_columns": null,
            "grid_auto_flow": null,
            "grid_auto_rows": null,
            "grid_column": null,
            "grid_gap": null,
            "grid_row": null,
            "grid_template_areas": null,
            "grid_template_columns": null,
            "grid_template_rows": null,
            "height": null,
            "justify_content": null,
            "justify_items": null,
            "left": null,
            "margin": null,
            "max_height": null,
            "max_width": null,
            "min_height": null,
            "min_width": null,
            "object_fit": null,
            "object_position": null,
            "order": null,
            "overflow": null,
            "overflow_x": null,
            "overflow_y": null,
            "padding": null,
            "right": null,
            "top": null,
            "visibility": "hidden",
            "width": null
          }
        },
        "13d88c294f234f0bbb338c1c75a1d575": {
          "model_module": "@jupyter-widgets/base",
          "model_name": "LayoutModel",
          "model_module_version": "1.2.0",
          "state": {
            "_model_module": "@jupyter-widgets/base",
            "_model_module_version": "1.2.0",
            "_model_name": "LayoutModel",
            "_view_count": null,
            "_view_module": "@jupyter-widgets/base",
            "_view_module_version": "1.2.0",
            "_view_name": "LayoutView",
            "align_content": null,
            "align_items": null,
            "align_self": null,
            "border": null,
            "bottom": null,
            "display": null,
            "flex": null,
            "flex_flow": null,
            "grid_area": null,
            "grid_auto_columns": null,
            "grid_auto_flow": null,
            "grid_auto_rows": null,
            "grid_column": null,
            "grid_gap": null,
            "grid_row": null,
            "grid_template_areas": null,
            "grid_template_columns": null,
            "grid_template_rows": null,
            "height": null,
            "justify_content": null,
            "justify_items": null,
            "left": null,
            "margin": null,
            "max_height": null,
            "max_width": null,
            "min_height": null,
            "min_width": null,
            "object_fit": null,
            "object_position": null,
            "order": null,
            "overflow": null,
            "overflow_x": null,
            "overflow_y": null,
            "padding": null,
            "right": null,
            "top": null,
            "visibility": null,
            "width": null
          }
        },
        "515ee2e4c1c54b09938c763ab8e29627": {
          "model_module": "@jupyter-widgets/controls",
          "model_name": "DescriptionStyleModel",
          "model_module_version": "1.5.0",
          "state": {
            "_model_module": "@jupyter-widgets/controls",
            "_model_module_version": "1.5.0",
            "_model_name": "DescriptionStyleModel",
            "_view_count": null,
            "_view_module": "@jupyter-widgets/base",
            "_view_module_version": "1.2.0",
            "_view_name": "StyleView",
            "description_width": ""
          }
        },
        "fd3b89bb46724ea9af775abe6427023b": {
          "model_module": "@jupyter-widgets/base",
          "model_name": "LayoutModel",
          "model_module_version": "1.2.0",
          "state": {
            "_model_module": "@jupyter-widgets/base",
            "_model_module_version": "1.2.0",
            "_model_name": "LayoutModel",
            "_view_count": null,
            "_view_module": "@jupyter-widgets/base",
            "_view_module_version": "1.2.0",
            "_view_name": "LayoutView",
            "align_content": null,
            "align_items": null,
            "align_self": null,
            "border": null,
            "bottom": null,
            "display": null,
            "flex": null,
            "flex_flow": null,
            "grid_area": null,
            "grid_auto_columns": null,
            "grid_auto_flow": null,
            "grid_auto_rows": null,
            "grid_column": null,
            "grid_gap": null,
            "grid_row": null,
            "grid_template_areas": null,
            "grid_template_columns": null,
            "grid_template_rows": null,
            "height": null,
            "justify_content": null,
            "justify_items": null,
            "left": null,
            "margin": null,
            "max_height": null,
            "max_width": null,
            "min_height": null,
            "min_width": null,
            "object_fit": null,
            "object_position": null,
            "order": null,
            "overflow": null,
            "overflow_x": null,
            "overflow_y": null,
            "padding": null,
            "right": null,
            "top": null,
            "visibility": null,
            "width": null
          }
        },
        "b5ad52a41bb7409d8bf5f88b3818f749": {
          "model_module": "@jupyter-widgets/controls",
          "model_name": "ProgressStyleModel",
          "model_module_version": "1.5.0",
          "state": {
            "_model_module": "@jupyter-widgets/controls",
            "_model_module_version": "1.5.0",
            "_model_name": "ProgressStyleModel",
            "_view_count": null,
            "_view_module": "@jupyter-widgets/base",
            "_view_module_version": "1.2.0",
            "_view_name": "StyleView",
            "bar_color": null,
            "description_width": ""
          }
        },
        "415ce0a0730b4454bede94e1c3b02112": {
          "model_module": "@jupyter-widgets/base",
          "model_name": "LayoutModel",
          "model_module_version": "1.2.0",
          "state": {
            "_model_module": "@jupyter-widgets/base",
            "_model_module_version": "1.2.0",
            "_model_name": "LayoutModel",
            "_view_count": null,
            "_view_module": "@jupyter-widgets/base",
            "_view_module_version": "1.2.0",
            "_view_name": "LayoutView",
            "align_content": null,
            "align_items": null,
            "align_self": null,
            "border": null,
            "bottom": null,
            "display": null,
            "flex": null,
            "flex_flow": null,
            "grid_area": null,
            "grid_auto_columns": null,
            "grid_auto_flow": null,
            "grid_auto_rows": null,
            "grid_column": null,
            "grid_gap": null,
            "grid_row": null,
            "grid_template_areas": null,
            "grid_template_columns": null,
            "grid_template_rows": null,
            "height": null,
            "justify_content": null,
            "justify_items": null,
            "left": null,
            "margin": null,
            "max_height": null,
            "max_width": null,
            "min_height": null,
            "min_width": null,
            "object_fit": null,
            "object_position": null,
            "order": null,
            "overflow": null,
            "overflow_x": null,
            "overflow_y": null,
            "padding": null,
            "right": null,
            "top": null,
            "visibility": null,
            "width": null
          }
        },
        "1012e560736848248ac4d8815e3dbc5c": {
          "model_module": "@jupyter-widgets/controls",
          "model_name": "DescriptionStyleModel",
          "model_module_version": "1.5.0",
          "state": {
            "_model_module": "@jupyter-widgets/controls",
            "_model_module_version": "1.5.0",
            "_model_name": "DescriptionStyleModel",
            "_view_count": null,
            "_view_module": "@jupyter-widgets/base",
            "_view_module_version": "1.2.0",
            "_view_name": "StyleView",
            "description_width": ""
          }
        }
      }
    }
  },
  "nbformat": 4,
  "nbformat_minor": 0
}