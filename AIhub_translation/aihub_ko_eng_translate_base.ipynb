{
  "nbformat": 4,
  "nbformat_minor": 0,
  "metadata": {
    "colab": {
      "provenance": [],
      "gpuType": "V100",
      "authorship_tag": "ABX9TyPflh/RYh2WixF+JJ2XL6Uc",
      "include_colab_link": true
    },
    "kernelspec": {
      "name": "python3",
      "display_name": "Python 3"
    },
    "language_info": {
      "name": "python"
    },
    "accelerator": "GPU"
  },
  "cells": [
    {
      "cell_type": "markdown",
      "metadata": {
        "id": "view-in-github",
        "colab_type": "text"
      },
      "source": [
        "<a href=\"https://colab.research.google.com/github/sunny0103/DeepLearning_nlp_projects/blob/main/AIhub_translation/aihub_ko_eng_translate_base.ipynb\" target=\"_parent\"><img src=\"https://colab.research.google.com/assets/colab-badge.svg\" alt=\"Open In Colab\"/></a>"
      ]
    },
    {
      "cell_type": "code",
      "source": [
        "# !sudo apt-get install -y fonts-nanum\n",
        "# !sudo fc-cache -fv\n",
        "# !rm ~/.cache/matplotlib -rf"
      ],
      "metadata": {
        "id": "DgxaSEUqz6iv"
      },
      "execution_count": 1,
      "outputs": []
    },
    {
      "cell_type": "code",
      "source": [
        "!pip install konlpy evaluate sacrebleu"
      ],
      "metadata": {
        "colab": {
          "base_uri": "https://localhost:8080/"
        },
        "id": "fFFT1kAocfY3",
        "outputId": "847ca3cf-08f3-4124-fabb-5a3e9990d7ab"
      },
      "execution_count": 2,
      "outputs": [
        {
          "output_type": "stream",
          "name": "stdout",
          "text": [
            "Requirement already satisfied: konlpy in /usr/local/lib/python3.10/dist-packages (0.6.0)\n",
            "Requirement already satisfied: evaluate in /usr/local/lib/python3.10/dist-packages (0.4.1)\n",
            "Requirement already satisfied: sacrebleu in /usr/local/lib/python3.10/dist-packages (2.3.1)\n",
            "Requirement already satisfied: JPype1>=0.7.0 in /usr/local/lib/python3.10/dist-packages (from konlpy) (1.4.1)\n",
            "Requirement already satisfied: lxml>=4.1.0 in /usr/local/lib/python3.10/dist-packages (from konlpy) (4.9.3)\n",
            "Requirement already satisfied: numpy>=1.6 in /usr/local/lib/python3.10/dist-packages (from konlpy) (1.23.5)\n",
            "Requirement already satisfied: datasets>=2.0.0 in /usr/local/lib/python3.10/dist-packages (from evaluate) (2.14.6)\n",
            "Requirement already satisfied: dill in /usr/local/lib/python3.10/dist-packages (from evaluate) (0.3.7)\n",
            "Requirement already satisfied: pandas in /usr/local/lib/python3.10/dist-packages (from evaluate) (1.5.3)\n",
            "Requirement already satisfied: requests>=2.19.0 in /usr/local/lib/python3.10/dist-packages (from evaluate) (2.31.0)\n",
            "Requirement already satisfied: tqdm>=4.62.1 in /usr/local/lib/python3.10/dist-packages (from evaluate) (4.66.1)\n",
            "Requirement already satisfied: xxhash in /usr/local/lib/python3.10/dist-packages (from evaluate) (3.4.1)\n",
            "Requirement already satisfied: multiprocess in /usr/local/lib/python3.10/dist-packages (from evaluate) (0.70.15)\n",
            "Requirement already satisfied: fsspec[http]>=2021.05.0 in /usr/local/lib/python3.10/dist-packages (from evaluate) (2023.6.0)\n",
            "Requirement already satisfied: huggingface-hub>=0.7.0 in /usr/local/lib/python3.10/dist-packages (from evaluate) (0.18.0)\n",
            "Requirement already satisfied: packaging in /usr/local/lib/python3.10/dist-packages (from evaluate) (23.2)\n",
            "Requirement already satisfied: responses<0.19 in /usr/local/lib/python3.10/dist-packages (from evaluate) (0.18.0)\n",
            "Requirement already satisfied: portalocker in /usr/local/lib/python3.10/dist-packages (from sacrebleu) (2.8.2)\n",
            "Requirement already satisfied: regex in /usr/local/lib/python3.10/dist-packages (from sacrebleu) (2023.6.3)\n",
            "Requirement already satisfied: tabulate>=0.8.9 in /usr/local/lib/python3.10/dist-packages (from sacrebleu) (0.9.0)\n",
            "Requirement already satisfied: colorama in /usr/local/lib/python3.10/dist-packages (from sacrebleu) (0.4.6)\n",
            "Requirement already satisfied: pyarrow>=8.0.0 in /usr/local/lib/python3.10/dist-packages (from datasets>=2.0.0->evaluate) (9.0.0)\n",
            "Requirement already satisfied: aiohttp in /usr/local/lib/python3.10/dist-packages (from datasets>=2.0.0->evaluate) (3.8.6)\n",
            "Requirement already satisfied: pyyaml>=5.1 in /usr/local/lib/python3.10/dist-packages (from datasets>=2.0.0->evaluate) (6.0.1)\n",
            "Requirement already satisfied: filelock in /usr/local/lib/python3.10/dist-packages (from huggingface-hub>=0.7.0->evaluate) (3.12.4)\n",
            "Requirement already satisfied: typing-extensions>=3.7.4.3 in /usr/local/lib/python3.10/dist-packages (from huggingface-hub>=0.7.0->evaluate) (4.5.0)\n",
            "Requirement already satisfied: charset-normalizer<4,>=2 in /usr/local/lib/python3.10/dist-packages (from requests>=2.19.0->evaluate) (3.3.1)\n",
            "Requirement already satisfied: idna<4,>=2.5 in /usr/local/lib/python3.10/dist-packages (from requests>=2.19.0->evaluate) (3.4)\n",
            "Requirement already satisfied: urllib3<3,>=1.21.1 in /usr/local/lib/python3.10/dist-packages (from requests>=2.19.0->evaluate) (2.0.7)\n",
            "Requirement already satisfied: certifi>=2017.4.17 in /usr/local/lib/python3.10/dist-packages (from requests>=2.19.0->evaluate) (2023.7.22)\n",
            "Requirement already satisfied: python-dateutil>=2.8.1 in /usr/local/lib/python3.10/dist-packages (from pandas->evaluate) (2.8.2)\n",
            "Requirement already satisfied: pytz>=2020.1 in /usr/local/lib/python3.10/dist-packages (from pandas->evaluate) (2023.3.post1)\n",
            "Requirement already satisfied: attrs>=17.3.0 in /usr/local/lib/python3.10/dist-packages (from aiohttp->datasets>=2.0.0->evaluate) (23.1.0)\n",
            "Requirement already satisfied: multidict<7.0,>=4.5 in /usr/local/lib/python3.10/dist-packages (from aiohttp->datasets>=2.0.0->evaluate) (6.0.4)\n",
            "Requirement already satisfied: async-timeout<5.0,>=4.0.0a3 in /usr/local/lib/python3.10/dist-packages (from aiohttp->datasets>=2.0.0->evaluate) (4.0.3)\n",
            "Requirement already satisfied: yarl<2.0,>=1.0 in /usr/local/lib/python3.10/dist-packages (from aiohttp->datasets>=2.0.0->evaluate) (1.9.2)\n",
            "Requirement already satisfied: frozenlist>=1.1.1 in /usr/local/lib/python3.10/dist-packages (from aiohttp->datasets>=2.0.0->evaluate) (1.4.0)\n",
            "Requirement already satisfied: aiosignal>=1.1.2 in /usr/local/lib/python3.10/dist-packages (from aiohttp->datasets>=2.0.0->evaluate) (1.3.1)\n",
            "Requirement already satisfied: six>=1.5 in /usr/local/lib/python3.10/dist-packages (from python-dateutil>=2.8.1->pandas->evaluate) (1.16.0)\n"
          ]
        }
      ]
    },
    {
      "cell_type": "code",
      "execution_count": 3,
      "metadata": {
        "id": "1gXy2rLVG_DO"
      },
      "outputs": [],
      "source": [
        "import pandas as pd\n",
        "import numpy as np\n",
        "import os\n",
        "import random\n",
        "from tqdm import tqdm\n",
        "import warnings\n",
        "\n",
        "import math\n",
        "\n",
        "from sklearn.model_selection import train_test_split\n",
        "\n",
        "from konlpy.tag import Hannanum\n",
        "\n",
        "import torch\n",
        "import torch.nn as nn\n",
        "from torchtext.data.utils import get_tokenizer\n",
        "from torchtext.vocab import build_vocab_from_iterator\n",
        "from torch.nn.utils.rnn import pad_sequence\n",
        "from torch.utils.data import DataLoader\n",
        "from torch import Tensor\n",
        "from torch.nn import Transformer\n",
        "\n",
        "import evaluate\n",
        "\n",
        "warnings.filterwarnings('ignore')"
      ]
    },
    {
      "cell_type": "code",
      "source": [
        "def seed_everything(seed):\n",
        "  random.seed(seed)\n",
        "  os.environ['PYTHONHASHSEED'] = str(seed)\n",
        "  np.random.seed(seed)\n",
        "  torch.manual_seed(seed)\n",
        "\n",
        "seed_everything(42)"
      ],
      "metadata": {
        "id": "Z_y4urOnSGAr"
      },
      "execution_count": 4,
      "outputs": []
    },
    {
      "cell_type": "code",
      "source": [
        "from google.colab import drive\n",
        "drive.mount('/content/drive')"
      ],
      "metadata": {
        "colab": {
          "base_uri": "https://localhost:8080/"
        },
        "id": "pzDwogYuJNDW",
        "outputId": "94ca547c-b4e2-4d5b-8a0c-46a760f9354e"
      },
      "execution_count": 5,
      "outputs": [
        {
          "output_type": "stream",
          "name": "stdout",
          "text": [
            "Drive already mounted at /content/drive; to attempt to forcibly remount, call drive.mount(\"/content/drive\", force_remount=True).\n"
          ]
        }
      ]
    },
    {
      "cell_type": "code",
      "source": [
        "cd \"/content/drive/MyDrive/Data/aihub_kor_eng_translation\""
      ],
      "metadata": {
        "colab": {
          "base_uri": "https://localhost:8080/"
        },
        "id": "UwW8ACM8K7Te",
        "outputId": "ff1d1c74-6690-45ea-e671-7a9b2cf6a331"
      },
      "execution_count": 6,
      "outputs": [
        {
          "output_type": "stream",
          "name": "stdout",
          "text": [
            "/content/drive/MyDrive/Data/aihub_kor_eng_translation\n"
          ]
        }
      ]
    },
    {
      "cell_type": "markdown",
      "source": [
        "## Load data and concat"
      ],
      "metadata": {
        "id": "efWsSnMeABcm"
      }
    },
    {
      "cell_type": "markdown",
      "source": [
        "AI hub 샘플 데이터에는 6개의 데이터 리스트가 있고 그중에서 문어체로 구성된 데이터로 프로젝트를 진행, 한국어 이름으로 된 데이터를 source 데이터 이름을 영어로 변경\n",
        "-  '3_문어체_뉴스_190920.xlsx' -> 3_news.xlsx\n",
        "-  '4_문어체_한국문화_190920.xlsx' -> 4_korean_culture.xlsx\n",
        "-  '5_문어체_조례_190920.xlsx' -> 5_ordinance.xlsx\n",
        "-  '6_문어체_지자체웹사이트_190920.xlsx' -> 6_local_govweb.xlsx"
      ],
      "metadata": {
        "id": "E2wZujcw7f8v"
      }
    },
    {
      "cell_type": "code",
      "source": [
        "# ## concatenate lists of all the data ###\n",
        "# files = ['3_news.xlsx', '4_korean_culture.xlsx', '5_ordinance.xlsx', '6_local_govweb.xlsx']\n",
        "# df = pd.DataFrame()\n",
        "# for idx, file in enumerate(files):\n",
        "#   data = pd.read_excel('./'+file)\n",
        "#   data['source'] = idx # data source 추가\n",
        "#   data.columns = data.columns.str.lower() # 번역문 중에서 review를 사용\n",
        "#   data= data[['원문','review','source']]\n",
        "#   df = pd.concat([df, data], axis=0)\n",
        "# total = pd.DataFrame(df)\n",
        "# total.columns =['korean','english','source']\n",
        "# display(total.head())\n",
        "# print(total.shape)\n",
        "\n",
        "# total.to_csv('./total.csv', index=False)"
      ],
      "metadata": {
        "id": "UrxlgW3vNTXQ"
      },
      "execution_count": 7,
      "outputs": []
    },
    {
      "cell_type": "code",
      "source": [
        "data = pd.read_csv('./total.csv')\n",
        "data.head()"
      ],
      "metadata": {
        "colab": {
          "base_uri": "https://localhost:8080/",
          "height": 206
        },
        "id": "Avpa7ftEmbk3",
        "outputId": "816c7b8d-38fd-4c3c-ad1a-89b975b335a0"
      },
      "execution_count": 8,
      "outputs": [
        {
          "output_type": "execute_result",
          "data": {
            "text/plain": [
              "                                              korean  \\\n",
              "0  ‘ZKZM-500 레이저 공격용 소총’으로 명명된 이 무기는 15㎜ 구경의 소총이며...   \n",
              "1  “너희는 세상의 소금이니 소금이 만일 그 맛을 잃으면 무엇으로 짜게 하리요 후에는 ...   \n",
              "2  “너희는 이 세대를 본받지 말고 오직 마음을 새롭게 함으로 변화를 받아 하나님의 선...   \n",
              "3  “너희는 주께 받은바 기름 부음이 너희 안에 거하나니 아무도 너희를 가르칠 필요가 ...   \n",
              "4  “너희는 택하신 족속이요 왕 같은 제사장들이요 거룩한 나라요….”(벧전 2:9) 따...   \n",
              "\n",
              "                                             english  source  \n",
              "0  Named the 'ZKZM-500 Laser Attack Rifle', the w...       0  \n",
              "1  \"You are the salt of the earth. But if the sal...       0  \n",
              "2  \"Do not conform to the pattern of this world, ...       0  \n",
              "3  It is written as \"As for you, the anointing yo...       0  \n",
              "4  \"But you are a chosen people, a royal priestho...       0  "
            ],
            "text/html": [
              "\n",
              "  <div id=\"df-40b48f05-cfb5-4f8c-8509-35424dd8cdfe\" class=\"colab-df-container\">\n",
              "    <div>\n",
              "<style scoped>\n",
              "    .dataframe tbody tr th:only-of-type {\n",
              "        vertical-align: middle;\n",
              "    }\n",
              "\n",
              "    .dataframe tbody tr th {\n",
              "        vertical-align: top;\n",
              "    }\n",
              "\n",
              "    .dataframe thead th {\n",
              "        text-align: right;\n",
              "    }\n",
              "</style>\n",
              "<table border=\"1\" class=\"dataframe\">\n",
              "  <thead>\n",
              "    <tr style=\"text-align: right;\">\n",
              "      <th></th>\n",
              "      <th>korean</th>\n",
              "      <th>english</th>\n",
              "      <th>source</th>\n",
              "    </tr>\n",
              "  </thead>\n",
              "  <tbody>\n",
              "    <tr>\n",
              "      <th>0</th>\n",
              "      <td>‘ZKZM-500 레이저 공격용 소총’으로 명명된 이 무기는 15㎜ 구경의 소총이며...</td>\n",
              "      <td>Named the 'ZKZM-500 Laser Attack Rifle', the w...</td>\n",
              "      <td>0</td>\n",
              "    </tr>\n",
              "    <tr>\n",
              "      <th>1</th>\n",
              "      <td>“너희는 세상의 소금이니 소금이 만일 그 맛을 잃으면 무엇으로 짜게 하리요 후에는 ...</td>\n",
              "      <td>\"You are the salt of the earth. But if the sal...</td>\n",
              "      <td>0</td>\n",
              "    </tr>\n",
              "    <tr>\n",
              "      <th>2</th>\n",
              "      <td>“너희는 이 세대를 본받지 말고 오직 마음을 새롭게 함으로 변화를 받아 하나님의 선...</td>\n",
              "      <td>\"Do not conform to the pattern of this world, ...</td>\n",
              "      <td>0</td>\n",
              "    </tr>\n",
              "    <tr>\n",
              "      <th>3</th>\n",
              "      <td>“너희는 주께 받은바 기름 부음이 너희 안에 거하나니 아무도 너희를 가르칠 필요가 ...</td>\n",
              "      <td>It is written as \"As for you, the anointing yo...</td>\n",
              "      <td>0</td>\n",
              "    </tr>\n",
              "    <tr>\n",
              "      <th>4</th>\n",
              "      <td>“너희는 택하신 족속이요 왕 같은 제사장들이요 거룩한 나라요….”(벧전 2:9) 따...</td>\n",
              "      <td>\"But you are a chosen people, a royal priestho...</td>\n",
              "      <td>0</td>\n",
              "    </tr>\n",
              "  </tbody>\n",
              "</table>\n",
              "</div>\n",
              "    <div class=\"colab-df-buttons\">\n",
              "\n",
              "  <div class=\"colab-df-container\">\n",
              "    <button class=\"colab-df-convert\" onclick=\"convertToInteractive('df-40b48f05-cfb5-4f8c-8509-35424dd8cdfe')\"\n",
              "            title=\"Convert this dataframe to an interactive table.\"\n",
              "            style=\"display:none;\">\n",
              "\n",
              "  <svg xmlns=\"http://www.w3.org/2000/svg\" height=\"24px\" viewBox=\"0 -960 960 960\">\n",
              "    <path d=\"M120-120v-720h720v720H120Zm60-500h600v-160H180v160Zm220 220h160v-160H400v160Zm0 220h160v-160H400v160ZM180-400h160v-160H180v160Zm440 0h160v-160H620v160ZM180-180h160v-160H180v160Zm440 0h160v-160H620v160Z\"/>\n",
              "  </svg>\n",
              "    </button>\n",
              "\n",
              "  <style>\n",
              "    .colab-df-container {\n",
              "      display:flex;\n",
              "      gap: 12px;\n",
              "    }\n",
              "\n",
              "    .colab-df-convert {\n",
              "      background-color: #E8F0FE;\n",
              "      border: none;\n",
              "      border-radius: 50%;\n",
              "      cursor: pointer;\n",
              "      display: none;\n",
              "      fill: #1967D2;\n",
              "      height: 32px;\n",
              "      padding: 0 0 0 0;\n",
              "      width: 32px;\n",
              "    }\n",
              "\n",
              "    .colab-df-convert:hover {\n",
              "      background-color: #E2EBFA;\n",
              "      box-shadow: 0px 1px 2px rgba(60, 64, 67, 0.3), 0px 1px 3px 1px rgba(60, 64, 67, 0.15);\n",
              "      fill: #174EA6;\n",
              "    }\n",
              "\n",
              "    .colab-df-buttons div {\n",
              "      margin-bottom: 4px;\n",
              "    }\n",
              "\n",
              "    [theme=dark] .colab-df-convert {\n",
              "      background-color: #3B4455;\n",
              "      fill: #D2E3FC;\n",
              "    }\n",
              "\n",
              "    [theme=dark] .colab-df-convert:hover {\n",
              "      background-color: #434B5C;\n",
              "      box-shadow: 0px 1px 3px 1px rgba(0, 0, 0, 0.15);\n",
              "      filter: drop-shadow(0px 1px 2px rgba(0, 0, 0, 0.3));\n",
              "      fill: #FFFFFF;\n",
              "    }\n",
              "  </style>\n",
              "\n",
              "    <script>\n",
              "      const buttonEl =\n",
              "        document.querySelector('#df-40b48f05-cfb5-4f8c-8509-35424dd8cdfe button.colab-df-convert');\n",
              "      buttonEl.style.display =\n",
              "        google.colab.kernel.accessAllowed ? 'block' : 'none';\n",
              "\n",
              "      async function convertToInteractive(key) {\n",
              "        const element = document.querySelector('#df-40b48f05-cfb5-4f8c-8509-35424dd8cdfe');\n",
              "        const dataTable =\n",
              "          await google.colab.kernel.invokeFunction('convertToInteractive',\n",
              "                                                    [key], {});\n",
              "        if (!dataTable) return;\n",
              "\n",
              "        const docLinkHtml = 'Like what you see? Visit the ' +\n",
              "          '<a target=\"_blank\" href=https://colab.research.google.com/notebooks/data_table.ipynb>data table notebook</a>'\n",
              "          + ' to learn more about interactive tables.';\n",
              "        element.innerHTML = '';\n",
              "        dataTable['output_type'] = 'display_data';\n",
              "        await google.colab.output.renderOutput(dataTable, element);\n",
              "        const docLink = document.createElement('div');\n",
              "        docLink.innerHTML = docLinkHtml;\n",
              "        element.appendChild(docLink);\n",
              "      }\n",
              "    </script>\n",
              "  </div>\n",
              "\n",
              "\n",
              "<div id=\"df-556aba2c-1498-49b0-a78d-f0a510aa310a\">\n",
              "  <button class=\"colab-df-quickchart\" onclick=\"quickchart('df-556aba2c-1498-49b0-a78d-f0a510aa310a')\"\n",
              "            title=\"Suggest charts.\"\n",
              "            style=\"display:none;\">\n",
              "\n",
              "<svg xmlns=\"http://www.w3.org/2000/svg\" height=\"24px\"viewBox=\"0 0 24 24\"\n",
              "     width=\"24px\">\n",
              "    <g>\n",
              "        <path d=\"M19 3H5c-1.1 0-2 .9-2 2v14c0 1.1.9 2 2 2h14c1.1 0 2-.9 2-2V5c0-1.1-.9-2-2-2zM9 17H7v-7h2v7zm4 0h-2V7h2v10zm4 0h-2v-4h2v4z\"/>\n",
              "    </g>\n",
              "</svg>\n",
              "  </button>\n",
              "\n",
              "<style>\n",
              "  .colab-df-quickchart {\n",
              "      --bg-color: #E8F0FE;\n",
              "      --fill-color: #1967D2;\n",
              "      --hover-bg-color: #E2EBFA;\n",
              "      --hover-fill-color: #174EA6;\n",
              "      --disabled-fill-color: #AAA;\n",
              "      --disabled-bg-color: #DDD;\n",
              "  }\n",
              "\n",
              "  [theme=dark] .colab-df-quickchart {\n",
              "      --bg-color: #3B4455;\n",
              "      --fill-color: #D2E3FC;\n",
              "      --hover-bg-color: #434B5C;\n",
              "      --hover-fill-color: #FFFFFF;\n",
              "      --disabled-bg-color: #3B4455;\n",
              "      --disabled-fill-color: #666;\n",
              "  }\n",
              "\n",
              "  .colab-df-quickchart {\n",
              "    background-color: var(--bg-color);\n",
              "    border: none;\n",
              "    border-radius: 50%;\n",
              "    cursor: pointer;\n",
              "    display: none;\n",
              "    fill: var(--fill-color);\n",
              "    height: 32px;\n",
              "    padding: 0;\n",
              "    width: 32px;\n",
              "  }\n",
              "\n",
              "  .colab-df-quickchart:hover {\n",
              "    background-color: var(--hover-bg-color);\n",
              "    box-shadow: 0 1px 2px rgba(60, 64, 67, 0.3), 0 1px 3px 1px rgba(60, 64, 67, 0.15);\n",
              "    fill: var(--button-hover-fill-color);\n",
              "  }\n",
              "\n",
              "  .colab-df-quickchart-complete:disabled,\n",
              "  .colab-df-quickchart-complete:disabled:hover {\n",
              "    background-color: var(--disabled-bg-color);\n",
              "    fill: var(--disabled-fill-color);\n",
              "    box-shadow: none;\n",
              "  }\n",
              "\n",
              "  .colab-df-spinner {\n",
              "    border: 2px solid var(--fill-color);\n",
              "    border-color: transparent;\n",
              "    border-bottom-color: var(--fill-color);\n",
              "    animation:\n",
              "      spin 1s steps(1) infinite;\n",
              "  }\n",
              "\n",
              "  @keyframes spin {\n",
              "    0% {\n",
              "      border-color: transparent;\n",
              "      border-bottom-color: var(--fill-color);\n",
              "      border-left-color: var(--fill-color);\n",
              "    }\n",
              "    20% {\n",
              "      border-color: transparent;\n",
              "      border-left-color: var(--fill-color);\n",
              "      border-top-color: var(--fill-color);\n",
              "    }\n",
              "    30% {\n",
              "      border-color: transparent;\n",
              "      border-left-color: var(--fill-color);\n",
              "      border-top-color: var(--fill-color);\n",
              "      border-right-color: var(--fill-color);\n",
              "    }\n",
              "    40% {\n",
              "      border-color: transparent;\n",
              "      border-right-color: var(--fill-color);\n",
              "      border-top-color: var(--fill-color);\n",
              "    }\n",
              "    60% {\n",
              "      border-color: transparent;\n",
              "      border-right-color: var(--fill-color);\n",
              "    }\n",
              "    80% {\n",
              "      border-color: transparent;\n",
              "      border-right-color: var(--fill-color);\n",
              "      border-bottom-color: var(--fill-color);\n",
              "    }\n",
              "    90% {\n",
              "      border-color: transparent;\n",
              "      border-bottom-color: var(--fill-color);\n",
              "    }\n",
              "  }\n",
              "</style>\n",
              "\n",
              "  <script>\n",
              "    async function quickchart(key) {\n",
              "      const quickchartButtonEl =\n",
              "        document.querySelector('#' + key + ' button');\n",
              "      quickchartButtonEl.disabled = true;  // To prevent multiple clicks.\n",
              "      quickchartButtonEl.classList.add('colab-df-spinner');\n",
              "      try {\n",
              "        const charts = await google.colab.kernel.invokeFunction(\n",
              "            'suggestCharts', [key], {});\n",
              "      } catch (error) {\n",
              "        console.error('Error during call to suggestCharts:', error);\n",
              "      }\n",
              "      quickchartButtonEl.classList.remove('colab-df-spinner');\n",
              "      quickchartButtonEl.classList.add('colab-df-quickchart-complete');\n",
              "    }\n",
              "    (() => {\n",
              "      let quickchartButtonEl =\n",
              "        document.querySelector('#df-556aba2c-1498-49b0-a78d-f0a510aa310a button');\n",
              "      quickchartButtonEl.style.display =\n",
              "        google.colab.kernel.accessAllowed ? 'block' : 'none';\n",
              "    })();\n",
              "  </script>\n",
              "</div>\n",
              "    </div>\n",
              "  </div>\n"
            ]
          },
          "metadata": {},
          "execution_count": 8
        }
      ]
    },
    {
      "cell_type": "markdown",
      "source": [
        "## Making vocabulary"
      ],
      "metadata": {
        "id": "Hkj7b-QB_41O"
      }
    },
    {
      "cell_type": "code",
      "source": [
        "source_dataset = list(data['korean']) # source data\n",
        "target_dataset = list(data['english']) # target_dataset"
      ],
      "metadata": {
        "id": "4uyf_Ef-Qzw4"
      },
      "execution_count": 9,
      "outputs": []
    },
    {
      "cell_type": "code",
      "source": [
        "kor_tokenizer = get_tokenizer(Hannanum().morphs)\n",
        "eng_tokenizer = get_tokenizer('spacy', language='en')"
      ],
      "metadata": {
        "id": "EdpK0FqbSPM3"
      },
      "execution_count": 10,
      "outputs": []
    },
    {
      "cell_type": "code",
      "source": [
        "def vocab_iterator(strings, tokenizer):\n",
        "  for _string in tqdm(strings):\n",
        "    yield tokenizer(_string)"
      ],
      "metadata": {
        "id": "MbYn52WCdmcv"
      },
      "execution_count": 11,
      "outputs": []
    },
    {
      "cell_type": "code",
      "source": [
        "kor_vocab = build_vocab_from_iterator(vocab_iterator(source_dataset, kor_tokenizer), specials=['<PAD>', '<UNK>', '<SOS>', '<EOS>'], min_freq=5)\n",
        "kor_vocab.set_default_index(kor_vocab['<UNK>'])"
      ],
      "metadata": {
        "colab": {
          "base_uri": "https://localhost:8080/"
        },
        "id": "zczVlYAceXLD",
        "outputId": "4cc62bfc-5604-49b3-8177-95abfdd74abe"
      },
      "execution_count": 12,
      "outputs": [
        {
          "output_type": "stream",
          "name": "stderr",
          "text": [
            "100%|██████████| 44507/44507 [04:57<00:00, 149.46it/s]\n"
          ]
        }
      ]
    },
    {
      "cell_type": "code",
      "source": [
        "eng_vocab = build_vocab_from_iterator(vocab_iterator(target_dataset, eng_tokenizer), specials=['<PAD>', '<UNK>', '<SOS>', '<EOS>'], min_freq=5)\n",
        "eng_vocab.set_default_index(eng_vocab['<UNK>'])"
      ],
      "metadata": {
        "id": "Nlf1TecVmLzA",
        "colab": {
          "base_uri": "https://localhost:8080/"
        },
        "outputId": "bc3c92fc-b2e7-4b48-ef8a-f0b13b0a476c"
      },
      "execution_count": 13,
      "outputs": [
        {
          "output_type": "stream",
          "name": "stderr",
          "text": [
            "100%|██████████| 44507/44507 [00:06<00:00, 7228.04it/s] \n"
          ]
        }
      ]
    },
    {
      "cell_type": "markdown",
      "source": [
        "## Making train, valid,  test dataset"
      ],
      "metadata": {
        "id": "l_GwWgRxaMmD"
      }
    },
    {
      "cell_type": "code",
      "source": [
        "X_train, X_valid, y_train, y_valid = train_test_split(data.index.values,\n",
        "                                                    data.source.values,\n",
        "                                                    test_size=0.3,\n",
        "                                                    stratify=data.source.values,\n",
        "                                                    random_state = 42)"
      ],
      "metadata": {
        "id": "tzwGbybBe-uL"
      },
      "execution_count": 14,
      "outputs": []
    },
    {
      "cell_type": "code",
      "source": [
        "data['data_type'] =['not_set'] * data.shape[0]\n",
        "\n",
        "data.loc[X_train, 'data_type'] = 'train'\n",
        "data.loc[X_valid, 'data_type'] = 'valid'"
      ],
      "metadata": {
        "id": "ftOZ_7MaEXXO"
      },
      "execution_count": 15,
      "outputs": []
    },
    {
      "cell_type": "code",
      "source": [
        "X_valid, X_test, y_valid, y_test = train_test_split(data[data['data_type']=='valid'].index.values,\n",
        "                                                    data[data['data_type']=='valid'].source.values,\n",
        "                                                    test_size=0.5,\n",
        "                                                    stratify=data[data['data_type']=='valid'].source.values,\n",
        "                                                    random_state = 42)"
      ],
      "metadata": {
        "id": "OnHWoh52Dvrx"
      },
      "execution_count": 16,
      "outputs": []
    },
    {
      "cell_type": "code",
      "source": [
        "data.loc[X_valid, 'data_type'] = 'valid'\n",
        "data.loc[X_test, 'data_type'] = 'test'\n",
        "data.head()"
      ],
      "metadata": {
        "colab": {
          "base_uri": "https://localhost:8080/",
          "height": 206
        },
        "id": "85Ur9QQlDrgr",
        "outputId": "0ec27b79-6f51-4953-c6a8-284a23934d8e"
      },
      "execution_count": 17,
      "outputs": [
        {
          "output_type": "execute_result",
          "data": {
            "text/plain": [
              "                                              korean  \\\n",
              "0  ‘ZKZM-500 레이저 공격용 소총’으로 명명된 이 무기는 15㎜ 구경의 소총이며...   \n",
              "1  “너희는 세상의 소금이니 소금이 만일 그 맛을 잃으면 무엇으로 짜게 하리요 후에는 ...   \n",
              "2  “너희는 이 세대를 본받지 말고 오직 마음을 새롭게 함으로 변화를 받아 하나님의 선...   \n",
              "3  “너희는 주께 받은바 기름 부음이 너희 안에 거하나니 아무도 너희를 가르칠 필요가 ...   \n",
              "4  “너희는 택하신 족속이요 왕 같은 제사장들이요 거룩한 나라요….”(벧전 2:9) 따...   \n",
              "\n",
              "                                             english  source data_type  \n",
              "0  Named the 'ZKZM-500 Laser Attack Rifle', the w...       0     train  \n",
              "1  \"You are the salt of the earth. But if the sal...       0     valid  \n",
              "2  \"Do not conform to the pattern of this world, ...       0     train  \n",
              "3  It is written as \"As for you, the anointing yo...       0     train  \n",
              "4  \"But you are a chosen people, a royal priestho...       0      test  "
            ],
            "text/html": [
              "\n",
              "  <div id=\"df-6d3f0f5c-902f-49dc-b284-726f7b37f8a9\" class=\"colab-df-container\">\n",
              "    <div>\n",
              "<style scoped>\n",
              "    .dataframe tbody tr th:only-of-type {\n",
              "        vertical-align: middle;\n",
              "    }\n",
              "\n",
              "    .dataframe tbody tr th {\n",
              "        vertical-align: top;\n",
              "    }\n",
              "\n",
              "    .dataframe thead th {\n",
              "        text-align: right;\n",
              "    }\n",
              "</style>\n",
              "<table border=\"1\" class=\"dataframe\">\n",
              "  <thead>\n",
              "    <tr style=\"text-align: right;\">\n",
              "      <th></th>\n",
              "      <th>korean</th>\n",
              "      <th>english</th>\n",
              "      <th>source</th>\n",
              "      <th>data_type</th>\n",
              "    </tr>\n",
              "  </thead>\n",
              "  <tbody>\n",
              "    <tr>\n",
              "      <th>0</th>\n",
              "      <td>‘ZKZM-500 레이저 공격용 소총’으로 명명된 이 무기는 15㎜ 구경의 소총이며...</td>\n",
              "      <td>Named the 'ZKZM-500 Laser Attack Rifle', the w...</td>\n",
              "      <td>0</td>\n",
              "      <td>train</td>\n",
              "    </tr>\n",
              "    <tr>\n",
              "      <th>1</th>\n",
              "      <td>“너희는 세상의 소금이니 소금이 만일 그 맛을 잃으면 무엇으로 짜게 하리요 후에는 ...</td>\n",
              "      <td>\"You are the salt of the earth. But if the sal...</td>\n",
              "      <td>0</td>\n",
              "      <td>valid</td>\n",
              "    </tr>\n",
              "    <tr>\n",
              "      <th>2</th>\n",
              "      <td>“너희는 이 세대를 본받지 말고 오직 마음을 새롭게 함으로 변화를 받아 하나님의 선...</td>\n",
              "      <td>\"Do not conform to the pattern of this world, ...</td>\n",
              "      <td>0</td>\n",
              "      <td>train</td>\n",
              "    </tr>\n",
              "    <tr>\n",
              "      <th>3</th>\n",
              "      <td>“너희는 주께 받은바 기름 부음이 너희 안에 거하나니 아무도 너희를 가르칠 필요가 ...</td>\n",
              "      <td>It is written as \"As for you, the anointing yo...</td>\n",
              "      <td>0</td>\n",
              "      <td>train</td>\n",
              "    </tr>\n",
              "    <tr>\n",
              "      <th>4</th>\n",
              "      <td>“너희는 택하신 족속이요 왕 같은 제사장들이요 거룩한 나라요….”(벧전 2:9) 따...</td>\n",
              "      <td>\"But you are a chosen people, a royal priestho...</td>\n",
              "      <td>0</td>\n",
              "      <td>test</td>\n",
              "    </tr>\n",
              "  </tbody>\n",
              "</table>\n",
              "</div>\n",
              "    <div class=\"colab-df-buttons\">\n",
              "\n",
              "  <div class=\"colab-df-container\">\n",
              "    <button class=\"colab-df-convert\" onclick=\"convertToInteractive('df-6d3f0f5c-902f-49dc-b284-726f7b37f8a9')\"\n",
              "            title=\"Convert this dataframe to an interactive table.\"\n",
              "            style=\"display:none;\">\n",
              "\n",
              "  <svg xmlns=\"http://www.w3.org/2000/svg\" height=\"24px\" viewBox=\"0 -960 960 960\">\n",
              "    <path d=\"M120-120v-720h720v720H120Zm60-500h600v-160H180v160Zm220 220h160v-160H400v160Zm0 220h160v-160H400v160ZM180-400h160v-160H180v160Zm440 0h160v-160H620v160ZM180-180h160v-160H180v160Zm440 0h160v-160H620v160Z\"/>\n",
              "  </svg>\n",
              "    </button>\n",
              "\n",
              "  <style>\n",
              "    .colab-df-container {\n",
              "      display:flex;\n",
              "      gap: 12px;\n",
              "    }\n",
              "\n",
              "    .colab-df-convert {\n",
              "      background-color: #E8F0FE;\n",
              "      border: none;\n",
              "      border-radius: 50%;\n",
              "      cursor: pointer;\n",
              "      display: none;\n",
              "      fill: #1967D2;\n",
              "      height: 32px;\n",
              "      padding: 0 0 0 0;\n",
              "      width: 32px;\n",
              "    }\n",
              "\n",
              "    .colab-df-convert:hover {\n",
              "      background-color: #E2EBFA;\n",
              "      box-shadow: 0px 1px 2px rgba(60, 64, 67, 0.3), 0px 1px 3px 1px rgba(60, 64, 67, 0.15);\n",
              "      fill: #174EA6;\n",
              "    }\n",
              "\n",
              "    .colab-df-buttons div {\n",
              "      margin-bottom: 4px;\n",
              "    }\n",
              "\n",
              "    [theme=dark] .colab-df-convert {\n",
              "      background-color: #3B4455;\n",
              "      fill: #D2E3FC;\n",
              "    }\n",
              "\n",
              "    [theme=dark] .colab-df-convert:hover {\n",
              "      background-color: #434B5C;\n",
              "      box-shadow: 0px 1px 3px 1px rgba(0, 0, 0, 0.15);\n",
              "      filter: drop-shadow(0px 1px 2px rgba(0, 0, 0, 0.3));\n",
              "      fill: #FFFFFF;\n",
              "    }\n",
              "  </style>\n",
              "\n",
              "    <script>\n",
              "      const buttonEl =\n",
              "        document.querySelector('#df-6d3f0f5c-902f-49dc-b284-726f7b37f8a9 button.colab-df-convert');\n",
              "      buttonEl.style.display =\n",
              "        google.colab.kernel.accessAllowed ? 'block' : 'none';\n",
              "\n",
              "      async function convertToInteractive(key) {\n",
              "        const element = document.querySelector('#df-6d3f0f5c-902f-49dc-b284-726f7b37f8a9');\n",
              "        const dataTable =\n",
              "          await google.colab.kernel.invokeFunction('convertToInteractive',\n",
              "                                                    [key], {});\n",
              "        if (!dataTable) return;\n",
              "\n",
              "        const docLinkHtml = 'Like what you see? Visit the ' +\n",
              "          '<a target=\"_blank\" href=https://colab.research.google.com/notebooks/data_table.ipynb>data table notebook</a>'\n",
              "          + ' to learn more about interactive tables.';\n",
              "        element.innerHTML = '';\n",
              "        dataTable['output_type'] = 'display_data';\n",
              "        await google.colab.output.renderOutput(dataTable, element);\n",
              "        const docLink = document.createElement('div');\n",
              "        docLink.innerHTML = docLinkHtml;\n",
              "        element.appendChild(docLink);\n",
              "      }\n",
              "    </script>\n",
              "  </div>\n",
              "\n",
              "\n",
              "<div id=\"df-fcdc2804-b723-490e-a485-9a05a94b34d6\">\n",
              "  <button class=\"colab-df-quickchart\" onclick=\"quickchart('df-fcdc2804-b723-490e-a485-9a05a94b34d6')\"\n",
              "            title=\"Suggest charts.\"\n",
              "            style=\"display:none;\">\n",
              "\n",
              "<svg xmlns=\"http://www.w3.org/2000/svg\" height=\"24px\"viewBox=\"0 0 24 24\"\n",
              "     width=\"24px\">\n",
              "    <g>\n",
              "        <path d=\"M19 3H5c-1.1 0-2 .9-2 2v14c0 1.1.9 2 2 2h14c1.1 0 2-.9 2-2V5c0-1.1-.9-2-2-2zM9 17H7v-7h2v7zm4 0h-2V7h2v10zm4 0h-2v-4h2v4z\"/>\n",
              "    </g>\n",
              "</svg>\n",
              "  </button>\n",
              "\n",
              "<style>\n",
              "  .colab-df-quickchart {\n",
              "      --bg-color: #E8F0FE;\n",
              "      --fill-color: #1967D2;\n",
              "      --hover-bg-color: #E2EBFA;\n",
              "      --hover-fill-color: #174EA6;\n",
              "      --disabled-fill-color: #AAA;\n",
              "      --disabled-bg-color: #DDD;\n",
              "  }\n",
              "\n",
              "  [theme=dark] .colab-df-quickchart {\n",
              "      --bg-color: #3B4455;\n",
              "      --fill-color: #D2E3FC;\n",
              "      --hover-bg-color: #434B5C;\n",
              "      --hover-fill-color: #FFFFFF;\n",
              "      --disabled-bg-color: #3B4455;\n",
              "      --disabled-fill-color: #666;\n",
              "  }\n",
              "\n",
              "  .colab-df-quickchart {\n",
              "    background-color: var(--bg-color);\n",
              "    border: none;\n",
              "    border-radius: 50%;\n",
              "    cursor: pointer;\n",
              "    display: none;\n",
              "    fill: var(--fill-color);\n",
              "    height: 32px;\n",
              "    padding: 0;\n",
              "    width: 32px;\n",
              "  }\n",
              "\n",
              "  .colab-df-quickchart:hover {\n",
              "    background-color: var(--hover-bg-color);\n",
              "    box-shadow: 0 1px 2px rgba(60, 64, 67, 0.3), 0 1px 3px 1px rgba(60, 64, 67, 0.15);\n",
              "    fill: var(--button-hover-fill-color);\n",
              "  }\n",
              "\n",
              "  .colab-df-quickchart-complete:disabled,\n",
              "  .colab-df-quickchart-complete:disabled:hover {\n",
              "    background-color: var(--disabled-bg-color);\n",
              "    fill: var(--disabled-fill-color);\n",
              "    box-shadow: none;\n",
              "  }\n",
              "\n",
              "  .colab-df-spinner {\n",
              "    border: 2px solid var(--fill-color);\n",
              "    border-color: transparent;\n",
              "    border-bottom-color: var(--fill-color);\n",
              "    animation:\n",
              "      spin 1s steps(1) infinite;\n",
              "  }\n",
              "\n",
              "  @keyframes spin {\n",
              "    0% {\n",
              "      border-color: transparent;\n",
              "      border-bottom-color: var(--fill-color);\n",
              "      border-left-color: var(--fill-color);\n",
              "    }\n",
              "    20% {\n",
              "      border-color: transparent;\n",
              "      border-left-color: var(--fill-color);\n",
              "      border-top-color: var(--fill-color);\n",
              "    }\n",
              "    30% {\n",
              "      border-color: transparent;\n",
              "      border-left-color: var(--fill-color);\n",
              "      border-top-color: var(--fill-color);\n",
              "      border-right-color: var(--fill-color);\n",
              "    }\n",
              "    40% {\n",
              "      border-color: transparent;\n",
              "      border-right-color: var(--fill-color);\n",
              "      border-top-color: var(--fill-color);\n",
              "    }\n",
              "    60% {\n",
              "      border-color: transparent;\n",
              "      border-right-color: var(--fill-color);\n",
              "    }\n",
              "    80% {\n",
              "      border-color: transparent;\n",
              "      border-right-color: var(--fill-color);\n",
              "      border-bottom-color: var(--fill-color);\n",
              "    }\n",
              "    90% {\n",
              "      border-color: transparent;\n",
              "      border-bottom-color: var(--fill-color);\n",
              "    }\n",
              "  }\n",
              "</style>\n",
              "\n",
              "  <script>\n",
              "    async function quickchart(key) {\n",
              "      const quickchartButtonEl =\n",
              "        document.querySelector('#' + key + ' button');\n",
              "      quickchartButtonEl.disabled = true;  // To prevent multiple clicks.\n",
              "      quickchartButtonEl.classList.add('colab-df-spinner');\n",
              "      try {\n",
              "        const charts = await google.colab.kernel.invokeFunction(\n",
              "            'suggestCharts', [key], {});\n",
              "      } catch (error) {\n",
              "        console.error('Error during call to suggestCharts:', error);\n",
              "      }\n",
              "      quickchartButtonEl.classList.remove('colab-df-spinner');\n",
              "      quickchartButtonEl.classList.add('colab-df-quickchart-complete');\n",
              "    }\n",
              "    (() => {\n",
              "      let quickchartButtonEl =\n",
              "        document.querySelector('#df-fcdc2804-b723-490e-a485-9a05a94b34d6 button');\n",
              "      quickchartButtonEl.style.display =\n",
              "        google.colab.kernel.accessAllowed ? 'block' : 'none';\n",
              "    })();\n",
              "  </script>\n",
              "</div>\n",
              "    </div>\n",
              "  </div>\n"
            ]
          },
          "metadata": {},
          "execution_count": 17
        }
      ]
    },
    {
      "cell_type": "code",
      "source": [
        "# split train valid test dataset\n",
        "train_set = data[data.data_type == 'train']\n",
        "valid_set = data[data.data_type == 'valid']\n",
        "test_set = data[data.data_type == 'test']"
      ],
      "metadata": {
        "id": "DwH8CGA_Fqli"
      },
      "execution_count": 18,
      "outputs": []
    },
    {
      "cell_type": "code",
      "source": [
        "# # sampling the set for cheching code\n",
        "# train_set = train_set.sample(n=2000)\n",
        "# valid_set = valid_set.sample(n=500)"
      ],
      "metadata": {
        "id": "l9lxOoZQ1AKq"
      },
      "execution_count": 19,
      "outputs": []
    },
    {
      "cell_type": "code",
      "source": [
        "def data_process(source_dataset, target_dataset):\n",
        "  data = []\n",
        "  for (raw_kor, raw_eng) in tqdm(zip(source_dataset, target_dataset)):\n",
        "    kor_tensor_ = torch.tensor([kor_vocab[token] for token in kor_tokenizer(raw_kor)], dtype=torch.long)\n",
        "    eng_tensor_ = torch.tensor([eng_vocab[token] for token in eng_tokenizer(raw_eng)], dtype=torch.long)\n",
        "    data.append((kor_tensor_, eng_tensor_))\n",
        "\n",
        "  return data"
      ],
      "metadata": {
        "id": "PeIWJGQ9fUtY"
      },
      "execution_count": 20,
      "outputs": []
    },
    {
      "cell_type": "code",
      "source": [
        "train_dataset = data_process(train_set['korean'], train_set['english'])\n",
        "valid_dataset = data_process(valid_set['korean'], valid_set['english'])\n",
        "test_dataset = data_process(test_set['korean'], test_set['english'])"
      ],
      "metadata": {
        "colab": {
          "base_uri": "https://localhost:8080/"
        },
        "id": "pNPtCxS2Gdxv",
        "outputId": "a7bfa659-9219-4b81-a5bb-6ca53c3dabc4"
      },
      "execution_count": 21,
      "outputs": [
        {
          "output_type": "stream",
          "name": "stderr",
          "text": [
            "31154it [04:27, 116.47it/s]\n",
            "6676it [00:57, 115.73it/s]\n",
            "6677it [00:58, 114.82it/s]\n"
          ]
        }
      ]
    },
    {
      "cell_type": "code",
      "source": [
        "device = torch.device('cuda' if torch.cuda.is_available() else 'cpu' )"
      ],
      "metadata": {
        "id": "dS9nENqFG0BI"
      },
      "execution_count": 22,
      "outputs": []
    },
    {
      "cell_type": "code",
      "source": [
        "# print(kor_vocab['<SOS>'], kor_vocab['<EOS>'],kor_vocab['<UNK>'],kor_vocab['<PAD>'])\n",
        "# print(eng_vocab['<SOS>'], eng_vocab['<EOS>'],eng_vocab['<UNK>'],eng_vocab['<PAD>'])"
      ],
      "metadata": {
        "id": "N9G8BoJ_Y7UA"
      },
      "execution_count": 23,
      "outputs": []
    },
    {
      "cell_type": "code",
      "source": [
        "PAD_IDX = kor_vocab['<PAD>']\n",
        "UNK_IDX = kor_vocab['<UNK>']\n",
        "SOS_IDX = kor_vocab['<SOS>']\n",
        "EOS_IDX = kor_vocab['<EOS>']"
      ],
      "metadata": {
        "id": "lzXUYO8XI91B"
      },
      "execution_count": 24,
      "outputs": []
    },
    {
      "cell_type": "code",
      "source": [
        "def collate_fn(dataset):\n",
        "  kor_batch, eng_batch = [], []\n",
        "  for (kor_item, eng_item) in dataset:\n",
        "    kor_batch.append(torch.cat([torch.tensor([SOS_IDX]), kor_item, torch.tensor([EOS_IDX])], dim=0))\n",
        "    eng_batch.append(torch.cat([torch.tensor([SOS_IDX]), eng_item, torch.tensor([EOS_IDX])], dim=0))\n",
        "\n",
        "  kor_batch = pad_sequence(kor_batch, padding_value=PAD_IDX)\n",
        "  eng_batch = pad_sequence(eng_batch, padding_value=PAD_IDX)\n",
        "\n",
        "  return kor_batch, eng_batch"
      ],
      "metadata": {
        "id": "gOWLhDOhXSik"
      },
      "execution_count": 25,
      "outputs": []
    },
    {
      "cell_type": "code",
      "source": [
        "BATCH_SIZE = 16\n",
        "\n",
        "trainloader = DataLoader(train_dataset, batch_size = BATCH_SIZE, shuffle = True, collate_fn= collate_fn )\n",
        "validloader = DataLoader(valid_dataset, batch_size = BATCH_SIZE, shuffle = False, collate_fn= collate_fn )\n",
        "testloader = DataLoader(test_dataset, batch_size = BATCH_SIZE, shuffle = False, collate_fn= collate_fn )"
      ],
      "metadata": {
        "id": "_gGa2Y6FYnom"
      },
      "execution_count": 26,
      "outputs": []
    },
    {
      "cell_type": "markdown",
      "source": [
        "## Model class"
      ],
      "metadata": {
        "id": "yzFS65J5cNGe"
      }
    },
    {
      "cell_type": "code",
      "source": [
        "class PositionalEncoding(nn.Module):\n",
        "    def __init__(self, emb_size: int, dropout: float, max_len: int = 5000):\n",
        "        super(PositionalEncoding, self).__init__()\n",
        "\n",
        "        den = torch.exp(- torch.arange(0, emb_size, 2)* math.log(10000) / emb_size)\n",
        "\n",
        "        pos = torch.arange(0, max_len).reshape(max_len, 1)\n",
        "\n",
        "        pos_embedding = torch.zeros((max_len, emb_size))\n",
        "        pos_embedding[:, 0::2] = torch.sin(pos * den)\n",
        "        pos_embedding[:, 1::2] = torch.cos(pos * den)\n",
        "\n",
        "        pos_embedding = pos_embedding.unsqueeze(-2)\n",
        "\n",
        "        self.dropout = nn.Dropout(dropout)\n",
        "        self.register_buffer('pos_embedding', pos_embedding)\n",
        "\n",
        "    def forward(self, token_embedding: Tensor):\n",
        "        return self.dropout(token_embedding + self.pos_embedding[:token_embedding.size(0), :])"
      ],
      "metadata": {
        "id": "hiqzMnnIYtQc"
      },
      "execution_count": 27,
      "outputs": []
    },
    {
      "cell_type": "code",
      "source": [
        "class TokenEmbedding(nn.Module):\n",
        "  def __init__(self, vocab_size, emb_size):\n",
        "    super(TokenEmbedding, self).__init__()\n",
        "    self.embedding = nn.Embedding(vocab_size, emb_size)\n",
        "    self.emb_size = emb_size\n",
        "\n",
        "  def forward(self, tokens:Tensor):\n",
        "    return self.embedding(tokens.long())* math.sqrt(self.emb_size)"
      ],
      "metadata": {
        "id": "ijOUBvULY03D"
      },
      "execution_count": 28,
      "outputs": []
    },
    {
      "cell_type": "code",
      "source": [
        "class Seq2SeqTransformer(nn.Module):\n",
        "  def __init__(self,\n",
        "               num_encoder_layers: int,\n",
        "               num_decoder_layers: int,\n",
        "               emb_size: int,\n",
        "               num_head: int,\n",
        "               src_vocab_size:int,\n",
        "               tar_vocab_size:int,\n",
        "               dim_feedforward:int = 512,\n",
        "               dropout:float =0.1):\n",
        "    super(Seq2SeqTransformer, self).__init__()\n",
        "\n",
        "    self.transformer = Transformer(\n",
        "        d_model=emb_size,\n",
        "        nhead=num_head,\n",
        "        num_encoder_layers=num_encoder_layers,\n",
        "        num_decoder_layers=num_decoder_layers,\n",
        "        dim_feedforward=dim_feedforward,\n",
        "        dropout=dropout\n",
        "        )\n",
        "    self.generator = nn.Linear(emb_size, tar_vocab_size)\n",
        "    self.src_token_emb = TokenEmbedding(src_vocab_size, emb_size)\n",
        "    self.tar_token_emb = TokenEmbedding(tar_vocab_size, emb_size)\n",
        "    self.positional_encoding = PositionalEncoding(emb_size, dropout=dropout)\n",
        "\n",
        "  def forward(self,\n",
        "              src:Tensor,\n",
        "              tar:Tensor,\n",
        "              src_mask: Tensor,\n",
        "              tar_mask: Tensor,\n",
        "              src_padding_mask: Tensor,\n",
        "              tar_padding_mask:Tensor,\n",
        "              memory_key_padding_mask:Tensor\n",
        "              ):\n",
        "    src_emb = self.positional_encoding(self.src_token_emb(src))\n",
        "    tar_emb = self.positional_encoding(self.tar_token_emb(tar))\n",
        "\n",
        "    outs = self.transformer(src_emb, tar_emb, src_mask, tar_mask, None, src_padding_mask, tar_padding_mask, memory_key_padding_mask)\n",
        "\n",
        "    return self.generator(outs)\n",
        "\n",
        "  def encode(self, src:Tensor, src_mask:Tensor):\n",
        "    return self.transformer.encoder(self.positional_encoding(self.src_token_emb(src)), src_mask)\n",
        "\n",
        "  def decode(self, tar:Tensor, memory: Tensor, tar_mask:Tensor):\n",
        "    return self.transformer.decoder(self.positional_encoding(self.tar_token_emb(tar)), memory, tar_mask)"
      ],
      "metadata": {
        "id": "i6qG8IR1dcQd"
      },
      "execution_count": 29,
      "outputs": []
    },
    {
      "cell_type": "code",
      "source": [
        "def generate_square_subsequent_mask(sz):\n",
        "    mask = (torch.triu(torch.ones((sz, sz), device=device)) == 1).transpose(0, 1)\n",
        "    mask = mask.float().masked_fill(mask == 0, float('-inf')).masked_fill(mask == 1, float(0.0))\n",
        "    return mask"
      ],
      "metadata": {
        "id": "dNYHaud-iK26"
      },
      "execution_count": 30,
      "outputs": []
    },
    {
      "cell_type": "code",
      "source": [
        "def create_mask(src, tar):\n",
        "  src_seq_len = src.shape[0]\n",
        "  tar_seq_len = tar.shape[0]\n",
        "\n",
        "  tar_mask = generate_square_subsequent_mask(tar_seq_len)\n",
        "  src_mask = torch.zeros((src_seq_len, src_seq_len), device=device).type(torch.bool)\n",
        "\n",
        "  src_padding_mask = (src == PAD_IDX).transpose(0, 1)\n",
        "  tar_padding_mask = (tar == PAD_IDX).transpose(0, 1)\n",
        "\n",
        "  return src_mask, tar_mask, src_padding_mask, tar_padding_mask"
      ],
      "metadata": {
        "id": "0SM0HxBXidHm"
      },
      "execution_count": 31,
      "outputs": []
    },
    {
      "cell_type": "code",
      "source": [
        "kor_vocab_size = kor_vocab.__len__()\n",
        "eng_vocab_size = eng_vocab.__len__()\n",
        "\n",
        "embedding_dim = 512\n",
        "hidden_dim = 512\n",
        "num_heads = 8\n",
        "batch_size = 128\n",
        "encoder_layer_num = 3\n",
        "decoder_layer_num = 3"
      ],
      "metadata": {
        "id": "2ob3o6lFkhpb"
      },
      "execution_count": 32,
      "outputs": []
    },
    {
      "cell_type": "code",
      "source": [
        "print(f\"kor_vocab_size is {kor_vocab.__len__()}\")\n",
        "print(f\"eng_vocab_size is {eng_vocab.__len__()}\")"
      ],
      "metadata": {
        "colab": {
          "base_uri": "https://localhost:8080/"
        },
        "id": "5Ps9dSttl1x5",
        "outputId": "eeddefd8-7b06-48f5-cdf6-2ecc21ecaa65"
      },
      "execution_count": 33,
      "outputs": [
        {
          "output_type": "stream",
          "name": "stdout",
          "text": [
            "kor_vocab_size is 13827\n",
            "eng_vocab_size is 12299\n"
          ]
        }
      ]
    },
    {
      "cell_type": "code",
      "source": [
        "model = Seq2SeqTransformer(encoder_layer_num,\n",
        "                           decoder_layer_num,\n",
        "                           embedding_dim,\n",
        "                           num_heads,\n",
        "                           kor_vocab_size,\n",
        "                           eng_vocab_size,\n",
        "                           hidden_dim\n",
        "                           )\n",
        "\n",
        "for p in model.parameters():\n",
        "    if p.dim() > 1:\n",
        "        nn.init.xavier_uniform_(p)\n",
        "\n",
        "model = model.to(device)"
      ],
      "metadata": {
        "id": "EDI8EIvnmPHN"
      },
      "execution_count": 34,
      "outputs": []
    },
    {
      "cell_type": "code",
      "source": [
        "LEARNING_RATE= 2e-5\n",
        "criterion = nn.CrossEntropyLoss(ignore_index=PAD_IDX)\n",
        "optimizer = torch.optim.AdamW(model.parameters(), lr = LEARNING_RATE, betas=(0.9, 0.98), eps=1e-9)"
      ],
      "metadata": {
        "id": "KYZ2mf7konWw"
      },
      "execution_count": 35,
      "outputs": []
    },
    {
      "cell_type": "code",
      "source": [
        "from nltk.translate.bleu_score import corpus_bleu\n",
        "\n",
        "eng_itos = eng_vocab.get_itos()\n",
        "\n",
        "def compute_metrics(predictions, target_outs):\n",
        "  special_tokens =[PAD_IDX, EOS_IDX, SOS_IDX, UNK_IDX]\n",
        "  prediction_sentences, target_sentences = [], []\n",
        "  for i in range(len(predictions)):\n",
        "    pred_sentence = [eng_itos[token]  for token in predictions[i] if token not in special_tokens]\n",
        "    target_sentence = [eng_itos[token] for token in target_outs[i] if token not in special_tokens]\n",
        "    prediction_sentences.append(pred_sentence)\n",
        "    target_sentences.append(target_sentence)\n",
        "  score = corpus_bleu(prediction_sentences, target_sentences,  weights=(1, 0, 0, 0))\n",
        "  return score\n"
      ],
      "metadata": {
        "id": "7q3mUQxcar2o"
      },
      "execution_count": 36,
      "outputs": []
    },
    {
      "cell_type": "code",
      "source": [
        "class Trainer():\n",
        "  def __init__(self, trainloader, validloader, testloader, model, optimizer, criterion, device):\n",
        "    self.trainloader = trainloader\n",
        "    self.validloader = validloader\n",
        "    self.testloader = testloader\n",
        "    self.model = model\n",
        "    self.optimizer = optimizer\n",
        "    self.criterion = criterion\n",
        "    self.device = device\n",
        "\n",
        "  def train(self, num_epochs=1):\n",
        "    self.model.train()\n",
        "\n",
        "    for epoch in range(1, num_epochs+1):\n",
        "      print('===========Epoch:{:1d}/{:1d}==================='.format(epoch, num_epochs))\n",
        "      running_loss = 0.0\n",
        "\n",
        "      for src, tar in tqdm(self.trainloader):\n",
        "        src = src.to(self.device)\n",
        "        tar = tar.to(self.device)\n",
        "\n",
        "        tar_input = tar[:-1, :]\n",
        "\n",
        "        src_mask, tar_mask, src_padding_mask, tar_padding_mask = create_mask(src, tar_input)\n",
        "\n",
        "        logits = self.model(src, tar_input, src_mask, tar_mask,src_padding_mask, tar_padding_mask, src_padding_mask)\n",
        "\n",
        "        self.optimizer.zero_grad()\n",
        "\n",
        "        tar_out = tar[1:, :]\n",
        "        loss = self.criterion(logits.reshape(-1, logits.shape[-1]), tar_out.reshape(-1))\n",
        "        loss.backward()\n",
        "\n",
        "        self.optimizer.step()\n",
        "        running_loss += loss.item()\n",
        "\n",
        "      trian_loss = running_loss/len(self.trainloader)\n",
        "      predicted_list, target_outs, valid_loss = self.validate()\n",
        "      tqdm.write('Train Loss:{:.3f}, Validation Loss:{:.3f}, BLEU Score:{:.3f}'.\n",
        "                 format(trian_loss, valid_loss, compute_metrics(predicted_list, target_outs)*100))\n",
        "\n",
        "\n",
        "  def validate(self):\n",
        "    self.model.eval()\n",
        "    running_loss = 0.0\n",
        "    predicted_list, target_outs =[], []\n",
        "\n",
        "    for src, tar in tqdm(self.validloader):\n",
        "      src = src.to(self.device)\n",
        "      tar = tar.to(self.device)\n",
        "\n",
        "      tar_input = tar[:-1, :]\n",
        "\n",
        "      src_mask, tar_mask, src_padding_mask, tar_padding_mask = create_mask(src, tar_input)\n",
        "\n",
        "      logits = self.model(src, tar_input, src_mask, tar_mask, src_padding_mask, tar_padding_mask, src_padding_mask)\n",
        "\n",
        "      tar_out = tar[1:, :]\n",
        "      loss = self.criterion(logits.reshape(-1, logits.shape[-1]), tar_out.reshape(-1))\n",
        "      running_loss += loss.item()\n",
        "\n",
        "      predicted = torch.argmax(logits, dim=-1).flatten().detach().cpu().numpy().tolist()\n",
        "      predicted_list.append(predicted)\n",
        "      tar_out = tar_out.flatten().detach().cpu().numpy().tolist()\n",
        "      target_outs.append(tar_out)\n",
        "\n",
        "    valid_loss = running_loss/len(self.validloader)\n",
        "\n",
        "    return predicted_list, target_outs, valid_loss\n",
        "\n",
        "  def test(self):\n",
        "    self.model.eval()\n",
        "    predicted_list, target_outs =[], []\n",
        "\n",
        "    for src, tar in tqdm(self.testloader):\n",
        "      src = src.to(self.device)\n",
        "      tar = tar.to(self.device)\n",
        "\n",
        "      tar_input = tar[:-1, :]\n",
        "\n",
        "      src_mask, tar_mask, src_padding_mask, tar_padding_mask = create_mask(src, tar_input)\n",
        "\n",
        "      logits = self.model(src, tar_input, src_mask, tar_mask, src_padding_mask, tar_padding_mask, src_padding_mask)\n",
        "\n",
        "      tar_out = tar[1:, :]\n",
        "\n",
        "      predicted = torch.argmax(logits, dim=-1).flatten().detach().cpu().numpy().tolist()\n",
        "      predicted_list.append(predicted)\n",
        "      tar_out = tar_out.flatten().detach().cpu().numpy().tolist()\n",
        "      target_outs.append(tar_out)\n",
        "\n",
        "    return predicted_list, target_outs"
      ],
      "metadata": {
        "id": "qU3pOpmNsLA9"
      },
      "execution_count": 40,
      "outputs": []
    },
    {
      "cell_type": "code",
      "source": [
        "trainer = Trainer(trainloader= trainloader,\n",
        "                  validloader = validloader,\n",
        "                  testloader = testloader,\n",
        "                  model = model,\n",
        "                  optimizer = optimizer,\n",
        "                  criterion = criterion,\n",
        "                  device = device)\n",
        "trainer.train(num_epochs=10)"
      ],
      "metadata": {
        "colab": {
          "base_uri": "https://localhost:8080/"
        },
        "id": "gs8wSPXE0UPF",
        "outputId": "443d055d-9532-415b-80c7-d9fabdca3db8"
      },
      "execution_count": 42,
      "outputs": [
        {
          "output_type": "stream",
          "name": "stdout",
          "text": [
            "===========Epoch:1/10===================\n"
          ]
        },
        {
          "output_type": "stream",
          "name": "stderr",
          "text": [
            "100%|██████████| 1948/1948 [01:05<00:00, 29.79it/s]\n",
            "100%|██████████| 418/418 [00:05<00:00, 69.89it/s]\n"
          ]
        },
        {
          "output_type": "stream",
          "name": "stdout",
          "text": [
            "Train Loss:5.149, Validation Loss:4.860, BLEU Score:1.465\n",
            "===========Epoch:2/10===================\n"
          ]
        },
        {
          "output_type": "stream",
          "name": "stderr",
          "text": [
            "100%|██████████| 1948/1948 [01:00<00:00, 32.46it/s]\n",
            "100%|██████████| 418/418 [00:06<00:00, 63.31it/s]\n"
          ]
        },
        {
          "output_type": "stream",
          "name": "stdout",
          "text": [
            "Train Loss:4.619, Validation Loss:4.515, BLEU Score:1.603\n",
            "===========Epoch:3/10===================\n"
          ]
        },
        {
          "output_type": "stream",
          "name": "stderr",
          "text": [
            "100%|██████████| 1948/1948 [01:00<00:00, 32.27it/s]\n",
            "100%|██████████| 418/418 [00:07<00:00, 55.18it/s]\n"
          ]
        },
        {
          "output_type": "stream",
          "name": "stdout",
          "text": [
            "Train Loss:4.324, Validation Loss:4.296, BLEU Score:1.699\n",
            "===========Epoch:4/10===================\n"
          ]
        },
        {
          "output_type": "stream",
          "name": "stderr",
          "text": [
            "100%|██████████| 1948/1948 [01:06<00:00, 29.48it/s]\n",
            "100%|██████████| 418/418 [00:07<00:00, 54.84it/s]\n"
          ]
        },
        {
          "output_type": "stream",
          "name": "stdout",
          "text": [
            "Train Loss:4.104, Validation Loss:4.146, BLEU Score:1.769\n",
            "===========Epoch:5/10===================\n"
          ]
        },
        {
          "output_type": "stream",
          "name": "stderr",
          "text": [
            "100%|██████████| 1948/1948 [01:03<00:00, 30.45it/s]\n",
            "100%|██████████| 418/418 [00:05<00:00, 72.79it/s]\n"
          ]
        },
        {
          "output_type": "stream",
          "name": "stdout",
          "text": [
            "Train Loss:3.923, Validation Loss:4.020, BLEU Score:1.817\n",
            "===========Epoch:6/10===================\n"
          ]
        },
        {
          "output_type": "stream",
          "name": "stderr",
          "text": [
            "100%|██████████| 1948/1948 [01:02<00:00, 31.32it/s]\n",
            "100%|██████████| 418/418 [00:07<00:00, 52.28it/s]\n"
          ]
        },
        {
          "output_type": "stream",
          "name": "stdout",
          "text": [
            "Train Loss:3.767, Validation Loss:3.933, BLEU Score:1.870\n",
            "===========Epoch:7/10===================\n"
          ]
        },
        {
          "output_type": "stream",
          "name": "stderr",
          "text": [
            "100%|██████████| 1948/1948 [01:02<00:00, 30.95it/s]\n",
            "100%|██████████| 418/418 [00:07<00:00, 59.44it/s]\n"
          ]
        },
        {
          "output_type": "stream",
          "name": "stdout",
          "text": [
            "Train Loss:3.622, Validation Loss:3.853, BLEU Score:1.884\n",
            "===========Epoch:8/10===================\n"
          ]
        },
        {
          "output_type": "stream",
          "name": "stderr",
          "text": [
            "100%|██████████| 1948/1948 [01:02<00:00, 31.16it/s]\n",
            "100%|██████████| 418/418 [00:05<00:00, 74.74it/s]\n"
          ]
        },
        {
          "output_type": "stream",
          "name": "stdout",
          "text": [
            "Train Loss:3.487, Validation Loss:3.795, BLEU Score:1.901\n",
            "===========Epoch:9/10===================\n"
          ]
        },
        {
          "output_type": "stream",
          "name": "stderr",
          "text": [
            "100%|██████████| 1948/1948 [01:00<00:00, 31.95it/s]\n",
            "100%|██████████| 418/418 [00:05<00:00, 72.52it/s]\n"
          ]
        },
        {
          "output_type": "stream",
          "name": "stdout",
          "text": [
            "Train Loss:3.357, Validation Loss:3.749, BLEU Score:1.925\n",
            "===========Epoch:10/10===================\n"
          ]
        },
        {
          "output_type": "stream",
          "name": "stderr",
          "text": [
            "100%|██████████| 1948/1948 [01:01<00:00, 31.85it/s]\n",
            "100%|██████████| 418/418 [00:06<00:00, 68.14it/s]\n"
          ]
        },
        {
          "output_type": "stream",
          "name": "stdout",
          "text": [
            "Train Loss:3.231, Validation Loss:3.713, BLEU Score:1.949\n"
          ]
        }
      ]
    },
    {
      "cell_type": "code",
      "source": [
        "predicted_list, target_outs = trainer.test()"
      ],
      "metadata": {
        "colab": {
          "base_uri": "https://localhost:8080/"
        },
        "id": "XSaCrXh21y_f",
        "outputId": "39d63846-0ca5-461f-a04a-e9f0cf92b031"
      },
      "execution_count": 43,
      "outputs": [
        {
          "output_type": "stream",
          "name": "stderr",
          "text": [
            "100%|██████████| 418/418 [00:06<00:00, 61.64it/s]\n"
          ]
        }
      ]
    },
    {
      "cell_type": "code",
      "source": [
        "# 100 is exact match\n",
        "print('Test set BLEU Score: {:.3f}% '. format(compute_metrics(predicted_list, target_outs)*100))"
      ],
      "metadata": {
        "colab": {
          "base_uri": "https://localhost:8080/"
        },
        "id": "gUuGwslsKhon",
        "outputId": "0361ba44-dbd2-4780-e1a1-4f5168b8e1a6"
      },
      "execution_count": 46,
      "outputs": [
        {
          "output_type": "stream",
          "name": "stdout",
          "text": [
            "Test set BLEU Score: 1.957% \n"
          ]
        }
      ]
    },
    {
      "cell_type": "code",
      "source": [
        "# special_tokens =[PAD_IDX, EOS_IDX, SOS_IDX, UNK_IDX]\n",
        "# infer_refer_list = []\n",
        "# for i in range(len(predicted_list)):\n",
        "#   pred_sentence = ' '.join([eng_itos[token]  for token in predicted_list[i] if token not in special_tokens])\n",
        "#   target_sentence = ' '.join([eng_itos[token] for token in target_outs[i] if token not in special_tokens])\n",
        "#   infer_refer_list.append([pred_sentence, target_sentence])\n"
      ],
      "metadata": {
        "id": "RwcbEyerlEHx"
      },
      "execution_count": 47,
      "outputs": []
    },
    {
      "cell_type": "code",
      "source": [
        "# pd.DataFrame(infer_refer_list)"
      ],
      "metadata": {
        "id": "-1LlMctNmNAL"
      },
      "execution_count": 51,
      "outputs": []
    },
    {
      "cell_type": "code",
      "source": [],
      "metadata": {
        "id": "zfPixeMDqqSu"
      },
      "execution_count": null,
      "outputs": []
    }
  ]
}