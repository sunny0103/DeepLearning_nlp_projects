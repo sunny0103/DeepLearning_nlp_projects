{
  "metadata": {
    "colab": {
      "provenance": [],
      "gpuType": "V100",
      "machine_shape": "hm",
      "include_colab_link": true
    },
    "kernelspec": {
      "name": "python3",
      "display_name": "Python 3",
      "language": "python"
    },
    "language_info": {
      "name": "python",
      "version": "3.10.12",
      "mimetype": "text/x-python",
      "codemirror_mode": {
        "name": "ipython",
        "version": 3
      },
      "pygments_lexer": "ipython3",
      "nbconvert_exporter": "python",
      "file_extension": ".py"
    },
    "accelerator": "GPU",
    "kaggle": {
      "accelerator": "gpu",
      "dataSources": [
        {
          "sourceId": 7079004,
          "sourceType": "datasetVersion",
          "datasetId": 4077724
        }
      ],
      "dockerImageVersionId": 30588,
      "isInternetEnabled": true,
      "language": "python",
      "sourceType": "notebook",
      "isGpuEnabled": true
    }
  },
  "nbformat_minor": 0,
  "nbformat": 4,
  "cells": [
    {
      "cell_type": "markdown",
      "metadata": {
        "id": "view-in-github",
        "colab_type": "text"
      },
      "source": [
        "<a href=\"https://colab.research.google.com/github/sunny0103/DeepLearning_nlp_projects/blob/main/AIconnect_MRC/aiconnect_mrc_hyperparametersearch_optuna.ipynb\" target=\"_parent\"><img src=\"https://colab.research.google.com/assets/colab-badge.svg\" alt=\"Open In Colab\"/></a>"
      ]
    },
    {
      "cell_type": "code",
      "source": [
        "!pip install transformers[torch] datasets evaluate optuna"
      ],
      "metadata": {
        "id": "33nrzMAkFnNI",
        "outputId": "9c29f786-70ee-4a99-93a5-f3cc52a3ecc0",
        "execution": {
          "iopub.status.busy": "2023-12-11T13:15:56.084961Z",
          "iopub.execute_input": "2023-12-11T13:15:56.085200Z",
          "iopub.status.idle": "2023-12-11T13:16:09.573330Z",
          "shell.execute_reply.started": "2023-12-11T13:15:56.085177Z",
          "shell.execute_reply": "2023-12-11T13:16:09.572377Z"
        },
        "trusted": true
      },
      "execution_count": null,
      "outputs": [
        {
          "name": "stdout",
          "text": "Requirement already satisfied: transformers[torch] in /opt/conda/lib/python3.10/site-packages (4.35.0)\nRequirement already satisfied: datasets in /opt/conda/lib/python3.10/site-packages (2.1.0)\nCollecting evaluate\n  Obtaining dependency information for evaluate from https://files.pythonhosted.org/packages/70/63/7644a1eb7b0297e585a6adec98ed9e575309bb973c33b394dae66bc35c69/evaluate-0.4.1-py3-none-any.whl.metadata\n  Downloading evaluate-0.4.1-py3-none-any.whl.metadata (9.4 kB)\nRequirement already satisfied: optuna in /opt/conda/lib/python3.10/site-packages (3.4.0)\nRequirement already satisfied: filelock in /opt/conda/lib/python3.10/site-packages (from transformers[torch]) (3.12.2)\nRequirement already satisfied: huggingface-hub<1.0,>=0.16.4 in /opt/conda/lib/python3.10/site-packages (from transformers[torch]) (0.17.3)\nRequirement already satisfied: numpy>=1.17 in /opt/conda/lib/python3.10/site-packages (from transformers[torch]) (1.24.3)\nRequirement already satisfied: packaging>=20.0 in /opt/conda/lib/python3.10/site-packages (from transformers[torch]) (21.3)\nRequirement already satisfied: pyyaml>=5.1 in /opt/conda/lib/python3.10/site-packages (from transformers[torch]) (6.0.1)\nRequirement already satisfied: regex!=2019.12.17 in /opt/conda/lib/python3.10/site-packages (from transformers[torch]) (2023.8.8)\nRequirement already satisfied: requests in /opt/conda/lib/python3.10/site-packages (from transformers[torch]) (2.31.0)\nRequirement already satisfied: tokenizers<0.15,>=0.14 in /opt/conda/lib/python3.10/site-packages (from transformers[torch]) (0.14.1)\nRequirement already satisfied: safetensors>=0.3.1 in /opt/conda/lib/python3.10/site-packages (from transformers[torch]) (0.4.0)\nRequirement already satisfied: tqdm>=4.27 in /opt/conda/lib/python3.10/site-packages (from transformers[torch]) (4.66.1)\nRequirement already satisfied: torch!=1.12.0,>=1.10 in /opt/conda/lib/python3.10/site-packages (from transformers[torch]) (2.0.0)\nRequirement already satisfied: accelerate>=0.20.3 in /opt/conda/lib/python3.10/site-packages (from transformers[torch]) (0.24.1)\nRequirement already satisfied: pyarrow>=5.0.0 in /opt/conda/lib/python3.10/site-packages (from datasets) (11.0.0)\nRequirement already satisfied: dill in /opt/conda/lib/python3.10/site-packages (from datasets) (0.3.7)\nRequirement already satisfied: pandas in /opt/conda/lib/python3.10/site-packages (from datasets) (2.0.3)\nRequirement already satisfied: xxhash in /opt/conda/lib/python3.10/site-packages (from datasets) (3.4.1)\nRequirement already satisfied: multiprocess in /opt/conda/lib/python3.10/site-packages (from datasets) (0.70.15)\nRequirement already satisfied: fsspec[http]>=2021.05.0 in /opt/conda/lib/python3.10/site-packages (from datasets) (2023.10.0)\nRequirement already satisfied: aiohttp in /opt/conda/lib/python3.10/site-packages (from datasets) (3.8.5)\nRequirement already satisfied: responses<0.19 in /opt/conda/lib/python3.10/site-packages (from datasets) (0.18.0)\nRequirement already satisfied: alembic>=1.5.0 in /opt/conda/lib/python3.10/site-packages (from optuna) (1.12.1)\nRequirement already satisfied: colorlog in /opt/conda/lib/python3.10/site-packages (from optuna) (6.7.0)\nRequirement already satisfied: sqlalchemy>=1.3.0 in /opt/conda/lib/python3.10/site-packages (from optuna) (2.0.20)\nRequirement already satisfied: psutil in /opt/conda/lib/python3.10/site-packages (from accelerate>=0.20.3->transformers[torch]) (5.9.3)\nRequirement already satisfied: Mako in /opt/conda/lib/python3.10/site-packages (from alembic>=1.5.0->optuna) (1.3.0)\nRequirement already satisfied: typing-extensions>=4 in /opt/conda/lib/python3.10/site-packages (from alembic>=1.5.0->optuna) (4.5.0)\nRequirement already satisfied: attrs>=17.3.0 in /opt/conda/lib/python3.10/site-packages (from aiohttp->datasets) (23.1.0)\nRequirement already satisfied: charset-normalizer<4.0,>=2.0 in /opt/conda/lib/python3.10/site-packages (from aiohttp->datasets) (3.2.0)\nRequirement already satisfied: multidict<7.0,>=4.5 in /opt/conda/lib/python3.10/site-packages (from aiohttp->datasets) (6.0.4)\nRequirement already satisfied: async-timeout<5.0,>=4.0.0a3 in /opt/conda/lib/python3.10/site-packages (from aiohttp->datasets) (4.0.3)\nRequirement already satisfied: yarl<2.0,>=1.0 in /opt/conda/lib/python3.10/site-packages (from aiohttp->datasets) (1.9.2)\nRequirement already satisfied: frozenlist>=1.1.1 in /opt/conda/lib/python3.10/site-packages (from aiohttp->datasets) (1.4.0)\nRequirement already satisfied: aiosignal>=1.1.2 in /opt/conda/lib/python3.10/site-packages (from aiohttp->datasets) (1.3.1)\nRequirement already satisfied: pyparsing!=3.0.5,>=2.0.2 in /opt/conda/lib/python3.10/site-packages (from packaging>=20.0->transformers[torch]) (3.0.9)\nRequirement already satisfied: idna<4,>=2.5 in /opt/conda/lib/python3.10/site-packages (from requests->transformers[torch]) (3.4)\nRequirement already satisfied: urllib3<3,>=1.21.1 in /opt/conda/lib/python3.10/site-packages (from requests->transformers[torch]) (1.26.15)\nRequirement already satisfied: certifi>=2017.4.17 in /opt/conda/lib/python3.10/site-packages (from requests->transformers[torch]) (2023.7.22)\nRequirement already satisfied: greenlet!=0.4.17 in /opt/conda/lib/python3.10/site-packages (from sqlalchemy>=1.3.0->optuna) (2.0.2)\nRequirement already satisfied: sympy in /opt/conda/lib/python3.10/site-packages (from torch!=1.12.0,>=1.10->transformers[torch]) (1.12)\nRequirement already satisfied: networkx in /opt/conda/lib/python3.10/site-packages (from torch!=1.12.0,>=1.10->transformers[torch]) (3.1)\nRequirement already satisfied: jinja2 in /opt/conda/lib/python3.10/site-packages (from torch!=1.12.0,>=1.10->transformers[torch]) (3.1.2)\nRequirement already satisfied: python-dateutil>=2.8.2 in /opt/conda/lib/python3.10/site-packages (from pandas->datasets) (2.8.2)\nRequirement already satisfied: pytz>=2020.1 in /opt/conda/lib/python3.10/site-packages (from pandas->datasets) (2023.3)\nRequirement already satisfied: tzdata>=2022.1 in /opt/conda/lib/python3.10/site-packages (from pandas->datasets) (2023.3)\nRequirement already satisfied: six>=1.5 in /opt/conda/lib/python3.10/site-packages (from python-dateutil>=2.8.2->pandas->datasets) (1.16.0)\nRequirement already satisfied: MarkupSafe>=2.0 in /opt/conda/lib/python3.10/site-packages (from jinja2->torch!=1.12.0,>=1.10->transformers[torch]) (2.1.3)\nRequirement already satisfied: mpmath>=0.19 in /opt/conda/lib/python3.10/site-packages (from sympy->torch!=1.12.0,>=1.10->transformers[torch]) (1.3.0)\nDownloading evaluate-0.4.1-py3-none-any.whl (84 kB)\n\u001b[2K   \u001b[90m━━━━━━━━━━━━━━━━━━━━━━━━━━━━━━━━━━━━━━━━\u001b[0m \u001b[32m84.1/84.1 kB\u001b[0m \u001b[31m3.5 MB/s\u001b[0m eta \u001b[36m0:00:00\u001b[0m\n\u001b[?25hInstalling collected packages: evaluate\nSuccessfully installed evaluate-0.4.1\n",
          "output_type": "stream"
        }
      ]
    },
    {
      "cell_type": "code",
      "source": [
        "!pip install -U datasets"
      ],
      "metadata": {
        "execution": {
          "iopub.status.busy": "2023-12-11T13:16:09.575250Z",
          "iopub.execute_input": "2023-12-11T13:16:09.575548Z",
          "iopub.status.idle": "2023-12-11T13:16:23.035131Z",
          "shell.execute_reply.started": "2023-12-11T13:16:09.575521Z",
          "shell.execute_reply": "2023-12-11T13:16:23.034018Z"
        },
        "trusted": true,
        "id": "PLBAk24UF2Pt",
        "outputId": "5a1f060f-6345-4885-9e53-fe1a0a33207b"
      },
      "execution_count": null,
      "outputs": [
        {
          "name": "stdout",
          "text": "Requirement already satisfied: datasets in /opt/conda/lib/python3.10/site-packages (2.1.0)\nCollecting datasets\n  Obtaining dependency information for datasets from https://files.pythonhosted.org/packages/e2/cf/db41e572d7ed958e8679018f8190438ef700aeb501b62da9e1eed9e4d69a/datasets-2.15.0-py3-none-any.whl.metadata\n  Downloading datasets-2.15.0-py3-none-any.whl.metadata (20 kB)\nRequirement already satisfied: numpy>=1.17 in /opt/conda/lib/python3.10/site-packages (from datasets) (1.24.3)\nRequirement already satisfied: pyarrow>=8.0.0 in /opt/conda/lib/python3.10/site-packages (from datasets) (11.0.0)\nCollecting pyarrow-hotfix (from datasets)\n  Obtaining dependency information for pyarrow-hotfix from https://files.pythonhosted.org/packages/e4/f4/9ec2222f5f5f8ea04f66f184caafd991a39c8782e31f5b0266f101cb68ca/pyarrow_hotfix-0.6-py3-none-any.whl.metadata\n  Downloading pyarrow_hotfix-0.6-py3-none-any.whl.metadata (3.6 kB)\nRequirement already satisfied: dill<0.3.8,>=0.3.0 in /opt/conda/lib/python3.10/site-packages (from datasets) (0.3.7)\nRequirement already satisfied: pandas in /opt/conda/lib/python3.10/site-packages (from datasets) (2.0.3)\nRequirement already satisfied: requests>=2.19.0 in /opt/conda/lib/python3.10/site-packages (from datasets) (2.31.0)\nRequirement already satisfied: tqdm>=4.62.1 in /opt/conda/lib/python3.10/site-packages (from datasets) (4.66.1)\nRequirement already satisfied: xxhash in /opt/conda/lib/python3.10/site-packages (from datasets) (3.4.1)\nRequirement already satisfied: multiprocess in /opt/conda/lib/python3.10/site-packages (from datasets) (0.70.15)\nRequirement already satisfied: fsspec[http]<=2023.10.0,>=2023.1.0 in /opt/conda/lib/python3.10/site-packages (from datasets) (2023.10.0)\nRequirement already satisfied: aiohttp in /opt/conda/lib/python3.10/site-packages (from datasets) (3.8.5)\nCollecting huggingface-hub>=0.18.0 (from datasets)\n  Obtaining dependency information for huggingface-hub>=0.18.0 from https://files.pythonhosted.org/packages/05/09/1945ca6ba3ad8ad6e2872ba682ce8d68c5e63c8e55458ed8ab4885709f1d/huggingface_hub-0.19.4-py3-none-any.whl.metadata\n  Downloading huggingface_hub-0.19.4-py3-none-any.whl.metadata (14 kB)\nRequirement already satisfied: packaging in /opt/conda/lib/python3.10/site-packages (from datasets) (21.3)\nRequirement already satisfied: pyyaml>=5.1 in /opt/conda/lib/python3.10/site-packages (from datasets) (6.0.1)\nRequirement already satisfied: attrs>=17.3.0 in /opt/conda/lib/python3.10/site-packages (from aiohttp->datasets) (23.1.0)\nRequirement already satisfied: charset-normalizer<4.0,>=2.0 in /opt/conda/lib/python3.10/site-packages (from aiohttp->datasets) (3.2.0)\nRequirement already satisfied: multidict<7.0,>=4.5 in /opt/conda/lib/python3.10/site-packages (from aiohttp->datasets) (6.0.4)\nRequirement already satisfied: async-timeout<5.0,>=4.0.0a3 in /opt/conda/lib/python3.10/site-packages (from aiohttp->datasets) (4.0.3)\nRequirement already satisfied: yarl<2.0,>=1.0 in /opt/conda/lib/python3.10/site-packages (from aiohttp->datasets) (1.9.2)\nRequirement already satisfied: frozenlist>=1.1.1 in /opt/conda/lib/python3.10/site-packages (from aiohttp->datasets) (1.4.0)\nRequirement already satisfied: aiosignal>=1.1.2 in /opt/conda/lib/python3.10/site-packages (from aiohttp->datasets) (1.3.1)\nRequirement already satisfied: filelock in /opt/conda/lib/python3.10/site-packages (from huggingface-hub>=0.18.0->datasets) (3.12.2)\nRequirement already satisfied: typing-extensions>=3.7.4.3 in /opt/conda/lib/python3.10/site-packages (from huggingface-hub>=0.18.0->datasets) (4.5.0)\nRequirement already satisfied: pyparsing!=3.0.5,>=2.0.2 in /opt/conda/lib/python3.10/site-packages (from packaging->datasets) (3.0.9)\nRequirement already satisfied: idna<4,>=2.5 in /opt/conda/lib/python3.10/site-packages (from requests>=2.19.0->datasets) (3.4)\nRequirement already satisfied: urllib3<3,>=1.21.1 in /opt/conda/lib/python3.10/site-packages (from requests>=2.19.0->datasets) (1.26.15)\nRequirement already satisfied: certifi>=2017.4.17 in /opt/conda/lib/python3.10/site-packages (from requests>=2.19.0->datasets) (2023.7.22)\nRequirement already satisfied: python-dateutil>=2.8.2 in /opt/conda/lib/python3.10/site-packages (from pandas->datasets) (2.8.2)\nRequirement already satisfied: pytz>=2020.1 in /opt/conda/lib/python3.10/site-packages (from pandas->datasets) (2023.3)\nRequirement already satisfied: tzdata>=2022.1 in /opt/conda/lib/python3.10/site-packages (from pandas->datasets) (2023.3)\nRequirement already satisfied: six>=1.5 in /opt/conda/lib/python3.10/site-packages (from python-dateutil>=2.8.2->pandas->datasets) (1.16.0)\nDownloading datasets-2.15.0-py3-none-any.whl (521 kB)\n\u001b[2K   \u001b[90m━━━━━━━━━━━━━━━━━━━━━━━━━━━━━━━━━━━━━━━━\u001b[0m \u001b[32m521.2/521.2 kB\u001b[0m \u001b[31m17.8 MB/s\u001b[0m eta \u001b[36m0:00:00\u001b[0m\n\u001b[?25hDownloading huggingface_hub-0.19.4-py3-none-any.whl (311 kB)\n\u001b[2K   \u001b[90m━━━━━━━━━━━━━━━━━━━━━━━━━━━━━━━━━━━━━━━━\u001b[0m \u001b[32m311.7/311.7 kB\u001b[0m \u001b[31m32.6 MB/s\u001b[0m eta \u001b[36m0:00:00\u001b[0m\n\u001b[?25hDownloading pyarrow_hotfix-0.6-py3-none-any.whl (7.9 kB)\nInstalling collected packages: pyarrow-hotfix, huggingface-hub, datasets\n  Attempting uninstall: huggingface-hub\n    Found existing installation: huggingface-hub 0.17.3\n    Uninstalling huggingface-hub-0.17.3:\n      Successfully uninstalled huggingface-hub-0.17.3\n  Attempting uninstall: datasets\n    Found existing installation: datasets 2.1.0\n    Uninstalling datasets-2.1.0:\n      Successfully uninstalled datasets-2.1.0\n\u001b[31mERROR: pip's dependency resolver does not currently take into account all the packages that are installed. This behaviour is the source of the following dependency conflicts.\ntokenizers 0.14.1 requires huggingface_hub<0.18,>=0.16.4, but you have huggingface-hub 0.19.4 which is incompatible.\u001b[0m\u001b[31m\n\u001b[0mSuccessfully installed datasets-2.15.0 huggingface-hub-0.19.4 pyarrow-hotfix-0.6\n",
          "output_type": "stream"
        }
      ]
    },
    {
      "cell_type": "code",
      "source": [
        "import pandas as pd\n",
        "import numpy as np\n",
        "import json\n",
        "from joblib import dump, load\n",
        "\n",
        "import os\n",
        "import random\n",
        "from tqdm.notebook  import tqdm\n",
        "\n",
        "import torch\n",
        "from torch.optim import AdamW\n",
        "from torch.utils.data import DataLoader\n",
        "\n",
        "from transformers import (AutoConfig,\n",
        "                          AutoTokenizer,\n",
        "                          DefaultDataCollator,\n",
        "                          AutoModelForQuestionAnswering,\n",
        "                          TrainingArguments,\n",
        "                          Trainer,\n",
        "                          default_data_collator,\n",
        "                          get_scheduler)\n",
        "\n",
        "from datasets import load_dataset\n",
        "import evaluate\n",
        "import collections\n",
        "import optuna"
      ],
      "metadata": {
        "id": "RENTwnk2Fk-e",
        "execution": {
          "iopub.status.busy": "2023-12-11T13:16:23.036686Z",
          "iopub.execute_input": "2023-12-11T13:16:23.037102Z",
          "iopub.status.idle": "2023-12-11T13:16:41.822202Z",
          "shell.execute_reply.started": "2023-12-11T13:16:23.037062Z",
          "shell.execute_reply": "2023-12-11T13:16:41.821205Z"
        },
        "trusted": true,
        "outputId": "427851cd-cbc3-4dbf-a0f3-8a3eafe26df4"
      },
      "execution_count": null,
      "outputs": [
        {
          "name": "stderr",
          "text": "/opt/conda/lib/python3.10/site-packages/scipy/__init__.py:146: UserWarning: A NumPy version >=1.16.5 and <1.23.0 is required for this version of SciPy (detected version 1.24.3\n  warnings.warn(f\"A NumPy version >={np_minversion} and <{np_maxversion}\"\n",
          "output_type": "stream"
        }
      ]
    },
    {
      "cell_type": "code",
      "source": [
        "def seed_everything(seed):\n",
        "  random.seed(seed)\n",
        "  os.environ['PYTHONHASHSEED'] = str(seed)\n",
        "  np.random.seed(seed)\n",
        "  torch.manual_seed(seed)\n",
        "  torch.cuda.manual_seed(seed)\n",
        "  torch.backends.cudnn.deterministic = True\n",
        "  torch.backends.cudnn.benchmark = True\n",
        "\n",
        "seed_everything(42)\n",
        "os.environ[\"PYTORCH_CUDA_ALLOC_CONF\"] = \"max_split_size_mb:32\""
      ],
      "metadata": {
        "id": "6o1yiZhmFt1E",
        "execution": {
          "iopub.status.busy": "2023-12-11T13:16:41.824205Z",
          "iopub.execute_input": "2023-12-11T13:16:41.824765Z",
          "iopub.status.idle": "2023-12-11T13:16:41.836158Z",
          "shell.execute_reply.started": "2023-12-11T13:16:41.824735Z",
          "shell.execute_reply": "2023-12-11T13:16:41.834771Z"
        },
        "trusted": true
      },
      "execution_count": null,
      "outputs": []
    },
    {
      "cell_type": "code",
      "source": [
        "dataset = load_dataset(path='/kaggle/input/aiconnect-mrc',data_files='./custom_data.json', split='train')\n",
        "dataset"
      ],
      "metadata": {
        "id": "B9pIwgBNJgBY",
        "outputId": "f35a5dfd-25dd-4642-b9e0-466aa9d40af5",
        "execution": {
          "iopub.status.busy": "2023-12-11T13:16:41.837303Z",
          "iopub.execute_input": "2023-12-11T13:16:41.837601Z",
          "iopub.status.idle": "2023-12-11T13:16:45.042983Z",
          "shell.execute_reply.started": "2023-12-11T13:16:41.837575Z",
          "shell.execute_reply": "2023-12-11T13:16:45.042072Z"
        },
        "trusted": true,
        "colab": {
          "referenced_widgets": [
            "983ab33e24de4778b604e5ba9d06a090",
            "d45c4aeddf8d4ef08e9506b980da1c36",
            "ba5ef9370a444e409c94562105b47ba9"
          ]
        }
      },
      "execution_count": null,
      "outputs": [
        {
          "output_type": "display_data",
          "data": {
            "text/plain": "Downloading data files:   0%|          | 0/1 [00:00<?, ?it/s]",
            "application/vnd.jupyter.widget-view+json": {
              "version_major": 2,
              "version_minor": 0,
              "model_id": "983ab33e24de4778b604e5ba9d06a090"
            }
          },
          "metadata": {}
        },
        {
          "output_type": "display_data",
          "data": {
            "text/plain": "Extracting data files:   0%|          | 0/1 [00:00<?, ?it/s]",
            "application/vnd.jupyter.widget-view+json": {
              "version_major": 2,
              "version_minor": 0,
              "model_id": "d45c4aeddf8d4ef08e9506b980da1c36"
            }
          },
          "metadata": {}
        },
        {
          "output_type": "display_data",
          "data": {
            "text/plain": "Generating train split: 0 examples [00:00, ? examples/s]",
            "application/vnd.jupyter.widget-view+json": {
              "version_major": 2,
              "version_minor": 0,
              "model_id": "ba5ef9370a444e409c94562105b47ba9"
            }
          },
          "metadata": {}
        },
        {
          "execution_count": 5,
          "output_type": "execute_result",
          "data": {
            "text/plain": "Dataset({\n    features: ['id', 'question', 'context', 'answers'],\n    num_rows: 28024\n})"
          },
          "metadata": {}
        }
      ]
    },
    {
      "cell_type": "code",
      "source": [
        "squad = dataset.train_test_split(.2)\n",
        "squad"
      ],
      "metadata": {
        "id": "Gy8g-MoIJmky",
        "outputId": "074abd0e-e184-4342-c6ab-c1639838c13f",
        "execution": {
          "iopub.status.busy": "2023-12-11T13:16:45.044046Z",
          "iopub.execute_input": "2023-12-11T13:16:45.044327Z",
          "iopub.status.idle": "2023-12-11T13:16:45.125284Z",
          "shell.execute_reply.started": "2023-12-11T13:16:45.044301Z",
          "shell.execute_reply": "2023-12-11T13:16:45.124382Z"
        },
        "trusted": true
      },
      "execution_count": null,
      "outputs": [
        {
          "execution_count": 6,
          "output_type": "execute_result",
          "data": {
            "text/plain": "DatasetDict({\n    train: Dataset({\n        features: ['id', 'question', 'context', 'answers'],\n        num_rows: 22419\n    })\n    test: Dataset({\n        features: ['id', 'question', 'context', 'answers'],\n        num_rows: 5605\n    })\n})"
          },
          "metadata": {}
        }
      ]
    },
    {
      "cell_type": "code",
      "source": [
        "squad[\"train\"][0]"
      ],
      "metadata": {
        "id": "R75DxCw4Jv4l",
        "outputId": "fe381ec3-ee15-4c31-bb9e-43449c13bdc5",
        "execution": {
          "iopub.status.busy": "2023-12-11T13:16:45.127552Z",
          "iopub.execute_input": "2023-12-11T13:16:45.128013Z",
          "iopub.status.idle": "2023-12-11T13:16:45.142994Z",
          "shell.execute_reply.started": "2023-12-11T13:16:45.127978Z",
          "shell.execute_reply": "2023-12-11T13:16:45.142180Z"
        },
        "trusted": true
      },
      "execution_count": null,
      "outputs": [
        {
          "execution_count": 7,
          "output_type": "execute_result",
          "data": {
            "text/plain": "{'id': 'QUES_UniBPiuRnf',\n 'question': '더 나은 삶 지수 중 하나인 공동체 지수에서 어느 나라가 최하위를 기록했니',\n 'context': '경제협력개발기구(OECD)가 발표한 ‘더 나은 삶 지수(Better Life Index, BLI)’ 중 하나인 ‘공동체(Community)’ 지수에서 대한민국은 러시아와 브라질을 포함한 36개 국가 중 최하위를 기록했다. 한국 사회에서 공동체가 파괴되어온 주요인으로 다양한 의견이 개진되었으나, 한국도시의 오래된 특징인 아파트와 고립된 생활 공간, 차도와 인도의 구분이 없는 길과 건물 배치가 이웃 간 소통을 가로막고 갈등이 생겨도 이를 원활하게 해결할 수 없는 환경을 조성했다는 지적이 주목을 받았다(김재형, 2016). 도움이 필요할 때 이웃의 관심과 손길을 기대하기 어려운 환경은 고독사, 아동학대, 가정폭력, 자살 등 다양한 사회문제를 방치하고 악화시키는 데 일조한다. 이러한 공동체 와해와 지역현안 문제를 주민들의 참여를 통해 적극적으로 해결하고자 시행된 정책사업 중 하나가 2010년부터 각 지자체에 본격적으로 도입된 마을 만들기 사업이다. 마을 만들기 사업의 유형은 주체와 내용에 따라 다양한 형태로 발현되지만, 그 핵심은 주민참여를 주요 동력으로 공동의 지역문제와 욕구를 해결하고, 공동체 회복을 통해 주민의 삶의 질을 향상시킨다는 정책적 목적으로 귀결된다(박선희, 2014).',\n 'answers': {'answer_start': [84], 'text': ['대한민국']}}"
          },
          "metadata": {}
        }
      ]
    },
    {
      "cell_type": "code",
      "source": [
        "print(\"Context: \", squad[\"train\"][0][\"context\"])\n",
        "print(\"Question: \", squad[\"train\"][0][\"question\"])\n",
        "print(\"Answer: \", squad[\"train\"][0][\"answers\"])"
      ],
      "metadata": {
        "id": "B-PBRXQ8Jxwy",
        "outputId": "9a5ec23e-1e9c-4dfa-9572-347082bc1677",
        "execution": {
          "iopub.status.busy": "2023-12-11T13:16:45.144189Z",
          "iopub.execute_input": "2023-12-11T13:16:45.144459Z",
          "iopub.status.idle": "2023-12-11T13:16:45.152719Z",
          "shell.execute_reply.started": "2023-12-11T13:16:45.144435Z",
          "shell.execute_reply": "2023-12-11T13:16:45.151836Z"
        },
        "trusted": true
      },
      "execution_count": null,
      "outputs": [
        {
          "name": "stdout",
          "text": "Context:  경제협력개발기구(OECD)가 발표한 ‘더 나은 삶 지수(Better Life Index, BLI)’ 중 하나인 ‘공동체(Community)’ 지수에서 대한민국은 러시아와 브라질을 포함한 36개 국가 중 최하위를 기록했다. 한국 사회에서 공동체가 파괴되어온 주요인으로 다양한 의견이 개진되었으나, 한국도시의 오래된 특징인 아파트와 고립된 생활 공간, 차도와 인도의 구분이 없는 길과 건물 배치가 이웃 간 소통을 가로막고 갈등이 생겨도 이를 원활하게 해결할 수 없는 환경을 조성했다는 지적이 주목을 받았다(김재형, 2016). 도움이 필요할 때 이웃의 관심과 손길을 기대하기 어려운 환경은 고독사, 아동학대, 가정폭력, 자살 등 다양한 사회문제를 방치하고 악화시키는 데 일조한다. 이러한 공동체 와해와 지역현안 문제를 주민들의 참여를 통해 적극적으로 해결하고자 시행된 정책사업 중 하나가 2010년부터 각 지자체에 본격적으로 도입된 마을 만들기 사업이다. 마을 만들기 사업의 유형은 주체와 내용에 따라 다양한 형태로 발현되지만, 그 핵심은 주민참여를 주요 동력으로 공동의 지역문제와 욕구를 해결하고, 공동체 회복을 통해 주민의 삶의 질을 향상시킨다는 정책적 목적으로 귀결된다(박선희, 2014).\nQuestion:  더 나은 삶 지수 중 하나인 공동체 지수에서 어느 나라가 최하위를 기록했니\nAnswer:  {'answer_start': [84], 'text': ['대한민국']}\n",
          "output_type": "stream"
        }
      ]
    },
    {
      "cell_type": "code",
      "source": [
        "train_dataset = squad[\"train\"]\n",
        "valid_dataset = squad[\"test\"]"
      ],
      "metadata": {
        "id": "bCHRJqs143XD",
        "execution": {
          "iopub.status.busy": "2023-12-11T13:16:45.153867Z",
          "iopub.execute_input": "2023-12-11T13:16:45.154654Z",
          "iopub.status.idle": "2023-12-11T13:16:45.163151Z",
          "shell.execute_reply.started": "2023-12-11T13:16:45.154611Z",
          "shell.execute_reply": "2023-12-11T13:16:45.162477Z"
        },
        "trusted": true
      },
      "execution_count": null,
      "outputs": []
    },
    {
      "cell_type": "code",
      "source": [
        "# select samples\n",
        "train_dataset = train_dataset.select(range(1000))\n",
        "valid_dataset = valid_dataset.select(range(100))"
      ],
      "metadata": {
        "id": "Iky6NOK47E8g",
        "execution": {
          "iopub.status.busy": "2023-12-11T13:16:45.166549Z",
          "iopub.execute_input": "2023-12-11T13:16:45.166861Z",
          "iopub.status.idle": "2023-12-11T13:16:45.177713Z",
          "shell.execute_reply.started": "2023-12-11T13:16:45.166833Z",
          "shell.execute_reply": "2023-12-11T13:16:45.176766Z"
        },
        "trusted": true
      },
      "execution_count": null,
      "outputs": []
    },
    {
      "cell_type": "code",
      "source": [
        "MODEL_NAME ='monologg/kobigbird-bert-base'\n",
        "config = AutoConfig.from_pretrained(MODEL_NAME)\n",
        "tokenizer = AutoTokenizer.from_pretrained(MODEL_NAME)"
      ],
      "metadata": {
        "id": "jAz6gw_xJ2iD",
        "execution": {
          "iopub.status.busy": "2023-12-11T13:16:45.178833Z",
          "iopub.execute_input": "2023-12-11T13:16:45.179604Z",
          "iopub.status.idle": "2023-12-11T13:16:46.403904Z",
          "shell.execute_reply.started": "2023-12-11T13:16:45.179577Z",
          "shell.execute_reply": "2023-12-11T13:16:46.403025Z"
        },
        "trusted": true,
        "outputId": "40aed5d7-359d-4de2-f268-38223176c12d",
        "colab": {
          "referenced_widgets": [
            "61f285c984fe413bade18edb74a36599",
            "a38adfacdef04d12bea4ac7e2b400e9c",
            "5159e442effc4194af53ef22294d7c10",
            "72249b7e713b41e1829b09b6d3d8ad78",
            "816657cb67744477b4f0fa2158338fdb"
          ]
        }
      },
      "execution_count": null,
      "outputs": [
        {
          "output_type": "display_data",
          "data": {
            "text/plain": "config.json:   0%|          | 0.00/870 [00:00<?, ?B/s]",
            "application/vnd.jupyter.widget-view+json": {
              "version_major": 2,
              "version_minor": 0,
              "model_id": "61f285c984fe413bade18edb74a36599"
            }
          },
          "metadata": {}
        },
        {
          "output_type": "display_data",
          "data": {
            "text/plain": "tokenizer_config.json:   0%|          | 0.00/373 [00:00<?, ?B/s]",
            "application/vnd.jupyter.widget-view+json": {
              "version_major": 2,
              "version_minor": 0,
              "model_id": "a38adfacdef04d12bea4ac7e2b400e9c"
            }
          },
          "metadata": {}
        },
        {
          "output_type": "display_data",
          "data": {
            "text/plain": "vocab.txt:   0%|          | 0.00/241k [00:00<?, ?B/s]",
            "application/vnd.jupyter.widget-view+json": {
              "version_major": 2,
              "version_minor": 0,
              "model_id": "5159e442effc4194af53ef22294d7c10"
            }
          },
          "metadata": {}
        },
        {
          "output_type": "display_data",
          "data": {
            "text/plain": "tokenizer.json:   0%|          | 0.00/492k [00:00<?, ?B/s]",
            "application/vnd.jupyter.widget-view+json": {
              "version_major": 2,
              "version_minor": 0,
              "model_id": "72249b7e713b41e1829b09b6d3d8ad78"
            }
          },
          "metadata": {}
        },
        {
          "output_type": "display_data",
          "data": {
            "text/plain": "special_tokens_map.json:   0%|          | 0.00/169 [00:00<?, ?B/s]",
            "application/vnd.jupyter.widget-view+json": {
              "version_major": 2,
              "version_minor": 0,
              "model_id": "816657cb67744477b4f0fa2158338fdb"
            }
          },
          "metadata": {}
        }
      ]
    },
    {
      "cell_type": "code",
      "source": [
        "max_length = 1024\n",
        "stride = 128\n",
        "\n",
        "def preprocess_training_function(examples):\n",
        "    questions = [q.strip() for q in examples[\"question\"]]\n",
        "    inputs = tokenizer(\n",
        "        questions,\n",
        "        examples[\"context\"],\n",
        "        max_length=max_length,\n",
        "        truncation=\"only_second\",\n",
        "        stride = stride,\n",
        "        return_offsets_mapping=True,\n",
        "        return_overflowing_tokens=True,\n",
        "        padding=\"max_length\",\n",
        "    )\n",
        "\n",
        "    #the offset mapping gives us a tuple indicating the sub-token’s start position and end position relative to the original token it was split from\n",
        "    offset_mapping = inputs.pop(\"offset_mapping\")\n",
        "    sample_map = inputs.pop(\"overflow_to_sample_mapping\")\n",
        "    answers = examples[\"answers\"]\n",
        "    start_positions = []\n",
        "    end_positions = []\n",
        "\n",
        "    for i, offset in enumerate(offset_mapping):\n",
        "      sample_idx = sample_map[i]\n",
        "      answer = answers[sample_idx]\n",
        "      start_char = answer[\"answer_start\"][0]\n",
        "      end_char = answer[\"answer_start\"][0] + len(answer[\"text\"][0])\n",
        "      sequence_ids = inputs.sequence_ids(i)\n",
        "\n",
        "      # Find the start and end of the context\n",
        "      idx = 0\n",
        "      while sequence_ids[idx] != 1:\n",
        "          idx += 1\n",
        "      context_start = idx\n",
        "      while sequence_ids[idx] == 1:\n",
        "          idx += 1\n",
        "      context_end = idx - 1\n",
        "\n",
        "      # If the answer is not fully inside the context, label it (0, 0)\n",
        "      if offset[context_start][0] > end_char or offset[context_end][1] < start_char:\n",
        "          start_positions.append(0)\n",
        "          end_positions.append(0)\n",
        "      else:\n",
        "          # Otherwise it's the start and end token positions\n",
        "          idx = context_start\n",
        "          while idx <= context_end and offset[idx][0] <= start_char:\n",
        "              idx += 1\n",
        "          start_positions.append(idx - 1)\n",
        "\n",
        "          idx = context_end\n",
        "          while idx >= context_start and offset[idx][1] >= end_char:\n",
        "              idx -= 1\n",
        "          end_positions.append(idx + 1)\n",
        "\n",
        "    inputs[\"start_positions\"] = start_positions\n",
        "    inputs[\"end_positions\"] = end_positions\n",
        "\n",
        "    return inputs"
      ],
      "metadata": {
        "id": "WDLmKcdOJ4Wh",
        "execution": {
          "iopub.status.busy": "2023-12-11T13:16:46.405072Z",
          "iopub.execute_input": "2023-12-11T13:16:46.405358Z",
          "iopub.status.idle": "2023-12-11T13:16:46.416228Z",
          "shell.execute_reply.started": "2023-12-11T13:16:46.405332Z",
          "shell.execute_reply": "2023-12-11T13:16:46.415234Z"
        },
        "trusted": true
      },
      "execution_count": null,
      "outputs": []
    },
    {
      "cell_type": "code",
      "source": [
        "def preprocess_validation_function(exmaples):\n",
        "    questions = [q.strip() for q in exmaples[\"question\"]]\n",
        "    inputs = tokenizer(\n",
        "        questions,\n",
        "        exmaples[\"context\"],\n",
        "        max_length=max_length,\n",
        "        truncation=\"only_second\",\n",
        "        stride=stride,\n",
        "        return_overflowing_tokens=True,\n",
        "        return_offsets_mapping=True,\n",
        "        padding=\"max_length\",\n",
        "    )\n",
        "\n",
        "    sample_map = inputs.pop(\"overflow_to_sample_mapping\")\n",
        "    example_ids = []\n",
        "\n",
        "    for i in range(len(inputs[\"input_ids\"])):\n",
        "        sample_idx = sample_map[i]\n",
        "        example_ids.append(exmaples[\"id\"][sample_idx])\n",
        "\n",
        "        sequence_ids = inputs.sequence_ids(i)\n",
        "        offset = inputs[\"offset_mapping\"][i]\n",
        "        inputs[\"offset_mapping\"][i] = [\n",
        "            o if sequence_ids[k] == 1 else None for k, o in enumerate(offset)\n",
        "        ]\n",
        "\n",
        "    inputs[\"example_id\"] = example_ids\n",
        "    return inputs"
      ],
      "metadata": {
        "id": "LmFIds3Jp26L",
        "execution": {
          "iopub.status.busy": "2023-12-11T13:16:46.417423Z",
          "iopub.execute_input": "2023-12-11T13:16:46.418144Z",
          "iopub.status.idle": "2023-12-11T13:16:46.429598Z",
          "shell.execute_reply.started": "2023-12-11T13:16:46.418110Z",
          "shell.execute_reply": "2023-12-11T13:16:46.428818Z"
        },
        "trusted": true
      },
      "execution_count": null,
      "outputs": []
    },
    {
      "cell_type": "code",
      "source": [
        "train_set = train_dataset.map(preprocess_training_function,\n",
        "                              batched=True,\n",
        "                              remove_columns= train_dataset.column_names,\n",
        "                                    load_from_cache_file=False,)\n",
        "\n",
        "valid_set = valid_dataset.map(preprocess_validation_function,\n",
        "                              batched=True,\n",
        "                              remove_columns= valid_dataset.column_names,\n",
        "                                    load_from_cache_file=False,)"
      ],
      "metadata": {
        "id": "T40CU21k9Jc5",
        "outputId": "1045a9d4-80ec-4e81-dff6-79161db4436a",
        "execution": {
          "iopub.status.busy": "2023-12-11T13:16:46.430809Z",
          "iopub.execute_input": "2023-12-11T13:16:46.431380Z",
          "iopub.status.idle": "2023-12-11T13:16:47.872939Z",
          "shell.execute_reply.started": "2023-12-11T13:16:46.431354Z",
          "shell.execute_reply": "2023-12-11T13:16:47.871986Z"
        },
        "trusted": true,
        "colab": {
          "referenced_widgets": [
            "4901a94a7cee461d81a80967478743d2",
            "c7161d3c7bda46e68e28c4a2172721c0"
          ]
        }
      },
      "execution_count": null,
      "outputs": [
        {
          "output_type": "display_data",
          "data": {
            "text/plain": "Map:   0%|          | 0/1000 [00:00<?, ? examples/s]",
            "application/vnd.jupyter.widget-view+json": {
              "version_major": 2,
              "version_minor": 0,
              "model_id": "4901a94a7cee461d81a80967478743d2"
            }
          },
          "metadata": {}
        },
        {
          "output_type": "display_data",
          "data": {
            "text/plain": "Map:   0%|          | 0/100 [00:00<?, ? examples/s]",
            "application/vnd.jupyter.widget-view+json": {
              "version_major": 2,
              "version_minor": 0,
              "model_id": "c7161d3c7bda46e68e28c4a2172721c0"
            }
          },
          "metadata": {}
        }
      ]
    },
    {
      "cell_type": "code",
      "source": [
        "train_set"
      ],
      "metadata": {
        "id": "nzDNzq0X-QIm",
        "outputId": "92c7dd30-c7a3-4212-d126-a54f88e5cd02",
        "execution": {
          "iopub.status.busy": "2023-12-11T13:16:47.874292Z",
          "iopub.execute_input": "2023-12-11T13:16:47.874607Z",
          "iopub.status.idle": "2023-12-11T13:16:47.881892Z",
          "shell.execute_reply.started": "2023-12-11T13:16:47.874578Z",
          "shell.execute_reply": "2023-12-11T13:16:47.880470Z"
        },
        "trusted": true
      },
      "execution_count": null,
      "outputs": [
        {
          "execution_count": 15,
          "output_type": "execute_result",
          "data": {
            "text/plain": "Dataset({\n    features: ['input_ids', 'token_type_ids', 'attention_mask', 'start_positions', 'end_positions'],\n    num_rows: 1000\n})"
          },
          "metadata": {}
        }
      ]
    },
    {
      "cell_type": "code",
      "source": [
        "valid_set"
      ],
      "metadata": {
        "id": "GygZNDie-RW0",
        "outputId": "4b63bd37-6f9f-4430-bdc8-bfac9a85a650",
        "execution": {
          "iopub.status.busy": "2023-12-11T13:16:47.883205Z",
          "iopub.execute_input": "2023-12-11T13:16:47.883479Z",
          "iopub.status.idle": "2023-12-11T13:16:47.901741Z",
          "shell.execute_reply.started": "2023-12-11T13:16:47.883455Z",
          "shell.execute_reply": "2023-12-11T13:16:47.901007Z"
        },
        "trusted": true
      },
      "execution_count": null,
      "outputs": [
        {
          "execution_count": 16,
          "output_type": "execute_result",
          "data": {
            "text/plain": "Dataset({\n    features: ['input_ids', 'token_type_ids', 'attention_mask', 'offset_mapping', 'example_id'],\n    num_rows: 100\n})"
          },
          "metadata": {}
        }
      ]
    },
    {
      "cell_type": "code",
      "source": [
        "valid_modelset =valid_set.remove_columns([\"example_id\", \"offset_mapping\"])"
      ],
      "metadata": {
        "id": "urFNBYl0t4S2",
        "execution": {
          "iopub.status.busy": "2023-12-11T13:16:47.902867Z",
          "iopub.execute_input": "2023-12-11T13:16:47.903139Z",
          "iopub.status.idle": "2023-12-11T13:16:47.912462Z",
          "shell.execute_reply.started": "2023-12-11T13:16:47.903115Z",
          "shell.execute_reply": "2023-12-11T13:16:47.911598Z"
        },
        "trusted": true
      },
      "execution_count": null,
      "outputs": []
    },
    {
      "cell_type": "code",
      "source": [
        "train_set.set_format(\"torch\")\n",
        "valid_modelset.set_format(\"torch\")"
      ],
      "metadata": {
        "id": "4CNiMiBw-eIU",
        "execution": {
          "iopub.status.busy": "2023-12-11T13:16:47.913639Z",
          "iopub.execute_input": "2023-12-11T13:16:47.914342Z",
          "iopub.status.idle": "2023-12-11T13:16:47.923024Z",
          "shell.execute_reply.started": "2023-12-11T13:16:47.914317Z",
          "shell.execute_reply": "2023-12-11T13:16:47.922155Z"
        },
        "trusted": true
      },
      "execution_count": null,
      "outputs": []
    },
    {
      "cell_type": "code",
      "source": [
        "def get_loader(batch_size):\n",
        "  trainloader = DataLoader(train_set, shuffle=True, batch_size=batch_size, collate_fn=default_data_collator)\n",
        "  validloader = DataLoader(valid_modelset, shuffle=False, batch_size=batch_size, collate_fn=default_data_collator)\n",
        "  return trainloader, validloader"
      ],
      "metadata": {
        "id": "bjMqnrQE9coD",
        "execution": {
          "iopub.status.busy": "2023-12-11T13:16:47.924149Z",
          "iopub.execute_input": "2023-12-11T13:16:47.924405Z",
          "iopub.status.idle": "2023-12-11T13:16:47.933330Z",
          "shell.execute_reply.started": "2023-12-11T13:16:47.924382Z",
          "shell.execute_reply": "2023-12-11T13:16:47.932496Z"
        },
        "trusted": true
      },
      "execution_count": null,
      "outputs": []
    },
    {
      "cell_type": "code",
      "source": [
        "metric = evaluate.load(\"squad\")"
      ],
      "metadata": {
        "id": "mqYA5Cpc-oKV",
        "execution": {
          "iopub.status.busy": "2023-12-11T13:16:47.934303Z",
          "iopub.execute_input": "2023-12-11T13:16:47.934626Z",
          "iopub.status.idle": "2023-12-11T13:16:49.043533Z",
          "shell.execute_reply.started": "2023-12-11T13:16:47.934600Z",
          "shell.execute_reply": "2023-12-11T13:16:49.042653Z"
        },
        "trusted": true,
        "outputId": "c19f90e1-16f8-421c-d80d-2b8d23c55ddd",
        "colab": {
          "referenced_widgets": [
            "a0bc9954979e40a19ea004a691888561",
            "03381a0211f74f61b8bb058668c2f74e"
          ]
        }
      },
      "execution_count": null,
      "outputs": [
        {
          "output_type": "display_data",
          "data": {
            "text/plain": "Downloading builder script:   0%|          | 0.00/4.53k [00:00<?, ?B/s]",
            "application/vnd.jupyter.widget-view+json": {
              "version_major": 2,
              "version_minor": 0,
              "model_id": "a0bc9954979e40a19ea004a691888561"
            }
          },
          "metadata": {}
        },
        {
          "output_type": "display_data",
          "data": {
            "text/plain": "Downloading extra modules:   0%|          | 0.00/3.32k [00:00<?, ?B/s]",
            "application/vnd.jupyter.widget-view+json": {
              "version_major": 2,
              "version_minor": 0,
              "model_id": "03381a0211f74f61b8bb058668c2f74e"
            }
          },
          "metadata": {}
        }
      ]
    },
    {
      "cell_type": "code",
      "source": [
        "n_best = 20\n",
        "max_answer_length = 30\n",
        "\n",
        "def compute_metrics(start_logits, end_logits,features, examples):\n",
        "    example_to_features = collections.defaultdict(list)\n",
        "    for idx, feature in enumerate(features):\n",
        "        example_to_features[feature[\"example_id\"]].append(idx)\n",
        "\n",
        "    predicted_answers = []\n",
        "    for example in tqdm(examples):\n",
        "        example_id = example[\"id\"]\n",
        "        context = example[\"context\"]\n",
        "        answers = []\n",
        "\n",
        "        for feature_index in example_to_features[example_id]:\n",
        "            start_logit = start_logits[feature_index]\n",
        "            end_logit = end_logits[feature_index]\n",
        "            offsets = features[feature_index][\"offset_mapping\"]\n",
        "\n",
        "            start_indexes = np.argsort(start_logit)[-1 : -n_best - 1 : -1].tolist()\n",
        "            end_indexes = np.argsort(end_logit)[-1 : -n_best - 1 : -1].tolist()\n",
        "            for start_index in start_indexes:\n",
        "                for end_index in end_indexes:\n",
        "                    # Skip answers that are not fully in the context\n",
        "                    if offsets[start_index] is None or offsets[end_index] is None:\n",
        "                        continue\n",
        "                    if (end_index < start_index\n",
        "                        or end_index - start_index +1 > max_answer_length):\n",
        "                      continue\n",
        "                    answer = {\n",
        "                        \"text\": context[offsets[start_index][0] : offsets[end_index][1]],\n",
        "                        \"logit_score\": start_logit[start_index] + end_logit[end_index],}\n",
        "                    answers.append(answer)\n",
        "\n",
        "        if len(answers) > 0:\n",
        "            best_answer = max(answers, key=lambda x: x[\"logit_score\"])\n",
        "            predicted_answers.append({\"id\": example_id, \"prediction_text\": best_answer[\"text\"]})\n",
        "        else:\n",
        "            predicted_answers.append({\"id\": example_id, \"prediction_text\": \"\"})\n",
        "    references = [{\"id\": ex[\"id\"], \"answers\": ex[\"answers\"]} for ex in examples]\n",
        "    return metric.compute(predictions=predicted_answers, references=references)"
      ],
      "metadata": {
        "id": "mWzR2--I-tG_",
        "execution": {
          "iopub.status.busy": "2023-12-11T13:16:49.044684Z",
          "iopub.execute_input": "2023-12-11T13:16:49.045048Z",
          "iopub.status.idle": "2023-12-11T13:16:49.056800Z",
          "shell.execute_reply.started": "2023-12-11T13:16:49.045021Z",
          "shell.execute_reply": "2023-12-11T13:16:49.055916Z"
        },
        "trusted": true
      },
      "execution_count": null,
      "outputs": []
    },
    {
      "cell_type": "code",
      "source": [
        "model = AutoModelForQuestionAnswering.from_pretrained(MODEL_NAME)"
      ],
      "metadata": {
        "id": "eW05pImFAPTZ",
        "outputId": "42a2aad1-b152-4a06-e20c-b74f77a98d44",
        "execution": {
          "iopub.status.busy": "2023-12-11T13:16:49.058047Z",
          "iopub.execute_input": "2023-12-11T13:16:49.058829Z",
          "iopub.status.idle": "2023-12-11T13:16:51.997010Z",
          "shell.execute_reply.started": "2023-12-11T13:16:49.058776Z",
          "shell.execute_reply": "2023-12-11T13:16:51.996090Z"
        },
        "trusted": true,
        "colab": {
          "referenced_widgets": [
            "d7db566c35404439b672d5dbe4366819"
          ]
        }
      },
      "execution_count": null,
      "outputs": [
        {
          "output_type": "display_data",
          "data": {
            "text/plain": "model.safetensors:   0%|          | 0.00/458M [00:00<?, ?B/s]",
            "application/vnd.jupyter.widget-view+json": {
              "version_major": 2,
              "version_minor": 0,
              "model_id": "d7db566c35404439b672d5dbe4366819"
            }
          },
          "metadata": {}
        },
        {
          "name": "stderr",
          "text": "Some weights of BigBirdForQuestionAnswering were not initialized from the model checkpoint at monologg/kobigbird-bert-base and are newly initialized: ['qa_classifier.intermediate.dense.weight', 'qa_classifier.output.LayerNorm.bias', 'qa_classifier.output.dense.weight', 'qa_classifier.output.dense.bias', 'qa_classifier.intermediate.dense.bias', 'qa_classifier.output.LayerNorm.weight', 'qa_classifier.qa_outputs.bias', 'qa_classifier.qa_outputs.weight']\nYou should probably TRAIN this model on a down-stream task to be able to use it for predictions and inference.\n",
          "output_type": "stream"
        }
      ]
    },
    {
      "cell_type": "code",
      "source": [
        "accumulation_steps = 8\n",
        "\n",
        "def train(trainloader, model, optimizer, lr_scheduler, device):\n",
        "    model.train()\n",
        "    running_loss = 0.0\n",
        "    for idx, batch in enumerate(trainloader):\n",
        "      batch ={k: v.to(device) for k, v in batch.items()}\n",
        "      outputs = model(**batch)\n",
        "      loss = outputs.loss\n",
        "      running_loss += loss.item()\n",
        "      if (idx +1) % accumulation_steps == 0:\n",
        "          loss.backward()\n",
        "          optimizer.step()\n",
        "          optimizer.zero_grad()\n",
        "          lr_scheduler.step()\n",
        "    train_loss = running_loss / len(trainloader)\n",
        "    return train_loss"
      ],
      "metadata": {
        "id": "356Tp6IM3T4Q",
        "execution": {
          "iopub.status.busy": "2023-12-11T13:16:51.998462Z",
          "iopub.execute_input": "2023-12-11T13:16:51.999142Z",
          "iopub.status.idle": "2023-12-11T13:16:52.005739Z",
          "shell.execute_reply.started": "2023-12-11T13:16:51.999111Z",
          "shell.execute_reply": "2023-12-11T13:16:52.004693Z"
        },
        "trusted": true
      },
      "execution_count": null,
      "outputs": []
    },
    {
      "cell_type": "code",
      "source": [
        "def validate(validloader, model, device):\n",
        "    model.eval()\n",
        "    start_logits =[]\n",
        "    end_logits = []\n",
        "    with torch.no_grad():\n",
        "        for idx, batch in enumerate(validloader):\n",
        "            batch ={k: v.to(device) for k, v in batch.items()}\n",
        "            outputs = model(**batch)\n",
        "\n",
        "            start_logits.append(outputs.start_logits.detach().cpu().numpy())\n",
        "            end_logits.append(outputs.end_logits.detach().cpu().numpy())\n",
        "\n",
        "        start_logits = np.concatenate(start_logits, axis=0)\n",
        "        end_logits = np.concatenate(end_logits, axis=0)\n",
        "        results = compute_metrics(start_logits, end_logits, valid_set, valid_dataset)\n",
        "    return  results[\"exact_match\"], results[\"f1\"]"
      ],
      "metadata": {
        "id": "TmMlev5dnoOs",
        "execution": {
          "iopub.status.busy": "2023-12-11T13:16:52.007129Z",
          "iopub.execute_input": "2023-12-11T13:16:52.007400Z",
          "iopub.status.idle": "2023-12-11T13:16:52.059538Z",
          "shell.execute_reply.started": "2023-12-11T13:16:52.007375Z",
          "shell.execute_reply": "2023-12-11T13:16:52.058739Z"
        },
        "trusted": true
      },
      "execution_count": null,
      "outputs": []
    },
    {
      "cell_type": "code",
      "source": [
        "# Learning_rate=2e-5\n",
        "# Weight_decay =  0.0\n",
        "# num_epochs = 2\n",
        "# Batch_size = 1\n",
        "# accumulation_steps = 32\n",
        "# trainloader, validloader = get_loader(Batch_size)\n",
        "# num_update_steps_per_epoch = len(trainloader)\n",
        "# num_training_steps = num_epochs * num_update_steps_per_epoch\n",
        "\n",
        "# device = torch.device('cuda' if torch.cuda.is_available() else 'cpu')\n",
        "# model = AutoModelForQuestionAnswering.from_pretrained(MODEL_NAME)\n",
        "# model = model.to(device)\n",
        "\n",
        "# optimizer = AdamW(model.parameters(), lr=Learning_rate, weight_decay=Weight_decay)\n",
        "# lr_scheduler = get_scheduler(\n",
        "#   'linear',\n",
        "#   optimizer=optimizer,\n",
        "#   num_warmup_steps=0,\n",
        "#   num_training_steps=num_training_steps,\n",
        "#   )\n",
        "# for epoch in tqdm(range(1, num_epochs+1)):\n",
        "#     train_loss = train(trainloader, model, optimizer, lr_scheduler, device)\n",
        "#     em, f1 = validate(validloader, model, device)\n",
        "#     print(\"Epoch:{:1d}/{:1d}, Train Loss:{:.4f}, EM:{:.2f}, F1:{:.2f}\".format(epoch, num_epochs, train_loss, em, f1 ))"
      ],
      "metadata": {
        "execution": {
          "iopub.status.busy": "2023-12-11T13:16:52.060643Z",
          "iopub.execute_input": "2023-12-11T13:16:52.061012Z",
          "iopub.status.idle": "2023-12-11T13:16:52.069945Z",
          "shell.execute_reply.started": "2023-12-11T13:16:52.060979Z",
          "shell.execute_reply": "2023-12-11T13:16:52.069068Z"
        },
        "trusted": true,
        "id": "Yhncv7A3F2P5"
      },
      "execution_count": null,
      "outputs": []
    },
    {
      "cell_type": "code",
      "source": [
        "torch.cuda.empty_cache()\n",
        "\n",
        "def train_mrc(trial):\n",
        "    Learning_rate=trial.suggest_float('learning_rate', 5e-7, 5e-3, log=True)\n",
        "    Weight_decay = trial.suggest_float('weight_decay', 0.0, 0.3)\n",
        "    num_epochs = 10\n",
        "    Batch_size = 1\n",
        "    accumulation_steps = 32\n",
        "    trainloader, validloader = get_loader(Batch_size)\n",
        "    num_update_steps_per_epoch = len(trainloader)\n",
        "    num_training_steps = num_epochs * num_update_steps_per_epoch\n",
        "\n",
        "    device = torch.device('cuda' if torch.cuda.is_available() else 'cpu')\n",
        "    model = AutoModelForQuestionAnswering.from_pretrained(MODEL_NAME)\n",
        "    model = model.to(device)\n",
        "\n",
        "    optimizer = AdamW(model.parameters(), lr=Learning_rate, weight_decay=Weight_decay)\n",
        "    lr_scheduler = get_scheduler(\n",
        "      trial.suggest_categorical(\"SchedulerType\", ['linear', 'cosine', 'constant']),\n",
        "      optimizer=optimizer,\n",
        "      num_warmup_steps=0,\n",
        "      num_training_steps=num_training_steps,\n",
        "      )\n",
        "    for epoch in tqdm(range(1, num_epochs+1)):\n",
        "        train_loss = train(trainloader, model, optimizer, lr_scheduler, device)\n",
        "        em, f1 = validate(validloader, model, device)\n",
        "        print(\"Epoch:{:1d}/{:1d}, Train Loss:{:.4f}, EM:{:.2f}, F1:{:.2f}\".format(epoch, num_epochs, train_loss, em, f1 ))\n",
        "\n",
        "    return em\n"
      ],
      "metadata": {
        "id": "ioW6L5W944Ou",
        "execution": {
          "iopub.status.busy": "2023-12-11T13:16:52.071063Z",
          "iopub.execute_input": "2023-12-11T13:16:52.071377Z",
          "iopub.status.idle": "2023-12-11T13:16:52.083874Z",
          "shell.execute_reply.started": "2023-12-11T13:16:52.071353Z",
          "shell.execute_reply": "2023-12-11T13:16:52.083068Z"
        },
        "trusted": true
      },
      "execution_count": null,
      "outputs": []
    },
    {
      "cell_type": "code",
      "source": [
        "study = optuna.create_study(sampler=optuna.samplers.TPESampler(), direction=\"maximize\")\n",
        "study.optimize(train_mrc, n_trials=20)\n",
        "dump(study, '/kaggle/working/aiconnect_mrc_optuna.pkl')"
      ],
      "metadata": {
        "id": "KGG2E8_J5CS6",
        "outputId": "d6ba0b3a-3f87-4115-c152-d47da031db68",
        "execution": {
          "iopub.status.busy": "2023-12-11T13:16:52.084774Z",
          "iopub.execute_input": "2023-12-11T13:16:52.085088Z",
          "iopub.status.idle": "2023-12-11T22:24:48.833783Z",
          "shell.execute_reply.started": "2023-12-11T13:16:52.085064Z",
          "shell.execute_reply": "2023-12-11T22:24:48.832989Z"
        },
        "trusted": true,
        "colab": {
          "referenced_widgets": [
            "e8759d961c8740f9be2abef68f1e5f28",
            "d4be3cfe323943a88d8c455b8063989a",
            "00c6fb2793094157b3acc4560efdc983",
            "d65a4abaf5b840c999245cb683a43c17",
            "7ab7ae9b15534ff2b8cdacff7f7a0d28",
            "28477051836d4b1da2f854f61657c044",
            "225529d564ef49e2a568a82d3edea49c",
            "0236c058769146749a733ebe63a051e8",
            "c656fced83fb4e3183c6fff16f3d29c0",
            "6a72bb5735734cbf9cc74fcbef0f851a",
            "585eec103b914362b9d4384468cb9539",
            "0d76d87b7ebd4bc7bca948beee2bd7a2",
            "924b2340c89e43d2bb11376f1037b8bf",
            "168231babf5c47789d368f4c242430c3",
            "b6498eca3e2542718aaaa9d2cd70ac43",
            "06cdfa8bfa0f41a191725f111ce40c15",
            "7b39e00c5ad849ad9f6a4aa4a012f96e",
            "d9a92287e4e84101b4d583dd99326ee8",
            "48add301739a410eb9449071d00771ed",
            "fd1e30f0c9ee436cbb8fd1ba53f30e1d",
            "ee7eb92716124d7eacb56245da92bc64",
            "348faa178a1b49638232294a8ff75fe1",
            "6f05f49a12ec41ff96aea17b18e3dfb0",
            "64df235b4d4b4673b2e401fb41b2361c",
            "d58619e2664e4c93a7179edff2a11f15",
            "080a3ede08414ae7aae6ca641fa0abe2",
            "432e6fab22f343ccb0f217d0733f2d0d",
            "8358c5a90c6b440596097ad1ef37153e",
            "0acb1c8ce3c5404ca9056657a9638a09",
            "ac6493e9f88746ffb278265ee33c87a3",
            "ef212012d6a744409b5ceb07ece97dac",
            "b4a27bd2e50849efa9b710afb1986b6b",
            "fb592356c90f441bb757a37996f84d40",
            "bdf8c4c3a2274d758b94e36ce57181a0",
            "d80f30e6b8074e7583a57eec901f7007",
            "dff0974fb01246ae926a988ca1686e42",
            "73a886fc5338460fb8d3b08ec6b778dd",
            "a9cbf27d1d9146f18690c7e5c3cb6195",
            "d268f33b1c474736a72b75296fe77761",
            "463f85e812e24c389194cbb11e15de27",
            "a5eea746ea2d4f77b0d1b10786fd475d",
            "f8665edb445f4182817deb600c992821",
            "17e9929b0afb43c5ab3b75dad039eff6",
            "b0da096731b6462290f2a14f0d9789af",
            "033ef6ef7fc24ef187a48f411b8025da",
            "a868c55281cc47bfb4721dd181c79da6",
            "adc651153ba24c8fa05546f06bf2bd07",
            "fb0d295a67744b01b351a5432af96908",
            "76a8470a4d314fcdbb008de4d6f4d6e8",
            "ea4b4ff93c4a49b9854d3fb68a16d5f1",
            "ed72e2b30c02403192613fffde2f6769",
            "88ca6bc2c7e54c3390a7033e5c41d535",
            "da8125597e614435a1750b6911987141",
            "6714d54616754b61b2487da09d1c5db6",
            "03063ee3f18b4284b303da777cdf4d47",
            "0c008776d01c498594bfa2829a443dfa",
            "25b1272ac49943b8bffa8959cbdaf23b",
            "1298ea42ba51404d9d4589c022588b5e",
            "0cc2d9e342f94cd3bd84d014c023c2bb",
            "7ebf17b4645e4c4eb61c316c952dbca4",
            "b58b67c0d3e94f39974616f2c982b1d8",
            "dd8ce146ca6544ae98d561dad8082c69",
            "f99f7c01511a424abbd4d0572f88d17c",
            "3d966032f9e64119a2f48451c3cedda6",
            "64982ac7b08d4c07b091c9b4eee6199b",
            "7eb723a5a08442f48851f147d8e4dc38",
            "492ff92628df45fcb71f73f251c7d30d",
            "8c184842a69f40a19975271832d95f68",
            "bd8aa9ae983b4879a5c9d4642eb0f263",
            "794441132cc441ecb2573ea033a02a8c",
            "4cabc490dcaf4b2f8ea9563f79729243",
            "e150b05b83f24e958ecff8f774b8302f",
            "c60d18aad2454a63bf3d6d2a8b4b2401",
            "4e33ca2d60144c579a87d2277ebd3a98",
            "11066c918777485e8bea006f174cf655",
            "35efb58c74f34ece86dd27bf41fbbb34",
            "2f79d85cbb2a4ca9b49bb7a373828fd7",
            "82393e629ee34b0ea477d232b29ae81e",
            "a42da7cab5424e9fa28d4fe00ab2f286",
            "ac4184be0bcd46a086e1964b950b77dc",
            "2bcf05fcacd148d1873225298005f97c",
            "fcaeb9e1c88445f18ed5f519cf41011d",
            "f2836a5ad1ca43fcb1912d4852032201",
            "4ffd5f75b63c4fa0b186fe47d76f2b6a",
            "6efe5a4818f544c89751512a0b441626",
            "9bc333afe1ab4e6dbd242e654b6906e0",
            "c70ddf72e5ac44fd870c85d48fb4c75f",
            "6d86b00e8b154046a57155020ddc57eb",
            "6f311da6afba4f1481c26ea87ca362d4",
            "35ec1a5a86034e6c85035e7bdbbc0c69",
            "93e2fd9537ab40d6a697d82e68d189f8",
            "f266c29551bf4b2a9a8165eb0ed9c43a",
            "b170453e6a0b4007a03179e12b9583e1",
            "dc15b00e8abf4b279d158776262b80a6",
            "eaa1920b74f847a7b048db7b30c16ba4",
            "be66ea5d1d8047b6acda447e584e26c4",
            "9338ed22497d4b29836e06048ac69158",
            "05bf496326b94190bd12805f54dd1623",
            "fc179df2819b4bc08a0dd71f94e0a34c",
            "0cded2a579bc4f13bc013d85ecaae61f",
            "af7eacbbe91c4eccba318d7867777bf4",
            "b60716811d90431eb14758d6b196ea20",
            "57e158a2bf64491cb4edc83db87cb7f3",
            "43993e213ffc4b91a6354f0f692a06be",
            "c64f5244e98243a2b7562c4f67654d9c",
            "358c81dc53e441ad8fadd6cb08833074",
            "7a6831e650ac468d86339ecac562d0ec",
            "625bf48f34724409a23592bbf09e820a",
            "de488d7ef77540dca76d88065be4f2ca",
            "bf1706a135714d479c2fca41da4d014e",
            "37d54fbed9254e36ab1a76737828bd06",
            "e0971288fff2474992b66711fe879388",
            "4b5dccbbdda142058daf4e7cbfe48b1a",
            "9b82b95123be4f2a8a1cbb56b2f2d763",
            "81e5b319828d4a10becd2c420761c447",
            "0fa4c99526084ca885efe6118d106043",
            "a95f8e83895441dc8831a9b17f739631",
            "d3a480a08dcf4430942fc21500de6f5b",
            "b1e483cd9fc5441ab5355f69d281dd7f",
            "e9ecdd104c204ce7a8749a647807f81b",
            "ef8d560a858641af95a6cd8e512149ff",
            "f8b49d626542416b8cfe1e3726148f3f",
            "be2098ffad3e4aa8b3400ccd44c908ea",
            "939a39d4e2c14c1cb1fdd9a24e8b1cac",
            "845586de2b3d41df8315ee8b341be595",
            "791d7444256b459283eb5a4b18a1f011",
            "68a0933907b2435bac6e347819b5f4b4",
            "7db1482be9bb488798fa47fa52c6dd88",
            "53bd9f1012124c699f0158930e481850",
            "2456a0701f444abda704d5c59b852726",
            "f4b513af68c34b99bcfa3d591b6fb775",
            "075a1c57878a496b8c6d67c0ebd0911f",
            "246ff0a1b8c9410998d87fd846951473",
            "57f1b422b6da4194ac04bc544b9d9fe2",
            "1667cf26768c4b24b995171b8eac8169",
            "71d667ae74a047b7bd707ea87ad3faa1",
            "5fdf37ab941c4a0dae7a2c64fd442330",
            "5fefe27ba2f24dd8ba41209253fb2893",
            "f4047aaa276048358e593731be10a1d9",
            "e91e06ae2f7c4edba211c6f89caf1337",
            "8a6be6fa15e04f2c9fbbd2827a0b8984",
            "77aa503923d9493cbf6c23e1f6a9359b",
            "3f3ee849cfad4cc08e7883ac7e107f27",
            "c6dc20f9df7744b68baa175c1ff71099",
            "ca5e48bd85084346a0e61e3713522e1f",
            "299e34d92a9c4707b17e977fe8d60683",
            "c11df14ecdca466884145773196565ec",
            "82ab9a8d51384b8cbef649b73c3f3dbb",
            "acfdec6170eb4133bca5a21121a58756",
            "9a7f2bfb41c7480fabc64a8c989ed770",
            "4b9fd3427c0d4b3082eed28b4e14a7b4",
            "8d5e09a4ed0a43bb9939da75fd3f0a12",
            "ef12eee817ae4effb60ef12d4c40db5b",
            "5872f17c2d6547feb0892742b015a1a2",
            "b20194c096a64545b72af21327f51cb3",
            "e7f3ea79393f4f4989e14c68dc04aaf0",
            "0b9c59ec769143648cc2192386528e5c",
            "78611d469da4450f9541a67dc19312db",
            "3d80540f258140b89fad0fa45e299112",
            "14a2c1fd16ad4eb2bb7b4e4c898d1372",
            "a5f19be4eb6149b28025c24f19db5706",
            "39ef2025687b4156af86533bd4c3f43e",
            "074dfb6ee67a4652bbb186be3daa0923",
            "7b0243a99a274ff1b4749ead540ed373",
            "4241f0895cac4b92b5ee1a01aa7a37a6",
            "305f7a4b1ece42d88101a0102a740b4a",
            "a2de1dab6bcd4855910275ca492567b9",
            "f7b1e6d674fe4958b6ee740693ccfef0",
            "4149e6208b6243b381b338182168e16a",
            "02c4d305d3b844bf973e1fa06f4f8c0e",
            "47976dc9f63547459a50fcab0b1e8273",
            "b35774969c29494788a53f5184396f07",
            "01fcd5ce68e245f68f953e6372ec8720",
            "32c79ea5b1124024a00156325b28aaf9",
            "c82f4541230d4e7c86386297511e7574",
            "0d9e2e713b1d4dc9a0444d035af8ff90",
            "1f7a65b3a90a44b3958de3e8222b373c",
            "f726bd35c1b443cb9b6f6dd69f65ab00",
            "e185b28c236e4258b675bdc05f39244a",
            "18e5481cdd564207951524f65e7aef18",
            "55eb71bb5c1d4b66a69471012ad7c604",
            "d8cd1617b981410e842d827ccce4f292",
            "06caea0da90f419d9509ad49885e0f58",
            "ba850346a46840708513561180085e09",
            "540ec63fe9ee4929892e8171b2456789",
            "7a6d3debbb2b4793842d6a82d6d95c91",
            "1869d2c4285d4e109471b3894422a8e2",
            "c831903c58dd4e2794d276b8e13d954a",
            "a02516da504b4985b67d810c18f7e5cd",
            "1a0befe3811440218f418e7740bd853a",
            "12a0fa7b7f96459796a75f414b261626",
            "5e063b57766d40ddb8cd52ad07618200",
            "9fde7f8abec8464eb621d81c07c27d74",
            "f607927d4b914339ba522a981e8d72f7",
            "0443f137309f4d3c885d88504324f296",
            "b1492b359c894460a25801560c766eac",
            "f274980b06ec4796a1f198dd714fc49e",
            "ba1a8c4ac7a54017a859c823b426bb81",
            "ac7322e468944de2af6d15c617e8d13c",
            "2789ed3ed3e74dc48ddd5cec0fa9ffb1",
            "f544b14ff692462c8ea79f1335fb514b",
            "064d2bf2d1c646ebb11f021c041977c4",
            "ccc0f186e9884e2cafb4e94ca55a4390",
            "3481b809b2e64753af73a5b6e0e47398",
            "7bc49b9e008c4256ba83fe0bfdcd57ed",
            "6585503422bb41bbbd497feec6ad95cd",
            "f085689c1dcc4c03b0a075afa1b1b601",
            "7c7d60efb75547c79c86bb5759969709",
            "e7b3f78eb54042ce89ef33ab22aeff5b",
            "b9cfba6f69854cdd8fd3fc2d2f0cc785",
            "c07c5adabefd4937b4172fe30143c2fb",
            "6f7daf0cbdae417ab14a631351589622",
            "1d44a1881e0b400ea837a75ce3dc323d",
            "be4388f609014fdab56015a1be2b36ed",
            "5726a6c1962847c8ab40a16e049f45c9",
            "d4e65f8d34184ec7b3b9dedca26d7fd7",
            "e9f6b1fe3294461b839715bc2b55dfee",
            "f214c1882a97462d8fea7f33f4bad5e0",
            "ef7c5d86874647919afcce6b563c8e1f",
            "990f7a76d08449d09c6189ea7be084b7"
          ]
        }
      },
      "execution_count": null,
      "outputs": [
        {
          "name": "stderr",
          "text": "[I 2023-12-11 13:16:52,096] A new study created in memory with name: no-name-e99687d9-17fd-4911-b3ea-83266617eff3\nSome weights of BigBirdForQuestionAnswering were not initialized from the model checkpoint at monologg/kobigbird-bert-base and are newly initialized: ['qa_classifier.intermediate.dense.weight', 'qa_classifier.output.LayerNorm.bias', 'qa_classifier.output.dense.weight', 'qa_classifier.output.dense.bias', 'qa_classifier.intermediate.dense.bias', 'qa_classifier.output.LayerNorm.weight', 'qa_classifier.qa_outputs.bias', 'qa_classifier.qa_outputs.weight']\nYou should probably TRAIN this model on a down-stream task to be able to use it for predictions and inference.\n",
          "output_type": "stream"
        },
        {
          "output_type": "display_data",
          "data": {
            "text/plain": "  0%|          | 0/10 [00:00<?, ?it/s]",
            "application/vnd.jupyter.widget-view+json": {
              "version_major": 2,
              "version_minor": 0,
              "model_id": "e8759d961c8740f9be2abef68f1e5f28"
            }
          },
          "metadata": {}
        },
        {
          "output_type": "display_data",
          "data": {
            "text/plain": "  0%|          | 0/100 [00:00<?, ?it/s]",
            "application/vnd.jupyter.widget-view+json": {
              "version_major": 2,
              "version_minor": 0,
              "model_id": "d4be3cfe323943a88d8c455b8063989a"
            }
          },
          "metadata": {}
        },
        {
          "name": "stdout",
          "text": "Epoch:1/10, Train Loss:5.6704, EM:0.00, F1:2.40\n",
          "output_type": "stream"
        },
        {
          "output_type": "display_data",
          "data": {
            "text/plain": "  0%|          | 0/100 [00:00<?, ?it/s]",
            "application/vnd.jupyter.widget-view+json": {
              "version_major": 2,
              "version_minor": 0,
              "model_id": "00c6fb2793094157b3acc4560efdc983"
            }
          },
          "metadata": {}
        },
        {
          "name": "stdout",
          "text": "Epoch:2/10, Train Loss:5.6104, EM:0.00, F1:1.79\n",
          "output_type": "stream"
        },
        {
          "output_type": "display_data",
          "data": {
            "text/plain": "  0%|          | 0/100 [00:00<?, ?it/s]",
            "application/vnd.jupyter.widget-view+json": {
              "version_major": 2,
              "version_minor": 0,
              "model_id": "d65a4abaf5b840c999245cb683a43c17"
            }
          },
          "metadata": {}
        },
        {
          "name": "stdout",
          "text": "Epoch:3/10, Train Loss:5.6153, EM:0.00, F1:1.59\n",
          "output_type": "stream"
        },
        {
          "output_type": "display_data",
          "data": {
            "text/plain": "  0%|          | 0/100 [00:00<?, ?it/s]",
            "application/vnd.jupyter.widget-view+json": {
              "version_major": 2,
              "version_minor": 0,
              "model_id": "7ab7ae9b15534ff2b8cdacff7f7a0d28"
            }
          },
          "metadata": {}
        },
        {
          "name": "stdout",
          "text": "Epoch:4/10, Train Loss:5.6225, EM:0.00, F1:0.58\n",
          "output_type": "stream"
        },
        {
          "output_type": "display_data",
          "data": {
            "text/plain": "  0%|          | 0/100 [00:00<?, ?it/s]",
            "application/vnd.jupyter.widget-view+json": {
              "version_major": 2,
              "version_minor": 0,
              "model_id": "28477051836d4b1da2f854f61657c044"
            }
          },
          "metadata": {}
        },
        {
          "name": "stdout",
          "text": "Epoch:5/10, Train Loss:5.6120, EM:1.00, F1:1.48\n",
          "output_type": "stream"
        },
        {
          "output_type": "display_data",
          "data": {
            "text/plain": "  0%|          | 0/100 [00:00<?, ?it/s]",
            "application/vnd.jupyter.widget-view+json": {
              "version_major": 2,
              "version_minor": 0,
              "model_id": "225529d564ef49e2a568a82d3edea49c"
            }
          },
          "metadata": {}
        },
        {
          "name": "stdout",
          "text": "Epoch:6/10, Train Loss:5.6070, EM:0.00, F1:1.19\n",
          "output_type": "stream"
        },
        {
          "output_type": "display_data",
          "data": {
            "text/plain": "  0%|          | 0/100 [00:00<?, ?it/s]",
            "application/vnd.jupyter.widget-view+json": {
              "version_major": 2,
              "version_minor": 0,
              "model_id": "0236c058769146749a733ebe63a051e8"
            }
          },
          "metadata": {}
        },
        {
          "name": "stdout",
          "text": "Epoch:7/10, Train Loss:5.6105, EM:0.00, F1:1.27\n",
          "output_type": "stream"
        },
        {
          "output_type": "display_data",
          "data": {
            "text/plain": "  0%|          | 0/100 [00:00<?, ?it/s]",
            "application/vnd.jupyter.widget-view+json": {
              "version_major": 2,
              "version_minor": 0,
              "model_id": "c656fced83fb4e3183c6fff16f3d29c0"
            }
          },
          "metadata": {}
        },
        {
          "name": "stdout",
          "text": "Epoch:8/10, Train Loss:5.6131, EM:0.00, F1:1.41\n",
          "output_type": "stream"
        },
        {
          "output_type": "display_data",
          "data": {
            "text/plain": "  0%|          | 0/100 [00:00<?, ?it/s]",
            "application/vnd.jupyter.widget-view+json": {
              "version_major": 2,
              "version_minor": 0,
              "model_id": "6a72bb5735734cbf9cc74fcbef0f851a"
            }
          },
          "metadata": {}
        },
        {
          "name": "stdout",
          "text": "Epoch:9/10, Train Loss:5.6099, EM:0.00, F1:0.72\n",
          "output_type": "stream"
        },
        {
          "output_type": "display_data",
          "data": {
            "text/plain": "  0%|          | 0/100 [00:00<?, ?it/s]",
            "application/vnd.jupyter.widget-view+json": {
              "version_major": 2,
              "version_minor": 0,
              "model_id": "585eec103b914362b9d4384468cb9539"
            }
          },
          "metadata": {}
        },
        {
          "name": "stderr",
          "text": "[I 2023-12-11 13:44:52,632] Trial 0 finished with value: 0.0 and parameters: {'learning_rate': 0.0008741267991859877, 'weight_decay': 0.1795400268869952, 'SchedulerType': 'constant'}. Best is trial 0 with value: 0.0.\n",
          "output_type": "stream"
        },
        {
          "name": "stdout",
          "text": "Epoch:10/10, Train Loss:5.6038, EM:0.00, F1:1.37\n",
          "output_type": "stream"
        },
        {
          "name": "stderr",
          "text": "Some weights of BigBirdForQuestionAnswering were not initialized from the model checkpoint at monologg/kobigbird-bert-base and are newly initialized: ['qa_classifier.intermediate.dense.weight', 'qa_classifier.output.LayerNorm.bias', 'qa_classifier.output.dense.weight', 'qa_classifier.output.dense.bias', 'qa_classifier.intermediate.dense.bias', 'qa_classifier.output.LayerNorm.weight', 'qa_classifier.qa_outputs.bias', 'qa_classifier.qa_outputs.weight']\nYou should probably TRAIN this model on a down-stream task to be able to use it for predictions and inference.\n",
          "output_type": "stream"
        },
        {
          "output_type": "display_data",
          "data": {
            "text/plain": "  0%|          | 0/10 [00:00<?, ?it/s]",
            "application/vnd.jupyter.widget-view+json": {
              "version_major": 2,
              "version_minor": 0,
              "model_id": "0d76d87b7ebd4bc7bca948beee2bd7a2"
            }
          },
          "metadata": {}
        },
        {
          "output_type": "display_data",
          "data": {
            "text/plain": "  0%|          | 0/100 [00:00<?, ?it/s]",
            "application/vnd.jupyter.widget-view+json": {
              "version_major": 2,
              "version_minor": 0,
              "model_id": "924b2340c89e43d2bb11376f1037b8bf"
            }
          },
          "metadata": {}
        },
        {
          "name": "stdout",
          "text": "Epoch:1/10, Train Loss:5.7378, EM:0.00, F1:0.64\n",
          "output_type": "stream"
        },
        {
          "output_type": "display_data",
          "data": {
            "text/plain": "  0%|          | 0/100 [00:00<?, ?it/s]",
            "application/vnd.jupyter.widget-view+json": {
              "version_major": 2,
              "version_minor": 0,
              "model_id": "168231babf5c47789d368f4c242430c3"
            }
          },
          "metadata": {}
        },
        {
          "name": "stdout",
          "text": "Epoch:2/10, Train Loss:5.7157, EM:0.00, F1:0.91\n",
          "output_type": "stream"
        },
        {
          "output_type": "display_data",
          "data": {
            "text/plain": "  0%|          | 0/100 [00:00<?, ?it/s]",
            "application/vnd.jupyter.widget-view+json": {
              "version_major": 2,
              "version_minor": 0,
              "model_id": "b6498eca3e2542718aaaa9d2cd70ac43"
            }
          },
          "metadata": {}
        },
        {
          "name": "stdout",
          "text": "Epoch:3/10, Train Loss:5.7599, EM:0.00, F1:1.04\n",
          "output_type": "stream"
        },
        {
          "output_type": "display_data",
          "data": {
            "text/plain": "  0%|          | 0/100 [00:00<?, ?it/s]",
            "application/vnd.jupyter.widget-view+json": {
              "version_major": 2,
              "version_minor": 0,
              "model_id": "06cdfa8bfa0f41a191725f111ce40c15"
            }
          },
          "metadata": {}
        },
        {
          "name": "stdout",
          "text": "Epoch:4/10, Train Loss:5.7238, EM:0.00, F1:0.56\n",
          "output_type": "stream"
        },
        {
          "output_type": "display_data",
          "data": {
            "text/plain": "  0%|          | 0/100 [00:00<?, ?it/s]",
            "application/vnd.jupyter.widget-view+json": {
              "version_major": 2,
              "version_minor": 0,
              "model_id": "7b39e00c5ad849ad9f6a4aa4a012f96e"
            }
          },
          "metadata": {}
        },
        {
          "name": "stdout",
          "text": "Epoch:5/10, Train Loss:5.7084, EM:0.00, F1:0.57\n",
          "output_type": "stream"
        },
        {
          "output_type": "display_data",
          "data": {
            "text/plain": "  0%|          | 0/100 [00:00<?, ?it/s]",
            "application/vnd.jupyter.widget-view+json": {
              "version_major": 2,
              "version_minor": 0,
              "model_id": "d9a92287e4e84101b4d583dd99326ee8"
            }
          },
          "metadata": {}
        },
        {
          "name": "stdout",
          "text": "Epoch:6/10, Train Loss:5.7029, EM:0.00, F1:0.65\n",
          "output_type": "stream"
        },
        {
          "output_type": "display_data",
          "data": {
            "text/plain": "  0%|          | 0/100 [00:00<?, ?it/s]",
            "application/vnd.jupyter.widget-view+json": {
              "version_major": 2,
              "version_minor": 0,
              "model_id": "48add301739a410eb9449071d00771ed"
            }
          },
          "metadata": {}
        },
        {
          "name": "stdout",
          "text": "Epoch:7/10, Train Loss:5.6997, EM:0.00, F1:0.39\n",
          "output_type": "stream"
        },
        {
          "output_type": "display_data",
          "data": {
            "text/plain": "  0%|          | 0/100 [00:00<?, ?it/s]",
            "application/vnd.jupyter.widget-view+json": {
              "version_major": 2,
              "version_minor": 0,
              "model_id": "fd1e30f0c9ee436cbb8fd1ba53f30e1d"
            }
          },
          "metadata": {}
        },
        {
          "name": "stdout",
          "text": "Epoch:8/10, Train Loss:5.6685, EM:0.00, F1:0.83\n",
          "output_type": "stream"
        },
        {
          "output_type": "display_data",
          "data": {
            "text/plain": "  0%|          | 0/100 [00:00<?, ?it/s]",
            "application/vnd.jupyter.widget-view+json": {
              "version_major": 2,
              "version_minor": 0,
              "model_id": "ee7eb92716124d7eacb56245da92bc64"
            }
          },
          "metadata": {}
        },
        {
          "name": "stdout",
          "text": "Epoch:9/10, Train Loss:5.6864, EM:0.00, F1:0.58\n",
          "output_type": "stream"
        },
        {
          "output_type": "display_data",
          "data": {
            "text/plain": "  0%|          | 0/100 [00:00<?, ?it/s]",
            "application/vnd.jupyter.widget-view+json": {
              "version_major": 2,
              "version_minor": 0,
              "model_id": "348faa178a1b49638232294a8ff75fe1"
            }
          },
          "metadata": {}
        },
        {
          "name": "stderr",
          "text": "[I 2023-12-11 14:13:00,930] Trial 1 finished with value: 0.0 and parameters: {'learning_rate': 0.0038057215668131266, 'weight_decay': 0.08095686317035697, 'SchedulerType': 'linear'}. Best is trial 0 with value: 0.0.\n",
          "output_type": "stream"
        },
        {
          "name": "stdout",
          "text": "Epoch:10/10, Train Loss:5.6752, EM:0.00, F1:0.68\n",
          "output_type": "stream"
        },
        {
          "name": "stderr",
          "text": "Some weights of BigBirdForQuestionAnswering were not initialized from the model checkpoint at monologg/kobigbird-bert-base and are newly initialized: ['qa_classifier.intermediate.dense.weight', 'qa_classifier.output.LayerNorm.bias', 'qa_classifier.output.dense.weight', 'qa_classifier.output.dense.bias', 'qa_classifier.intermediate.dense.bias', 'qa_classifier.output.LayerNorm.weight', 'qa_classifier.qa_outputs.bias', 'qa_classifier.qa_outputs.weight']\nYou should probably TRAIN this model on a down-stream task to be able to use it for predictions and inference.\n",
          "output_type": "stream"
        },
        {
          "output_type": "display_data",
          "data": {
            "text/plain": "  0%|          | 0/10 [00:00<?, ?it/s]",
            "application/vnd.jupyter.widget-view+json": {
              "version_major": 2,
              "version_minor": 0,
              "model_id": "6f05f49a12ec41ff96aea17b18e3dfb0"
            }
          },
          "metadata": {}
        },
        {
          "output_type": "display_data",
          "data": {
            "text/plain": "  0%|          | 0/100 [00:00<?, ?it/s]",
            "application/vnd.jupyter.widget-view+json": {
              "version_major": 2,
              "version_minor": 0,
              "model_id": "64df235b4d4b4673b2e401fb41b2361c"
            }
          },
          "metadata": {}
        },
        {
          "name": "stdout",
          "text": "Epoch:1/10, Train Loss:3.4939, EM:48.00, F1:52.64\n",
          "output_type": "stream"
        },
        {
          "output_type": "display_data",
          "data": {
            "text/plain": "  0%|          | 0/100 [00:00<?, ?it/s]",
            "application/vnd.jupyter.widget-view+json": {
              "version_major": 2,
              "version_minor": 0,
              "model_id": "d58619e2664e4c93a7179edff2a11f15"
            }
          },
          "metadata": {}
        },
        {
          "name": "stdout",
          "text": "Epoch:2/10, Train Loss:2.3748, EM:27.00, F1:34.75\n",
          "output_type": "stream"
        },
        {
          "output_type": "display_data",
          "data": {
            "text/plain": "  0%|          | 0/100 [00:00<?, ?it/s]",
            "application/vnd.jupyter.widget-view+json": {
              "version_major": 2,
              "version_minor": 0,
              "model_id": "080a3ede08414ae7aae6ca641fa0abe2"
            }
          },
          "metadata": {}
        },
        {
          "name": "stdout",
          "text": "Epoch:3/10, Train Loss:5.0335, EM:0.00, F1:0.00\n",
          "output_type": "stream"
        },
        {
          "output_type": "display_data",
          "data": {
            "text/plain": "  0%|          | 0/100 [00:00<?, ?it/s]",
            "application/vnd.jupyter.widget-view+json": {
              "version_major": 2,
              "version_minor": 0,
              "model_id": "432e6fab22f343ccb0f217d0733f2d0d"
            }
          },
          "metadata": {}
        },
        {
          "name": "stdout",
          "text": "Epoch:4/10, Train Loss:5.6304, EM:0.00, F1:0.00\n",
          "output_type": "stream"
        },
        {
          "output_type": "display_data",
          "data": {
            "text/plain": "  0%|          | 0/100 [00:00<?, ?it/s]",
            "application/vnd.jupyter.widget-view+json": {
              "version_major": 2,
              "version_minor": 0,
              "model_id": "8358c5a90c6b440596097ad1ef37153e"
            }
          },
          "metadata": {}
        },
        {
          "name": "stdout",
          "text": "Epoch:5/10, Train Loss:5.6047, EM:0.00, F1:0.00\n",
          "output_type": "stream"
        },
        {
          "output_type": "display_data",
          "data": {
            "text/plain": "  0%|          | 0/100 [00:00<?, ?it/s]",
            "application/vnd.jupyter.widget-view+json": {
              "version_major": 2,
              "version_minor": 0,
              "model_id": "0acb1c8ce3c5404ca9056657a9638a09"
            }
          },
          "metadata": {}
        },
        {
          "name": "stdout",
          "text": "Epoch:6/10, Train Loss:5.6146, EM:0.00, F1:0.00\n",
          "output_type": "stream"
        },
        {
          "output_type": "display_data",
          "data": {
            "text/plain": "  0%|          | 0/100 [00:00<?, ?it/s]",
            "application/vnd.jupyter.widget-view+json": {
              "version_major": 2,
              "version_minor": 0,
              "model_id": "ac6493e9f88746ffb278265ee33c87a3"
            }
          },
          "metadata": {}
        },
        {
          "name": "stdout",
          "text": "Epoch:7/10, Train Loss:5.5997, EM:0.00, F1:0.20\n",
          "output_type": "stream"
        },
        {
          "output_type": "display_data",
          "data": {
            "text/plain": "  0%|          | 0/100 [00:00<?, ?it/s]",
            "application/vnd.jupyter.widget-view+json": {
              "version_major": 2,
              "version_minor": 0,
              "model_id": "ef212012d6a744409b5ceb07ece97dac"
            }
          },
          "metadata": {}
        },
        {
          "name": "stdout",
          "text": "Epoch:8/10, Train Loss:5.5947, EM:0.00, F1:0.25\n",
          "output_type": "stream"
        },
        {
          "output_type": "display_data",
          "data": {
            "text/plain": "  0%|          | 0/100 [00:00<?, ?it/s]",
            "application/vnd.jupyter.widget-view+json": {
              "version_major": 2,
              "version_minor": 0,
              "model_id": "b4a27bd2e50849efa9b710afb1986b6b"
            }
          },
          "metadata": {}
        },
        {
          "name": "stdout",
          "text": "Epoch:9/10, Train Loss:5.5967, EM:0.00, F1:0.00\n",
          "output_type": "stream"
        },
        {
          "output_type": "display_data",
          "data": {
            "text/plain": "  0%|          | 0/100 [00:00<?, ?it/s]",
            "application/vnd.jupyter.widget-view+json": {
              "version_major": 2,
              "version_minor": 0,
              "model_id": "fb592356c90f441bb757a37996f84d40"
            }
          },
          "metadata": {}
        },
        {
          "name": "stderr",
          "text": "[I 2023-12-11 14:40:32,777] Trial 2 finished with value: 0.0 and parameters: {'learning_rate': 0.00011588143331403367, 'weight_decay': 0.05548139850222591, 'SchedulerType': 'constant'}. Best is trial 0 with value: 0.0.\n",
          "output_type": "stream"
        },
        {
          "name": "stdout",
          "text": "Epoch:10/10, Train Loss:5.6048, EM:0.00, F1:0.00\n",
          "output_type": "stream"
        },
        {
          "name": "stderr",
          "text": "Some weights of BigBirdForQuestionAnswering were not initialized from the model checkpoint at monologg/kobigbird-bert-base and are newly initialized: ['qa_classifier.intermediate.dense.weight', 'qa_classifier.output.LayerNorm.bias', 'qa_classifier.output.dense.weight', 'qa_classifier.output.dense.bias', 'qa_classifier.intermediate.dense.bias', 'qa_classifier.output.LayerNorm.weight', 'qa_classifier.qa_outputs.bias', 'qa_classifier.qa_outputs.weight']\nYou should probably TRAIN this model on a down-stream task to be able to use it for predictions and inference.\n",
          "output_type": "stream"
        },
        {
          "output_type": "display_data",
          "data": {
            "text/plain": "  0%|          | 0/10 [00:00<?, ?it/s]",
            "application/vnd.jupyter.widget-view+json": {
              "version_major": 2,
              "version_minor": 0,
              "model_id": "bdf8c4c3a2274d758b94e36ce57181a0"
            }
          },
          "metadata": {}
        },
        {
          "output_type": "display_data",
          "data": {
            "text/plain": "  0%|          | 0/100 [00:00<?, ?it/s]",
            "application/vnd.jupyter.widget-view+json": {
              "version_major": 2,
              "version_minor": 0,
              "model_id": "d80f30e6b8074e7583a57eec901f7007"
            }
          },
          "metadata": {}
        },
        {
          "name": "stdout",
          "text": "Epoch:1/10, Train Loss:6.3936, EM:0.00, F1:1.44\n",
          "output_type": "stream"
        },
        {
          "output_type": "display_data",
          "data": {
            "text/plain": "  0%|          | 0/100 [00:00<?, ?it/s]",
            "application/vnd.jupyter.widget-view+json": {
              "version_major": 2,
              "version_minor": 0,
              "model_id": "dff0974fb01246ae926a988ca1686e42"
            }
          },
          "metadata": {}
        },
        {
          "name": "stdout",
          "text": "Epoch:2/10, Train Loss:5.6900, EM:1.00, F1:1.94\n",
          "output_type": "stream"
        },
        {
          "output_type": "display_data",
          "data": {
            "text/plain": "  0%|          | 0/100 [00:00<?, ?it/s]",
            "application/vnd.jupyter.widget-view+json": {
              "version_major": 2,
              "version_minor": 0,
              "model_id": "73a886fc5338460fb8d3b08ec6b778dd"
            }
          },
          "metadata": {}
        },
        {
          "name": "stdout",
          "text": "Epoch:3/10, Train Loss:5.2440, EM:2.00, F1:5.83\n",
          "output_type": "stream"
        },
        {
          "output_type": "display_data",
          "data": {
            "text/plain": "  0%|          | 0/100 [00:00<?, ?it/s]",
            "application/vnd.jupyter.widget-view+json": {
              "version_major": 2,
              "version_minor": 0,
              "model_id": "a9cbf27d1d9146f18690c7e5c3cb6195"
            }
          },
          "metadata": {}
        },
        {
          "name": "stdout",
          "text": "Epoch:4/10, Train Loss:4.9202, EM:4.00, F1:8.55\n",
          "output_type": "stream"
        },
        {
          "output_type": "display_data",
          "data": {
            "text/plain": "  0%|          | 0/100 [00:00<?, ?it/s]",
            "application/vnd.jupyter.widget-view+json": {
              "version_major": 2,
              "version_minor": 0,
              "model_id": "d268f33b1c474736a72b75296fe77761"
            }
          },
          "metadata": {}
        },
        {
          "name": "stdout",
          "text": "Epoch:5/10, Train Loss:4.6601, EM:6.00, F1:10.97\n",
          "output_type": "stream"
        },
        {
          "output_type": "display_data",
          "data": {
            "text/plain": "  0%|          | 0/100 [00:00<?, ?it/s]",
            "application/vnd.jupyter.widget-view+json": {
              "version_major": 2,
              "version_minor": 0,
              "model_id": "463f85e812e24c389194cbb11e15de27"
            }
          },
          "metadata": {}
        },
        {
          "name": "stdout",
          "text": "Epoch:6/10, Train Loss:4.4185, EM:7.00, F1:10.63\n",
          "output_type": "stream"
        },
        {
          "output_type": "display_data",
          "data": {
            "text/plain": "  0%|          | 0/100 [00:00<?, ?it/s]",
            "application/vnd.jupyter.widget-view+json": {
              "version_major": 2,
              "version_minor": 0,
              "model_id": "a5eea746ea2d4f77b0d1b10786fd475d"
            }
          },
          "metadata": {}
        },
        {
          "name": "stdout",
          "text": "Epoch:7/10, Train Loss:4.1963, EM:9.00, F1:13.18\n",
          "output_type": "stream"
        },
        {
          "output_type": "display_data",
          "data": {
            "text/plain": "  0%|          | 0/100 [00:00<?, ?it/s]",
            "application/vnd.jupyter.widget-view+json": {
              "version_major": 2,
              "version_minor": 0,
              "model_id": "f8665edb445f4182817deb600c992821"
            }
          },
          "metadata": {}
        },
        {
          "name": "stdout",
          "text": "Epoch:8/10, Train Loss:3.9975, EM:11.00, F1:15.03\n",
          "output_type": "stream"
        },
        {
          "output_type": "display_data",
          "data": {
            "text/plain": "  0%|          | 0/100 [00:00<?, ?it/s]",
            "application/vnd.jupyter.widget-view+json": {
              "version_major": 2,
              "version_minor": 0,
              "model_id": "17e9929b0afb43c5ab3b75dad039eff6"
            }
          },
          "metadata": {}
        },
        {
          "name": "stdout",
          "text": "Epoch:9/10, Train Loss:3.8135, EM:15.00, F1:18.53\n",
          "output_type": "stream"
        },
        {
          "output_type": "display_data",
          "data": {
            "text/plain": "  0%|          | 0/100 [00:00<?, ?it/s]",
            "application/vnd.jupyter.widget-view+json": {
              "version_major": 2,
              "version_minor": 0,
              "model_id": "b0da096731b6462290f2a14f0d9789af"
            }
          },
          "metadata": {}
        },
        {
          "name": "stderr",
          "text": "[I 2023-12-11 15:08:16,760] Trial 3 finished with value: 16.0 and parameters: {'learning_rate': 7.888510966148981e-07, 'weight_decay': 0.18820486217146443, 'SchedulerType': 'linear'}. Best is trial 3 with value: 16.0.\n",
          "output_type": "stream"
        },
        {
          "name": "stdout",
          "text": "Epoch:10/10, Train Loss:3.6571, EM:16.00, F1:19.92\n",
          "output_type": "stream"
        },
        {
          "name": "stderr",
          "text": "Some weights of BigBirdForQuestionAnswering were not initialized from the model checkpoint at monologg/kobigbird-bert-base and are newly initialized: ['qa_classifier.intermediate.dense.weight', 'qa_classifier.output.LayerNorm.bias', 'qa_classifier.output.dense.weight', 'qa_classifier.output.dense.bias', 'qa_classifier.intermediate.dense.bias', 'qa_classifier.output.LayerNorm.weight', 'qa_classifier.qa_outputs.bias', 'qa_classifier.qa_outputs.weight']\nYou should probably TRAIN this model on a down-stream task to be able to use it for predictions and inference.\n",
          "output_type": "stream"
        },
        {
          "output_type": "display_data",
          "data": {
            "text/plain": "  0%|          | 0/10 [00:00<?, ?it/s]",
            "application/vnd.jupyter.widget-view+json": {
              "version_major": 2,
              "version_minor": 0,
              "model_id": "033ef6ef7fc24ef187a48f411b8025da"
            }
          },
          "metadata": {}
        },
        {
          "output_type": "display_data",
          "data": {
            "text/plain": "  0%|          | 0/100 [00:00<?, ?it/s]",
            "application/vnd.jupyter.widget-view+json": {
              "version_major": 2,
              "version_minor": 0,
              "model_id": "a868c55281cc47bfb4721dd181c79da6"
            }
          },
          "metadata": {}
        },
        {
          "name": "stdout",
          "text": "Epoch:1/10, Train Loss:3.4705, EM:38.00, F1:42.54\n",
          "output_type": "stream"
        },
        {
          "output_type": "display_data",
          "data": {
            "text/plain": "  0%|          | 0/100 [00:00<?, ?it/s]",
            "application/vnd.jupyter.widget-view+json": {
              "version_major": 2,
              "version_minor": 0,
              "model_id": "adc651153ba24c8fa05546f06bf2bd07"
            }
          },
          "metadata": {}
        },
        {
          "name": "stdout",
          "text": "Epoch:2/10, Train Loss:2.0003, EM:54.00, F1:62.69\n",
          "output_type": "stream"
        },
        {
          "output_type": "display_data",
          "data": {
            "text/plain": "  0%|          | 0/100 [00:00<?, ?it/s]",
            "application/vnd.jupyter.widget-view+json": {
              "version_major": 2,
              "version_minor": 0,
              "model_id": "fb0d295a67744b01b351a5432af96908"
            }
          },
          "metadata": {}
        },
        {
          "name": "stdout",
          "text": "Epoch:3/10, Train Loss:1.5231, EM:69.00, F1:73.88\n",
          "output_type": "stream"
        },
        {
          "output_type": "display_data",
          "data": {
            "text/plain": "  0%|          | 0/100 [00:00<?, ?it/s]",
            "application/vnd.jupyter.widget-view+json": {
              "version_major": 2,
              "version_minor": 0,
              "model_id": "76a8470a4d314fcdbb008de4d6f4d6e8"
            }
          },
          "metadata": {}
        },
        {
          "name": "stdout",
          "text": "Epoch:4/10, Train Loss:1.1056, EM:63.00, F1:71.81\n",
          "output_type": "stream"
        },
        {
          "output_type": "display_data",
          "data": {
            "text/plain": "  0%|          | 0/100 [00:00<?, ?it/s]",
            "application/vnd.jupyter.widget-view+json": {
              "version_major": 2,
              "version_minor": 0,
              "model_id": "ea4b4ff93c4a49b9854d3fb68a16d5f1"
            }
          },
          "metadata": {}
        },
        {
          "name": "stdout",
          "text": "Epoch:5/10, Train Loss:1.0893, EM:67.00, F1:74.77\n",
          "output_type": "stream"
        },
        {
          "output_type": "display_data",
          "data": {
            "text/plain": "  0%|          | 0/100 [00:00<?, ?it/s]",
            "application/vnd.jupyter.widget-view+json": {
              "version_major": 2,
              "version_minor": 0,
              "model_id": "ed72e2b30c02403192613fffde2f6769"
            }
          },
          "metadata": {}
        },
        {
          "name": "stdout",
          "text": "Epoch:6/10, Train Loss:0.8988, EM:64.00, F1:72.57\n",
          "output_type": "stream"
        },
        {
          "output_type": "display_data",
          "data": {
            "text/plain": "  0%|          | 0/100 [00:00<?, ?it/s]",
            "application/vnd.jupyter.widget-view+json": {
              "version_major": 2,
              "version_minor": 0,
              "model_id": "88ca6bc2c7e54c3390a7033e5c41d535"
            }
          },
          "metadata": {}
        },
        {
          "name": "stdout",
          "text": "Epoch:7/10, Train Loss:0.7838, EM:72.00, F1:77.49\n",
          "output_type": "stream"
        },
        {
          "output_type": "display_data",
          "data": {
            "text/plain": "  0%|          | 0/100 [00:00<?, ?it/s]",
            "application/vnd.jupyter.widget-view+json": {
              "version_major": 2,
              "version_minor": 0,
              "model_id": "da8125597e614435a1750b6911987141"
            }
          },
          "metadata": {}
        },
        {
          "name": "stdout",
          "text": "Epoch:8/10, Train Loss:0.8056, EM:73.00, F1:79.22\n",
          "output_type": "stream"
        },
        {
          "output_type": "display_data",
          "data": {
            "text/plain": "  0%|          | 0/100 [00:00<?, ?it/s]",
            "application/vnd.jupyter.widget-view+json": {
              "version_major": 2,
              "version_minor": 0,
              "model_id": "6714d54616754b61b2487da09d1c5db6"
            }
          },
          "metadata": {}
        },
        {
          "name": "stdout",
          "text": "Epoch:9/10, Train Loss:0.7297, EM:63.00, F1:67.59\n",
          "output_type": "stream"
        },
        {
          "output_type": "display_data",
          "data": {
            "text/plain": "  0%|          | 0/100 [00:00<?, ?it/s]",
            "application/vnd.jupyter.widget-view+json": {
              "version_major": 2,
              "version_minor": 0,
              "model_id": "03063ee3f18b4284b303da777cdf4d47"
            }
          },
          "metadata": {}
        },
        {
          "name": "stderr",
          "text": "[I 2023-12-11 15:36:15,378] Trial 4 finished with value: 64.0 and parameters: {'learning_rate': 6.841812242216839e-05, 'weight_decay': 0.27800368154486865, 'SchedulerType': 'cosine'}. Best is trial 4 with value: 64.0.\n",
          "output_type": "stream"
        },
        {
          "name": "stdout",
          "text": "Epoch:10/10, Train Loss:0.5495, EM:64.00, F1:72.47\n",
          "output_type": "stream"
        },
        {
          "name": "stderr",
          "text": "Some weights of BigBirdForQuestionAnswering were not initialized from the model checkpoint at monologg/kobigbird-bert-base and are newly initialized: ['qa_classifier.intermediate.dense.weight', 'qa_classifier.output.LayerNorm.bias', 'qa_classifier.output.dense.weight', 'qa_classifier.output.dense.bias', 'qa_classifier.intermediate.dense.bias', 'qa_classifier.output.LayerNorm.weight', 'qa_classifier.qa_outputs.bias', 'qa_classifier.qa_outputs.weight']\nYou should probably TRAIN this model on a down-stream task to be able to use it for predictions and inference.\n",
          "output_type": "stream"
        },
        {
          "output_type": "display_data",
          "data": {
            "text/plain": "  0%|          | 0/10 [00:00<?, ?it/s]",
            "application/vnd.jupyter.widget-view+json": {
              "version_major": 2,
              "version_minor": 0,
              "model_id": "0c008776d01c498594bfa2829a443dfa"
            }
          },
          "metadata": {}
        },
        {
          "output_type": "display_data",
          "data": {
            "text/plain": "  0%|          | 0/100 [00:00<?, ?it/s]",
            "application/vnd.jupyter.widget-view+json": {
              "version_major": 2,
              "version_minor": 0,
              "model_id": "25b1272ac49943b8bffa8959cbdaf23b"
            }
          },
          "metadata": {}
        },
        {
          "name": "stdout",
          "text": "Epoch:1/10, Train Loss:5.6554, EM:0.00, F1:0.47\n",
          "output_type": "stream"
        },
        {
          "output_type": "display_data",
          "data": {
            "text/plain": "  0%|          | 0/100 [00:00<?, ?it/s]",
            "application/vnd.jupyter.widget-view+json": {
              "version_major": 2,
              "version_minor": 0,
              "model_id": "1298ea42ba51404d9d4589c022588b5e"
            }
          },
          "metadata": {}
        },
        {
          "name": "stdout",
          "text": "Epoch:2/10, Train Loss:5.5964, EM:0.00, F1:1.68\n",
          "output_type": "stream"
        },
        {
          "output_type": "display_data",
          "data": {
            "text/plain": "  0%|          | 0/100 [00:00<?, ?it/s]",
            "application/vnd.jupyter.widget-view+json": {
              "version_major": 2,
              "version_minor": 0,
              "model_id": "0cc2d9e342f94cd3bd84d014c023c2bb"
            }
          },
          "metadata": {}
        },
        {
          "name": "stdout",
          "text": "Epoch:3/10, Train Loss:5.6114, EM:0.00, F1:2.18\n",
          "output_type": "stream"
        },
        {
          "output_type": "display_data",
          "data": {
            "text/plain": "  0%|          | 0/100 [00:00<?, ?it/s]",
            "application/vnd.jupyter.widget-view+json": {
              "version_major": 2,
              "version_minor": 0,
              "model_id": "7ebf17b4645e4c4eb61c316c952dbca4"
            }
          },
          "metadata": {}
        },
        {
          "name": "stdout",
          "text": "Epoch:4/10, Train Loss:5.6142, EM:0.00, F1:0.89\n",
          "output_type": "stream"
        },
        {
          "output_type": "display_data",
          "data": {
            "text/plain": "  0%|          | 0/100 [00:00<?, ?it/s]",
            "application/vnd.jupyter.widget-view+json": {
              "version_major": 2,
              "version_minor": 0,
              "model_id": "b58b67c0d3e94f39974616f2c982b1d8"
            }
          },
          "metadata": {}
        },
        {
          "name": "stdout",
          "text": "Epoch:5/10, Train Loss:5.6041, EM:0.00, F1:1.05\n",
          "output_type": "stream"
        },
        {
          "output_type": "display_data",
          "data": {
            "text/plain": "  0%|          | 0/100 [00:00<?, ?it/s]",
            "application/vnd.jupyter.widget-view+json": {
              "version_major": 2,
              "version_minor": 0,
              "model_id": "dd8ce146ca6544ae98d561dad8082c69"
            }
          },
          "metadata": {}
        },
        {
          "name": "stdout",
          "text": "Epoch:6/10, Train Loss:5.6072, EM:0.00, F1:1.00\n",
          "output_type": "stream"
        },
        {
          "output_type": "display_data",
          "data": {
            "text/plain": "  0%|          | 0/100 [00:00<?, ?it/s]",
            "application/vnd.jupyter.widget-view+json": {
              "version_major": 2,
              "version_minor": 0,
              "model_id": "f99f7c01511a424abbd4d0572f88d17c"
            }
          },
          "metadata": {}
        },
        {
          "name": "stdout",
          "text": "Epoch:7/10, Train Loss:5.6123, EM:0.00, F1:1.18\n",
          "output_type": "stream"
        },
        {
          "output_type": "display_data",
          "data": {
            "text/plain": "  0%|          | 0/100 [00:00<?, ?it/s]",
            "application/vnd.jupyter.widget-view+json": {
              "version_major": 2,
              "version_minor": 0,
              "model_id": "3d966032f9e64119a2f48451c3cedda6"
            }
          },
          "metadata": {}
        },
        {
          "name": "stdout",
          "text": "Epoch:8/10, Train Loss:5.6256, EM:0.00, F1:1.32\n",
          "output_type": "stream"
        },
        {
          "output_type": "display_data",
          "data": {
            "text/plain": "  0%|          | 0/100 [00:00<?, ?it/s]",
            "application/vnd.jupyter.widget-view+json": {
              "version_major": 2,
              "version_minor": 0,
              "model_id": "64982ac7b08d4c07b091c9b4eee6199b"
            }
          },
          "metadata": {}
        },
        {
          "name": "stdout",
          "text": "Epoch:9/10, Train Loss:5.6220, EM:0.00, F1:0.41\n",
          "output_type": "stream"
        },
        {
          "output_type": "display_data",
          "data": {
            "text/plain": "  0%|          | 0/100 [00:00<?, ?it/s]",
            "application/vnd.jupyter.widget-view+json": {
              "version_major": 2,
              "version_minor": 0,
              "model_id": "7eb723a5a08442f48851f147d8e4dc38"
            }
          },
          "metadata": {}
        },
        {
          "name": "stderr",
          "text": "[I 2023-12-11 16:03:55,380] Trial 5 finished with value: 0.0 and parameters: {'learning_rate': 0.0005630247363707159, 'weight_decay': 0.0030315535951790373, 'SchedulerType': 'constant'}. Best is trial 4 with value: 64.0.\n",
          "output_type": "stream"
        },
        {
          "name": "stdout",
          "text": "Epoch:10/10, Train Loss:5.6077, EM:0.00, F1:2.03\n",
          "output_type": "stream"
        },
        {
          "name": "stderr",
          "text": "Some weights of BigBirdForQuestionAnswering were not initialized from the model checkpoint at monologg/kobigbird-bert-base and are newly initialized: ['qa_classifier.intermediate.dense.weight', 'qa_classifier.output.LayerNorm.bias', 'qa_classifier.output.dense.weight', 'qa_classifier.output.dense.bias', 'qa_classifier.intermediate.dense.bias', 'qa_classifier.output.LayerNorm.weight', 'qa_classifier.qa_outputs.bias', 'qa_classifier.qa_outputs.weight']\nYou should probably TRAIN this model on a down-stream task to be able to use it for predictions and inference.\n",
          "output_type": "stream"
        },
        {
          "output_type": "display_data",
          "data": {
            "text/plain": "  0%|          | 0/10 [00:00<?, ?it/s]",
            "application/vnd.jupyter.widget-view+json": {
              "version_major": 2,
              "version_minor": 0,
              "model_id": "492ff92628df45fcb71f73f251c7d30d"
            }
          },
          "metadata": {}
        },
        {
          "output_type": "display_data",
          "data": {
            "text/plain": "  0%|          | 0/100 [00:00<?, ?it/s]",
            "application/vnd.jupyter.widget-view+json": {
              "version_major": 2,
              "version_minor": 0,
              "model_id": "8c184842a69f40a19975271832d95f68"
            }
          },
          "metadata": {}
        },
        {
          "name": "stdout",
          "text": "Epoch:1/10, Train Loss:4.6564, EM:14.00, F1:19.66\n",
          "output_type": "stream"
        },
        {
          "output_type": "display_data",
          "data": {
            "text/plain": "  0%|          | 0/100 [00:00<?, ?it/s]",
            "application/vnd.jupyter.widget-view+json": {
              "version_major": 2,
              "version_minor": 0,
              "model_id": "bd8aa9ae983b4879a5c9d4642eb0f263"
            }
          },
          "metadata": {}
        },
        {
          "name": "stdout",
          "text": "Epoch:2/10, Train Loss:3.2295, EM:21.00, F1:26.62\n",
          "output_type": "stream"
        },
        {
          "output_type": "display_data",
          "data": {
            "text/plain": "  0%|          | 0/100 [00:00<?, ?it/s]",
            "application/vnd.jupyter.widget-view+json": {
              "version_major": 2,
              "version_minor": 0,
              "model_id": "794441132cc441ecb2573ea033a02a8c"
            }
          },
          "metadata": {}
        },
        {
          "name": "stdout",
          "text": "Epoch:3/10, Train Loss:2.5689, EM:39.00, F1:42.70\n",
          "output_type": "stream"
        },
        {
          "output_type": "display_data",
          "data": {
            "text/plain": "  0%|          | 0/100 [00:00<?, ?it/s]",
            "application/vnd.jupyter.widget-view+json": {
              "version_major": 2,
              "version_minor": 0,
              "model_id": "4cabc490dcaf4b2f8ea9563f79729243"
            }
          },
          "metadata": {}
        },
        {
          "name": "stdout",
          "text": "Epoch:4/10, Train Loss:1.9209, EM:55.00, F1:58.98\n",
          "output_type": "stream"
        },
        {
          "output_type": "display_data",
          "data": {
            "text/plain": "  0%|          | 0/100 [00:00<?, ?it/s]",
            "application/vnd.jupyter.widget-view+json": {
              "version_major": 2,
              "version_minor": 0,
              "model_id": "e150b05b83f24e958ecff8f774b8302f"
            }
          },
          "metadata": {}
        },
        {
          "name": "stdout",
          "text": "Epoch:5/10, Train Loss:1.3745, EM:63.00, F1:68.07\n",
          "output_type": "stream"
        },
        {
          "output_type": "display_data",
          "data": {
            "text/plain": "  0%|          | 0/100 [00:00<?, ?it/s]",
            "application/vnd.jupyter.widget-view+json": {
              "version_major": 2,
              "version_minor": 0,
              "model_id": "c60d18aad2454a63bf3d6d2a8b4b2401"
            }
          },
          "metadata": {}
        },
        {
          "name": "stdout",
          "text": "Epoch:6/10, Train Loss:1.0502, EM:68.00, F1:73.38\n",
          "output_type": "stream"
        },
        {
          "output_type": "display_data",
          "data": {
            "text/plain": "  0%|          | 0/100 [00:00<?, ?it/s]",
            "application/vnd.jupyter.widget-view+json": {
              "version_major": 2,
              "version_minor": 0,
              "model_id": "4e33ca2d60144c579a87d2277ebd3a98"
            }
          },
          "metadata": {}
        },
        {
          "name": "stdout",
          "text": "Epoch:7/10, Train Loss:0.8820, EM:69.00, F1:75.37\n",
          "output_type": "stream"
        },
        {
          "output_type": "display_data",
          "data": {
            "text/plain": "  0%|          | 0/100 [00:00<?, ?it/s]",
            "application/vnd.jupyter.widget-view+json": {
              "version_major": 2,
              "version_minor": 0,
              "model_id": "11066c918777485e8bea006f174cf655"
            }
          },
          "metadata": {}
        },
        {
          "name": "stdout",
          "text": "Epoch:8/10, Train Loss:0.7371, EM:68.00, F1:75.38\n",
          "output_type": "stream"
        },
        {
          "output_type": "display_data",
          "data": {
            "text/plain": "  0%|          | 0/100 [00:00<?, ?it/s]",
            "application/vnd.jupyter.widget-view+json": {
              "version_major": 2,
              "version_minor": 0,
              "model_id": "35efb58c74f34ece86dd27bf41fbbb34"
            }
          },
          "metadata": {}
        },
        {
          "name": "stdout",
          "text": "Epoch:9/10, Train Loss:0.6483, EM:69.00, F1:76.53\n",
          "output_type": "stream"
        },
        {
          "output_type": "display_data",
          "data": {
            "text/plain": "  0%|          | 0/100 [00:00<?, ?it/s]",
            "application/vnd.jupyter.widget-view+json": {
              "version_major": 2,
              "version_minor": 0,
              "model_id": "2f79d85cbb2a4ca9b49bb7a373828fd7"
            }
          },
          "metadata": {}
        },
        {
          "name": "stderr",
          "text": "[I 2023-12-11 16:31:24,561] Trial 6 finished with value: 66.0 and parameters: {'learning_rate': 1.021714115773601e-05, 'weight_decay': 0.1154429497232863, 'SchedulerType': 'cosine'}. Best is trial 6 with value: 66.0.\n",
          "output_type": "stream"
        },
        {
          "name": "stdout",
          "text": "Epoch:10/10, Train Loss:0.5473, EM:66.00, F1:74.87\n",
          "output_type": "stream"
        },
        {
          "name": "stderr",
          "text": "Some weights of BigBirdForQuestionAnswering were not initialized from the model checkpoint at monologg/kobigbird-bert-base and are newly initialized: ['qa_classifier.intermediate.dense.weight', 'qa_classifier.output.LayerNorm.bias', 'qa_classifier.output.dense.weight', 'qa_classifier.output.dense.bias', 'qa_classifier.intermediate.dense.bias', 'qa_classifier.output.LayerNorm.weight', 'qa_classifier.qa_outputs.bias', 'qa_classifier.qa_outputs.weight']\nYou should probably TRAIN this model on a down-stream task to be able to use it for predictions and inference.\n",
          "output_type": "stream"
        },
        {
          "output_type": "display_data",
          "data": {
            "text/plain": "  0%|          | 0/10 [00:00<?, ?it/s]",
            "application/vnd.jupyter.widget-view+json": {
              "version_major": 2,
              "version_minor": 0,
              "model_id": "82393e629ee34b0ea477d232b29ae81e"
            }
          },
          "metadata": {}
        },
        {
          "output_type": "display_data",
          "data": {
            "text/plain": "  0%|          | 0/100 [00:00<?, ?it/s]",
            "application/vnd.jupyter.widget-view+json": {
              "version_major": 2,
              "version_minor": 0,
              "model_id": "a42da7cab5424e9fa28d4fe00ab2f286"
            }
          },
          "metadata": {}
        },
        {
          "name": "stdout",
          "text": "Epoch:1/10, Train Loss:6.3819, EM:0.00, F1:2.70\n",
          "output_type": "stream"
        },
        {
          "output_type": "display_data",
          "data": {
            "text/plain": "  0%|          | 0/100 [00:00<?, ?it/s]",
            "application/vnd.jupyter.widget-view+json": {
              "version_major": 2,
              "version_minor": 0,
              "model_id": "ac4184be0bcd46a086e1964b950b77dc"
            }
          },
          "metadata": {}
        },
        {
          "name": "stdout",
          "text": "Epoch:2/10, Train Loss:5.5609, EM:4.00, F1:5.70\n",
          "output_type": "stream"
        },
        {
          "output_type": "display_data",
          "data": {
            "text/plain": "  0%|          | 0/100 [00:00<?, ?it/s]",
            "application/vnd.jupyter.widget-view+json": {
              "version_major": 2,
              "version_minor": 0,
              "model_id": "2bcf05fcacd148d1873225298005f97c"
            }
          },
          "metadata": {}
        },
        {
          "name": "stdout",
          "text": "Epoch:3/10, Train Loss:5.2258, EM:4.00, F1:7.05\n",
          "output_type": "stream"
        },
        {
          "output_type": "display_data",
          "data": {
            "text/plain": "  0%|          | 0/100 [00:00<?, ?it/s]",
            "application/vnd.jupyter.widget-view+json": {
              "version_major": 2,
              "version_minor": 0,
              "model_id": "fcaeb9e1c88445f18ed5f519cf41011d"
            }
          },
          "metadata": {}
        },
        {
          "name": "stdout",
          "text": "Epoch:4/10, Train Loss:4.9565, EM:10.00, F1:14.23\n",
          "output_type": "stream"
        },
        {
          "output_type": "display_data",
          "data": {
            "text/plain": "  0%|          | 0/100 [00:00<?, ?it/s]",
            "application/vnd.jupyter.widget-view+json": {
              "version_major": 2,
              "version_minor": 0,
              "model_id": "f2836a5ad1ca43fcb1912d4852032201"
            }
          },
          "metadata": {}
        },
        {
          "name": "stdout",
          "text": "Epoch:5/10, Train Loss:4.7025, EM:9.00, F1:14.07\n",
          "output_type": "stream"
        },
        {
          "output_type": "display_data",
          "data": {
            "text/plain": "  0%|          | 0/100 [00:00<?, ?it/s]",
            "application/vnd.jupyter.widget-view+json": {
              "version_major": 2,
              "version_minor": 0,
              "model_id": "4ffd5f75b63c4fa0b186fe47d76f2b6a"
            }
          },
          "metadata": {}
        },
        {
          "name": "stdout",
          "text": "Epoch:6/10, Train Loss:4.4689, EM:11.00, F1:15.79\n",
          "output_type": "stream"
        },
        {
          "output_type": "display_data",
          "data": {
            "text/plain": "  0%|          | 0/100 [00:00<?, ?it/s]",
            "application/vnd.jupyter.widget-view+json": {
              "version_major": 2,
              "version_minor": 0,
              "model_id": "6efe5a4818f544c89751512a0b441626"
            }
          },
          "metadata": {}
        },
        {
          "name": "stdout",
          "text": "Epoch:7/10, Train Loss:4.2414, EM:12.00, F1:17.50\n",
          "output_type": "stream"
        },
        {
          "output_type": "display_data",
          "data": {
            "text/plain": "  0%|          | 0/100 [00:00<?, ?it/s]",
            "application/vnd.jupyter.widget-view+json": {
              "version_major": 2,
              "version_minor": 0,
              "model_id": "9bc333afe1ab4e6dbd242e654b6906e0"
            }
          },
          "metadata": {}
        },
        {
          "name": "stdout",
          "text": "Epoch:8/10, Train Loss:4.0510, EM:14.00, F1:19.95\n",
          "output_type": "stream"
        },
        {
          "output_type": "display_data",
          "data": {
            "text/plain": "  0%|          | 0/100 [00:00<?, ?it/s]",
            "application/vnd.jupyter.widget-view+json": {
              "version_major": 2,
              "version_minor": 0,
              "model_id": "c70ddf72e5ac44fd870c85d48fb4c75f"
            }
          },
          "metadata": {}
        },
        {
          "name": "stdout",
          "text": "Epoch:9/10, Train Loss:3.9038, EM:14.00, F1:19.64\n",
          "output_type": "stream"
        },
        {
          "output_type": "display_data",
          "data": {
            "text/plain": "  0%|          | 0/100 [00:00<?, ?it/s]",
            "application/vnd.jupyter.widget-view+json": {
              "version_major": 2,
              "version_minor": 0,
              "model_id": "6d86b00e8b154046a57155020ddc57eb"
            }
          },
          "metadata": {}
        },
        {
          "name": "stderr",
          "text": "[I 2023-12-11 16:58:58,328] Trial 7 finished with value: 14.0 and parameters: {'learning_rate': 8.554896624598867e-07, 'weight_decay': 0.2805264376640045, 'SchedulerType': 'linear'}. Best is trial 6 with value: 66.0.\n",
          "output_type": "stream"
        },
        {
          "name": "stdout",
          "text": "Epoch:10/10, Train Loss:3.7781, EM:14.00, F1:19.85\n",
          "output_type": "stream"
        },
        {
          "name": "stderr",
          "text": "Some weights of BigBirdForQuestionAnswering were not initialized from the model checkpoint at monologg/kobigbird-bert-base and are newly initialized: ['qa_classifier.intermediate.dense.weight', 'qa_classifier.output.LayerNorm.bias', 'qa_classifier.output.dense.weight', 'qa_classifier.output.dense.bias', 'qa_classifier.intermediate.dense.bias', 'qa_classifier.output.LayerNorm.weight', 'qa_classifier.qa_outputs.bias', 'qa_classifier.qa_outputs.weight']\nYou should probably TRAIN this model on a down-stream task to be able to use it for predictions and inference.\n",
          "output_type": "stream"
        },
        {
          "output_type": "display_data",
          "data": {
            "text/plain": "  0%|          | 0/10 [00:00<?, ?it/s]",
            "application/vnd.jupyter.widget-view+json": {
              "version_major": 2,
              "version_minor": 0,
              "model_id": "6f311da6afba4f1481c26ea87ca362d4"
            }
          },
          "metadata": {}
        },
        {
          "output_type": "display_data",
          "data": {
            "text/plain": "  0%|          | 0/100 [00:00<?, ?it/s]",
            "application/vnd.jupyter.widget-view+json": {
              "version_major": 2,
              "version_minor": 0,
              "model_id": "35ec1a5a86034e6c85035e7bdbbc0c69"
            }
          },
          "metadata": {}
        },
        {
          "name": "stdout",
          "text": "Epoch:1/10, Train Loss:3.9672, EM:25.00, F1:30.00\n",
          "output_type": "stream"
        },
        {
          "output_type": "display_data",
          "data": {
            "text/plain": "  0%|          | 0/100 [00:00<?, ?it/s]",
            "application/vnd.jupyter.widget-view+json": {
              "version_major": 2,
              "version_minor": 0,
              "model_id": "93e2fd9537ab40d6a697d82e68d189f8"
            }
          },
          "metadata": {}
        },
        {
          "name": "stdout",
          "text": "Epoch:2/10, Train Loss:2.7176, EM:39.00, F1:43.23\n",
          "output_type": "stream"
        },
        {
          "output_type": "display_data",
          "data": {
            "text/plain": "  0%|          | 0/100 [00:00<?, ?it/s]",
            "application/vnd.jupyter.widget-view+json": {
              "version_major": 2,
              "version_minor": 0,
              "model_id": "f266c29551bf4b2a9a8165eb0ed9c43a"
            }
          },
          "metadata": {}
        },
        {
          "name": "stdout",
          "text": "Epoch:3/10, Train Loss:1.4595, EM:67.00, F1:69.40\n",
          "output_type": "stream"
        },
        {
          "output_type": "display_data",
          "data": {
            "text/plain": "  0%|          | 0/100 [00:00<?, ?it/s]",
            "application/vnd.jupyter.widget-view+json": {
              "version_major": 2,
              "version_minor": 0,
              "model_id": "b170453e6a0b4007a03179e12b9583e1"
            }
          },
          "metadata": {}
        },
        {
          "name": "stdout",
          "text": "Epoch:4/10, Train Loss:1.0007, EM:69.00, F1:74.09\n",
          "output_type": "stream"
        },
        {
          "output_type": "display_data",
          "data": {
            "text/plain": "  0%|          | 0/100 [00:00<?, ?it/s]",
            "application/vnd.jupyter.widget-view+json": {
              "version_major": 2,
              "version_minor": 0,
              "model_id": "dc15b00e8abf4b279d158776262b80a6"
            }
          },
          "metadata": {}
        },
        {
          "name": "stdout",
          "text": "Epoch:5/10, Train Loss:0.8850, EM:63.00, F1:69.27\n",
          "output_type": "stream"
        },
        {
          "output_type": "display_data",
          "data": {
            "text/plain": "  0%|          | 0/100 [00:00<?, ?it/s]",
            "application/vnd.jupyter.widget-view+json": {
              "version_major": 2,
              "version_minor": 0,
              "model_id": "eaa1920b74f847a7b048db7b30c16ba4"
            }
          },
          "metadata": {}
        },
        {
          "name": "stdout",
          "text": "Epoch:6/10, Train Loss:0.8219, EM:71.00, F1:77.87\n",
          "output_type": "stream"
        },
        {
          "output_type": "display_data",
          "data": {
            "text/plain": "  0%|          | 0/100 [00:00<?, ?it/s]",
            "application/vnd.jupyter.widget-view+json": {
              "version_major": 2,
              "version_minor": 0,
              "model_id": "be66ea5d1d8047b6acda447e584e26c4"
            }
          },
          "metadata": {}
        },
        {
          "name": "stdout",
          "text": "Epoch:7/10, Train Loss:0.6278, EM:72.00, F1:79.24\n",
          "output_type": "stream"
        },
        {
          "output_type": "display_data",
          "data": {
            "text/plain": "  0%|          | 0/100 [00:00<?, ?it/s]",
            "application/vnd.jupyter.widget-view+json": {
              "version_major": 2,
              "version_minor": 0,
              "model_id": "9338ed22497d4b29836e06048ac69158"
            }
          },
          "metadata": {}
        },
        {
          "name": "stdout",
          "text": "Epoch:8/10, Train Loss:0.4920, EM:72.00, F1:80.23\n",
          "output_type": "stream"
        },
        {
          "output_type": "display_data",
          "data": {
            "text/plain": "  0%|          | 0/100 [00:00<?, ?it/s]",
            "application/vnd.jupyter.widget-view+json": {
              "version_major": 2,
              "version_minor": 0,
              "model_id": "05bf496326b94190bd12805f54dd1623"
            }
          },
          "metadata": {}
        },
        {
          "name": "stdout",
          "text": "Epoch:9/10, Train Loss:0.4511, EM:74.00, F1:80.83\n",
          "output_type": "stream"
        },
        {
          "output_type": "display_data",
          "data": {
            "text/plain": "  0%|          | 0/100 [00:00<?, ?it/s]",
            "application/vnd.jupyter.widget-view+json": {
              "version_major": 2,
              "version_minor": 0,
              "model_id": "fc179df2819b4bc08a0dd71f94e0a34c"
            }
          },
          "metadata": {}
        },
        {
          "name": "stderr",
          "text": "[I 2023-12-11 17:26:29,082] Trial 8 finished with value: 73.0 and parameters: {'learning_rate': 2.013712980373367e-05, 'weight_decay': 0.17621943230001905, 'SchedulerType': 'linear'}. Best is trial 8 with value: 73.0.\n",
          "output_type": "stream"
        },
        {
          "name": "stdout",
          "text": "Epoch:10/10, Train Loss:0.4501, EM:73.00, F1:79.77\n",
          "output_type": "stream"
        },
        {
          "name": "stderr",
          "text": "Some weights of BigBirdForQuestionAnswering were not initialized from the model checkpoint at monologg/kobigbird-bert-base and are newly initialized: ['qa_classifier.intermediate.dense.weight', 'qa_classifier.output.LayerNorm.bias', 'qa_classifier.output.dense.weight', 'qa_classifier.output.dense.bias', 'qa_classifier.intermediate.dense.bias', 'qa_classifier.output.LayerNorm.weight', 'qa_classifier.qa_outputs.bias', 'qa_classifier.qa_outputs.weight']\nYou should probably TRAIN this model on a down-stream task to be able to use it for predictions and inference.\n",
          "output_type": "stream"
        },
        {
          "output_type": "display_data",
          "data": {
            "text/plain": "  0%|          | 0/10 [00:00<?, ?it/s]",
            "application/vnd.jupyter.widget-view+json": {
              "version_major": 2,
              "version_minor": 0,
              "model_id": "0cded2a579bc4f13bc013d85ecaae61f"
            }
          },
          "metadata": {}
        },
        {
          "output_type": "display_data",
          "data": {
            "text/plain": "  0%|          | 0/100 [00:00<?, ?it/s]",
            "application/vnd.jupyter.widget-view+json": {
              "version_major": 2,
              "version_minor": 0,
              "model_id": "af7eacbbe91c4eccba318d7867777bf4"
            }
          },
          "metadata": {}
        },
        {
          "name": "stdout",
          "text": "Epoch:1/10, Train Loss:5.3675, EM:0.00, F1:1.06\n",
          "output_type": "stream"
        },
        {
          "output_type": "display_data",
          "data": {
            "text/plain": "  0%|          | 0/100 [00:00<?, ?it/s]",
            "application/vnd.jupyter.widget-view+json": {
              "version_major": 2,
              "version_minor": 0,
              "model_id": "b60716811d90431eb14758d6b196ea20"
            }
          },
          "metadata": {}
        },
        {
          "name": "stdout",
          "text": "Epoch:2/10, Train Loss:5.6088, EM:0.00, F1:0.26\n",
          "output_type": "stream"
        },
        {
          "output_type": "display_data",
          "data": {
            "text/plain": "  0%|          | 0/100 [00:00<?, ?it/s]",
            "application/vnd.jupyter.widget-view+json": {
              "version_major": 2,
              "version_minor": 0,
              "model_id": "57e158a2bf64491cb4edc83db87cb7f3"
            }
          },
          "metadata": {}
        },
        {
          "name": "stdout",
          "text": "Epoch:3/10, Train Loss:5.6065, EM:0.00, F1:2.81\n",
          "output_type": "stream"
        },
        {
          "output_type": "display_data",
          "data": {
            "text/plain": "  0%|          | 0/100 [00:00<?, ?it/s]",
            "application/vnd.jupyter.widget-view+json": {
              "version_major": 2,
              "version_minor": 0,
              "model_id": "43993e213ffc4b91a6354f0f692a06be"
            }
          },
          "metadata": {}
        },
        {
          "name": "stdout",
          "text": "Epoch:4/10, Train Loss:5.6094, EM:0.00, F1:0.53\n",
          "output_type": "stream"
        },
        {
          "output_type": "display_data",
          "data": {
            "text/plain": "  0%|          | 0/100 [00:00<?, ?it/s]",
            "application/vnd.jupyter.widget-view+json": {
              "version_major": 2,
              "version_minor": 0,
              "model_id": "c64f5244e98243a2b7562c4f67654d9c"
            }
          },
          "metadata": {}
        },
        {
          "name": "stdout",
          "text": "Epoch:5/10, Train Loss:5.5976, EM:1.00, F1:2.37\n",
          "output_type": "stream"
        },
        {
          "output_type": "display_data",
          "data": {
            "text/plain": "  0%|          | 0/100 [00:00<?, ?it/s]",
            "application/vnd.jupyter.widget-view+json": {
              "version_major": 2,
              "version_minor": 0,
              "model_id": "358c81dc53e441ad8fadd6cb08833074"
            }
          },
          "metadata": {}
        },
        {
          "name": "stdout",
          "text": "Epoch:6/10, Train Loss:5.5917, EM:0.00, F1:1.77\n",
          "output_type": "stream"
        },
        {
          "output_type": "display_data",
          "data": {
            "text/plain": "  0%|          | 0/100 [00:00<?, ?it/s]",
            "application/vnd.jupyter.widget-view+json": {
              "version_major": 2,
              "version_minor": 0,
              "model_id": "7a6831e650ac468d86339ecac562d0ec"
            }
          },
          "metadata": {}
        },
        {
          "name": "stdout",
          "text": "Epoch:7/10, Train Loss:5.5938, EM:0.00, F1:1.55\n",
          "output_type": "stream"
        },
        {
          "output_type": "display_data",
          "data": {
            "text/plain": "  0%|          | 0/100 [00:00<?, ?it/s]",
            "application/vnd.jupyter.widget-view+json": {
              "version_major": 2,
              "version_minor": 0,
              "model_id": "625bf48f34724409a23592bbf09e820a"
            }
          },
          "metadata": {}
        },
        {
          "name": "stdout",
          "text": "Epoch:8/10, Train Loss:5.5921, EM:0.00, F1:1.35\n",
          "output_type": "stream"
        },
        {
          "output_type": "display_data",
          "data": {
            "text/plain": "  0%|          | 0/100 [00:00<?, ?it/s]",
            "application/vnd.jupyter.widget-view+json": {
              "version_major": 2,
              "version_minor": 0,
              "model_id": "de488d7ef77540dca76d88065be4f2ca"
            }
          },
          "metadata": {}
        },
        {
          "name": "stdout",
          "text": "Epoch:9/10, Train Loss:5.5931, EM:0.00, F1:2.03\n",
          "output_type": "stream"
        },
        {
          "output_type": "display_data",
          "data": {
            "text/plain": "  0%|          | 0/100 [00:00<?, ?it/s]",
            "application/vnd.jupyter.widget-view+json": {
              "version_major": 2,
              "version_minor": 0,
              "model_id": "bf1706a135714d479c2fca41da4d014e"
            }
          },
          "metadata": {}
        },
        {
          "name": "stderr",
          "text": "[I 2023-12-11 17:54:11,880] Trial 9 finished with value: 0.0 and parameters: {'learning_rate': 0.0002141484268339772, 'weight_decay': 0.10439668274451312, 'SchedulerType': 'linear'}. Best is trial 8 with value: 73.0.\n",
          "output_type": "stream"
        },
        {
          "name": "stdout",
          "text": "Epoch:10/10, Train Loss:5.5981, EM:0.00, F1:1.44\n",
          "output_type": "stream"
        },
        {
          "name": "stderr",
          "text": "Some weights of BigBirdForQuestionAnswering were not initialized from the model checkpoint at monologg/kobigbird-bert-base and are newly initialized: ['qa_classifier.intermediate.dense.weight', 'qa_classifier.output.LayerNorm.bias', 'qa_classifier.output.dense.weight', 'qa_classifier.output.dense.bias', 'qa_classifier.intermediate.dense.bias', 'qa_classifier.output.LayerNorm.weight', 'qa_classifier.qa_outputs.bias', 'qa_classifier.qa_outputs.weight']\nYou should probably TRAIN this model on a down-stream task to be able to use it for predictions and inference.\n",
          "output_type": "stream"
        },
        {
          "output_type": "display_data",
          "data": {
            "text/plain": "  0%|          | 0/10 [00:00<?, ?it/s]",
            "application/vnd.jupyter.widget-view+json": {
              "version_major": 2,
              "version_minor": 0,
              "model_id": "37d54fbed9254e36ab1a76737828bd06"
            }
          },
          "metadata": {}
        },
        {
          "output_type": "display_data",
          "data": {
            "text/plain": "  0%|          | 0/100 [00:00<?, ?it/s]",
            "application/vnd.jupyter.widget-view+json": {
              "version_major": 2,
              "version_minor": 0,
              "model_id": "e0971288fff2474992b66711fe879388"
            }
          },
          "metadata": {}
        },
        {
          "name": "stdout",
          "text": "Epoch:1/10, Train Loss:4.6183, EM:21.00, F1:25.39\n",
          "output_type": "stream"
        },
        {
          "output_type": "display_data",
          "data": {
            "text/plain": "  0%|          | 0/100 [00:00<?, ?it/s]",
            "application/vnd.jupyter.widget-view+json": {
              "version_major": 2,
              "version_minor": 0,
              "model_id": "4b5dccbbdda142058daf4e7cbfe48b1a"
            }
          },
          "metadata": {}
        },
        {
          "name": "stdout",
          "text": "Epoch:2/10, Train Loss:2.9648, EM:36.00, F1:42.71\n",
          "output_type": "stream"
        },
        {
          "output_type": "display_data",
          "data": {
            "text/plain": "  0%|          | 0/100 [00:00<?, ?it/s]",
            "application/vnd.jupyter.widget-view+json": {
              "version_major": 2,
              "version_minor": 0,
              "model_id": "9b82b95123be4f2a8a1cbb56b2f2d763"
            }
          },
          "metadata": {}
        },
        {
          "name": "stdout",
          "text": "Epoch:3/10, Train Loss:1.7151, EM:62.00, F1:66.83\n",
          "output_type": "stream"
        },
        {
          "output_type": "display_data",
          "data": {
            "text/plain": "  0%|          | 0/100 [00:00<?, ?it/s]",
            "application/vnd.jupyter.widget-view+json": {
              "version_major": 2,
              "version_minor": 0,
              "model_id": "81e5b319828d4a10becd2c420761c447"
            }
          },
          "metadata": {}
        },
        {
          "name": "stdout",
          "text": "Epoch:4/10, Train Loss:1.1910, EM:60.00, F1:67.55\n",
          "output_type": "stream"
        },
        {
          "output_type": "display_data",
          "data": {
            "text/plain": "  0%|          | 0/100 [00:00<?, ?it/s]",
            "application/vnd.jupyter.widget-view+json": {
              "version_major": 2,
              "version_minor": 0,
              "model_id": "0fa4c99526084ca885efe6118d106043"
            }
          },
          "metadata": {}
        },
        {
          "name": "stdout",
          "text": "Epoch:5/10, Train Loss:1.0068, EM:68.00, F1:76.10\n",
          "output_type": "stream"
        },
        {
          "output_type": "display_data",
          "data": {
            "text/plain": "  0%|          | 0/100 [00:00<?, ?it/s]",
            "application/vnd.jupyter.widget-view+json": {
              "version_major": 2,
              "version_minor": 0,
              "model_id": "a95f8e83895441dc8831a9b17f739631"
            }
          },
          "metadata": {}
        },
        {
          "name": "stdout",
          "text": "Epoch:6/10, Train Loss:0.7641, EM:70.00, F1:78.96\n",
          "output_type": "stream"
        },
        {
          "output_type": "display_data",
          "data": {
            "text/plain": "  0%|          | 0/100 [00:00<?, ?it/s]",
            "application/vnd.jupyter.widget-view+json": {
              "version_major": 2,
              "version_minor": 0,
              "model_id": "d3a480a08dcf4430942fc21500de6f5b"
            }
          },
          "metadata": {}
        },
        {
          "name": "stdout",
          "text": "Epoch:7/10, Train Loss:0.6270, EM:72.00, F1:80.57\n",
          "output_type": "stream"
        },
        {
          "output_type": "display_data",
          "data": {
            "text/plain": "  0%|          | 0/100 [00:00<?, ?it/s]",
            "application/vnd.jupyter.widget-view+json": {
              "version_major": 2,
              "version_minor": 0,
              "model_id": "b1e483cd9fc5441ab5355f69d281dd7f"
            }
          },
          "metadata": {}
        },
        {
          "name": "stdout",
          "text": "Epoch:8/10, Train Loss:0.5617, EM:72.00, F1:78.30\n",
          "output_type": "stream"
        },
        {
          "output_type": "display_data",
          "data": {
            "text/plain": "  0%|          | 0/100 [00:00<?, ?it/s]",
            "application/vnd.jupyter.widget-view+json": {
              "version_major": 2,
              "version_minor": 0,
              "model_id": "e9ecdd104c204ce7a8749a647807f81b"
            }
          },
          "metadata": {}
        },
        {
          "name": "stdout",
          "text": "Epoch:9/10, Train Loss:0.4915, EM:71.00, F1:78.23\n",
          "output_type": "stream"
        },
        {
          "output_type": "display_data",
          "data": {
            "text/plain": "  0%|          | 0/100 [00:00<?, ?it/s]",
            "application/vnd.jupyter.widget-view+json": {
              "version_major": 2,
              "version_minor": 0,
              "model_id": "ef8d560a858641af95a6cd8e512149ff"
            }
          },
          "metadata": {}
        },
        {
          "name": "stderr",
          "text": "[I 2023-12-11 18:22:01,466] Trial 10 finished with value: 75.0 and parameters: {'learning_rate': 1.2565965667009307e-05, 'weight_decay': 0.21053821423215333, 'SchedulerType': 'linear'}. Best is trial 10 with value: 75.0.\n",
          "output_type": "stream"
        },
        {
          "name": "stdout",
          "text": "Epoch:10/10, Train Loss:0.4643, EM:75.00, F1:81.83\n",
          "output_type": "stream"
        },
        {
          "name": "stderr",
          "text": "Some weights of BigBirdForQuestionAnswering were not initialized from the model checkpoint at monologg/kobigbird-bert-base and are newly initialized: ['qa_classifier.intermediate.dense.weight', 'qa_classifier.output.LayerNorm.bias', 'qa_classifier.output.dense.weight', 'qa_classifier.output.dense.bias', 'qa_classifier.intermediate.dense.bias', 'qa_classifier.output.LayerNorm.weight', 'qa_classifier.qa_outputs.bias', 'qa_classifier.qa_outputs.weight']\nYou should probably TRAIN this model on a down-stream task to be able to use it for predictions and inference.\n",
          "output_type": "stream"
        },
        {
          "output_type": "display_data",
          "data": {
            "text/plain": "  0%|          | 0/10 [00:00<?, ?it/s]",
            "application/vnd.jupyter.widget-view+json": {
              "version_major": 2,
              "version_minor": 0,
              "model_id": "f8b49d626542416b8cfe1e3726148f3f"
            }
          },
          "metadata": {}
        },
        {
          "output_type": "display_data",
          "data": {
            "text/plain": "  0%|          | 0/100 [00:00<?, ?it/s]",
            "application/vnd.jupyter.widget-view+json": {
              "version_major": 2,
              "version_minor": 0,
              "model_id": "be2098ffad3e4aa8b3400ccd44c908ea"
            }
          },
          "metadata": {}
        },
        {
          "name": "stdout",
          "text": "Epoch:1/10, Train Loss:4.4083, EM:18.00, F1:24.73\n",
          "output_type": "stream"
        },
        {
          "output_type": "display_data",
          "data": {
            "text/plain": "  0%|          | 0/100 [00:00<?, ?it/s]",
            "application/vnd.jupyter.widget-view+json": {
              "version_major": 2,
              "version_minor": 0,
              "model_id": "939a39d4e2c14c1cb1fdd9a24e8b1cac"
            }
          },
          "metadata": {}
        },
        {
          "name": "stdout",
          "text": "Epoch:2/10, Train Loss:2.8537, EM:34.00, F1:38.25\n",
          "output_type": "stream"
        },
        {
          "output_type": "display_data",
          "data": {
            "text/plain": "  0%|          | 0/100 [00:00<?, ?it/s]",
            "application/vnd.jupyter.widget-view+json": {
              "version_major": 2,
              "version_minor": 0,
              "model_id": "845586de2b3d41df8315ee8b341be595"
            }
          },
          "metadata": {}
        },
        {
          "name": "stdout",
          "text": "Epoch:3/10, Train Loss:1.9397, EM:58.00, F1:63.12\n",
          "output_type": "stream"
        },
        {
          "output_type": "display_data",
          "data": {
            "text/plain": "  0%|          | 0/100 [00:00<?, ?it/s]",
            "application/vnd.jupyter.widget-view+json": {
              "version_major": 2,
              "version_minor": 0,
              "model_id": "791d7444256b459283eb5a4b18a1f011"
            }
          },
          "metadata": {}
        },
        {
          "name": "stdout",
          "text": "Epoch:4/10, Train Loss:1.2277, EM:58.00, F1:66.30\n",
          "output_type": "stream"
        },
        {
          "output_type": "display_data",
          "data": {
            "text/plain": "  0%|          | 0/100 [00:00<?, ?it/s]",
            "application/vnd.jupyter.widget-view+json": {
              "version_major": 2,
              "version_minor": 0,
              "model_id": "68a0933907b2435bac6e347819b5f4b4"
            }
          },
          "metadata": {}
        },
        {
          "name": "stdout",
          "text": "Epoch:5/10, Train Loss:0.8963, EM:66.00, F1:72.87\n",
          "output_type": "stream"
        },
        {
          "output_type": "display_data",
          "data": {
            "text/plain": "  0%|          | 0/100 [00:00<?, ?it/s]",
            "application/vnd.jupyter.widget-view+json": {
              "version_major": 2,
              "version_minor": 0,
              "model_id": "7db1482be9bb488798fa47fa52c6dd88"
            }
          },
          "metadata": {}
        },
        {
          "name": "stdout",
          "text": "Epoch:6/10, Train Loss:0.7817, EM:69.00, F1:74.87\n",
          "output_type": "stream"
        },
        {
          "output_type": "display_data",
          "data": {
            "text/plain": "  0%|          | 0/100 [00:00<?, ?it/s]",
            "application/vnd.jupyter.widget-view+json": {
              "version_major": 2,
              "version_minor": 0,
              "model_id": "53bd9f1012124c699f0158930e481850"
            }
          },
          "metadata": {}
        },
        {
          "name": "stdout",
          "text": "Epoch:7/10, Train Loss:0.6506, EM:70.00, F1:78.87\n",
          "output_type": "stream"
        },
        {
          "output_type": "display_data",
          "data": {
            "text/plain": "  0%|          | 0/100 [00:00<?, ?it/s]",
            "application/vnd.jupyter.widget-view+json": {
              "version_major": 2,
              "version_minor": 0,
              "model_id": "2456a0701f444abda704d5c59b852726"
            }
          },
          "metadata": {}
        },
        {
          "name": "stdout",
          "text": "Epoch:8/10, Train Loss:0.6336, EM:67.00, F1:75.90\n",
          "output_type": "stream"
        },
        {
          "output_type": "display_data",
          "data": {
            "text/plain": "  0%|          | 0/100 [00:00<?, ?it/s]",
            "application/vnd.jupyter.widget-view+json": {
              "version_major": 2,
              "version_minor": 0,
              "model_id": "f4b513af68c34b99bcfa3d591b6fb775"
            }
          },
          "metadata": {}
        },
        {
          "name": "stdout",
          "text": "Epoch:9/10, Train Loss:0.5368, EM:66.00, F1:72.20\n",
          "output_type": "stream"
        },
        {
          "output_type": "display_data",
          "data": {
            "text/plain": "  0%|          | 0/100 [00:00<?, ?it/s]",
            "application/vnd.jupyter.widget-view+json": {
              "version_major": 2,
              "version_minor": 0,
              "model_id": "075a1c57878a496b8c6d67c0ebd0911f"
            }
          },
          "metadata": {}
        },
        {
          "name": "stderr",
          "text": "[I 2023-12-11 18:49:16,717] Trial 11 finished with value: 67.0 and parameters: {'learning_rate': 1.1066368231174414e-05, 'weight_decay': 0.21579767193396981, 'SchedulerType': 'linear'}. Best is trial 10 with value: 75.0.\n",
          "output_type": "stream"
        },
        {
          "name": "stdout",
          "text": "Epoch:10/10, Train Loss:0.4990, EM:67.00, F1:75.95\n",
          "output_type": "stream"
        },
        {
          "name": "stderr",
          "text": "Some weights of BigBirdForQuestionAnswering were not initialized from the model checkpoint at monologg/kobigbird-bert-base and are newly initialized: ['qa_classifier.intermediate.dense.weight', 'qa_classifier.output.LayerNorm.bias', 'qa_classifier.output.dense.weight', 'qa_classifier.output.dense.bias', 'qa_classifier.intermediate.dense.bias', 'qa_classifier.output.LayerNorm.weight', 'qa_classifier.qa_outputs.bias', 'qa_classifier.qa_outputs.weight']\nYou should probably TRAIN this model on a down-stream task to be able to use it for predictions and inference.\n",
          "output_type": "stream"
        },
        {
          "output_type": "display_data",
          "data": {
            "text/plain": "  0%|          | 0/10 [00:00<?, ?it/s]",
            "application/vnd.jupyter.widget-view+json": {
              "version_major": 2,
              "version_minor": 0,
              "model_id": "246ff0a1b8c9410998d87fd846951473"
            }
          },
          "metadata": {}
        },
        {
          "output_type": "display_data",
          "data": {
            "text/plain": "  0%|          | 0/100 [00:00<?, ?it/s]",
            "application/vnd.jupyter.widget-view+json": {
              "version_major": 2,
              "version_minor": 0,
              "model_id": "57f1b422b6da4194ac04bc544b9d9fe2"
            }
          },
          "metadata": {}
        },
        {
          "name": "stdout",
          "text": "Epoch:1/10, Train Loss:4.4279, EM:16.00, F1:20.31\n",
          "output_type": "stream"
        },
        {
          "output_type": "display_data",
          "data": {
            "text/plain": "  0%|          | 0/100 [00:00<?, ?it/s]",
            "application/vnd.jupyter.widget-view+json": {
              "version_major": 2,
              "version_minor": 0,
              "model_id": "1667cf26768c4b24b995171b8eac8169"
            }
          },
          "metadata": {}
        },
        {
          "name": "stdout",
          "text": "Epoch:2/10, Train Loss:3.0772, EM:24.00, F1:29.52\n",
          "output_type": "stream"
        },
        {
          "output_type": "display_data",
          "data": {
            "text/plain": "  0%|          | 0/100 [00:00<?, ?it/s]",
            "application/vnd.jupyter.widget-view+json": {
              "version_major": 2,
              "version_minor": 0,
              "model_id": "71d667ae74a047b7bd707ea87ad3faa1"
            }
          },
          "metadata": {}
        },
        {
          "name": "stdout",
          "text": "Epoch:3/10, Train Loss:2.1798, EM:68.00, F1:72.75\n",
          "output_type": "stream"
        },
        {
          "output_type": "display_data",
          "data": {
            "text/plain": "  0%|          | 0/100 [00:00<?, ?it/s]",
            "application/vnd.jupyter.widget-view+json": {
              "version_major": 2,
              "version_minor": 0,
              "model_id": "5fdf37ab941c4a0dae7a2c64fd442330"
            }
          },
          "metadata": {}
        },
        {
          "name": "stdout",
          "text": "Epoch:4/10, Train Loss:1.2355, EM:71.00, F1:77.47\n",
          "output_type": "stream"
        },
        {
          "output_type": "display_data",
          "data": {
            "text/plain": "  0%|          | 0/100 [00:00<?, ?it/s]",
            "application/vnd.jupyter.widget-view+json": {
              "version_major": 2,
              "version_minor": 0,
              "model_id": "5fefe27ba2f24dd8ba41209253fb2893"
            }
          },
          "metadata": {}
        },
        {
          "name": "stdout",
          "text": "Epoch:5/10, Train Loss:0.9487, EM:72.00, F1:80.33\n",
          "output_type": "stream"
        },
        {
          "output_type": "display_data",
          "data": {
            "text/plain": "  0%|          | 0/100 [00:00<?, ?it/s]",
            "application/vnd.jupyter.widget-view+json": {
              "version_major": 2,
              "version_minor": 0,
              "model_id": "f4047aaa276048358e593731be10a1d9"
            }
          },
          "metadata": {}
        },
        {
          "name": "stdout",
          "text": "Epoch:6/10, Train Loss:0.7862, EM:72.00, F1:77.37\n",
          "output_type": "stream"
        },
        {
          "output_type": "display_data",
          "data": {
            "text/plain": "  0%|          | 0/100 [00:00<?, ?it/s]",
            "application/vnd.jupyter.widget-view+json": {
              "version_major": 2,
              "version_minor": 0,
              "model_id": "e91e06ae2f7c4edba211c6f89caf1337"
            }
          },
          "metadata": {}
        },
        {
          "name": "stdout",
          "text": "Epoch:7/10, Train Loss:0.7232, EM:72.00, F1:77.93\n",
          "output_type": "stream"
        },
        {
          "output_type": "display_data",
          "data": {
            "text/plain": "  0%|          | 0/100 [00:00<?, ?it/s]",
            "application/vnd.jupyter.widget-view+json": {
              "version_major": 2,
              "version_minor": 0,
              "model_id": "8a6be6fa15e04f2c9fbbd2827a0b8984"
            }
          },
          "metadata": {}
        },
        {
          "name": "stdout",
          "text": "Epoch:8/10, Train Loss:0.6646, EM:73.00, F1:80.32\n",
          "output_type": "stream"
        },
        {
          "output_type": "display_data",
          "data": {
            "text/plain": "  0%|          | 0/100 [00:00<?, ?it/s]",
            "application/vnd.jupyter.widget-view+json": {
              "version_major": 2,
              "version_minor": 0,
              "model_id": "77aa503923d9493cbf6c23e1f6a9359b"
            }
          },
          "metadata": {}
        },
        {
          "name": "stdout",
          "text": "Epoch:9/10, Train Loss:0.5224, EM:75.00, F1:82.47\n",
          "output_type": "stream"
        },
        {
          "output_type": "display_data",
          "data": {
            "text/plain": "  0%|          | 0/100 [00:00<?, ?it/s]",
            "application/vnd.jupyter.widget-view+json": {
              "version_major": 2,
              "version_minor": 0,
              "model_id": "3f3ee849cfad4cc08e7883ac7e107f27"
            }
          },
          "metadata": {}
        },
        {
          "name": "stderr",
          "text": "[I 2023-12-11 19:16:12,200] Trial 12 finished with value: 74.0 and parameters: {'learning_rate': 1.5283506847534482e-05, 'weight_decay': 0.226464584918531, 'SchedulerType': 'linear'}. Best is trial 10 with value: 75.0.\n",
          "output_type": "stream"
        },
        {
          "name": "stdout",
          "text": "Epoch:10/10, Train Loss:0.4584, EM:74.00, F1:79.27\n",
          "output_type": "stream"
        },
        {
          "name": "stderr",
          "text": "Some weights of BigBirdForQuestionAnswering were not initialized from the model checkpoint at monologg/kobigbird-bert-base and are newly initialized: ['qa_classifier.intermediate.dense.weight', 'qa_classifier.output.LayerNorm.bias', 'qa_classifier.output.dense.weight', 'qa_classifier.output.dense.bias', 'qa_classifier.intermediate.dense.bias', 'qa_classifier.output.LayerNorm.weight', 'qa_classifier.qa_outputs.bias', 'qa_classifier.qa_outputs.weight']\nYou should probably TRAIN this model on a down-stream task to be able to use it for predictions and inference.\n",
          "output_type": "stream"
        },
        {
          "output_type": "display_data",
          "data": {
            "text/plain": "  0%|          | 0/10 [00:00<?, ?it/s]",
            "application/vnd.jupyter.widget-view+json": {
              "version_major": 2,
              "version_minor": 0,
              "model_id": "c6dc20f9df7744b68baa175c1ff71099"
            }
          },
          "metadata": {}
        },
        {
          "output_type": "display_data",
          "data": {
            "text/plain": "  0%|          | 0/100 [00:00<?, ?it/s]",
            "application/vnd.jupyter.widget-view+json": {
              "version_major": 2,
              "version_minor": 0,
              "model_id": "ca5e48bd85084346a0e61e3713522e1f"
            }
          },
          "metadata": {}
        },
        {
          "name": "stdout",
          "text": "Epoch:1/10, Train Loss:5.3236, EM:9.00, F1:13.53\n",
          "output_type": "stream"
        },
        {
          "output_type": "display_data",
          "data": {
            "text/plain": "  0%|          | 0/100 [00:00<?, ?it/s]",
            "application/vnd.jupyter.widget-view+json": {
              "version_major": 2,
              "version_minor": 0,
              "model_id": "299e34d92a9c4707b17e977fe8d60683"
            }
          },
          "metadata": {}
        },
        {
          "name": "stdout",
          "text": "Epoch:2/10, Train Loss:4.0203, EM:15.00, F1:20.68\n",
          "output_type": "stream"
        },
        {
          "output_type": "display_data",
          "data": {
            "text/plain": "  0%|          | 0/100 [00:00<?, ?it/s]",
            "application/vnd.jupyter.widget-view+json": {
              "version_major": 2,
              "version_minor": 0,
              "model_id": "c11df14ecdca466884145773196565ec"
            }
          },
          "metadata": {}
        },
        {
          "name": "stdout",
          "text": "Epoch:3/10, Train Loss:3.2724, EM:23.00, F1:28.17\n",
          "output_type": "stream"
        },
        {
          "output_type": "display_data",
          "data": {
            "text/plain": "  0%|          | 0/100 [00:00<?, ?it/s]",
            "application/vnd.jupyter.widget-view+json": {
              "version_major": 2,
              "version_minor": 0,
              "model_id": "82ab9a8d51384b8cbef649b73c3f3dbb"
            }
          },
          "metadata": {}
        },
        {
          "name": "stdout",
          "text": "Epoch:4/10, Train Loss:2.7668, EM:33.00, F1:38.28\n",
          "output_type": "stream"
        },
        {
          "output_type": "display_data",
          "data": {
            "text/plain": "  0%|          | 0/100 [00:00<?, ?it/s]",
            "application/vnd.jupyter.widget-view+json": {
              "version_major": 2,
              "version_minor": 0,
              "model_id": "acfdec6170eb4133bca5a21121a58756"
            }
          },
          "metadata": {}
        },
        {
          "name": "stdout",
          "text": "Epoch:5/10, Train Loss:2.1991, EM:46.00, F1:49.25\n",
          "output_type": "stream"
        },
        {
          "output_type": "display_data",
          "data": {
            "text/plain": "  0%|          | 0/100 [00:00<?, ?it/s]",
            "application/vnd.jupyter.widget-view+json": {
              "version_major": 2,
              "version_minor": 0,
              "model_id": "9a7f2bfb41c7480fabc64a8c989ed770"
            }
          },
          "metadata": {}
        },
        {
          "name": "stdout",
          "text": "Epoch:6/10, Train Loss:1.6633, EM:59.00, F1:63.62\n",
          "output_type": "stream"
        },
        {
          "output_type": "display_data",
          "data": {
            "text/plain": "  0%|          | 0/100 [00:00<?, ?it/s]",
            "application/vnd.jupyter.widget-view+json": {
              "version_major": 2,
              "version_minor": 0,
              "model_id": "4b9fd3427c0d4b3082eed28b4e14a7b4"
            }
          },
          "metadata": {}
        },
        {
          "name": "stdout",
          "text": "Epoch:7/10, Train Loss:1.3026, EM:65.00, F1:69.14\n",
          "output_type": "stream"
        },
        {
          "output_type": "display_data",
          "data": {
            "text/plain": "  0%|          | 0/100 [00:00<?, ?it/s]",
            "application/vnd.jupyter.widget-view+json": {
              "version_major": 2,
              "version_minor": 0,
              "model_id": "8d5e09a4ed0a43bb9939da75fd3f0a12"
            }
          },
          "metadata": {}
        },
        {
          "name": "stdout",
          "text": "Epoch:8/10, Train Loss:1.1257, EM:65.00, F1:70.06\n",
          "output_type": "stream"
        },
        {
          "output_type": "display_data",
          "data": {
            "text/plain": "  0%|          | 0/100 [00:00<?, ?it/s]",
            "application/vnd.jupyter.widget-view+json": {
              "version_major": 2,
              "version_minor": 0,
              "model_id": "ef12eee817ae4effb60ef12d4c40db5b"
            }
          },
          "metadata": {}
        },
        {
          "name": "stdout",
          "text": "Epoch:9/10, Train Loss:0.9362, EM:72.00, F1:77.90\n",
          "output_type": "stream"
        },
        {
          "output_type": "display_data",
          "data": {
            "text/plain": "  0%|          | 0/100 [00:00<?, ?it/s]",
            "application/vnd.jupyter.widget-view+json": {
              "version_major": 2,
              "version_minor": 0,
              "model_id": "5872f17c2d6547feb0892742b015a1a2"
            }
          },
          "metadata": {}
        },
        {
          "name": "stderr",
          "text": "[I 2023-12-11 19:43:06,636] Trial 13 finished with value: 66.0 and parameters: {'learning_rate': 4.0317039647350334e-06, 'weight_decay': 0.22793602924803472, 'SchedulerType': 'linear'}. Best is trial 10 with value: 75.0.\n",
          "output_type": "stream"
        },
        {
          "name": "stdout",
          "text": "Epoch:10/10, Train Loss:0.8369, EM:66.00, F1:72.27\n",
          "output_type": "stream"
        },
        {
          "name": "stderr",
          "text": "Some weights of BigBirdForQuestionAnswering were not initialized from the model checkpoint at monologg/kobigbird-bert-base and are newly initialized: ['qa_classifier.intermediate.dense.weight', 'qa_classifier.output.LayerNorm.bias', 'qa_classifier.output.dense.weight', 'qa_classifier.output.dense.bias', 'qa_classifier.intermediate.dense.bias', 'qa_classifier.output.LayerNorm.weight', 'qa_classifier.qa_outputs.bias', 'qa_classifier.qa_outputs.weight']\nYou should probably TRAIN this model on a down-stream task to be able to use it for predictions and inference.\n",
          "output_type": "stream"
        },
        {
          "output_type": "display_data",
          "data": {
            "text/plain": "  0%|          | 0/10 [00:00<?, ?it/s]",
            "application/vnd.jupyter.widget-view+json": {
              "version_major": 2,
              "version_minor": 0,
              "model_id": "b20194c096a64545b72af21327f51cb3"
            }
          },
          "metadata": {}
        },
        {
          "output_type": "display_data",
          "data": {
            "text/plain": "  0%|          | 0/100 [00:00<?, ?it/s]",
            "application/vnd.jupyter.widget-view+json": {
              "version_major": 2,
              "version_minor": 0,
              "model_id": "e7f3ea79393f4f4989e14c68dc04aaf0"
            }
          },
          "metadata": {}
        },
        {
          "name": "stdout",
          "text": "Epoch:1/10, Train Loss:3.6066, EM:41.00, F1:47.40\n",
          "output_type": "stream"
        },
        {
          "output_type": "display_data",
          "data": {
            "text/plain": "  0%|          | 0/100 [00:00<?, ?it/s]",
            "application/vnd.jupyter.widget-view+json": {
              "version_major": 2,
              "version_minor": 0,
              "model_id": "0b9c59ec769143648cc2192386528e5c"
            }
          },
          "metadata": {}
        },
        {
          "name": "stdout",
          "text": "Epoch:2/10, Train Loss:1.7222, EM:68.00, F1:73.27\n",
          "output_type": "stream"
        },
        {
          "output_type": "display_data",
          "data": {
            "text/plain": "  0%|          | 0/100 [00:00<?, ?it/s]",
            "application/vnd.jupyter.widget-view+json": {
              "version_major": 2,
              "version_minor": 0,
              "model_id": "78611d469da4450f9541a67dc19312db"
            }
          },
          "metadata": {}
        },
        {
          "name": "stdout",
          "text": "Epoch:3/10, Train Loss:1.3867, EM:60.00, F1:64.49\n",
          "output_type": "stream"
        },
        {
          "output_type": "display_data",
          "data": {
            "text/plain": "  0%|          | 0/100 [00:00<?, ?it/s]",
            "application/vnd.jupyter.widget-view+json": {
              "version_major": 2,
              "version_minor": 0,
              "model_id": "3d80540f258140b89fad0fa45e299112"
            }
          },
          "metadata": {}
        },
        {
          "name": "stdout",
          "text": "Epoch:4/10, Train Loss:0.9835, EM:69.00, F1:75.42\n",
          "output_type": "stream"
        },
        {
          "output_type": "display_data",
          "data": {
            "text/plain": "  0%|          | 0/100 [00:00<?, ?it/s]",
            "application/vnd.jupyter.widget-view+json": {
              "version_major": 2,
              "version_minor": 0,
              "model_id": "14a2c1fd16ad4eb2bb7b4e4c898d1372"
            }
          },
          "metadata": {}
        },
        {
          "name": "stdout",
          "text": "Epoch:5/10, Train Loss:0.8296, EM:76.00, F1:82.30\n",
          "output_type": "stream"
        },
        {
          "output_type": "display_data",
          "data": {
            "text/plain": "  0%|          | 0/100 [00:00<?, ?it/s]",
            "application/vnd.jupyter.widget-view+json": {
              "version_major": 2,
              "version_minor": 0,
              "model_id": "a5f19be4eb6149b28025c24f19db5706"
            }
          },
          "metadata": {}
        },
        {
          "name": "stdout",
          "text": "Epoch:6/10, Train Loss:0.7249, EM:71.00, F1:78.77\n",
          "output_type": "stream"
        },
        {
          "output_type": "display_data",
          "data": {
            "text/plain": "  0%|          | 0/100 [00:00<?, ?it/s]",
            "application/vnd.jupyter.widget-view+json": {
              "version_major": 2,
              "version_minor": 0,
              "model_id": "39ef2025687b4156af86533bd4c3f43e"
            }
          },
          "metadata": {}
        },
        {
          "name": "stdout",
          "text": "Epoch:7/10, Train Loss:0.6283, EM:67.00, F1:75.08\n",
          "output_type": "stream"
        },
        {
          "output_type": "display_data",
          "data": {
            "text/plain": "  0%|          | 0/100 [00:00<?, ?it/s]",
            "application/vnd.jupyter.widget-view+json": {
              "version_major": 2,
              "version_minor": 0,
              "model_id": "074dfb6ee67a4652bbb186be3daa0923"
            }
          },
          "metadata": {}
        },
        {
          "name": "stdout",
          "text": "Epoch:8/10, Train Loss:0.5639, EM:78.00, F1:83.61\n",
          "output_type": "stream"
        },
        {
          "output_type": "display_data",
          "data": {
            "text/plain": "  0%|          | 0/100 [00:00<?, ?it/s]",
            "application/vnd.jupyter.widget-view+json": {
              "version_major": 2,
              "version_minor": 0,
              "model_id": "7b0243a99a274ff1b4749ead540ed373"
            }
          },
          "metadata": {}
        },
        {
          "name": "stdout",
          "text": "Epoch:9/10, Train Loss:0.5106, EM:77.00, F1:82.70\n",
          "output_type": "stream"
        },
        {
          "output_type": "display_data",
          "data": {
            "text/plain": "  0%|          | 0/100 [00:00<?, ?it/s]",
            "application/vnd.jupyter.widget-view+json": {
              "version_major": 2,
              "version_minor": 0,
              "model_id": "4241f0895cac4b92b5ee1a01aa7a37a6"
            }
          },
          "metadata": {}
        },
        {
          "name": "stderr",
          "text": "[I 2023-12-11 20:10:01,756] Trial 14 finished with value: 73.0 and parameters: {'learning_rate': 3.3432704365318006e-05, 'weight_decay': 0.23394356873610164, 'SchedulerType': 'linear'}. Best is trial 10 with value: 75.0.\n",
          "output_type": "stream"
        },
        {
          "name": "stdout",
          "text": "Epoch:10/10, Train Loss:0.4321, EM:73.00, F1:76.60\n",
          "output_type": "stream"
        },
        {
          "name": "stderr",
          "text": "Some weights of BigBirdForQuestionAnswering were not initialized from the model checkpoint at monologg/kobigbird-bert-base and are newly initialized: ['qa_classifier.intermediate.dense.weight', 'qa_classifier.output.LayerNorm.bias', 'qa_classifier.output.dense.weight', 'qa_classifier.output.dense.bias', 'qa_classifier.intermediate.dense.bias', 'qa_classifier.output.LayerNorm.weight', 'qa_classifier.qa_outputs.bias', 'qa_classifier.qa_outputs.weight']\nYou should probably TRAIN this model on a down-stream task to be able to use it for predictions and inference.\n",
          "output_type": "stream"
        },
        {
          "output_type": "display_data",
          "data": {
            "text/plain": "  0%|          | 0/10 [00:00<?, ?it/s]",
            "application/vnd.jupyter.widget-view+json": {
              "version_major": 2,
              "version_minor": 0,
              "model_id": "305f7a4b1ece42d88101a0102a740b4a"
            }
          },
          "metadata": {}
        },
        {
          "output_type": "display_data",
          "data": {
            "text/plain": "  0%|          | 0/100 [00:00<?, ?it/s]",
            "application/vnd.jupyter.widget-view+json": {
              "version_major": 2,
              "version_minor": 0,
              "model_id": "a2de1dab6bcd4855910275ca492567b9"
            }
          },
          "metadata": {}
        },
        {
          "name": "stdout",
          "text": "Epoch:1/10, Train Loss:5.4462, EM:5.00, F1:9.45\n",
          "output_type": "stream"
        },
        {
          "output_type": "display_data",
          "data": {
            "text/plain": "  0%|          | 0/100 [00:00<?, ?it/s]",
            "application/vnd.jupyter.widget-view+json": {
              "version_major": 2,
              "version_minor": 0,
              "model_id": "f7b1e6d674fe4958b6ee740693ccfef0"
            }
          },
          "metadata": {}
        },
        {
          "name": "stdout",
          "text": "Epoch:2/10, Train Loss:4.1603, EM:14.00, F1:15.91\n",
          "output_type": "stream"
        },
        {
          "output_type": "display_data",
          "data": {
            "text/plain": "  0%|          | 0/100 [00:00<?, ?it/s]",
            "application/vnd.jupyter.widget-view+json": {
              "version_major": 2,
              "version_minor": 0,
              "model_id": "4149e6208b6243b381b338182168e16a"
            }
          },
          "metadata": {}
        },
        {
          "name": "stdout",
          "text": "Epoch:3/10, Train Loss:3.4568, EM:20.00, F1:24.09\n",
          "output_type": "stream"
        },
        {
          "output_type": "display_data",
          "data": {
            "text/plain": "  0%|          | 0/100 [00:00<?, ?it/s]",
            "application/vnd.jupyter.widget-view+json": {
              "version_major": 2,
              "version_minor": 0,
              "model_id": "02c4d305d3b844bf973e1fa06f4f8c0e"
            }
          },
          "metadata": {}
        },
        {
          "name": "stdout",
          "text": "Epoch:4/10, Train Loss:2.9100, EM:27.00, F1:31.01\n",
          "output_type": "stream"
        },
        {
          "output_type": "display_data",
          "data": {
            "text/plain": "  0%|          | 0/100 [00:00<?, ?it/s]",
            "application/vnd.jupyter.widget-view+json": {
              "version_major": 2,
              "version_minor": 0,
              "model_id": "47976dc9f63547459a50fcab0b1e8273"
            }
          },
          "metadata": {}
        },
        {
          "name": "stdout",
          "text": "Epoch:5/10, Train Loss:2.3884, EM:39.00, F1:43.93\n",
          "output_type": "stream"
        },
        {
          "output_type": "display_data",
          "data": {
            "text/plain": "  0%|          | 0/100 [00:00<?, ?it/s]",
            "application/vnd.jupyter.widget-view+json": {
              "version_major": 2,
              "version_minor": 0,
              "model_id": "b35774969c29494788a53f5184396f07"
            }
          },
          "metadata": {}
        },
        {
          "name": "stdout",
          "text": "Epoch:6/10, Train Loss:1.8678, EM:59.00, F1:63.70\n",
          "output_type": "stream"
        },
        {
          "output_type": "display_data",
          "data": {
            "text/plain": "  0%|          | 0/100 [00:00<?, ?it/s]",
            "application/vnd.jupyter.widget-view+json": {
              "version_major": 2,
              "version_minor": 0,
              "model_id": "01fcd5ce68e245f68f953e6372ec8720"
            }
          },
          "metadata": {}
        },
        {
          "name": "stdout",
          "text": "Epoch:7/10, Train Loss:1.4421, EM:58.00, F1:64.07\n",
          "output_type": "stream"
        },
        {
          "output_type": "display_data",
          "data": {
            "text/plain": "  0%|          | 0/100 [00:00<?, ?it/s]",
            "application/vnd.jupyter.widget-view+json": {
              "version_major": 2,
              "version_minor": 0,
              "model_id": "32c79ea5b1124024a00156325b28aaf9"
            }
          },
          "metadata": {}
        },
        {
          "name": "stdout",
          "text": "Epoch:8/10, Train Loss:1.2062, EM:69.00, F1:73.10\n",
          "output_type": "stream"
        },
        {
          "output_type": "display_data",
          "data": {
            "text/plain": "  0%|          | 0/100 [00:00<?, ?it/s]",
            "application/vnd.jupyter.widget-view+json": {
              "version_major": 2,
              "version_minor": 0,
              "model_id": "c82f4541230d4e7c86386297511e7574"
            }
          },
          "metadata": {}
        },
        {
          "name": "stdout",
          "text": "Epoch:9/10, Train Loss:1.0453, EM:68.00, F1:73.52\n",
          "output_type": "stream"
        },
        {
          "output_type": "display_data",
          "data": {
            "text/plain": "  0%|          | 0/100 [00:00<?, ?it/s]",
            "application/vnd.jupyter.widget-view+json": {
              "version_major": 2,
              "version_minor": 0,
              "model_id": "0d9e2e713b1d4dc9a0444d035af8ff90"
            }
          },
          "metadata": {}
        },
        {
          "name": "stderr",
          "text": "[I 2023-12-11 20:36:58,436] Trial 15 finished with value: 70.0 and parameters: {'learning_rate': 3.516977440367668e-06, 'weight_decay': 0.14376341333438442, 'SchedulerType': 'cosine'}. Best is trial 10 with value: 75.0.\n",
          "output_type": "stream"
        },
        {
          "name": "stdout",
          "text": "Epoch:10/10, Train Loss:0.9081, EM:70.00, F1:76.83\n",
          "output_type": "stream"
        },
        {
          "name": "stderr",
          "text": "Some weights of BigBirdForQuestionAnswering were not initialized from the model checkpoint at monologg/kobigbird-bert-base and are newly initialized: ['qa_classifier.intermediate.dense.weight', 'qa_classifier.output.LayerNorm.bias', 'qa_classifier.output.dense.weight', 'qa_classifier.output.dense.bias', 'qa_classifier.intermediate.dense.bias', 'qa_classifier.output.LayerNorm.weight', 'qa_classifier.qa_outputs.bias', 'qa_classifier.qa_outputs.weight']\nYou should probably TRAIN this model on a down-stream task to be able to use it for predictions and inference.\n",
          "output_type": "stream"
        },
        {
          "output_type": "display_data",
          "data": {
            "text/plain": "  0%|          | 0/10 [00:00<?, ?it/s]",
            "application/vnd.jupyter.widget-view+json": {
              "version_major": 2,
              "version_minor": 0,
              "model_id": "1f7a65b3a90a44b3958de3e8222b373c"
            }
          },
          "metadata": {}
        },
        {
          "output_type": "display_data",
          "data": {
            "text/plain": "  0%|          | 0/100 [00:00<?, ?it/s]",
            "application/vnd.jupyter.widget-view+json": {
              "version_major": 2,
              "version_minor": 0,
              "model_id": "f726bd35c1b443cb9b6f6dd69f65ab00"
            }
          },
          "metadata": {}
        },
        {
          "name": "stdout",
          "text": "Epoch:1/10, Train Loss:2.9840, EM:62.00, F1:68.50\n",
          "output_type": "stream"
        },
        {
          "output_type": "display_data",
          "data": {
            "text/plain": "  0%|          | 0/100 [00:00<?, ?it/s]",
            "application/vnd.jupyter.widget-view+json": {
              "version_major": 2,
              "version_minor": 0,
              "model_id": "e185b28c236e4258b675bdc05f39244a"
            }
          },
          "metadata": {}
        },
        {
          "name": "stdout",
          "text": "Epoch:2/10, Train Loss:1.6442, EM:56.00, F1:61.73\n",
          "output_type": "stream"
        },
        {
          "output_type": "display_data",
          "data": {
            "text/plain": "  0%|          | 0/100 [00:00<?, ?it/s]",
            "application/vnd.jupyter.widget-view+json": {
              "version_major": 2,
              "version_minor": 0,
              "model_id": "18e5481cdd564207951524f65e7aef18"
            }
          },
          "metadata": {}
        },
        {
          "name": "stdout",
          "text": "Epoch:3/10, Train Loss:1.3380, EM:66.00, F1:72.91\n",
          "output_type": "stream"
        },
        {
          "output_type": "display_data",
          "data": {
            "text/plain": "  0%|          | 0/100 [00:00<?, ?it/s]",
            "application/vnd.jupyter.widget-view+json": {
              "version_major": 2,
              "version_minor": 0,
              "model_id": "55eb71bb5c1d4b66a69471012ad7c604"
            }
          },
          "metadata": {}
        },
        {
          "name": "stdout",
          "text": "Epoch:4/10, Train Loss:0.9731, EM:71.00, F1:78.70\n",
          "output_type": "stream"
        },
        {
          "output_type": "display_data",
          "data": {
            "text/plain": "  0%|          | 0/100 [00:00<?, ?it/s]",
            "application/vnd.jupyter.widget-view+json": {
              "version_major": 2,
              "version_minor": 0,
              "model_id": "d8cd1617b981410e842d827ccce4f292"
            }
          },
          "metadata": {}
        },
        {
          "name": "stdout",
          "text": "Epoch:5/10, Train Loss:0.8010, EM:64.00, F1:74.60\n",
          "output_type": "stream"
        },
        {
          "output_type": "display_data",
          "data": {
            "text/plain": "  0%|          | 0/100 [00:00<?, ?it/s]",
            "application/vnd.jupyter.widget-view+json": {
              "version_major": 2,
              "version_minor": 0,
              "model_id": "06caea0da90f419d9509ad49885e0f58"
            }
          },
          "metadata": {}
        },
        {
          "name": "stdout",
          "text": "Epoch:6/10, Train Loss:0.6414, EM:71.00, F1:78.12\n",
          "output_type": "stream"
        },
        {
          "output_type": "display_data",
          "data": {
            "text/plain": "  0%|          | 0/100 [00:00<?, ?it/s]",
            "application/vnd.jupyter.widget-view+json": {
              "version_major": 2,
              "version_minor": 0,
              "model_id": "ba850346a46840708513561180085e09"
            }
          },
          "metadata": {}
        },
        {
          "name": "stdout",
          "text": "Epoch:7/10, Train Loss:0.5895, EM:71.00, F1:78.23\n",
          "output_type": "stream"
        },
        {
          "output_type": "display_data",
          "data": {
            "text/plain": "  0%|          | 0/100 [00:00<?, ?it/s]",
            "application/vnd.jupyter.widget-view+json": {
              "version_major": 2,
              "version_minor": 0,
              "model_id": "540ec63fe9ee4929892e8171b2456789"
            }
          },
          "metadata": {}
        },
        {
          "name": "stdout",
          "text": "Epoch:8/10, Train Loss:0.5192, EM:77.00, F1:82.90\n",
          "output_type": "stream"
        },
        {
          "output_type": "display_data",
          "data": {
            "text/plain": "  0%|          | 0/100 [00:00<?, ?it/s]",
            "application/vnd.jupyter.widget-view+json": {
              "version_major": 2,
              "version_minor": 0,
              "model_id": "7a6d3debbb2b4793842d6a82d6d95c91"
            }
          },
          "metadata": {}
        },
        {
          "name": "stdout",
          "text": "Epoch:9/10, Train Loss:0.5102, EM:77.00, F1:84.67\n",
          "output_type": "stream"
        },
        {
          "output_type": "display_data",
          "data": {
            "text/plain": "  0%|          | 0/100 [00:00<?, ?it/s]",
            "application/vnd.jupyter.widget-view+json": {
              "version_major": 2,
              "version_minor": 0,
              "model_id": "1869d2c4285d4e109471b3894422a8e2"
            }
          },
          "metadata": {}
        },
        {
          "name": "stderr",
          "text": "[I 2023-12-11 21:03:52,808] Trial 16 finished with value: 76.0 and parameters: {'learning_rate': 4.417114028248489e-05, 'weight_decay': 0.29761887849530644, 'SchedulerType': 'linear'}. Best is trial 16 with value: 76.0.\n",
          "output_type": "stream"
        },
        {
          "name": "stdout",
          "text": "Epoch:10/10, Train Loss:0.4444, EM:76.00, F1:82.23\n",
          "output_type": "stream"
        },
        {
          "name": "stderr",
          "text": "Some weights of BigBirdForQuestionAnswering were not initialized from the model checkpoint at monologg/kobigbird-bert-base and are newly initialized: ['qa_classifier.intermediate.dense.weight', 'qa_classifier.output.LayerNorm.bias', 'qa_classifier.output.dense.weight', 'qa_classifier.output.dense.bias', 'qa_classifier.intermediate.dense.bias', 'qa_classifier.output.LayerNorm.weight', 'qa_classifier.qa_outputs.bias', 'qa_classifier.qa_outputs.weight']\nYou should probably TRAIN this model on a down-stream task to be able to use it for predictions and inference.\n",
          "output_type": "stream"
        },
        {
          "output_type": "display_data",
          "data": {
            "text/plain": "  0%|          | 0/10 [00:00<?, ?it/s]",
            "application/vnd.jupyter.widget-view+json": {
              "version_major": 2,
              "version_minor": 0,
              "model_id": "c831903c58dd4e2794d276b8e13d954a"
            }
          },
          "metadata": {}
        },
        {
          "output_type": "display_data",
          "data": {
            "text/plain": "  0%|          | 0/100 [00:00<?, ?it/s]",
            "application/vnd.jupyter.widget-view+json": {
              "version_major": 2,
              "version_minor": 0,
              "model_id": "a02516da504b4985b67d810c18f7e5cd"
            }
          },
          "metadata": {}
        },
        {
          "name": "stdout",
          "text": "Epoch:1/10, Train Loss:2.8951, EM:59.00, F1:66.30\n",
          "output_type": "stream"
        },
        {
          "output_type": "display_data",
          "data": {
            "text/plain": "  0%|          | 0/100 [00:00<?, ?it/s]",
            "application/vnd.jupyter.widget-view+json": {
              "version_major": 2,
              "version_minor": 0,
              "model_id": "1a0befe3811440218f418e7740bd853a"
            }
          },
          "metadata": {}
        },
        {
          "name": "stdout",
          "text": "Epoch:2/10, Train Loss:1.3586, EM:59.00, F1:65.07\n",
          "output_type": "stream"
        },
        {
          "output_type": "display_data",
          "data": {
            "text/plain": "  0%|          | 0/100 [00:00<?, ?it/s]",
            "application/vnd.jupyter.widget-view+json": {
              "version_major": 2,
              "version_minor": 0,
              "model_id": "12a0fa7b7f96459796a75f414b261626"
            }
          },
          "metadata": {}
        },
        {
          "name": "stdout",
          "text": "Epoch:3/10, Train Loss:1.2551, EM:72.00, F1:77.50\n",
          "output_type": "stream"
        },
        {
          "output_type": "display_data",
          "data": {
            "text/plain": "  0%|          | 0/100 [00:00<?, ?it/s]",
            "application/vnd.jupyter.widget-view+json": {
              "version_major": 2,
              "version_minor": 0,
              "model_id": "5e063b57766d40ddb8cd52ad07618200"
            }
          },
          "metadata": {}
        },
        {
          "name": "stdout",
          "text": "Epoch:4/10, Train Loss:0.8840, EM:73.00, F1:78.77\n",
          "output_type": "stream"
        },
        {
          "output_type": "display_data",
          "data": {
            "text/plain": "  0%|          | 0/100 [00:00<?, ?it/s]",
            "application/vnd.jupyter.widget-view+json": {
              "version_major": 2,
              "version_minor": 0,
              "model_id": "9fde7f8abec8464eb621d81c07c27d74"
            }
          },
          "metadata": {}
        },
        {
          "name": "stdout",
          "text": "Epoch:5/10, Train Loss:0.7916, EM:69.00, F1:75.23\n",
          "output_type": "stream"
        },
        {
          "output_type": "display_data",
          "data": {
            "text/plain": "  0%|          | 0/100 [00:00<?, ?it/s]",
            "application/vnd.jupyter.widget-view+json": {
              "version_major": 2,
              "version_minor": 0,
              "model_id": "f607927d4b914339ba522a981e8d72f7"
            }
          },
          "metadata": {}
        },
        {
          "name": "stdout",
          "text": "Epoch:6/10, Train Loss:0.6622, EM:74.00, F1:80.30\n",
          "output_type": "stream"
        },
        {
          "output_type": "display_data",
          "data": {
            "text/plain": "  0%|          | 0/100 [00:00<?, ?it/s]",
            "application/vnd.jupyter.widget-view+json": {
              "version_major": 2,
              "version_minor": 0,
              "model_id": "0443f137309f4d3c885d88504324f296"
            }
          },
          "metadata": {}
        },
        {
          "name": "stdout",
          "text": "Epoch:7/10, Train Loss:0.8967, EM:67.00, F1:75.20\n",
          "output_type": "stream"
        },
        {
          "output_type": "display_data",
          "data": {
            "text/plain": "  0%|          | 0/100 [00:00<?, ?it/s]",
            "application/vnd.jupyter.widget-view+json": {
              "version_major": 2,
              "version_minor": 0,
              "model_id": "b1492b359c894460a25801560c766eac"
            }
          },
          "metadata": {}
        },
        {
          "name": "stdout",
          "text": "Epoch:8/10, Train Loss:0.6495, EM:70.00, F1:78.63\n",
          "output_type": "stream"
        },
        {
          "output_type": "display_data",
          "data": {
            "text/plain": "  0%|          | 0/100 [00:00<?, ?it/s]",
            "application/vnd.jupyter.widget-view+json": {
              "version_major": 2,
              "version_minor": 0,
              "model_id": "f274980b06ec4796a1f198dd714fc49e"
            }
          },
          "metadata": {}
        },
        {
          "name": "stdout",
          "text": "Epoch:9/10, Train Loss:0.5842, EM:70.00, F1:78.40\n",
          "output_type": "stream"
        },
        {
          "output_type": "display_data",
          "data": {
            "text/plain": "  0%|          | 0/100 [00:00<?, ?it/s]",
            "application/vnd.jupyter.widget-view+json": {
              "version_major": 2,
              "version_minor": 0,
              "model_id": "ba1a8c4ac7a54017a859c823b426bb81"
            }
          },
          "metadata": {}
        },
        {
          "name": "stderr",
          "text": "[I 2023-12-11 21:30:51,232] Trial 17 finished with value: 70.0 and parameters: {'learning_rate': 4.5824901818560895e-05, 'weight_decay': 0.2938197947558123, 'SchedulerType': 'linear'}. Best is trial 16 with value: 76.0.\n",
          "output_type": "stream"
        },
        {
          "name": "stdout",
          "text": "Epoch:10/10, Train Loss:0.5027, EM:70.00, F1:77.93\n",
          "output_type": "stream"
        },
        {
          "name": "stderr",
          "text": "Some weights of BigBirdForQuestionAnswering were not initialized from the model checkpoint at monologg/kobigbird-bert-base and are newly initialized: ['qa_classifier.intermediate.dense.weight', 'qa_classifier.output.LayerNorm.bias', 'qa_classifier.output.dense.weight', 'qa_classifier.output.dense.bias', 'qa_classifier.intermediate.dense.bias', 'qa_classifier.output.LayerNorm.weight', 'qa_classifier.qa_outputs.bias', 'qa_classifier.qa_outputs.weight']\nYou should probably TRAIN this model on a down-stream task to be able to use it for predictions and inference.\n",
          "output_type": "stream"
        },
        {
          "output_type": "display_data",
          "data": {
            "text/plain": "  0%|          | 0/10 [00:00<?, ?it/s]",
            "application/vnd.jupyter.widget-view+json": {
              "version_major": 2,
              "version_minor": 0,
              "model_id": "ac7322e468944de2af6d15c617e8d13c"
            }
          },
          "metadata": {}
        },
        {
          "output_type": "display_data",
          "data": {
            "text/plain": "  0%|          | 0/100 [00:00<?, ?it/s]",
            "application/vnd.jupyter.widget-view+json": {
              "version_major": 2,
              "version_minor": 0,
              "model_id": "2789ed3ed3e74dc48ddd5cec0fa9ffb1"
            }
          },
          "metadata": {}
        },
        {
          "name": "stdout",
          "text": "Epoch:1/10, Train Loss:3.8802, EM:7.00, F1:13.23\n",
          "output_type": "stream"
        },
        {
          "output_type": "display_data",
          "data": {
            "text/plain": "  0%|          | 0/100 [00:00<?, ?it/s]",
            "application/vnd.jupyter.widget-view+json": {
              "version_major": 2,
              "version_minor": 0,
              "model_id": "f544b14ff692462c8ea79f1335fb514b"
            }
          },
          "metadata": {}
        },
        {
          "name": "stdout",
          "text": "Epoch:2/10, Train Loss:2.8099, EM:31.00, F1:36.30\n",
          "output_type": "stream"
        },
        {
          "output_type": "display_data",
          "data": {
            "text/plain": "  0%|          | 0/100 [00:00<?, ?it/s]",
            "application/vnd.jupyter.widget-view+json": {
              "version_major": 2,
              "version_minor": 0,
              "model_id": "064d2bf2d1c646ebb11f021c041977c4"
            }
          },
          "metadata": {}
        },
        {
          "name": "stdout",
          "text": "Epoch:3/10, Train Loss:4.8315, EM:0.00, F1:0.31\n",
          "output_type": "stream"
        },
        {
          "output_type": "display_data",
          "data": {
            "text/plain": "  0%|          | 0/100 [00:00<?, ?it/s]",
            "application/vnd.jupyter.widget-view+json": {
              "version_major": 2,
              "version_minor": 0,
              "model_id": "ccc0f186e9884e2cafb4e94ca55a4390"
            }
          },
          "metadata": {}
        },
        {
          "name": "stdout",
          "text": "Epoch:4/10, Train Loss:5.6337, EM:1.00, F1:1.00\n",
          "output_type": "stream"
        },
        {
          "output_type": "display_data",
          "data": {
            "text/plain": "  0%|          | 0/100 [00:00<?, ?it/s]",
            "application/vnd.jupyter.widget-view+json": {
              "version_major": 2,
              "version_minor": 0,
              "model_id": "3481b809b2e64753af73a5b6e0e47398"
            }
          },
          "metadata": {}
        },
        {
          "name": "stdout",
          "text": "Epoch:5/10, Train Loss:5.6161, EM:2.00, F1:2.96\n",
          "output_type": "stream"
        },
        {
          "output_type": "display_data",
          "data": {
            "text/plain": "  0%|          | 0/100 [00:00<?, ?it/s]",
            "application/vnd.jupyter.widget-view+json": {
              "version_major": 2,
              "version_minor": 0,
              "model_id": "7bc49b9e008c4256ba83fe0bfdcd57ed"
            }
          },
          "metadata": {}
        },
        {
          "name": "stdout",
          "text": "Epoch:6/10, Train Loss:5.6109, EM:0.00, F1:0.67\n",
          "output_type": "stream"
        },
        {
          "output_type": "display_data",
          "data": {
            "text/plain": "  0%|          | 0/100 [00:00<?, ?it/s]",
            "application/vnd.jupyter.widget-view+json": {
              "version_major": 2,
              "version_minor": 0,
              "model_id": "6585503422bb41bbbd497feec6ad95cd"
            }
          },
          "metadata": {}
        },
        {
          "name": "stdout",
          "text": "Epoch:7/10, Train Loss:5.6012, EM:5.00, F1:7.20\n",
          "output_type": "stream"
        },
        {
          "output_type": "display_data",
          "data": {
            "text/plain": "  0%|          | 0/100 [00:00<?, ?it/s]",
            "application/vnd.jupyter.widget-view+json": {
              "version_major": 2,
              "version_minor": 0,
              "model_id": "f085689c1dcc4c03b0a075afa1b1b601"
            }
          },
          "metadata": {}
        },
        {
          "name": "stdout",
          "text": "Epoch:8/10, Train Loss:5.6085, EM:1.00, F1:1.31\n",
          "output_type": "stream"
        },
        {
          "output_type": "display_data",
          "data": {
            "text/plain": "  0%|          | 0/100 [00:00<?, ?it/s]",
            "application/vnd.jupyter.widget-view+json": {
              "version_major": 2,
              "version_minor": 0,
              "model_id": "7c7d60efb75547c79c86bb5759969709"
            }
          },
          "metadata": {}
        },
        {
          "name": "stdout",
          "text": "Epoch:9/10, Train Loss:5.6006, EM:1.00, F1:2.65\n",
          "output_type": "stream"
        },
        {
          "output_type": "display_data",
          "data": {
            "text/plain": "  0%|          | 0/100 [00:00<?, ?it/s]",
            "application/vnd.jupyter.widget-view+json": {
              "version_major": 2,
              "version_minor": 0,
              "model_id": "e7b3f78eb54042ce89ef33ab22aeff5b"
            }
          },
          "metadata": {}
        },
        {
          "name": "stderr",
          "text": "[I 2023-12-11 21:57:49,656] Trial 18 finished with value: 1.0 and parameters: {'learning_rate': 0.00011301629600691794, 'weight_decay': 0.2581061284164593, 'SchedulerType': 'constant'}. Best is trial 16 with value: 76.0.\n",
          "output_type": "stream"
        },
        {
          "name": "stdout",
          "text": "Epoch:10/10, Train Loss:5.5899, EM:1.00, F1:2.15\n",
          "output_type": "stream"
        },
        {
          "name": "stderr",
          "text": "Some weights of BigBirdForQuestionAnswering were not initialized from the model checkpoint at monologg/kobigbird-bert-base and are newly initialized: ['qa_classifier.intermediate.dense.weight', 'qa_classifier.output.LayerNorm.bias', 'qa_classifier.output.dense.weight', 'qa_classifier.output.dense.bias', 'qa_classifier.intermediate.dense.bias', 'qa_classifier.output.LayerNorm.weight', 'qa_classifier.qa_outputs.bias', 'qa_classifier.qa_outputs.weight']\nYou should probably TRAIN this model on a down-stream task to be able to use it for predictions and inference.\n",
          "output_type": "stream"
        },
        {
          "output_type": "display_data",
          "data": {
            "text/plain": "  0%|          | 0/10 [00:00<?, ?it/s]",
            "application/vnd.jupyter.widget-view+json": {
              "version_major": 2,
              "version_minor": 0,
              "model_id": "b9cfba6f69854cdd8fd3fc2d2f0cc785"
            }
          },
          "metadata": {}
        },
        {
          "output_type": "display_data",
          "data": {
            "text/plain": "  0%|          | 0/100 [00:00<?, ?it/s]",
            "application/vnd.jupyter.widget-view+json": {
              "version_major": 2,
              "version_minor": 0,
              "model_id": "c07c5adabefd4937b4172fe30143c2fb"
            }
          },
          "metadata": {}
        },
        {
          "name": "stdout",
          "text": "Epoch:1/10, Train Loss:3.5723, EM:44.00, F1:49.67\n",
          "output_type": "stream"
        },
        {
          "output_type": "display_data",
          "data": {
            "text/plain": "  0%|          | 0/100 [00:00<?, ?it/s]",
            "application/vnd.jupyter.widget-view+json": {
              "version_major": 2,
              "version_minor": 0,
              "model_id": "6f7daf0cbdae417ab14a631351589622"
            }
          },
          "metadata": {}
        },
        {
          "name": "stdout",
          "text": "Epoch:2/10, Train Loss:1.6975, EM:60.00, F1:66.39\n",
          "output_type": "stream"
        },
        {
          "output_type": "display_data",
          "data": {
            "text/plain": "  0%|          | 0/100 [00:00<?, ?it/s]",
            "application/vnd.jupyter.widget-view+json": {
              "version_major": 2,
              "version_minor": 0,
              "model_id": "1d44a1881e0b400ea837a75ce3dc323d"
            }
          },
          "metadata": {}
        },
        {
          "name": "stdout",
          "text": "Epoch:3/10, Train Loss:1.1099, EM:79.00, F1:83.10\n",
          "output_type": "stream"
        },
        {
          "output_type": "display_data",
          "data": {
            "text/plain": "  0%|          | 0/100 [00:00<?, ?it/s]",
            "application/vnd.jupyter.widget-view+json": {
              "version_major": 2,
              "version_minor": 0,
              "model_id": "be4388f609014fdab56015a1be2b36ed"
            }
          },
          "metadata": {}
        },
        {
          "name": "stdout",
          "text": "Epoch:4/10, Train Loss:0.9389, EM:71.00, F1:80.90\n",
          "output_type": "stream"
        },
        {
          "output_type": "display_data",
          "data": {
            "text/plain": "  0%|          | 0/100 [00:00<?, ?it/s]",
            "application/vnd.jupyter.widget-view+json": {
              "version_major": 2,
              "version_minor": 0,
              "model_id": "5726a6c1962847c8ab40a16e049f45c9"
            }
          },
          "metadata": {}
        },
        {
          "name": "stdout",
          "text": "Epoch:5/10, Train Loss:0.8002, EM:65.00, F1:71.93\n",
          "output_type": "stream"
        },
        {
          "output_type": "display_data",
          "data": {
            "text/plain": "  0%|          | 0/100 [00:00<?, ?it/s]",
            "application/vnd.jupyter.widget-view+json": {
              "version_major": 2,
              "version_minor": 0,
              "model_id": "d4e65f8d34184ec7b3b9dedca26d7fd7"
            }
          },
          "metadata": {}
        },
        {
          "name": "stdout",
          "text": "Epoch:6/10, Train Loss:0.6961, EM:76.00, F1:82.14\n",
          "output_type": "stream"
        },
        {
          "output_type": "display_data",
          "data": {
            "text/plain": "  0%|          | 0/100 [00:00<?, ?it/s]",
            "application/vnd.jupyter.widget-view+json": {
              "version_major": 2,
              "version_minor": 0,
              "model_id": "e9f6b1fe3294461b839715bc2b55dfee"
            }
          },
          "metadata": {}
        },
        {
          "name": "stdout",
          "text": "Epoch:7/10, Train Loss:0.5776, EM:73.00, F1:80.77\n",
          "output_type": "stream"
        },
        {
          "output_type": "display_data",
          "data": {
            "text/plain": "  0%|          | 0/100 [00:00<?, ?it/s]",
            "application/vnd.jupyter.widget-view+json": {
              "version_major": 2,
              "version_minor": 0,
              "model_id": "f214c1882a97462d8fea7f33f4bad5e0"
            }
          },
          "metadata": {}
        },
        {
          "name": "stdout",
          "text": "Epoch:8/10, Train Loss:0.4979, EM:73.00, F1:80.22\n",
          "output_type": "stream"
        },
        {
          "output_type": "display_data",
          "data": {
            "text/plain": "  0%|          | 0/100 [00:00<?, ?it/s]",
            "application/vnd.jupyter.widget-view+json": {
              "version_major": 2,
              "version_minor": 0,
              "model_id": "ef7c5d86874647919afcce6b563c8e1f"
            }
          },
          "metadata": {}
        },
        {
          "name": "stdout",
          "text": "Epoch:9/10, Train Loss:0.5053, EM:72.00, F1:78.12\n",
          "output_type": "stream"
        },
        {
          "output_type": "display_data",
          "data": {
            "text/plain": "  0%|          | 0/100 [00:00<?, ?it/s]",
            "application/vnd.jupyter.widget-view+json": {
              "version_major": 2,
              "version_minor": 0,
              "model_id": "990f7a76d08449d09c6189ea7be084b7"
            }
          },
          "metadata": {}
        },
        {
          "name": "stderr",
          "text": "[I 2023-12-11 22:24:48,818] Trial 19 finished with value: 70.0 and parameters: {'learning_rate': 3.313973514679921e-05, 'weight_decay': 0.26113053258744606, 'SchedulerType': 'cosine'}. Best is trial 16 with value: 76.0.\n",
          "output_type": "stream"
        },
        {
          "name": "stdout",
          "text": "Epoch:10/10, Train Loss:0.4410, EM:70.00, F1:77.80\n",
          "output_type": "stream"
        },
        {
          "execution_count": 27,
          "output_type": "execute_result",
          "data": {
            "text/plain": "['/kaggle/working/aiconnect_mrc_optuna.pkl']"
          },
          "metadata": {}
        }
      ]
    },
    {
      "cell_type": "code",
      "source": [
        "study = load('/kaggle/working/aiconnect_mrc_optuna.pkl')\n",
        "df = study.trials_dataframe()\n",
        "df.head()"
      ],
      "metadata": {
        "execution": {
          "iopub.status.busy": "2023-12-11T22:24:48.837811Z",
          "iopub.execute_input": "2023-12-11T22:24:48.838090Z",
          "iopub.status.idle": "2023-12-11T22:24:48.877672Z",
          "shell.execute_reply.started": "2023-12-11T22:24:48.838062Z",
          "shell.execute_reply": "2023-12-11T22:24:48.876807Z"
        },
        "trusted": true,
        "id": "XQIcQq_eF2P7",
        "outputId": "4a9a19c4-8f7b-4981-d06f-90842b8c05e7"
      },
      "execution_count": null,
      "outputs": [
        {
          "execution_count": 28,
          "output_type": "execute_result",
          "data": {
            "text/plain": "   number  value             datetime_start          datetime_complete  \\\n0       0    0.0 2023-12-11 13:16:52.097515 2023-12-11 13:44:52.632563   \n1       1    0.0 2023-12-11 13:44:52.634285 2023-12-11 14:13:00.929961   \n2       2    0.0 2023-12-11 14:13:00.931556 2023-12-11 14:40:32.777106   \n3       3   16.0 2023-12-11 14:40:32.778571 2023-12-11 15:08:16.759862   \n4       4   64.0 2023-12-11 15:08:16.761403 2023-12-11 15:36:15.377512   \n\n                duration params_SchedulerType  params_learning_rate  \\\n0 0 days 00:28:00.535048             constant          8.741268e-04   \n1 0 days 00:28:08.295676               linear          3.805722e-03   \n2 0 days 00:27:31.845550             constant          1.158814e-04   \n3 0 days 00:27:43.981291               linear          7.888511e-07   \n4 0 days 00:27:58.616109               cosine          6.841812e-05   \n\n   params_weight_decay     state  \n0             0.179540  COMPLETE  \n1             0.080957  COMPLETE  \n2             0.055481  COMPLETE  \n3             0.188205  COMPLETE  \n4             0.278004  COMPLETE  ",
            "text/html": "<div>\n<style scoped>\n    .dataframe tbody tr th:only-of-type {\n        vertical-align: middle;\n    }\n\n    .dataframe tbody tr th {\n        vertical-align: top;\n    }\n\n    .dataframe thead th {\n        text-align: right;\n    }\n</style>\n<table border=\"1\" class=\"dataframe\">\n  <thead>\n    <tr style=\"text-align: right;\">\n      <th></th>\n      <th>number</th>\n      <th>value</th>\n      <th>datetime_start</th>\n      <th>datetime_complete</th>\n      <th>duration</th>\n      <th>params_SchedulerType</th>\n      <th>params_learning_rate</th>\n      <th>params_weight_decay</th>\n      <th>state</th>\n    </tr>\n  </thead>\n  <tbody>\n    <tr>\n      <th>0</th>\n      <td>0</td>\n      <td>0.0</td>\n      <td>2023-12-11 13:16:52.097515</td>\n      <td>2023-12-11 13:44:52.632563</td>\n      <td>0 days 00:28:00.535048</td>\n      <td>constant</td>\n      <td>8.741268e-04</td>\n      <td>0.179540</td>\n      <td>COMPLETE</td>\n    </tr>\n    <tr>\n      <th>1</th>\n      <td>1</td>\n      <td>0.0</td>\n      <td>2023-12-11 13:44:52.634285</td>\n      <td>2023-12-11 14:13:00.929961</td>\n      <td>0 days 00:28:08.295676</td>\n      <td>linear</td>\n      <td>3.805722e-03</td>\n      <td>0.080957</td>\n      <td>COMPLETE</td>\n    </tr>\n    <tr>\n      <th>2</th>\n      <td>2</td>\n      <td>0.0</td>\n      <td>2023-12-11 14:13:00.931556</td>\n      <td>2023-12-11 14:40:32.777106</td>\n      <td>0 days 00:27:31.845550</td>\n      <td>constant</td>\n      <td>1.158814e-04</td>\n      <td>0.055481</td>\n      <td>COMPLETE</td>\n    </tr>\n    <tr>\n      <th>3</th>\n      <td>3</td>\n      <td>16.0</td>\n      <td>2023-12-11 14:40:32.778571</td>\n      <td>2023-12-11 15:08:16.759862</td>\n      <td>0 days 00:27:43.981291</td>\n      <td>linear</td>\n      <td>7.888511e-07</td>\n      <td>0.188205</td>\n      <td>COMPLETE</td>\n    </tr>\n    <tr>\n      <th>4</th>\n      <td>4</td>\n      <td>64.0</td>\n      <td>2023-12-11 15:08:16.761403</td>\n      <td>2023-12-11 15:36:15.377512</td>\n      <td>0 days 00:27:58.616109</td>\n      <td>cosine</td>\n      <td>6.841812e-05</td>\n      <td>0.278004</td>\n      <td>COMPLETE</td>\n    </tr>\n  </tbody>\n</table>\n</div>"
          },
          "metadata": {}
        }
      ]
    },
    {
      "cell_type": "code",
      "source": [
        "df"
      ],
      "metadata": {
        "execution": {
          "iopub.status.busy": "2023-12-11T22:28:00.019634Z",
          "iopub.execute_input": "2023-12-11T22:28:00.020341Z",
          "iopub.status.idle": "2023-12-11T22:28:00.041612Z",
          "shell.execute_reply.started": "2023-12-11T22:28:00.020304Z",
          "shell.execute_reply": "2023-12-11T22:28:00.040632Z"
        },
        "trusted": true,
        "id": "ZU4E_93xF2P7",
        "outputId": "4c65ea4a-71e4-4f1a-825a-ed407aa5daed"
      },
      "execution_count": null,
      "outputs": [
        {
          "execution_count": 29,
          "output_type": "execute_result",
          "data": {
            "text/plain": "    number  value             datetime_start          datetime_complete  \\\n0        0    0.0 2023-12-11 13:16:52.097515 2023-12-11 13:44:52.632563   \n1        1    0.0 2023-12-11 13:44:52.634285 2023-12-11 14:13:00.929961   \n2        2    0.0 2023-12-11 14:13:00.931556 2023-12-11 14:40:32.777106   \n3        3   16.0 2023-12-11 14:40:32.778571 2023-12-11 15:08:16.759862   \n4        4   64.0 2023-12-11 15:08:16.761403 2023-12-11 15:36:15.377512   \n5        5    0.0 2023-12-11 15:36:15.378959 2023-12-11 16:03:55.379665   \n6        6   66.0 2023-12-11 16:03:55.381234 2023-12-11 16:31:24.561423   \n7        7   14.0 2023-12-11 16:31:24.562840 2023-12-11 16:58:58.328127   \n8        8   73.0 2023-12-11 16:58:58.329397 2023-12-11 17:26:29.081642   \n9        9    0.0 2023-12-11 17:26:29.083122 2023-12-11 17:54:11.879566   \n10      10   75.0 2023-12-11 17:54:11.881209 2023-12-11 18:22:01.465938   \n11      11   67.0 2023-12-11 18:22:01.467354 2023-12-11 18:49:16.716751   \n12      12   74.0 2023-12-11 18:49:16.718203 2023-12-11 19:16:12.200239   \n13      13   66.0 2023-12-11 19:16:12.201736 2023-12-11 19:43:06.636365   \n14      14   73.0 2023-12-11 19:43:06.637566 2023-12-11 20:10:01.756350   \n15      15   70.0 2023-12-11 20:10:01.757552 2023-12-11 20:36:58.435502   \n16      16   76.0 2023-12-11 20:36:58.436972 2023-12-11 21:03:52.808259   \n17      17   70.0 2023-12-11 21:03:52.809888 2023-12-11 21:30:51.232076   \n18      18    1.0 2023-12-11 21:30:51.233549 2023-12-11 21:57:49.655917   \n19      19   70.0 2023-12-11 21:57:49.657459 2023-12-11 22:24:48.818079   \n\n                 duration params_SchedulerType  params_learning_rate  \\\n0  0 days 00:28:00.535048             constant          8.741268e-04   \n1  0 days 00:28:08.295676               linear          3.805722e-03   \n2  0 days 00:27:31.845550             constant          1.158814e-04   \n3  0 days 00:27:43.981291               linear          7.888511e-07   \n4  0 days 00:27:58.616109               cosine          6.841812e-05   \n5  0 days 00:27:40.000706             constant          5.630247e-04   \n6  0 days 00:27:29.180189               cosine          1.021714e-05   \n7  0 days 00:27:33.765287               linear          8.554897e-07   \n8  0 days 00:27:30.752245               linear          2.013713e-05   \n9  0 days 00:27:42.796444               linear          2.141484e-04   \n10 0 days 00:27:49.584729               linear          1.256597e-05   \n11 0 days 00:27:15.249397               linear          1.106637e-05   \n12 0 days 00:26:55.482036               linear          1.528351e-05   \n13 0 days 00:26:54.434629               linear          4.031704e-06   \n14 0 days 00:26:55.118784               linear          3.343270e-05   \n15 0 days 00:26:56.677950               cosine          3.516977e-06   \n16 0 days 00:26:54.371287               linear          4.417114e-05   \n17 0 days 00:26:58.422188               linear          4.582490e-05   \n18 0 days 00:26:58.422368             constant          1.130163e-04   \n19 0 days 00:26:59.160620               cosine          3.313974e-05   \n\n    params_weight_decay     state  \n0              0.179540  COMPLETE  \n1              0.080957  COMPLETE  \n2              0.055481  COMPLETE  \n3              0.188205  COMPLETE  \n4              0.278004  COMPLETE  \n5              0.003032  COMPLETE  \n6              0.115443  COMPLETE  \n7              0.280526  COMPLETE  \n8              0.176219  COMPLETE  \n9              0.104397  COMPLETE  \n10             0.210538  COMPLETE  \n11             0.215798  COMPLETE  \n12             0.226465  COMPLETE  \n13             0.227936  COMPLETE  \n14             0.233944  COMPLETE  \n15             0.143763  COMPLETE  \n16             0.297619  COMPLETE  \n17             0.293820  COMPLETE  \n18             0.258106  COMPLETE  \n19             0.261131  COMPLETE  ",
            "text/html": "<div>\n<style scoped>\n    .dataframe tbody tr th:only-of-type {\n        vertical-align: middle;\n    }\n\n    .dataframe tbody tr th {\n        vertical-align: top;\n    }\n\n    .dataframe thead th {\n        text-align: right;\n    }\n</style>\n<table border=\"1\" class=\"dataframe\">\n  <thead>\n    <tr style=\"text-align: right;\">\n      <th></th>\n      <th>number</th>\n      <th>value</th>\n      <th>datetime_start</th>\n      <th>datetime_complete</th>\n      <th>duration</th>\n      <th>params_SchedulerType</th>\n      <th>params_learning_rate</th>\n      <th>params_weight_decay</th>\n      <th>state</th>\n    </tr>\n  </thead>\n  <tbody>\n    <tr>\n      <th>0</th>\n      <td>0</td>\n      <td>0.0</td>\n      <td>2023-12-11 13:16:52.097515</td>\n      <td>2023-12-11 13:44:52.632563</td>\n      <td>0 days 00:28:00.535048</td>\n      <td>constant</td>\n      <td>8.741268e-04</td>\n      <td>0.179540</td>\n      <td>COMPLETE</td>\n    </tr>\n    <tr>\n      <th>1</th>\n      <td>1</td>\n      <td>0.0</td>\n      <td>2023-12-11 13:44:52.634285</td>\n      <td>2023-12-11 14:13:00.929961</td>\n      <td>0 days 00:28:08.295676</td>\n      <td>linear</td>\n      <td>3.805722e-03</td>\n      <td>0.080957</td>\n      <td>COMPLETE</td>\n    </tr>\n    <tr>\n      <th>2</th>\n      <td>2</td>\n      <td>0.0</td>\n      <td>2023-12-11 14:13:00.931556</td>\n      <td>2023-12-11 14:40:32.777106</td>\n      <td>0 days 00:27:31.845550</td>\n      <td>constant</td>\n      <td>1.158814e-04</td>\n      <td>0.055481</td>\n      <td>COMPLETE</td>\n    </tr>\n    <tr>\n      <th>3</th>\n      <td>3</td>\n      <td>16.0</td>\n      <td>2023-12-11 14:40:32.778571</td>\n      <td>2023-12-11 15:08:16.759862</td>\n      <td>0 days 00:27:43.981291</td>\n      <td>linear</td>\n      <td>7.888511e-07</td>\n      <td>0.188205</td>\n      <td>COMPLETE</td>\n    </tr>\n    <tr>\n      <th>4</th>\n      <td>4</td>\n      <td>64.0</td>\n      <td>2023-12-11 15:08:16.761403</td>\n      <td>2023-12-11 15:36:15.377512</td>\n      <td>0 days 00:27:58.616109</td>\n      <td>cosine</td>\n      <td>6.841812e-05</td>\n      <td>0.278004</td>\n      <td>COMPLETE</td>\n    </tr>\n    <tr>\n      <th>5</th>\n      <td>5</td>\n      <td>0.0</td>\n      <td>2023-12-11 15:36:15.378959</td>\n      <td>2023-12-11 16:03:55.379665</td>\n      <td>0 days 00:27:40.000706</td>\n      <td>constant</td>\n      <td>5.630247e-04</td>\n      <td>0.003032</td>\n      <td>COMPLETE</td>\n    </tr>\n    <tr>\n      <th>6</th>\n      <td>6</td>\n      <td>66.0</td>\n      <td>2023-12-11 16:03:55.381234</td>\n      <td>2023-12-11 16:31:24.561423</td>\n      <td>0 days 00:27:29.180189</td>\n      <td>cosine</td>\n      <td>1.021714e-05</td>\n      <td>0.115443</td>\n      <td>COMPLETE</td>\n    </tr>\n    <tr>\n      <th>7</th>\n      <td>7</td>\n      <td>14.0</td>\n      <td>2023-12-11 16:31:24.562840</td>\n      <td>2023-12-11 16:58:58.328127</td>\n      <td>0 days 00:27:33.765287</td>\n      <td>linear</td>\n      <td>8.554897e-07</td>\n      <td>0.280526</td>\n      <td>COMPLETE</td>\n    </tr>\n    <tr>\n      <th>8</th>\n      <td>8</td>\n      <td>73.0</td>\n      <td>2023-12-11 16:58:58.329397</td>\n      <td>2023-12-11 17:26:29.081642</td>\n      <td>0 days 00:27:30.752245</td>\n      <td>linear</td>\n      <td>2.013713e-05</td>\n      <td>0.176219</td>\n      <td>COMPLETE</td>\n    </tr>\n    <tr>\n      <th>9</th>\n      <td>9</td>\n      <td>0.0</td>\n      <td>2023-12-11 17:26:29.083122</td>\n      <td>2023-12-11 17:54:11.879566</td>\n      <td>0 days 00:27:42.796444</td>\n      <td>linear</td>\n      <td>2.141484e-04</td>\n      <td>0.104397</td>\n      <td>COMPLETE</td>\n    </tr>\n    <tr>\n      <th>10</th>\n      <td>10</td>\n      <td>75.0</td>\n      <td>2023-12-11 17:54:11.881209</td>\n      <td>2023-12-11 18:22:01.465938</td>\n      <td>0 days 00:27:49.584729</td>\n      <td>linear</td>\n      <td>1.256597e-05</td>\n      <td>0.210538</td>\n      <td>COMPLETE</td>\n    </tr>\n    <tr>\n      <th>11</th>\n      <td>11</td>\n      <td>67.0</td>\n      <td>2023-12-11 18:22:01.467354</td>\n      <td>2023-12-11 18:49:16.716751</td>\n      <td>0 days 00:27:15.249397</td>\n      <td>linear</td>\n      <td>1.106637e-05</td>\n      <td>0.215798</td>\n      <td>COMPLETE</td>\n    </tr>\n    <tr>\n      <th>12</th>\n      <td>12</td>\n      <td>74.0</td>\n      <td>2023-12-11 18:49:16.718203</td>\n      <td>2023-12-11 19:16:12.200239</td>\n      <td>0 days 00:26:55.482036</td>\n      <td>linear</td>\n      <td>1.528351e-05</td>\n      <td>0.226465</td>\n      <td>COMPLETE</td>\n    </tr>\n    <tr>\n      <th>13</th>\n      <td>13</td>\n      <td>66.0</td>\n      <td>2023-12-11 19:16:12.201736</td>\n      <td>2023-12-11 19:43:06.636365</td>\n      <td>0 days 00:26:54.434629</td>\n      <td>linear</td>\n      <td>4.031704e-06</td>\n      <td>0.227936</td>\n      <td>COMPLETE</td>\n    </tr>\n    <tr>\n      <th>14</th>\n      <td>14</td>\n      <td>73.0</td>\n      <td>2023-12-11 19:43:06.637566</td>\n      <td>2023-12-11 20:10:01.756350</td>\n      <td>0 days 00:26:55.118784</td>\n      <td>linear</td>\n      <td>3.343270e-05</td>\n      <td>0.233944</td>\n      <td>COMPLETE</td>\n    </tr>\n    <tr>\n      <th>15</th>\n      <td>15</td>\n      <td>70.0</td>\n      <td>2023-12-11 20:10:01.757552</td>\n      <td>2023-12-11 20:36:58.435502</td>\n      <td>0 days 00:26:56.677950</td>\n      <td>cosine</td>\n      <td>3.516977e-06</td>\n      <td>0.143763</td>\n      <td>COMPLETE</td>\n    </tr>\n    <tr>\n      <th>16</th>\n      <td>16</td>\n      <td>76.0</td>\n      <td>2023-12-11 20:36:58.436972</td>\n      <td>2023-12-11 21:03:52.808259</td>\n      <td>0 days 00:26:54.371287</td>\n      <td>linear</td>\n      <td>4.417114e-05</td>\n      <td>0.297619</td>\n      <td>COMPLETE</td>\n    </tr>\n    <tr>\n      <th>17</th>\n      <td>17</td>\n      <td>70.0</td>\n      <td>2023-12-11 21:03:52.809888</td>\n      <td>2023-12-11 21:30:51.232076</td>\n      <td>0 days 00:26:58.422188</td>\n      <td>linear</td>\n      <td>4.582490e-05</td>\n      <td>0.293820</td>\n      <td>COMPLETE</td>\n    </tr>\n    <tr>\n      <th>18</th>\n      <td>18</td>\n      <td>1.0</td>\n      <td>2023-12-11 21:30:51.233549</td>\n      <td>2023-12-11 21:57:49.655917</td>\n      <td>0 days 00:26:58.422368</td>\n      <td>constant</td>\n      <td>1.130163e-04</td>\n      <td>0.258106</td>\n      <td>COMPLETE</td>\n    </tr>\n    <tr>\n      <th>19</th>\n      <td>19</td>\n      <td>70.0</td>\n      <td>2023-12-11 21:57:49.657459</td>\n      <td>2023-12-11 22:24:48.818079</td>\n      <td>0 days 00:26:59.160620</td>\n      <td>cosine</td>\n      <td>3.313974e-05</td>\n      <td>0.261131</td>\n      <td>COMPLETE</td>\n    </tr>\n  </tbody>\n</table>\n</div>"
          },
          "metadata": {}
        }
      ]
    },
    {
      "cell_type": "code",
      "source": [
        "df.sort_values(by='value',  ascending=False)"
      ],
      "metadata": {
        "execution": {
          "iopub.status.busy": "2023-12-11T22:48:56.708981Z",
          "iopub.execute_input": "2023-12-11T22:48:56.709348Z",
          "iopub.status.idle": "2023-12-11T22:48:56.729476Z",
          "shell.execute_reply.started": "2023-12-11T22:48:56.709315Z",
          "shell.execute_reply": "2023-12-11T22:48:56.728581Z"
        },
        "trusted": true,
        "id": "WWcG4GjMF2P8",
        "outputId": "dee57392-6dda-4864-8f2b-9beed1a8b99a"
      },
      "execution_count": null,
      "outputs": [
        {
          "execution_count": 31,
          "output_type": "execute_result",
          "data": {
            "text/plain": "    number  value             datetime_start          datetime_complete  \\\n16      16   76.0 2023-12-11 20:36:58.436972 2023-12-11 21:03:52.808259   \n10      10   75.0 2023-12-11 17:54:11.881209 2023-12-11 18:22:01.465938   \n12      12   74.0 2023-12-11 18:49:16.718203 2023-12-11 19:16:12.200239   \n8        8   73.0 2023-12-11 16:58:58.329397 2023-12-11 17:26:29.081642   \n14      14   73.0 2023-12-11 19:43:06.637566 2023-12-11 20:10:01.756350   \n17      17   70.0 2023-12-11 21:03:52.809888 2023-12-11 21:30:51.232076   \n15      15   70.0 2023-12-11 20:10:01.757552 2023-12-11 20:36:58.435502   \n19      19   70.0 2023-12-11 21:57:49.657459 2023-12-11 22:24:48.818079   \n11      11   67.0 2023-12-11 18:22:01.467354 2023-12-11 18:49:16.716751   \n6        6   66.0 2023-12-11 16:03:55.381234 2023-12-11 16:31:24.561423   \n13      13   66.0 2023-12-11 19:16:12.201736 2023-12-11 19:43:06.636365   \n4        4   64.0 2023-12-11 15:08:16.761403 2023-12-11 15:36:15.377512   \n3        3   16.0 2023-12-11 14:40:32.778571 2023-12-11 15:08:16.759862   \n7        7   14.0 2023-12-11 16:31:24.562840 2023-12-11 16:58:58.328127   \n18      18    1.0 2023-12-11 21:30:51.233549 2023-12-11 21:57:49.655917   \n9        9    0.0 2023-12-11 17:26:29.083122 2023-12-11 17:54:11.879566   \n1        1    0.0 2023-12-11 13:44:52.634285 2023-12-11 14:13:00.929961   \n5        5    0.0 2023-12-11 15:36:15.378959 2023-12-11 16:03:55.379665   \n2        2    0.0 2023-12-11 14:13:00.931556 2023-12-11 14:40:32.777106   \n0        0    0.0 2023-12-11 13:16:52.097515 2023-12-11 13:44:52.632563   \n\n                 duration params_SchedulerType  params_learning_rate  \\\n16 0 days 00:26:54.371287               linear          4.417114e-05   \n10 0 days 00:27:49.584729               linear          1.256597e-05   \n12 0 days 00:26:55.482036               linear          1.528351e-05   \n8  0 days 00:27:30.752245               linear          2.013713e-05   \n14 0 days 00:26:55.118784               linear          3.343270e-05   \n17 0 days 00:26:58.422188               linear          4.582490e-05   \n15 0 days 00:26:56.677950               cosine          3.516977e-06   \n19 0 days 00:26:59.160620               cosine          3.313974e-05   \n11 0 days 00:27:15.249397               linear          1.106637e-05   \n6  0 days 00:27:29.180189               cosine          1.021714e-05   \n13 0 days 00:26:54.434629               linear          4.031704e-06   \n4  0 days 00:27:58.616109               cosine          6.841812e-05   \n3  0 days 00:27:43.981291               linear          7.888511e-07   \n7  0 days 00:27:33.765287               linear          8.554897e-07   \n18 0 days 00:26:58.422368             constant          1.130163e-04   \n9  0 days 00:27:42.796444               linear          2.141484e-04   \n1  0 days 00:28:08.295676               linear          3.805722e-03   \n5  0 days 00:27:40.000706             constant          5.630247e-04   \n2  0 days 00:27:31.845550             constant          1.158814e-04   \n0  0 days 00:28:00.535048             constant          8.741268e-04   \n\n    params_weight_decay     state  \n16             0.297619  COMPLETE  \n10             0.210538  COMPLETE  \n12             0.226465  COMPLETE  \n8              0.176219  COMPLETE  \n14             0.233944  COMPLETE  \n17             0.293820  COMPLETE  \n15             0.143763  COMPLETE  \n19             0.261131  COMPLETE  \n11             0.215798  COMPLETE  \n6              0.115443  COMPLETE  \n13             0.227936  COMPLETE  \n4              0.278004  COMPLETE  \n3              0.188205  COMPLETE  \n7              0.280526  COMPLETE  \n18             0.258106  COMPLETE  \n9              0.104397  COMPLETE  \n1              0.080957  COMPLETE  \n5              0.003032  COMPLETE  \n2              0.055481  COMPLETE  \n0              0.179540  COMPLETE  ",
            "text/html": "<div>\n<style scoped>\n    .dataframe tbody tr th:only-of-type {\n        vertical-align: middle;\n    }\n\n    .dataframe tbody tr th {\n        vertical-align: top;\n    }\n\n    .dataframe thead th {\n        text-align: right;\n    }\n</style>\n<table border=\"1\" class=\"dataframe\">\n  <thead>\n    <tr style=\"text-align: right;\">\n      <th></th>\n      <th>number</th>\n      <th>value</th>\n      <th>datetime_start</th>\n      <th>datetime_complete</th>\n      <th>duration</th>\n      <th>params_SchedulerType</th>\n      <th>params_learning_rate</th>\n      <th>params_weight_decay</th>\n      <th>state</th>\n    </tr>\n  </thead>\n  <tbody>\n    <tr>\n      <th>16</th>\n      <td>16</td>\n      <td>76.0</td>\n      <td>2023-12-11 20:36:58.436972</td>\n      <td>2023-12-11 21:03:52.808259</td>\n      <td>0 days 00:26:54.371287</td>\n      <td>linear</td>\n      <td>4.417114e-05</td>\n      <td>0.297619</td>\n      <td>COMPLETE</td>\n    </tr>\n    <tr>\n      <th>10</th>\n      <td>10</td>\n      <td>75.0</td>\n      <td>2023-12-11 17:54:11.881209</td>\n      <td>2023-12-11 18:22:01.465938</td>\n      <td>0 days 00:27:49.584729</td>\n      <td>linear</td>\n      <td>1.256597e-05</td>\n      <td>0.210538</td>\n      <td>COMPLETE</td>\n    </tr>\n    <tr>\n      <th>12</th>\n      <td>12</td>\n      <td>74.0</td>\n      <td>2023-12-11 18:49:16.718203</td>\n      <td>2023-12-11 19:16:12.200239</td>\n      <td>0 days 00:26:55.482036</td>\n      <td>linear</td>\n      <td>1.528351e-05</td>\n      <td>0.226465</td>\n      <td>COMPLETE</td>\n    </tr>\n    <tr>\n      <th>8</th>\n      <td>8</td>\n      <td>73.0</td>\n      <td>2023-12-11 16:58:58.329397</td>\n      <td>2023-12-11 17:26:29.081642</td>\n      <td>0 days 00:27:30.752245</td>\n      <td>linear</td>\n      <td>2.013713e-05</td>\n      <td>0.176219</td>\n      <td>COMPLETE</td>\n    </tr>\n    <tr>\n      <th>14</th>\n      <td>14</td>\n      <td>73.0</td>\n      <td>2023-12-11 19:43:06.637566</td>\n      <td>2023-12-11 20:10:01.756350</td>\n      <td>0 days 00:26:55.118784</td>\n      <td>linear</td>\n      <td>3.343270e-05</td>\n      <td>0.233944</td>\n      <td>COMPLETE</td>\n    </tr>\n    <tr>\n      <th>17</th>\n      <td>17</td>\n      <td>70.0</td>\n      <td>2023-12-11 21:03:52.809888</td>\n      <td>2023-12-11 21:30:51.232076</td>\n      <td>0 days 00:26:58.422188</td>\n      <td>linear</td>\n      <td>4.582490e-05</td>\n      <td>0.293820</td>\n      <td>COMPLETE</td>\n    </tr>\n    <tr>\n      <th>15</th>\n      <td>15</td>\n      <td>70.0</td>\n      <td>2023-12-11 20:10:01.757552</td>\n      <td>2023-12-11 20:36:58.435502</td>\n      <td>0 days 00:26:56.677950</td>\n      <td>cosine</td>\n      <td>3.516977e-06</td>\n      <td>0.143763</td>\n      <td>COMPLETE</td>\n    </tr>\n    <tr>\n      <th>19</th>\n      <td>19</td>\n      <td>70.0</td>\n      <td>2023-12-11 21:57:49.657459</td>\n      <td>2023-12-11 22:24:48.818079</td>\n      <td>0 days 00:26:59.160620</td>\n      <td>cosine</td>\n      <td>3.313974e-05</td>\n      <td>0.261131</td>\n      <td>COMPLETE</td>\n    </tr>\n    <tr>\n      <th>11</th>\n      <td>11</td>\n      <td>67.0</td>\n      <td>2023-12-11 18:22:01.467354</td>\n      <td>2023-12-11 18:49:16.716751</td>\n      <td>0 days 00:27:15.249397</td>\n      <td>linear</td>\n      <td>1.106637e-05</td>\n      <td>0.215798</td>\n      <td>COMPLETE</td>\n    </tr>\n    <tr>\n      <th>6</th>\n      <td>6</td>\n      <td>66.0</td>\n      <td>2023-12-11 16:03:55.381234</td>\n      <td>2023-12-11 16:31:24.561423</td>\n      <td>0 days 00:27:29.180189</td>\n      <td>cosine</td>\n      <td>1.021714e-05</td>\n      <td>0.115443</td>\n      <td>COMPLETE</td>\n    </tr>\n    <tr>\n      <th>13</th>\n      <td>13</td>\n      <td>66.0</td>\n      <td>2023-12-11 19:16:12.201736</td>\n      <td>2023-12-11 19:43:06.636365</td>\n      <td>0 days 00:26:54.434629</td>\n      <td>linear</td>\n      <td>4.031704e-06</td>\n      <td>0.227936</td>\n      <td>COMPLETE</td>\n    </tr>\n    <tr>\n      <th>4</th>\n      <td>4</td>\n      <td>64.0</td>\n      <td>2023-12-11 15:08:16.761403</td>\n      <td>2023-12-11 15:36:15.377512</td>\n      <td>0 days 00:27:58.616109</td>\n      <td>cosine</td>\n      <td>6.841812e-05</td>\n      <td>0.278004</td>\n      <td>COMPLETE</td>\n    </tr>\n    <tr>\n      <th>3</th>\n      <td>3</td>\n      <td>16.0</td>\n      <td>2023-12-11 14:40:32.778571</td>\n      <td>2023-12-11 15:08:16.759862</td>\n      <td>0 days 00:27:43.981291</td>\n      <td>linear</td>\n      <td>7.888511e-07</td>\n      <td>0.188205</td>\n      <td>COMPLETE</td>\n    </tr>\n    <tr>\n      <th>7</th>\n      <td>7</td>\n      <td>14.0</td>\n      <td>2023-12-11 16:31:24.562840</td>\n      <td>2023-12-11 16:58:58.328127</td>\n      <td>0 days 00:27:33.765287</td>\n      <td>linear</td>\n      <td>8.554897e-07</td>\n      <td>0.280526</td>\n      <td>COMPLETE</td>\n    </tr>\n    <tr>\n      <th>18</th>\n      <td>18</td>\n      <td>1.0</td>\n      <td>2023-12-11 21:30:51.233549</td>\n      <td>2023-12-11 21:57:49.655917</td>\n      <td>0 days 00:26:58.422368</td>\n      <td>constant</td>\n      <td>1.130163e-04</td>\n      <td>0.258106</td>\n      <td>COMPLETE</td>\n    </tr>\n    <tr>\n      <th>9</th>\n      <td>9</td>\n      <td>0.0</td>\n      <td>2023-12-11 17:26:29.083122</td>\n      <td>2023-12-11 17:54:11.879566</td>\n      <td>0 days 00:27:42.796444</td>\n      <td>linear</td>\n      <td>2.141484e-04</td>\n      <td>0.104397</td>\n      <td>COMPLETE</td>\n    </tr>\n    <tr>\n      <th>1</th>\n      <td>1</td>\n      <td>0.0</td>\n      <td>2023-12-11 13:44:52.634285</td>\n      <td>2023-12-11 14:13:00.929961</td>\n      <td>0 days 00:28:08.295676</td>\n      <td>linear</td>\n      <td>3.805722e-03</td>\n      <td>0.080957</td>\n      <td>COMPLETE</td>\n    </tr>\n    <tr>\n      <th>5</th>\n      <td>5</td>\n      <td>0.0</td>\n      <td>2023-12-11 15:36:15.378959</td>\n      <td>2023-12-11 16:03:55.379665</td>\n      <td>0 days 00:27:40.000706</td>\n      <td>constant</td>\n      <td>5.630247e-04</td>\n      <td>0.003032</td>\n      <td>COMPLETE</td>\n    </tr>\n    <tr>\n      <th>2</th>\n      <td>2</td>\n      <td>0.0</td>\n      <td>2023-12-11 14:13:00.931556</td>\n      <td>2023-12-11 14:40:32.777106</td>\n      <td>0 days 00:27:31.845550</td>\n      <td>constant</td>\n      <td>1.158814e-04</td>\n      <td>0.055481</td>\n      <td>COMPLETE</td>\n    </tr>\n    <tr>\n      <th>0</th>\n      <td>0</td>\n      <td>0.0</td>\n      <td>2023-12-11 13:16:52.097515</td>\n      <td>2023-12-11 13:44:52.632563</td>\n      <td>0 days 00:28:00.535048</td>\n      <td>constant</td>\n      <td>8.741268e-04</td>\n      <td>0.179540</td>\n      <td>COMPLETE</td>\n    </tr>\n  </tbody>\n</table>\n</div>"
          },
          "metadata": {}
        }
      ]
    },
    {
      "cell_type": "code",
      "source": [],
      "metadata": {
        "id": "k6fBAUEAF2P8"
      },
      "execution_count": null,
      "outputs": []
    }
  ]
}