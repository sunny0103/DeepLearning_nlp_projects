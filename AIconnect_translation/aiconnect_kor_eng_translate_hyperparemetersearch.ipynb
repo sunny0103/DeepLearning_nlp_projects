{
  "metadata": {
    "accelerator": "GPU",
    "colab": {
      "machine_shape": "hm",
      "provenance": [],
      "include_colab_link": true
    },
    "kernelspec": {
      "name": "python3",
      "display_name": "Python 3",
      "language": "python"
    },
    "language_info": {
      "name": "python",
      "version": "3.10.12",
      "mimetype": "text/x-python",
      "codemirror_mode": {
        "name": "ipython",
        "version": 3
      },
      "pygments_lexer": "ipython3",
      "nbconvert_exporter": "python",
      "file_extension": ".py"
    },
    "widgets": {
      "application/vnd.jupyter.widget-state+json": {
        "484d24712fd645baace3f03a43ad6902": {
          "model_module": "@jupyter-widgets/base",
          "model_module_version": "1.2.0",
          "model_name": "LayoutModel",
          "state": {
            "_model_module": "@jupyter-widgets/base",
            "_model_module_version": "1.2.0",
            "_model_name": "LayoutModel",
            "_view_count": null,
            "_view_module": "@jupyter-widgets/base",
            "_view_module_version": "1.2.0",
            "_view_name": "LayoutView",
            "align_content": null,
            "align_items": null,
            "align_self": null,
            "border": null,
            "bottom": null,
            "display": null,
            "flex": null,
            "flex_flow": null,
            "grid_area": null,
            "grid_auto_columns": null,
            "grid_auto_flow": null,
            "grid_auto_rows": null,
            "grid_column": null,
            "grid_gap": null,
            "grid_row": null,
            "grid_template_areas": null,
            "grid_template_columns": null,
            "grid_template_rows": null,
            "height": null,
            "justify_content": null,
            "justify_items": null,
            "left": null,
            "margin": null,
            "max_height": null,
            "max_width": null,
            "min_height": null,
            "min_width": null,
            "object_fit": null,
            "object_position": null,
            "order": null,
            "overflow": null,
            "overflow_x": null,
            "overflow_y": null,
            "padding": null,
            "right": null,
            "top": null,
            "visibility": null,
            "width": null
          }
        },
        "4b798434f9b8456995d02549d90a08d8": {
          "model_module": "@jupyter-widgets/base",
          "model_module_version": "1.2.0",
          "model_name": "LayoutModel",
          "state": {
            "_model_module": "@jupyter-widgets/base",
            "_model_module_version": "1.2.0",
            "_model_name": "LayoutModel",
            "_view_count": null,
            "_view_module": "@jupyter-widgets/base",
            "_view_module_version": "1.2.0",
            "_view_name": "LayoutView",
            "align_content": null,
            "align_items": null,
            "align_self": null,
            "border": null,
            "bottom": null,
            "display": null,
            "flex": null,
            "flex_flow": null,
            "grid_area": null,
            "grid_auto_columns": null,
            "grid_auto_flow": null,
            "grid_auto_rows": null,
            "grid_column": null,
            "grid_gap": null,
            "grid_row": null,
            "grid_template_areas": null,
            "grid_template_columns": null,
            "grid_template_rows": null,
            "height": null,
            "justify_content": null,
            "justify_items": null,
            "left": null,
            "margin": null,
            "max_height": null,
            "max_width": null,
            "min_height": null,
            "min_width": null,
            "object_fit": null,
            "object_position": null,
            "order": null,
            "overflow": null,
            "overflow_x": null,
            "overflow_y": null,
            "padding": null,
            "right": null,
            "top": null,
            "visibility": null,
            "width": null
          }
        },
        "5a93d40fd2044d6eb1551414576b5d96": {
          "model_module": "@jupyter-widgets/controls",
          "model_module_version": "1.5.0",
          "model_name": "LabelModel",
          "state": {
            "_dom_classes": [],
            "_model_module": "@jupyter-widgets/controls",
            "_model_module_version": "1.5.0",
            "_model_name": "LabelModel",
            "_view_count": null,
            "_view_module": "@jupyter-widgets/controls",
            "_view_module_version": "1.5.0",
            "_view_name": "LabelView",
            "description": "",
            "description_tooltip": null,
            "layout": "IPY_MODEL_a8a67dbf0596482ebaa681181636d74e",
            "placeholder": "​",
            "style": "IPY_MODEL_fe70703ee48d42cda1cdf782f6c2e84c",
            "value": "0.002 MB of 0.021 MB uploaded (0.000 MB deduped)\r"
          }
        },
        "70d6e41e181c4cb6ae37fdbd69668f0a": {
          "model_module": "@jupyter-widgets/controls",
          "model_module_version": "1.5.0",
          "model_name": "LabelModel",
          "state": {
            "_dom_classes": [],
            "_model_module": "@jupyter-widgets/controls",
            "_model_module_version": "1.5.0",
            "_model_name": "LabelModel",
            "_view_count": null,
            "_view_module": "@jupyter-widgets/controls",
            "_view_module_version": "1.5.0",
            "_view_name": "LabelView",
            "description": "",
            "description_tooltip": null,
            "layout": "IPY_MODEL_d0a358dde62b43d5b7275e2a5cf150cb",
            "placeholder": "​",
            "style": "IPY_MODEL_d5cf1f5b2b3a42f5bfc0e8a55d38d2bc",
            "value": "0.020 MB of 0.021 MB uploaded (0.000 MB deduped)\r"
          }
        },
        "75ca8b698f894c2ea121805d7a616429": {
          "model_module": "@jupyter-widgets/controls",
          "model_module_version": "1.5.0",
          "model_name": "FloatProgressModel",
          "state": {
            "_dom_classes": [],
            "_model_module": "@jupyter-widgets/controls",
            "_model_module_version": "1.5.0",
            "_model_name": "FloatProgressModel",
            "_view_count": null,
            "_view_module": "@jupyter-widgets/controls",
            "_view_module_version": "1.5.0",
            "_view_name": "ProgressView",
            "bar_style": "",
            "description": "",
            "description_tooltip": null,
            "layout": "IPY_MODEL_4b798434f9b8456995d02549d90a08d8",
            "max": 1,
            "min": 0,
            "orientation": "horizontal",
            "style": "IPY_MODEL_c47e0e0388e44e668b49761e5bae1714",
            "value": 0.9745196706312901
          }
        },
        "8077fb5581cf4ad1889eec920aa1dee3": {
          "model_module": "@jupyter-widgets/base",
          "model_module_version": "1.2.0",
          "model_name": "LayoutModel",
          "state": {
            "_model_module": "@jupyter-widgets/base",
            "_model_module_version": "1.2.0",
            "_model_name": "LayoutModel",
            "_view_count": null,
            "_view_module": "@jupyter-widgets/base",
            "_view_module_version": "1.2.0",
            "_view_name": "LayoutView",
            "align_content": null,
            "align_items": null,
            "align_self": null,
            "border": null,
            "bottom": null,
            "display": null,
            "flex": null,
            "flex_flow": null,
            "grid_area": null,
            "grid_auto_columns": null,
            "grid_auto_flow": null,
            "grid_auto_rows": null,
            "grid_column": null,
            "grid_gap": null,
            "grid_row": null,
            "grid_template_areas": null,
            "grid_template_columns": null,
            "grid_template_rows": null,
            "height": null,
            "justify_content": null,
            "justify_items": null,
            "left": null,
            "margin": null,
            "max_height": null,
            "max_width": null,
            "min_height": null,
            "min_width": null,
            "object_fit": null,
            "object_position": null,
            "order": null,
            "overflow": null,
            "overflow_x": null,
            "overflow_y": null,
            "padding": null,
            "right": null,
            "top": null,
            "visibility": null,
            "width": null
          }
        },
        "a8a67dbf0596482ebaa681181636d74e": {
          "model_module": "@jupyter-widgets/base",
          "model_module_version": "1.2.0",
          "model_name": "LayoutModel",
          "state": {
            "_model_module": "@jupyter-widgets/base",
            "_model_module_version": "1.2.0",
            "_model_name": "LayoutModel",
            "_view_count": null,
            "_view_module": "@jupyter-widgets/base",
            "_view_module_version": "1.2.0",
            "_view_name": "LayoutView",
            "align_content": null,
            "align_items": null,
            "align_self": null,
            "border": null,
            "bottom": null,
            "display": null,
            "flex": null,
            "flex_flow": null,
            "grid_area": null,
            "grid_auto_columns": null,
            "grid_auto_flow": null,
            "grid_auto_rows": null,
            "grid_column": null,
            "grid_gap": null,
            "grid_row": null,
            "grid_template_areas": null,
            "grid_template_columns": null,
            "grid_template_rows": null,
            "height": null,
            "justify_content": null,
            "justify_items": null,
            "left": null,
            "margin": null,
            "max_height": null,
            "max_width": null,
            "min_height": null,
            "min_width": null,
            "object_fit": null,
            "object_position": null,
            "order": null,
            "overflow": null,
            "overflow_x": null,
            "overflow_y": null,
            "padding": null,
            "right": null,
            "top": null,
            "visibility": null,
            "width": null
          }
        },
        "b0ec79458d104d2085d8372719d8344d": {
          "model_module": "@jupyter-widgets/base",
          "model_module_version": "1.2.0",
          "model_name": "LayoutModel",
          "state": {
            "_model_module": "@jupyter-widgets/base",
            "_model_module_version": "1.2.0",
            "_model_name": "LayoutModel",
            "_view_count": null,
            "_view_module": "@jupyter-widgets/base",
            "_view_module_version": "1.2.0",
            "_view_name": "LayoutView",
            "align_content": null,
            "align_items": null,
            "align_self": null,
            "border": null,
            "bottom": null,
            "display": null,
            "flex": null,
            "flex_flow": null,
            "grid_area": null,
            "grid_auto_columns": null,
            "grid_auto_flow": null,
            "grid_auto_rows": null,
            "grid_column": null,
            "grid_gap": null,
            "grid_row": null,
            "grid_template_areas": null,
            "grid_template_columns": null,
            "grid_template_rows": null,
            "height": null,
            "justify_content": null,
            "justify_items": null,
            "left": null,
            "margin": null,
            "max_height": null,
            "max_width": null,
            "min_height": null,
            "min_width": null,
            "object_fit": null,
            "object_position": null,
            "order": null,
            "overflow": null,
            "overflow_x": null,
            "overflow_y": null,
            "padding": null,
            "right": null,
            "top": null,
            "visibility": null,
            "width": null
          }
        },
        "be5c5a1465314ae38f3fbeab447f029d": {
          "model_module": "@jupyter-widgets/controls",
          "model_module_version": "1.5.0",
          "model_name": "VBoxModel",
          "state": {
            "_dom_classes": [],
            "_model_module": "@jupyter-widgets/controls",
            "_model_module_version": "1.5.0",
            "_model_name": "VBoxModel",
            "_view_count": null,
            "_view_module": "@jupyter-widgets/controls",
            "_view_module_version": "1.5.0",
            "_view_name": "VBoxView",
            "box_style": "",
            "children": [
              "IPY_MODEL_5a93d40fd2044d6eb1551414576b5d96",
              "IPY_MODEL_d24c9ce023ed460190af1836be171b80"
            ],
            "layout": "IPY_MODEL_484d24712fd645baace3f03a43ad6902"
          }
        },
        "c47e0e0388e44e668b49761e5bae1714": {
          "model_module": "@jupyter-widgets/controls",
          "model_module_version": "1.5.0",
          "model_name": "ProgressStyleModel",
          "state": {
            "_model_module": "@jupyter-widgets/controls",
            "_model_module_version": "1.5.0",
            "_model_name": "ProgressStyleModel",
            "_view_count": null,
            "_view_module": "@jupyter-widgets/base",
            "_view_module_version": "1.2.0",
            "_view_name": "StyleView",
            "bar_color": null,
            "description_width": ""
          }
        },
        "d0a358dde62b43d5b7275e2a5cf150cb": {
          "model_module": "@jupyter-widgets/base",
          "model_module_version": "1.2.0",
          "model_name": "LayoutModel",
          "state": {
            "_model_module": "@jupyter-widgets/base",
            "_model_module_version": "1.2.0",
            "_model_name": "LayoutModel",
            "_view_count": null,
            "_view_module": "@jupyter-widgets/base",
            "_view_module_version": "1.2.0",
            "_view_name": "LayoutView",
            "align_content": null,
            "align_items": null,
            "align_self": null,
            "border": null,
            "bottom": null,
            "display": null,
            "flex": null,
            "flex_flow": null,
            "grid_area": null,
            "grid_auto_columns": null,
            "grid_auto_flow": null,
            "grid_auto_rows": null,
            "grid_column": null,
            "grid_gap": null,
            "grid_row": null,
            "grid_template_areas": null,
            "grid_template_columns": null,
            "grid_template_rows": null,
            "height": null,
            "justify_content": null,
            "justify_items": null,
            "left": null,
            "margin": null,
            "max_height": null,
            "max_width": null,
            "min_height": null,
            "min_width": null,
            "object_fit": null,
            "object_position": null,
            "order": null,
            "overflow": null,
            "overflow_x": null,
            "overflow_y": null,
            "padding": null,
            "right": null,
            "top": null,
            "visibility": null,
            "width": null
          }
        },
        "d24c9ce023ed460190af1836be171b80": {
          "model_module": "@jupyter-widgets/controls",
          "model_module_version": "1.5.0",
          "model_name": "FloatProgressModel",
          "state": {
            "_dom_classes": [],
            "_model_module": "@jupyter-widgets/controls",
            "_model_module_version": "1.5.0",
            "_model_name": "FloatProgressModel",
            "_view_count": null,
            "_view_module": "@jupyter-widgets/controls",
            "_view_module_version": "1.5.0",
            "_view_name": "ProgressView",
            "bar_style": "",
            "description": "",
            "description_tooltip": null,
            "layout": "IPY_MODEL_b0ec79458d104d2085d8372719d8344d",
            "max": 1,
            "min": 0,
            "orientation": "horizontal",
            "style": "IPY_MODEL_d4a8ec7883164b66b17c17b6ab4e2674",
            "value": 0.0834172233915988
          }
        },
        "d4a8ec7883164b66b17c17b6ab4e2674": {
          "model_module": "@jupyter-widgets/controls",
          "model_module_version": "1.5.0",
          "model_name": "ProgressStyleModel",
          "state": {
            "_model_module": "@jupyter-widgets/controls",
            "_model_module_version": "1.5.0",
            "_model_name": "ProgressStyleModel",
            "_view_count": null,
            "_view_module": "@jupyter-widgets/base",
            "_view_module_version": "1.2.0",
            "_view_name": "StyleView",
            "bar_color": null,
            "description_width": ""
          }
        },
        "d5cf1f5b2b3a42f5bfc0e8a55d38d2bc": {
          "model_module": "@jupyter-widgets/controls",
          "model_module_version": "1.5.0",
          "model_name": "DescriptionStyleModel",
          "state": {
            "_model_module": "@jupyter-widgets/controls",
            "_model_module_version": "1.5.0",
            "_model_name": "DescriptionStyleModel",
            "_view_count": null,
            "_view_module": "@jupyter-widgets/base",
            "_view_module_version": "1.2.0",
            "_view_name": "StyleView",
            "description_width": ""
          }
        },
        "e75cd632c69f4591b429e6433d03f78b": {
          "model_module": "@jupyter-widgets/controls",
          "model_module_version": "1.5.0",
          "model_name": "VBoxModel",
          "state": {
            "_dom_classes": [],
            "_model_module": "@jupyter-widgets/controls",
            "_model_module_version": "1.5.0",
            "_model_name": "VBoxModel",
            "_view_count": null,
            "_view_module": "@jupyter-widgets/controls",
            "_view_module_version": "1.5.0",
            "_view_name": "VBoxView",
            "box_style": "",
            "children": [
              "IPY_MODEL_70d6e41e181c4cb6ae37fdbd69668f0a",
              "IPY_MODEL_75ca8b698f894c2ea121805d7a616429"
            ],
            "layout": "IPY_MODEL_8077fb5581cf4ad1889eec920aa1dee3"
          }
        },
        "fe70703ee48d42cda1cdf782f6c2e84c": {
          "model_module": "@jupyter-widgets/controls",
          "model_module_version": "1.5.0",
          "model_name": "DescriptionStyleModel",
          "state": {
            "_model_module": "@jupyter-widgets/controls",
            "_model_module_version": "1.5.0",
            "_model_name": "DescriptionStyleModel",
            "_view_count": null,
            "_view_module": "@jupyter-widgets/base",
            "_view_module_version": "1.2.0",
            "_view_name": "StyleView",
            "description_width": ""
          }
        }
      }
    }
  },
  "nbformat_minor": 0,
  "nbformat": 4,
  "cells": [
    {
      "cell_type": "markdown",
      "metadata": {
        "id": "view-in-github",
        "colab_type": "text"
      },
      "source": [
        "<a href=\"https://colab.research.google.com/github/sunny0103/DeepLearning_projects/blob/main/AIconnect_translation/aiconnect_kor_eng_translate_hyperparemetersearch.ipynb\" target=\"_parent\"><img src=\"https://colab.research.google.com/assets/colab-badge.svg\" alt=\"Open In Colab\"/></a>"
      ]
    },
    {
      "cell_type": "code",
      "source": [
        "!pip install  transformers[sentencepiece] accelerate  sacremoses evaluate sacrebleu"
      ],
      "metadata": {
        "colab": {
          "base_uri": "https://localhost:8080/"
        },
        "id": "pr-sqqjeHjpQ",
        "outputId": "5f730481-30e7-46be-a47f-6932eb3c1049",
        "execution": {
          "iopub.status.busy": "2023-09-03T00:56:10.513682Z",
          "iopub.execute_input": "2023-09-03T00:56:10.514150Z",
          "iopub.status.idle": "2023-09-03T00:56:26.184377Z",
          "shell.execute_reply.started": "2023-09-03T00:56:10.514107Z",
          "shell.execute_reply": "2023-09-03T00:56:26.183124Z"
        },
        "trusted": true
      },
      "execution_count": null,
      "outputs": [
        {
          "name": "stdout",
          "text": "Requirement already satisfied: transformers[sentencepiece] in /opt/conda/lib/python3.10/site-packages (4.30.2)\nRequirement already satisfied: accelerate in /opt/conda/lib/python3.10/site-packages (0.20.3)\nCollecting sacremoses\n  Downloading sacremoses-0.0.53.tar.gz (880 kB)\n\u001b[2K     \u001b[90m━━━━━━━━━━━━━━━━━━━━━━━━━━━━━━━━━━━━━━\u001b[0m \u001b[32m880.6/880.6 kB\u001b[0m \u001b[31m18.5 MB/s\u001b[0m eta \u001b[36m0:00:00\u001b[0m00:01\u001b[0m\n\u001b[?25h  Preparing metadata (setup.py) ... \u001b[?25ldone\n\u001b[?25hCollecting evaluate\n  Downloading evaluate-0.4.0-py3-none-any.whl (81 kB)\n\u001b[2K     \u001b[90m━━━━━━━━━━━━━━━━━━━━━━━━━━━━━━━━━━━━━━━━\u001b[0m \u001b[32m81.4/81.4 kB\u001b[0m \u001b[31m8.4 MB/s\u001b[0m eta \u001b[36m0:00:00\u001b[0m\n\u001b[?25hCollecting sacrebleu\n  Downloading sacrebleu-2.3.1-py3-none-any.whl (118 kB)\n\u001b[2K     \u001b[90m━━━━━━━━━━━━━━━━━━━━━━━━━━━━━━━━━━━━━━\u001b[0m \u001b[32m118.9/118.9 kB\u001b[0m \u001b[31m11.4 MB/s\u001b[0m eta \u001b[36m0:00:00\u001b[0m\n\u001b[?25hRequirement already satisfied: filelock in /opt/conda/lib/python3.10/site-packages (from transformers[sentencepiece]) (3.12.2)\nRequirement already satisfied: huggingface-hub<1.0,>=0.14.1 in /opt/conda/lib/python3.10/site-packages (from transformers[sentencepiece]) (0.16.4)\nRequirement already satisfied: numpy>=1.17 in /opt/conda/lib/python3.10/site-packages (from transformers[sentencepiece]) (1.23.5)\nRequirement already satisfied: packaging>=20.0 in /opt/conda/lib/python3.10/site-packages (from transformers[sentencepiece]) (21.3)\nRequirement already satisfied: pyyaml>=5.1 in /opt/conda/lib/python3.10/site-packages (from transformers[sentencepiece]) (6.0)\nRequirement already satisfied: regex!=2019.12.17 in /opt/conda/lib/python3.10/site-packages (from transformers[sentencepiece]) (2023.6.3)\nRequirement already satisfied: requests in /opt/conda/lib/python3.10/site-packages (from transformers[sentencepiece]) (2.31.0)\nRequirement already satisfied: tokenizers!=0.11.3,<0.14,>=0.11.1 in /opt/conda/lib/python3.10/site-packages (from transformers[sentencepiece]) (0.13.3)\nRequirement already satisfied: safetensors>=0.3.1 in /opt/conda/lib/python3.10/site-packages (from transformers[sentencepiece]) (0.3.1)\nRequirement already satisfied: tqdm>=4.27 in /opt/conda/lib/python3.10/site-packages (from transformers[sentencepiece]) (4.65.0)\nRequirement already satisfied: sentencepiece!=0.1.92,>=0.1.91 in /opt/conda/lib/python3.10/site-packages (from transformers[sentencepiece]) (0.1.99)\nRequirement already satisfied: protobuf<=3.20.3 in /opt/conda/lib/python3.10/site-packages (from transformers[sentencepiece]) (3.20.3)\nRequirement already satisfied: psutil in /opt/conda/lib/python3.10/site-packages (from accelerate) (5.9.3)\nRequirement already satisfied: torch>=1.6.0 in /opt/conda/lib/python3.10/site-packages (from accelerate) (2.0.0)\nRequirement already satisfied: six in /opt/conda/lib/python3.10/site-packages (from sacremoses) (1.16.0)\nRequirement already satisfied: click in /opt/conda/lib/python3.10/site-packages (from sacremoses) (8.1.3)\nRequirement already satisfied: joblib in /opt/conda/lib/python3.10/site-packages (from sacremoses) (1.2.0)\nRequirement already satisfied: datasets>=2.0.0 in /opt/conda/lib/python3.10/site-packages (from evaluate) (2.1.0)\nRequirement already satisfied: dill in /opt/conda/lib/python3.10/site-packages (from evaluate) (0.3.6)\nRequirement already satisfied: pandas in /opt/conda/lib/python3.10/site-packages (from evaluate) (1.5.3)\nRequirement already satisfied: xxhash in /opt/conda/lib/python3.10/site-packages (from evaluate) (3.2.0)\nRequirement already satisfied: multiprocess in /opt/conda/lib/python3.10/site-packages (from evaluate) (0.70.14)\nRequirement already satisfied: fsspec[http]>=2021.05.0 in /opt/conda/lib/python3.10/site-packages (from evaluate) (2023.6.0)\nRequirement already satisfied: responses<0.19 in /opt/conda/lib/python3.10/site-packages (from evaluate) (0.18.0)\nCollecting portalocker (from sacrebleu)\n  Downloading portalocker-2.7.0-py2.py3-none-any.whl (15 kB)\nRequirement already satisfied: tabulate>=0.8.9 in /opt/conda/lib/python3.10/site-packages (from sacrebleu) (0.9.0)\nRequirement already satisfied: colorama in /opt/conda/lib/python3.10/site-packages (from sacrebleu) (0.4.6)\nRequirement already satisfied: lxml in /opt/conda/lib/python3.10/site-packages (from sacrebleu) (4.9.3)\nRequirement already satisfied: pyarrow>=5.0.0 in /opt/conda/lib/python3.10/site-packages (from datasets>=2.0.0->evaluate) (11.0.0)\nRequirement already satisfied: aiohttp in /opt/conda/lib/python3.10/site-packages (from datasets>=2.0.0->evaluate) (3.8.4)\nRequirement already satisfied: typing-extensions>=3.7.4.3 in /opt/conda/lib/python3.10/site-packages (from huggingface-hub<1.0,>=0.14.1->transformers[sentencepiece]) (4.6.3)\nRequirement already satisfied: pyparsing!=3.0.5,>=2.0.2 in /opt/conda/lib/python3.10/site-packages (from packaging>=20.0->transformers[sentencepiece]) (3.0.9)\nRequirement already satisfied: charset-normalizer<4,>=2 in /opt/conda/lib/python3.10/site-packages (from requests->transformers[sentencepiece]) (3.1.0)\nRequirement already satisfied: idna<4,>=2.5 in /opt/conda/lib/python3.10/site-packages (from requests->transformers[sentencepiece]) (3.4)\nRequirement already satisfied: urllib3<3,>=1.21.1 in /opt/conda/lib/python3.10/site-packages (from requests->transformers[sentencepiece]) (1.26.15)\nRequirement already satisfied: certifi>=2017.4.17 in /opt/conda/lib/python3.10/site-packages (from requests->transformers[sentencepiece]) (2023.5.7)\nRequirement already satisfied: sympy in /opt/conda/lib/python3.10/site-packages (from torch>=1.6.0->accelerate) (1.12)\nRequirement already satisfied: networkx in /opt/conda/lib/python3.10/site-packages (from torch>=1.6.0->accelerate) (3.1)\nRequirement already satisfied: jinja2 in /opt/conda/lib/python3.10/site-packages (from torch>=1.6.0->accelerate) (3.1.2)\nRequirement already satisfied: python-dateutil>=2.8.1 in /opt/conda/lib/python3.10/site-packages (from pandas->evaluate) (2.8.2)\nRequirement already satisfied: pytz>=2020.1 in /opt/conda/lib/python3.10/site-packages (from pandas->evaluate) (2023.3)\nRequirement already satisfied: attrs>=17.3.0 in /opt/conda/lib/python3.10/site-packages (from aiohttp->datasets>=2.0.0->evaluate) (23.1.0)\nRequirement already satisfied: multidict<7.0,>=4.5 in /opt/conda/lib/python3.10/site-packages (from aiohttp->datasets>=2.0.0->evaluate) (6.0.4)\nRequirement already satisfied: async-timeout<5.0,>=4.0.0a3 in /opt/conda/lib/python3.10/site-packages (from aiohttp->datasets>=2.0.0->evaluate) (4.0.2)\nRequirement already satisfied: yarl<2.0,>=1.0 in /opt/conda/lib/python3.10/site-packages (from aiohttp->datasets>=2.0.0->evaluate) (1.9.2)\nRequirement already satisfied: frozenlist>=1.1.1 in /opt/conda/lib/python3.10/site-packages (from aiohttp->datasets>=2.0.0->evaluate) (1.3.3)\nRequirement already satisfied: aiosignal>=1.1.2 in /opt/conda/lib/python3.10/site-packages (from aiohttp->datasets>=2.0.0->evaluate) (1.3.1)\nRequirement already satisfied: MarkupSafe>=2.0 in /opt/conda/lib/python3.10/site-packages (from jinja2->torch>=1.6.0->accelerate) (2.1.3)\nRequirement already satisfied: mpmath>=0.19 in /opt/conda/lib/python3.10/site-packages (from sympy->torch>=1.6.0->accelerate) (1.3.0)\nBuilding wheels for collected packages: sacremoses\n  Building wheel for sacremoses (setup.py) ... \u001b[?25ldone\n\u001b[?25h  Created wheel for sacremoses: filename=sacremoses-0.0.53-py3-none-any.whl size=895260 sha256=c78968b2d0a94b1f64f064833892062939a4874a066a70b6d29807d79cdafe00\n  Stored in directory: /root/.cache/pip/wheels/00/24/97/a2ea5324f36bc626e1ea0267f33db6aa80d157ee977e9e42fb\nSuccessfully built sacremoses\nInstalling collected packages: sacremoses, portalocker, sacrebleu, evaluate\nSuccessfully installed evaluate-0.4.0 portalocker-2.7.0 sacrebleu-2.3.1 sacremoses-0.0.53\n",
          "output_type": "stream"
        }
      ]
    },
    {
      "cell_type": "code",
      "source": [
        "!pip install wandb --upgrade"
      ],
      "metadata": {
        "colab": {
          "base_uri": "https://localhost:8080/"
        },
        "id": "jfqrTAKM7kvO",
        "outputId": "6cf4d750-8f8e-4341-f511-dd56a671c69f",
        "execution": {
          "iopub.status.busy": "2023-09-03T00:56:26.187351Z",
          "iopub.execute_input": "2023-09-03T00:56:26.187736Z",
          "iopub.status.idle": "2023-09-03T00:56:41.556772Z",
          "shell.execute_reply.started": "2023-09-03T00:56:26.187699Z",
          "shell.execute_reply": "2023-09-03T00:56:41.555627Z"
        },
        "trusted": true
      },
      "execution_count": null,
      "outputs": [
        {
          "name": "stdout",
          "text": "Requirement already satisfied: wandb in /opt/conda/lib/python3.10/site-packages (0.15.5)\nCollecting wandb\n  Downloading wandb-0.15.9-py3-none-any.whl (2.1 MB)\n\u001b[2K     \u001b[90m━━━━━━━━━━━━━━━━━━━━━━━━━━━━━━━━━━━━━━━━\u001b[0m \u001b[32m2.1/2.1 MB\u001b[0m \u001b[31m32.5 MB/s\u001b[0m eta \u001b[36m0:00:00\u001b[0ma \u001b[36m0:00:01\u001b[0m\n\u001b[?25hRequirement already satisfied: Click!=8.0.0,>=7.1 in /opt/conda/lib/python3.10/site-packages (from wandb) (8.1.3)\nRequirement already satisfied: GitPython!=3.1.29,>=1.0.0 in /opt/conda/lib/python3.10/site-packages (from wandb) (3.1.31)\nRequirement already satisfied: requests<3,>=2.0.0 in /opt/conda/lib/python3.10/site-packages (from wandb) (2.31.0)\nRequirement already satisfied: psutil>=5.0.0 in /opt/conda/lib/python3.10/site-packages (from wandb) (5.9.3)\nRequirement already satisfied: sentry-sdk>=1.0.0 in /opt/conda/lib/python3.10/site-packages (from wandb) (1.27.1)\nRequirement already satisfied: docker-pycreds>=0.4.0 in /opt/conda/lib/python3.10/site-packages (from wandb) (0.4.0)\nRequirement already satisfied: PyYAML in /opt/conda/lib/python3.10/site-packages (from wandb) (6.0)\nRequirement already satisfied: pathtools in /opt/conda/lib/python3.10/site-packages (from wandb) (0.1.2)\nRequirement already satisfied: setproctitle in /opt/conda/lib/python3.10/site-packages (from wandb) (1.3.2)\nRequirement already satisfied: setuptools in /opt/conda/lib/python3.10/site-packages (from wandb) (59.8.0)\nRequirement already satisfied: appdirs>=1.4.3 in /opt/conda/lib/python3.10/site-packages (from wandb) (1.4.4)\nRequirement already satisfied: protobuf!=4.21.0,<5,>=3.19.0 in /opt/conda/lib/python3.10/site-packages (from wandb) (3.20.3)\nRequirement already satisfied: six>=1.4.0 in /opt/conda/lib/python3.10/site-packages (from docker-pycreds>=0.4.0->wandb) (1.16.0)\nRequirement already satisfied: gitdb<5,>=4.0.1 in /opt/conda/lib/python3.10/site-packages (from GitPython!=3.1.29,>=1.0.0->wandb) (4.0.10)\nRequirement already satisfied: charset-normalizer<4,>=2 in /opt/conda/lib/python3.10/site-packages (from requests<3,>=2.0.0->wandb) (3.1.0)\nRequirement already satisfied: idna<4,>=2.5 in /opt/conda/lib/python3.10/site-packages (from requests<3,>=2.0.0->wandb) (3.4)\nRequirement already satisfied: urllib3<3,>=1.21.1 in /opt/conda/lib/python3.10/site-packages (from requests<3,>=2.0.0->wandb) (1.26.15)\nRequirement already satisfied: certifi>=2017.4.17 in /opt/conda/lib/python3.10/site-packages (from requests<3,>=2.0.0->wandb) (2023.5.7)\nRequirement already satisfied: smmap<6,>=3.0.1 in /opt/conda/lib/python3.10/site-packages (from gitdb<5,>=4.0.1->GitPython!=3.1.29,>=1.0.0->wandb) (5.0.0)\nInstalling collected packages: wandb\n  Attempting uninstall: wandb\n    Found existing installation: wandb 0.15.5\n    Uninstalling wandb-0.15.5:\n      Successfully uninstalled wandb-0.15.5\nSuccessfully installed wandb-0.15.9\n",
          "output_type": "stream"
        }
      ]
    },
    {
      "cell_type": "code",
      "source": [
        "import wandb\n",
        "wandb.login()"
      ],
      "metadata": {
        "colab": {
          "base_uri": "https://localhost:8080/"
        },
        "id": "VYBMypmz7rRo",
        "outputId": "426dc231-ad44-4acf-d0f9-340d4931bd78",
        "execution": {
          "iopub.status.busy": "2023-09-03T00:56:41.558805Z",
          "iopub.execute_input": "2023-09-03T00:56:41.559181Z",
          "iopub.status.idle": "2023-09-03T00:56:49.201068Z",
          "shell.execute_reply.started": "2023-09-03T00:56:41.559146Z",
          "shell.execute_reply": "2023-09-03T00:56:49.199821Z"
        },
        "trusted": true
      },
      "execution_count": null,
      "outputs": [
        {
          "name": "stderr",
          "text": "\u001b[34m\u001b[1mwandb\u001b[0m: Logging into wandb.ai. (Learn how to deploy a W&B server locally: https://wandb.me/wandb-server)\n\u001b[34m\u001b[1mwandb\u001b[0m: You can find your API key in your browser here: https://wandb.ai/authorize\n\u001b[34m\u001b[1mwandb\u001b[0m: Paste an API key from your profile and hit enter, or press ctrl+c to quit:",
          "output_type": "stream"
        },
        {
          "output_type": "stream",
          "name": "stdin",
          "text": "  ········································\n"
        },
        {
          "name": "stderr",
          "text": "\u001b[34m\u001b[1mwandb\u001b[0m: Appending key for api.wandb.ai to your netrc file: /root/.netrc\n",
          "output_type": "stream"
        },
        {
          "execution_count": 3,
          "output_type": "execute_result",
          "data": {
            "text/plain": "True"
          },
          "metadata": {}
        }
      ]
    },
    {
      "cell_type": "code",
      "source": [
        "import pandas as pd\n",
        "import numpy as np\n",
        "import os\n",
        "import random\n",
        "from tqdm import tqdm\n",
        "\n",
        "from transformers import (\n",
        "    AutoTokenizer,\n",
        "    AutoModelForSeq2SeqLM,\n",
        "    DataCollatorForSeq2Seq,\n",
        "    Seq2SeqTrainingArguments,\n",
        "    Seq2SeqTrainer,\n",
        "    pipeline\n",
        "    )\n",
        "\n",
        "from datasets import (\n",
        "    load_dataset,\n",
        "    DatasetDict,\n",
        "    load_metric\n",
        "    )\n",
        "\n",
        "import warnings\n",
        "warnings.filterwarnings('ignore')"
      ],
      "metadata": {
        "id": "fI5YFwl0IrON",
        "execution": {
          "iopub.status.busy": "2023-09-03T00:56:49.205273Z",
          "iopub.execute_input": "2023-09-03T00:56:49.206116Z",
          "iopub.status.idle": "2023-09-03T00:57:04.167329Z",
          "shell.execute_reply.started": "2023-09-03T00:56:49.206088Z",
          "shell.execute_reply": "2023-09-03T00:57:04.166366Z"
        },
        "trusted": true,
        "outputId": "6327057f-9ab7-4f20-ad46-88c8ea3f437c"
      },
      "execution_count": null,
      "outputs": [
        {
          "name": "stderr",
          "text": "/opt/conda/lib/python3.10/site-packages/scipy/__init__.py:146: UserWarning: A NumPy version >=1.16.5 and <1.23.0 is required for this version of SciPy (detected version 1.23.5\n  warnings.warn(f\"A NumPy version >={np_minversion} and <{np_maxversion}\"\n/opt/conda/lib/python3.10/site-packages/tensorflow_io/python/ops/__init__.py:98: UserWarning: unable to load libtensorflow_io_plugins.so: unable to open file: libtensorflow_io_plugins.so, from paths: ['/opt/conda/lib/python3.10/site-packages/tensorflow_io/python/ops/libtensorflow_io_plugins.so']\ncaused by: ['/opt/conda/lib/python3.10/site-packages/tensorflow_io/python/ops/libtensorflow_io_plugins.so: undefined symbol: _ZN3tsl6StatusC1EN10tensorflow5error4CodeESt17basic_string_viewIcSt11char_traitsIcEENS_14SourceLocationE']\n  warnings.warn(f\"unable to load libtensorflow_io_plugins.so: {e}\")\n/opt/conda/lib/python3.10/site-packages/tensorflow_io/python/ops/__init__.py:104: UserWarning: file system plugins are not loaded: unable to open file: libtensorflow_io.so, from paths: ['/opt/conda/lib/python3.10/site-packages/tensorflow_io/python/ops/libtensorflow_io.so']\ncaused by: ['/opt/conda/lib/python3.10/site-packages/tensorflow_io/python/ops/libtensorflow_io.so: undefined symbol: _ZTVN10tensorflow13GcsFileSystemE']\n  warnings.warn(f\"file system plugins are not loaded: {e}\")\n",
          "output_type": "stream"
        }
      ]
    },
    {
      "cell_type": "code",
      "source": [
        "!pip install gdown\n",
        "!gdown --id # data id"
      ],
      "metadata": {
        "colab": {
          "base_uri": "https://localhost:8080/"
        },
        "id": "bLg0Zeg_Lg51",
        "outputId": "04e7a4da-7418-4dd0-9cc8-1118c340039f",
        "execution": {
          "iopub.status.busy": "2023-09-03T00:57:04.168765Z",
          "iopub.execute_input": "2023-09-03T00:57:04.169606Z",
          "iopub.status.idle": "2023-09-03T00:57:20.705331Z",
          "shell.execute_reply.started": "2023-09-03T00:57:04.169569Z",
          "shell.execute_reply": "2023-09-03T00:57:20.704128Z"
        },
        "trusted": true
      },
      "execution_count": null,
      "outputs": [
        {
          "name": "stdout",
          "text": "Collecting gdown\n  Downloading gdown-4.7.1-py3-none-any.whl (15 kB)\nRequirement already satisfied: filelock in /opt/conda/lib/python3.10/site-packages (from gdown) (3.12.2)\nRequirement already satisfied: requests[socks] in /opt/conda/lib/python3.10/site-packages (from gdown) (2.31.0)\nRequirement already satisfied: six in /opt/conda/lib/python3.10/site-packages (from gdown) (1.16.0)\nRequirement already satisfied: tqdm in /opt/conda/lib/python3.10/site-packages (from gdown) (4.65.0)\nRequirement already satisfied: beautifulsoup4 in /opt/conda/lib/python3.10/site-packages (from gdown) (4.12.2)\nRequirement already satisfied: soupsieve>1.2 in /opt/conda/lib/python3.10/site-packages (from beautifulsoup4->gdown) (2.3.2.post1)\nRequirement already satisfied: charset-normalizer<4,>=2 in /opt/conda/lib/python3.10/site-packages (from requests[socks]->gdown) (3.1.0)\nRequirement already satisfied: idna<4,>=2.5 in /opt/conda/lib/python3.10/site-packages (from requests[socks]->gdown) (3.4)\nRequirement already satisfied: urllib3<3,>=1.21.1 in /opt/conda/lib/python3.10/site-packages (from requests[socks]->gdown) (1.26.15)\nRequirement already satisfied: certifi>=2017.4.17 in /opt/conda/lib/python3.10/site-packages (from requests[socks]->gdown) (2023.5.7)\nRequirement already satisfied: PySocks!=1.5.7,>=1.5.6 in /opt/conda/lib/python3.10/site-packages (from requests[socks]->gdown) (1.7.1)\nInstalling collected packages: gdown\nSuccessfully installed gdown-4.7.1\n/opt/conda/lib/python3.10/site-packages/gdown/cli.py:126: FutureWarning: Option `--id` was deprecated in version 4.3.1 and will be removed in 5.0. You don't need to pass it anymore to use a file ID.\n  warnings.warn(\nDownloading...\nFrom: https://drive.google.com/uc?id=1sx-5J-sP86bUSodQ5Xd8YiHD8L5OlCzi\nTo: /kaggle/working/train.csv\n100%|███████████████████████████████████████| 52.9M/52.9M [00:00<00:00, 134MB/s]\n",
          "output_type": "stream"
        }
      ]
    },
    {
      "cell_type": "code",
      "source": [
        "def seed_everything(seed):\n",
        "  random.seed(seed)\n",
        "  os.environ['PYTHONHASHSEED'] = str(seed)\n",
        "  np.random.seed(seed)\n",
        "\n",
        "seed_everything(42)\n",
        "\n",
        "os.environ[\"PYTORCH_CUDA_ALLOC_CONF\"] = \"max_split_size_mb:32\""
      ],
      "metadata": {
        "id": "PEHLD7maE8iq",
        "execution": {
          "iopub.status.busy": "2023-09-03T00:57:20.707638Z",
          "iopub.execute_input": "2023-09-03T00:57:20.708041Z",
          "iopub.status.idle": "2023-09-03T00:57:20.715134Z",
          "shell.execute_reply.started": "2023-09-03T00:57:20.708003Z",
          "shell.execute_reply": "2023-09-03T00:57:20.713299Z"
        },
        "trusted": true
      },
      "execution_count": null,
      "outputs": []
    },
    {
      "cell_type": "code",
      "source": [
        "batch_name = f'helsinki_nlp_ko_en_{random.randrange(99999999)}'\n",
        "batch_name"
      ],
      "metadata": {
        "colab": {
          "base_uri": "https://localhost:8080/",
          "height": 35
        },
        "id": "WoC_veFoFNSE",
        "outputId": "122d7579-bcb6-4105-bd2f-8b31683e6e81",
        "execution": {
          "iopub.status.busy": "2023-09-03T00:57:20.716825Z",
          "iopub.execute_input": "2023-09-03T00:57:20.717412Z",
          "iopub.status.idle": "2023-09-03T00:57:20.738810Z",
          "shell.execute_reply.started": "2023-09-03T00:57:20.717379Z",
          "shell.execute_reply": "2023-09-03T00:57:20.737707Z"
        },
        "trusted": true
      },
      "execution_count": null,
      "outputs": [
        {
          "execution_count": 7,
          "output_type": "execute_result",
          "data": {
            "text/plain": "'helsinki_nlp_ko_en_85822412'"
          },
          "metadata": {}
        }
      ]
    },
    {
      "cell_type": "code",
      "source": [
        "raw_dataset = load_dataset(\"csv\", data_files='train.csv', split='train')\n",
        "# get 1 percent of data for test hyperparameter search\n",
        "train_valid = raw_dataset.train_test_split(.01)\n",
        "# split 20 percent for test 80 percent for train\n",
        "data_20 = train_valid['test'].train_test_split(.2)\n",
        "split_datasets = DatasetDict({\n",
        "    'train': data_20['train'],\n",
        "    'valid': data_20['test'],\n",
        "})\n",
        "split_datasets\n"
      ],
      "metadata": {
        "colab": {
          "base_uri": "https://localhost:8080/",
          "referenced_widgets": [
            "8e866b2187064ed99b18cd6c9477891a",
            "934e18c7292f4e38ac2e0bfd35ccab4b"
          ]
        },
        "id": "_o6GasbFMyGP",
        "outputId": "abc7dd20-9896-4b46-f2c7-7ad1bcdfe3d4",
        "execution": {
          "iopub.status.busy": "2023-09-03T00:57:20.740464Z",
          "iopub.execute_input": "2023-09-03T00:57:20.740810Z",
          "iopub.status.idle": "2023-09-03T00:57:22.409269Z",
          "shell.execute_reply.started": "2023-09-03T00:57:20.740777Z",
          "shell.execute_reply": "2023-09-03T00:57:22.408312Z"
        },
        "trusted": true
      },
      "execution_count": null,
      "outputs": [
        {
          "name": "stdout",
          "text": "Downloading and preparing dataset csv/default to /root/.cache/huggingface/datasets/csv/default-a6751473b96d81b5/0.0.0/433e0ccc46f9880962cc2b12065189766fbb2bee57a221866138fb9203c83519...\n",
          "output_type": "stream"
        },
        {
          "output_type": "display_data",
          "data": {
            "text/plain": "Downloading data files:   0%|          | 0/1 [00:00<?, ?it/s]",
            "application/vnd.jupyter.widget-view+json": {
              "version_major": 2,
              "version_minor": 0,
              "model_id": "8e866b2187064ed99b18cd6c9477891a"
            }
          },
          "metadata": {}
        },
        {
          "output_type": "display_data",
          "data": {
            "text/plain": "Extracting data files:   0%|          | 0/1 [00:00<?, ?it/s]",
            "application/vnd.jupyter.widget-view+json": {
              "version_major": 2,
              "version_minor": 0,
              "model_id": "934e18c7292f4e38ac2e0bfd35ccab4b"
            }
          },
          "metadata": {}
        },
        {
          "name": "stdout",
          "text": "Dataset csv downloaded and prepared to /root/.cache/huggingface/datasets/csv/default-a6751473b96d81b5/0.0.0/433e0ccc46f9880962cc2b12065189766fbb2bee57a221866138fb9203c83519. Subsequent calls will reuse this data.\n",
          "output_type": "stream"
        },
        {
          "execution_count": 8,
          "output_type": "execute_result",
          "data": {
            "text/plain": "DatasetDict({\n    train: Dataset({\n        features: ['sid', '한국어', '영어'],\n        num_rows: 1280\n    })\n    valid: Dataset({\n        features: ['sid', '한국어', '영어'],\n        num_rows: 320\n    })\n})"
          },
          "metadata": {}
        }
      ]
    },
    {
      "cell_type": "code",
      "source": [
        "print(\"원문: \", split_datasets['train'][0]['한국어'])\n",
        "print(\"번역문: \", split_datasets['train'][0]['영어'])"
      ],
      "metadata": {
        "colab": {
          "base_uri": "https://localhost:8080/"
        },
        "id": "QdcVf7_RGWe6",
        "outputId": "edbe8521-206f-47d3-bc36-cd849dab6670",
        "execution": {
          "iopub.status.busy": "2023-09-03T00:57:22.410647Z",
          "iopub.execute_input": "2023-09-03T00:57:22.410995Z",
          "iopub.status.idle": "2023-09-03T00:57:22.419890Z",
          "shell.execute_reply.started": "2023-09-03T00:57:22.410968Z",
          "shell.execute_reply": "2023-09-03T00:57:22.418864Z"
        },
        "trusted": true
      },
      "execution_count": null,
      "outputs": [
        {
          "name": "stdout",
          "text": "원문:  청화산의 남쪽 사면에는 화강암이 분포하고 있는데, 이 암석은 건설용 재료로 활용된다.\n번역문:  Granite is distributed on the southern slope of Cheonghwasan Mountain, and this rock is also used as a material for construction.\n",
          "output_type": "stream"
        }
      ]
    },
    {
      "cell_type": "code",
      "source": [
        "MODEL_NAME = \"Helsinki-NLP/opus-mt-ko-en\"\n",
        "tokenizer = AutoTokenizer.from_pretrained(MODEL_NAME)"
      ],
      "metadata": {
        "id": "WcSFHNPeIvp4",
        "execution": {
          "iopub.status.busy": "2023-09-03T00:57:22.425828Z",
          "iopub.execute_input": "2023-09-03T00:57:22.426694Z",
          "iopub.status.idle": "2023-09-03T00:57:24.587257Z",
          "shell.execute_reply.started": "2023-09-03T00:57:22.426661Z",
          "shell.execute_reply": "2023-09-03T00:57:24.586128Z"
        },
        "trusted": true,
        "colab": {
          "referenced_widgets": [
            "2de28575135745aeb403baf765a80cba",
            "c3fef1a796fc40a394628d6985b994d2",
            "33669176b7704bbd8fb3e9330c57266e",
            "a8d540c8ec31421e969e683bcfbba8f3",
            "851f0c7cdd4e4bf187f7da427c1457a1"
          ]
        },
        "outputId": "80c9571b-3cc4-4c31-dafa-cad1f06cc60a"
      },
      "execution_count": null,
      "outputs": [
        {
          "output_type": "display_data",
          "data": {
            "text/plain": "Downloading (…)okenizer_config.json:   0%|          | 0.00/44.0 [00:00<?, ?B/s]",
            "application/vnd.jupyter.widget-view+json": {
              "version_major": 2,
              "version_minor": 0,
              "model_id": "2de28575135745aeb403baf765a80cba"
            }
          },
          "metadata": {}
        },
        {
          "output_type": "display_data",
          "data": {
            "text/plain": "Downloading (…)lve/main/config.json:   0%|          | 0.00/1.39k [00:00<?, ?B/s]",
            "application/vnd.jupyter.widget-view+json": {
              "version_major": 2,
              "version_minor": 0,
              "model_id": "c3fef1a796fc40a394628d6985b994d2"
            }
          },
          "metadata": {}
        },
        {
          "output_type": "display_data",
          "data": {
            "text/plain": "Downloading (…)olve/main/source.spm:   0%|          | 0.00/842k [00:00<?, ?B/s]",
            "application/vnd.jupyter.widget-view+json": {
              "version_major": 2,
              "version_minor": 0,
              "model_id": "33669176b7704bbd8fb3e9330c57266e"
            }
          },
          "metadata": {}
        },
        {
          "output_type": "display_data",
          "data": {
            "text/plain": "Downloading (…)olve/main/target.spm:   0%|          | 0.00/813k [00:00<?, ?B/s]",
            "application/vnd.jupyter.widget-view+json": {
              "version_major": 2,
              "version_minor": 0,
              "model_id": "a8d540c8ec31421e969e683bcfbba8f3"
            }
          },
          "metadata": {}
        },
        {
          "output_type": "display_data",
          "data": {
            "text/plain": "Downloading (…)olve/main/vocab.json:   0%|          | 0.00/1.72M [00:00<?, ?B/s]",
            "application/vnd.jupyter.widget-view+json": {
              "version_major": 2,
              "version_minor": 0,
              "model_id": "851f0c7cdd4e4bf187f7da427c1457a1"
            }
          },
          "metadata": {}
        }
      ]
    },
    {
      "cell_type": "code",
      "source": [
        "max_input_length = 32\n",
        "max_target_length = 32\n",
        "\n",
        "def preprocess_function(examples):\n",
        "  inputs = [ex for ex in examples['한국어']]\n",
        "  targets = [ex for ex in examples['영어']]\n",
        "  model_inputs = tokenizer(inputs, max_length=max_input_length, truncation=True)\n",
        "\n",
        "  # tokenizer setup for target data\n",
        "  with tokenizer.as_target_tokenizer():\n",
        "    labels = tokenizer(targets, max_length= max_target_length, truncation=True)\n",
        "\n",
        "  model_inputs['labels'] = labels['input_ids']\n",
        "  return model_inputs"
      ],
      "metadata": {
        "id": "TvICrlEcJC3N",
        "execution": {
          "iopub.status.busy": "2023-09-03T00:57:24.588846Z",
          "iopub.execute_input": "2023-09-03T00:57:24.589778Z",
          "iopub.status.idle": "2023-09-03T00:57:24.599773Z",
          "shell.execute_reply.started": "2023-09-03T00:57:24.589736Z",
          "shell.execute_reply": "2023-09-03T00:57:24.598364Z"
        },
        "trusted": true
      },
      "execution_count": null,
      "outputs": []
    },
    {
      "cell_type": "code",
      "source": [
        "tokenized_datasets = split_datasets.map(\n",
        "    preprocess_function,\n",
        "    batched=True,\n",
        "    remove_columns=split_datasets[\"train\"].column_names)"
      ],
      "metadata": {
        "id": "Y4AEFlWCGzNb",
        "execution": {
          "iopub.status.busy": "2023-09-03T00:57:24.603248Z",
          "iopub.execute_input": "2023-09-03T00:57:24.603611Z",
          "iopub.status.idle": "2023-09-03T00:57:25.459765Z",
          "shell.execute_reply.started": "2023-09-03T00:57:24.603581Z",
          "shell.execute_reply": "2023-09-03T00:57:25.458699Z"
        },
        "trusted": true,
        "colab": {
          "referenced_widgets": [
            "cc865b0cafbc4c84b825f9971b8155a2",
            "05cae70b407e4b87a44d44acf483b4dd"
          ]
        },
        "outputId": "240438b4-66f1-4954-88d3-ad7dacdbb236"
      },
      "execution_count": null,
      "outputs": [
        {
          "output_type": "display_data",
          "data": {
            "text/plain": "  0%|          | 0/2 [00:00<?, ?ba/s]",
            "application/vnd.jupyter.widget-view+json": {
              "version_major": 2,
              "version_minor": 0,
              "model_id": "cc865b0cafbc4c84b825f9971b8155a2"
            }
          },
          "metadata": {}
        },
        {
          "output_type": "display_data",
          "data": {
            "text/plain": "  0%|          | 0/1 [00:00<?, ?ba/s]",
            "application/vnd.jupyter.widget-view+json": {
              "version_major": 2,
              "version_minor": 0,
              "model_id": "05cae70b407e4b87a44d44acf483b4dd"
            }
          },
          "metadata": {}
        }
      ]
    },
    {
      "cell_type": "code",
      "source": [
        "model = AutoModelForSeq2SeqLM.from_pretrained(MODEL_NAME)"
      ],
      "metadata": {
        "id": "OLS7Ce65G0_B",
        "execution": {
          "iopub.status.busy": "2023-09-03T00:57:25.461614Z",
          "iopub.execute_input": "2023-09-03T00:57:25.462424Z",
          "iopub.status.idle": "2023-09-03T00:57:39.323275Z",
          "shell.execute_reply.started": "2023-09-03T00:57:25.462383Z",
          "shell.execute_reply": "2023-09-03T00:57:39.322327Z"
        },
        "trusted": true,
        "colab": {
          "referenced_widgets": [
            "62d422dabc8745feb9d87dcad19c4445",
            "6b998c703d11477183635f7ad68117f8"
          ]
        },
        "outputId": "f9334eef-40e0-41f5-bbda-bfb639165501"
      },
      "execution_count": null,
      "outputs": [
        {
          "output_type": "display_data",
          "data": {
            "text/plain": "Downloading pytorch_model.bin:   0%|          | 0.00/312M [00:00<?, ?B/s]",
            "application/vnd.jupyter.widget-view+json": {
              "version_major": 2,
              "version_minor": 0,
              "model_id": "62d422dabc8745feb9d87dcad19c4445"
            }
          },
          "metadata": {}
        },
        {
          "output_type": "display_data",
          "data": {
            "text/plain": "Downloading (…)neration_config.json:   0%|          | 0.00/293 [00:00<?, ?B/s]",
            "application/vnd.jupyter.widget-view+json": {
              "version_major": 2,
              "version_minor": 0,
              "model_id": "6b998c703d11477183635f7ad68117f8"
            }
          },
          "metadata": {}
        }
      ]
    },
    {
      "cell_type": "code",
      "source": [
        "data_collator = DataCollatorForSeq2Seq(tokenizer, model=model)"
      ],
      "metadata": {
        "id": "oMBp4n9uG4Tp",
        "execution": {
          "iopub.status.busy": "2023-09-03T00:57:39.324797Z",
          "iopub.execute_input": "2023-09-03T00:57:39.325839Z",
          "iopub.status.idle": "2023-09-03T00:57:39.330565Z",
          "shell.execute_reply.started": "2023-09-03T00:57:39.325802Z",
          "shell.execute_reply": "2023-09-03T00:57:39.329376Z"
        },
        "trusted": true
      },
      "execution_count": null,
      "outputs": []
    },
    {
      "cell_type": "code",
      "source": [
        "metric = load_metric(\"sacrebleu\")"
      ],
      "metadata": {
        "id": "2WggHnb5G8HY",
        "execution": {
          "iopub.status.busy": "2023-09-03T00:57:39.331956Z",
          "iopub.execute_input": "2023-09-03T00:57:39.332924Z",
          "iopub.status.idle": "2023-09-03T00:57:40.081517Z",
          "shell.execute_reply.started": "2023-09-03T00:57:39.332890Z",
          "shell.execute_reply": "2023-09-03T00:57:40.080545Z"
        },
        "trusted": true,
        "colab": {
          "referenced_widgets": [
            "97dcb433c80a4b55beb1c77b7dcb9d1b"
          ]
        },
        "outputId": "620b0872-768e-4ec1-984d-12e8adc5bf6f"
      },
      "execution_count": null,
      "outputs": [
        {
          "output_type": "display_data",
          "data": {
            "text/plain": "Downloading builder script:   0%|          | 0.00/2.85k [00:00<?, ?B/s]",
            "application/vnd.jupyter.widget-view+json": {
              "version_major": 2,
              "version_minor": 0,
              "model_id": "97dcb433c80a4b55beb1c77b7dcb9d1b"
            }
          },
          "metadata": {}
        }
      ]
    },
    {
      "cell_type": "code",
      "source": [
        "def compute_metrics(eval_preds):\n",
        "    preds, labels = eval_preds\n",
        "\n",
        "    if isinstance(preds, tuple):\n",
        "        preds = preds[0]\n",
        "\n",
        "    decoded_preds = tokenizer.batch_decode(preds, skip_special_tokens=True)\n",
        "\n",
        "    # -100은 건너뛴다.\n",
        "    labels = np.where(labels != -100, labels, tokenizer.pad_token_id)\n",
        "    decoded_labels = tokenizer.batch_decode(labels, skip_special_tokens=True)\n",
        "\n",
        "    # 단순 후처리\n",
        "    decoded_preds = [pred.strip() for pred in decoded_preds]\n",
        "    decoded_labels = [[label.strip()] for label in decoded_labels]\n",
        "\n",
        "    result = metric.compute(predictions=decoded_preds, references=decoded_labels)\n",
        "    return {\"bleu\": result[\"score\"]}"
      ],
      "metadata": {
        "id": "yYikkg56G99S",
        "execution": {
          "iopub.status.busy": "2023-09-03T00:57:40.083046Z",
          "iopub.execute_input": "2023-09-03T00:57:40.084026Z",
          "iopub.status.idle": "2023-09-03T00:57:40.091514Z",
          "shell.execute_reply.started": "2023-09-03T00:57:40.083985Z",
          "shell.execute_reply": "2023-09-03T00:57:40.089947Z"
        },
        "trusted": true
      },
      "execution_count": null,
      "outputs": []
    },
    {
      "cell_type": "code",
      "source": [
        "# confit default and sweep config\n",
        "NUM_EPOCHS = 3\n",
        "BATCH_SIZE = 16\n",
        "LEARNING_RATE = 5e-5\n",
        "SCHEDULER_TYPE = \"linear\"\n",
        "\n",
        "config_defaults ={\n",
        "    'epochs' : NUM_EPOCHS,\n",
        "    'batch_size':BATCH_SIZE,\n",
        "    'learning_rate':LEARNING_RATE,\n",
        "    'weight_decay':0.0,\n",
        "    'optimizer' :'AdamW',\n",
        "    'SchedulerType': SCHEDULER_TYPE\n",
        "}\n",
        "\n",
        "sweep_config ={\n",
        "    'method':'random', #'grid', 'random', 'bayes'\n",
        "    'name':'sweep',\n",
        "    'metric':{\n",
        "        'name':'bleu',\n",
        "        'goal': 'maximize'\n",
        "    },\n",
        "    'parameters':{\n",
        "        'learning_rate': {'max':1e-1, 'min': 5e-5},\n",
        "        'weight_decay':  {'values': [0.01, 0.03, 0.1, 0.3, 0.5]},\n",
        "        'SchedulerType':{'values': [\"linear\", \"cosine\", \"constant\"]}\n",
        "    },\n",
        "\n",
        "\n",
        "}\n"
      ],
      "metadata": {
        "id": "zd0R7ZgbHFTh",
        "execution": {
          "iopub.status.busy": "2023-09-03T00:58:07.009779Z",
          "iopub.execute_input": "2023-09-03T00:58:07.010165Z",
          "iopub.status.idle": "2023-09-03T00:58:07.017392Z",
          "shell.execute_reply.started": "2023-09-03T00:58:07.010132Z",
          "shell.execute_reply": "2023-09-03T00:58:07.016189Z"
        },
        "trusted": true
      },
      "execution_count": null,
      "outputs": []
    },
    {
      "cell_type": "code",
      "source": [
        "# import torch,  gc\n",
        "# gc.collect()\n",
        "# torch.cuda.empty_cache()\n",
        "# torch.cuda.memory_summary(device=None, abbreviated=False)\n",
        "\n",
        "def train():\n",
        "  with wandb.init(config=config_defaults):\n",
        "    config = wandb.config\n",
        "\n",
        "    args = Seq2SeqTrainingArguments(\n",
        "        output_dir = batch_name,\n",
        "        evaluation_strategy=\"epoch\",\n",
        "        learning_rate = config.learning_rate,\n",
        "        per_device_train_batch_size=BATCH_SIZE,\n",
        "        per_device_eval_batch_size=BATCH_SIZE,\n",
        "        num_train_epochs=NUM_EPOCHS,\n",
        "        weight_decay=config.weight_decay,\n",
        "        lr_scheduler_type = config.SchedulerType,\n",
        "        gradient_accumulation_steps = 8,\n",
        "        predict_with_generate=True,\n",
        "        fp16=True, # 고속화 loose한 정확도\n",
        "        report_to=\"wandb\",\n",
        "        # gradient_checkpointing=True, # 메모리 절약 대신 느려짐\n",
        "    )\n",
        "\n",
        "    trainer = Seq2SeqTrainer(\n",
        "        model=model,\n",
        "        args=args,\n",
        "        train_dataset=tokenized_datasets[\"train\"],\n",
        "        eval_dataset=tokenized_datasets[\"valid\"],\n",
        "        data_collator=data_collator,\n",
        "        tokenizer=tokenizer,\n",
        "        compute_metrics=compute_metrics,\n",
        "    )\n",
        "\n",
        "    trainer.train()"
      ],
      "metadata": {
        "id": "agVTK0gJagX1",
        "execution": {
          "iopub.status.busy": "2023-09-03T00:58:11.557517Z",
          "iopub.execute_input": "2023-09-03T00:58:11.557906Z",
          "iopub.status.idle": "2023-09-03T00:58:11.565646Z",
          "shell.execute_reply.started": "2023-09-03T00:58:11.557877Z",
          "shell.execute_reply": "2023-09-03T00:58:11.564674Z"
        },
        "trusted": true
      },
      "execution_count": null,
      "outputs": []
    },
    {
      "cell_type": "code",
      "source": [
        "entity = \"solowosophia13\"\n",
        "sweep_id = wandb.sweep(sweep_config, entity= entity, project=\"AIconnect_ko_en_translation\")\n",
        "wandb.agent(sweep_id, train, count=20)"
      ],
      "metadata": {
        "colab": {
          "background_save": true,
          "base_uri": "https://localhost:8080/",
          "height": 1000,
          "referenced_widgets": [
            "e75cd632c69f4591b429e6433d03f78b",
            "70d6e41e181c4cb6ae37fdbd69668f0a",
            "75ca8b698f894c2ea121805d7a616429",
            "8077fb5581cf4ad1889eec920aa1dee3",
            "d0a358dde62b43d5b7275e2a5cf150cb",
            "d5cf1f5b2b3a42f5bfc0e8a55d38d2bc",
            "4b798434f9b8456995d02549d90a08d8",
            "c47e0e0388e44e668b49761e5bae1714",
            "be5c5a1465314ae38f3fbeab447f029d",
            "5a93d40fd2044d6eb1551414576b5d96",
            "d24c9ce023ed460190af1836be171b80",
            "484d24712fd645baace3f03a43ad6902",
            "a8a67dbf0596482ebaa681181636d74e",
            "fe70703ee48d42cda1cdf782f6c2e84c",
            "b0ec79458d104d2085d8372719d8344d",
            "d4a8ec7883164b66b17c17b6ab4e2674",
            "631d862d752b460daa6588dd9274a481",
            "b779be143c634b45b3e56d5659e318c9",
            "bb62547dbd5940b888d32ec9876556a5",
            "ab52fe02efbb4e8cbdbf40f9497f4a13",
            "668cc6c0adec45f3b2a2e175eb433b54",
            "72bb6b826ac448ebb21facb1e8725bd2",
            "c73c587d42a24d11b284c16783458cde",
            "0b923d9c0cfc4c4abb4fcb7249ef460d",
            "8e32bf525b324d14a41b1026f6e3b0f1",
            "57cc55e488134efb9826a4b5723cfbee",
            "19b0cc99216941f3b728ae47997f3983",
            "5e1a29a53fd64862acd579d5988e217e",
            "567c9a52ece34b3da64f59dbb910ef0c",
            "61431a18b02441b5a4c629552630630d",
            "25ab6a59d4ce4b0ba7b09c203adfd48f",
            "8c91e802ee2c45f7b84a682ca4a93889",
            "3dcc9f85cf544781a7693c4a9de3b9f4",
            "ebfeccf22dc3411fa0baa76b3eadf299",
            "fdbdfdb82ed04f8487d1b0209b8855d8",
            "6e4650b2653d4388bc73244875b86771",
            "ce072c60b82642b3ab3b16952f1cc343",
            "8c85799b493e480fbfc121183aac79fb"
          ]
        },
        "id": "ZuVmrg3VkQAQ",
        "outputId": "2ef76bba-4a30-431a-ea2b-9b59b8b09f67",
        "execution": {
          "iopub.status.busy": "2023-09-03T00:58:12.335483Z",
          "iopub.execute_input": "2023-09-03T00:58:12.335866Z",
          "iopub.status.idle": "2023-09-03T09:05:03.663436Z",
          "shell.execute_reply.started": "2023-09-03T00:58:12.335837Z",
          "shell.execute_reply": "2023-09-03T09:05:03.662470Z"
        },
        "trusted": true
      },
      "execution_count": null,
      "outputs": [
        {
          "name": "stdout",
          "text": "Create sweep with ID: sa9bqp9j\nSweep URL: https://wandb.ai/solowosophia13/AIconnect_ko_en_translation/sweeps/sa9bqp9j\n",
          "output_type": "stream"
        },
        {
          "name": "stderr",
          "text": "\u001b[34m\u001b[1mwandb\u001b[0m: Agent Starting Run: plj0f827 with config:\n\u001b[34m\u001b[1mwandb\u001b[0m: \tSchedulerType: constant\n\u001b[34m\u001b[1mwandb\u001b[0m: \tlearning_rate: 0.027266047163388468\n\u001b[34m\u001b[1mwandb\u001b[0m: \tweight_decay: 0.1\n\u001b[34m\u001b[1mwandb\u001b[0m: Currently logged in as: \u001b[33msolowosophia13\u001b[0m. Use \u001b[1m`wandb login --relogin`\u001b[0m to force relogin\n",
          "output_type": "stream"
        },
        {
          "output_type": "display_data",
          "data": {
            "text/plain": "<IPython.core.display.HTML object>",
            "text/html": "Tracking run with wandb version 0.15.9"
          },
          "metadata": {}
        },
        {
          "output_type": "display_data",
          "data": {
            "text/plain": "<IPython.core.display.HTML object>",
            "text/html": "Run data is saved locally in <code>/kaggle/working/wandb/run-20230903_005816-plj0f827</code>"
          },
          "metadata": {}
        },
        {
          "output_type": "display_data",
          "data": {
            "text/plain": "<IPython.core.display.HTML object>",
            "text/html": "Syncing run <strong><a href='https://wandb.ai/solowosophia13/AIconnect_ko_en_translation/runs/plj0f827' target=\"_blank\">noble-sweep-1</a></strong> to <a href='https://wandb.ai/solowosophia13/AIconnect_ko_en_translation' target=\"_blank\">Weights & Biases</a> (<a href='https://wandb.me/run' target=\"_blank\">docs</a>)<br/>Sweep page: <a href='https://wandb.ai/solowosophia13/AIconnect_ko_en_translation/sweeps/sa9bqp9j' target=\"_blank\">https://wandb.ai/solowosophia13/AIconnect_ko_en_translation/sweeps/sa9bqp9j</a>"
          },
          "metadata": {}
        },
        {
          "output_type": "display_data",
          "data": {
            "text/plain": "<IPython.core.display.HTML object>",
            "text/html": " View project at <a href='https://wandb.ai/solowosophia13/AIconnect_ko_en_translation' target=\"_blank\">https://wandb.ai/solowosophia13/AIconnect_ko_en_translation</a>"
          },
          "metadata": {}
        },
        {
          "output_type": "display_data",
          "data": {
            "text/plain": "<IPython.core.display.HTML object>",
            "text/html": " View sweep at <a href='https://wandb.ai/solowosophia13/AIconnect_ko_en_translation/sweeps/sa9bqp9j' target=\"_blank\">https://wandb.ai/solowosophia13/AIconnect_ko_en_translation/sweeps/sa9bqp9j</a>"
          },
          "metadata": {}
        },
        {
          "output_type": "display_data",
          "data": {
            "text/plain": "<IPython.core.display.HTML object>",
            "text/html": " View run at <a href='https://wandb.ai/solowosophia13/AIconnect_ko_en_translation/runs/plj0f827' target=\"_blank\">https://wandb.ai/solowosophia13/AIconnect_ko_en_translation/runs/plj0f827</a>"
          },
          "metadata": {}
        },
        {
          "name": "stderr",
          "text": "\u001b[34m\u001b[1mwandb\u001b[0m: \u001b[33mWARNING\u001b[0m Config item 'learning_rate' was locked by 'sweep' (ignored update).\n\u001b[34m\u001b[1mwandb\u001b[0m: \u001b[33mWARNING\u001b[0m Config item 'weight_decay' was locked by 'sweep' (ignored update).\n",
          "output_type": "stream"
        },
        {
          "output_type": "display_data",
          "data": {
            "text/plain": "<IPython.core.display.HTML object>",
            "text/html": "\n    <div>\n      \n      <progress value='30' max='30' style='width:300px; height:20px; vertical-align: middle;'></progress>\n      [30/30 22:07, Epoch 3/3]\n    </div>\n    <table border=\"1\" class=\"dataframe\">\n  <thead>\n <tr style=\"text-align: left;\">\n      <th>Epoch</th>\n      <th>Training Loss</th>\n      <th>Validation Loss</th>\n      <th>Bleu</th>\n    </tr>\n  </thead>\n  <tbody>\n    <tr>\n      <td>1</td>\n      <td>No log</td>\n      <td>83.006355</td>\n      <td>0.000889</td>\n    </tr>\n    <tr>\n      <td>2</td>\n      <td>No log</td>\n      <td>91.990952</td>\n      <td>0.001034</td>\n    </tr>\n    <tr>\n      <td>3</td>\n      <td>No log</td>\n      <td>106.000488</td>\n      <td>0.000793</td>\n    </tr>\n  </tbody>\n</table><p>"
          },
          "metadata": {}
        },
        {
          "output_type": "display_data",
          "data": {
            "text/plain": "<IPython.core.display.HTML object>",
            "text/html": "Waiting for W&B process to finish... <strong style=\"color:green\">(success).</strong>"
          },
          "metadata": {}
        },
        {
          "output_type": "display_data",
          "data": {
            "text/plain": "VBox(children=(Label(value='0.001 MB of 0.001 MB uploaded (0.000 MB deduped)\\r'), FloatProgress(value=1.0, max…",
            "application/vnd.jupyter.widget-view+json": {
              "version_major": 2,
              "version_minor": 0,
              "model_id": "bb62547dbd5940b888d32ec9876556a5"
            }
          },
          "metadata": {}
        },
        {
          "output_type": "display_data",
          "data": {
            "text/plain": "<IPython.core.display.HTML object>",
            "text/html": "<style>\n    table.wandb td:nth-child(1) { padding: 0 10px; text-align: left ; width: auto;} td:nth-child(2) {text-align: left ; width: 100%}\n    .wandb-row { display: flex; flex-direction: row; flex-wrap: wrap; justify-content: flex-start; width: 100% }\n    .wandb-col { display: flex; flex-direction: column; flex-basis: 100%; flex: 1; padding: 10px; }\n    </style>\n<div class=\"wandb-row\"><div class=\"wandb-col\"><h3>Run history:</h3><br/><table class=\"wandb\"><tr><td>eval/bleu</td><td>▄█▁</td></tr><tr><td>eval/loss</td><td>▁▄█</td></tr><tr><td>eval/runtime</td><td>█▁▂</td></tr><tr><td>eval/samples_per_second</td><td>▁██</td></tr><tr><td>eval/steps_per_second</td><td>▁▁▁</td></tr><tr><td>train/epoch</td><td>▁▅██</td></tr><tr><td>train/global_step</td><td>▁▅██</td></tr><tr><td>train/total_flos</td><td>▁</td></tr><tr><td>train/train_loss</td><td>▁</td></tr><tr><td>train/train_runtime</td><td>▁</td></tr><tr><td>train/train_samples_per_second</td><td>▁</td></tr><tr><td>train/train_steps_per_second</td><td>▁</td></tr></table><br/></div><div class=\"wandb-col\"><h3>Run summary:</h3><br/><table class=\"wandb\"><tr><td>eval/bleu</td><td>0.00079</td></tr><tr><td>eval/loss</td><td>106.00049</td></tr><tr><td>eval/runtime</td><td>435.4979</td></tr><tr><td>eval/samples_per_second</td><td>0.735</td></tr><tr><td>eval/steps_per_second</td><td>0.046</td></tr><tr><td>train/epoch</td><td>3.0</td></tr><tr><td>train/global_step</td><td>30</td></tr><tr><td>train/total_flos</td><td>32542430330880.0</td></tr><tr><td>train/train_loss</td><td>72.91891</td></tr><tr><td>train/train_runtime</td><td>1330.6957</td></tr><tr><td>train/train_samples_per_second</td><td>2.886</td></tr><tr><td>train/train_steps_per_second</td><td>0.023</td></tr></table><br/></div></div>"
          },
          "metadata": {}
        },
        {
          "output_type": "display_data",
          "data": {
            "text/plain": "<IPython.core.display.HTML object>",
            "text/html": " View run <strong style=\"color:#cdcd00\">noble-sweep-1</strong> at: <a href='https://wandb.ai/solowosophia13/AIconnect_ko_en_translation/runs/plj0f827' target=\"_blank\">https://wandb.ai/solowosophia13/AIconnect_ko_en_translation/runs/plj0f827</a><br/>Synced 6 W&B file(s), 0 media file(s), 0 artifact file(s) and 0 other file(s)"
          },
          "metadata": {}
        },
        {
          "output_type": "display_data",
          "data": {
            "text/plain": "<IPython.core.display.HTML object>",
            "text/html": "Find logs at: <code>./wandb/run-20230903_005816-plj0f827/logs</code>"
          },
          "metadata": {}
        },
        {
          "name": "stderr",
          "text": "\u001b[34m\u001b[1mwandb\u001b[0m: Agent Starting Run: jviiii4c with config:\n\u001b[34m\u001b[1mwandb\u001b[0m: \tSchedulerType: cosine\n\u001b[34m\u001b[1mwandb\u001b[0m: \tlearning_rate: 0.05441540582010267\n\u001b[34m\u001b[1mwandb\u001b[0m: \tweight_decay: 0.03\n",
          "output_type": "stream"
        },
        {
          "output_type": "display_data",
          "data": {
            "text/plain": "<IPython.core.display.HTML object>",
            "text/html": "Tracking run with wandb version 0.15.9"
          },
          "metadata": {}
        },
        {
          "output_type": "display_data",
          "data": {
            "text/plain": "<IPython.core.display.HTML object>",
            "text/html": "Run data is saved locally in <code>/kaggle/working/wandb/run-20230903_012116-jviiii4c</code>"
          },
          "metadata": {}
        },
        {
          "output_type": "display_data",
          "data": {
            "text/plain": "<IPython.core.display.HTML object>",
            "text/html": "Syncing run <strong><a href='https://wandb.ai/solowosophia13/AIconnect_ko_en_translation/runs/jviiii4c' target=\"_blank\">vague-sweep-2</a></strong> to <a href='https://wandb.ai/solowosophia13/AIconnect_ko_en_translation' target=\"_blank\">Weights & Biases</a> (<a href='https://wandb.me/run' target=\"_blank\">docs</a>)<br/>Sweep page: <a href='https://wandb.ai/solowosophia13/AIconnect_ko_en_translation/sweeps/sa9bqp9j' target=\"_blank\">https://wandb.ai/solowosophia13/AIconnect_ko_en_translation/sweeps/sa9bqp9j</a>"
          },
          "metadata": {}
        },
        {
          "output_type": "display_data",
          "data": {
            "text/plain": "<IPython.core.display.HTML object>",
            "text/html": " View project at <a href='https://wandb.ai/solowosophia13/AIconnect_ko_en_translation' target=\"_blank\">https://wandb.ai/solowosophia13/AIconnect_ko_en_translation</a>"
          },
          "metadata": {}
        },
        {
          "output_type": "display_data",
          "data": {
            "text/plain": "<IPython.core.display.HTML object>",
            "text/html": " View sweep at <a href='https://wandb.ai/solowosophia13/AIconnect_ko_en_translation/sweeps/sa9bqp9j' target=\"_blank\">https://wandb.ai/solowosophia13/AIconnect_ko_en_translation/sweeps/sa9bqp9j</a>"
          },
          "metadata": {}
        },
        {
          "output_type": "display_data",
          "data": {
            "text/plain": "<IPython.core.display.HTML object>",
            "text/html": " View run at <a href='https://wandb.ai/solowosophia13/AIconnect_ko_en_translation/runs/jviiii4c' target=\"_blank\">https://wandb.ai/solowosophia13/AIconnect_ko_en_translation/runs/jviiii4c</a>"
          },
          "metadata": {}
        },
        {
          "name": "stderr",
          "text": "\u001b[34m\u001b[1mwandb\u001b[0m: \u001b[33mWARNING\u001b[0m Config item 'learning_rate' was locked by 'sweep' (ignored update).\n\u001b[34m\u001b[1mwandb\u001b[0m: \u001b[33mWARNING\u001b[0m Config item 'weight_decay' was locked by 'sweep' (ignored update).\n",
          "output_type": "stream"
        },
        {
          "output_type": "display_data",
          "data": {
            "text/plain": "<IPython.core.display.HTML object>",
            "text/html": "\n    <div>\n      \n      <progress value='30' max='30' style='width:300px; height:20px; vertical-align: middle;'></progress>\n      [30/30 22:11, Epoch 3/3]\n    </div>\n    <table border=\"1\" class=\"dataframe\">\n  <thead>\n <tr style=\"text-align: left;\">\n      <th>Epoch</th>\n      <th>Training Loss</th>\n      <th>Validation Loss</th>\n      <th>Bleu</th>\n    </tr>\n  </thead>\n  <tbody>\n    <tr>\n      <td>1</td>\n      <td>No log</td>\n      <td>157.831085</td>\n      <td>0.000583</td>\n    </tr>\n    <tr>\n      <td>2</td>\n      <td>No log</td>\n      <td>100.226776</td>\n      <td>0.000307</td>\n    </tr>\n    <tr>\n      <td>3</td>\n      <td>No log</td>\n      <td>56.424084</td>\n      <td>0.000889</td>\n    </tr>\n  </tbody>\n</table><p>"
          },
          "metadata": {}
        },
        {
          "output_type": "display_data",
          "data": {
            "text/plain": "<IPython.core.display.HTML object>",
            "text/html": "Waiting for W&B process to finish... <strong style=\"color:green\">(success).</strong>"
          },
          "metadata": {}
        },
        {
          "output_type": "display_data",
          "data": {
            "text/plain": "VBox(children=(Label(value='0.001 MB of 0.001 MB uploaded (0.000 MB deduped)\\r'), FloatProgress(value=1.0, max…",
            "application/vnd.jupyter.widget-view+json": {
              "version_major": 2,
              "version_minor": 0,
              "model_id": "ab52fe02efbb4e8cbdbf40f9497f4a13"
            }
          },
          "metadata": {}
        },
        {
          "output_type": "display_data",
          "data": {
            "text/plain": "<IPython.core.display.HTML object>",
            "text/html": "<style>\n    table.wandb td:nth-child(1) { padding: 0 10px; text-align: left ; width: auto;} td:nth-child(2) {text-align: left ; width: 100%}\n    .wandb-row { display: flex; flex-direction: row; flex-wrap: wrap; justify-content: flex-start; width: 100% }\n    .wandb-col { display: flex; flex-direction: column; flex-basis: 100%; flex: 1; padding: 10px; }\n    </style>\n<div class=\"wandb-row\"><div class=\"wandb-col\"><h3>Run history:</h3><br/><table class=\"wandb\"><tr><td>eval/bleu</td><td>▄▁█</td></tr><tr><td>eval/loss</td><td>█▄▁</td></tr><tr><td>eval/runtime</td><td>█▅▁</td></tr><tr><td>eval/samples_per_second</td><td>▁▅█</td></tr><tr><td>eval/steps_per_second</td><td>▁██</td></tr><tr><td>train/epoch</td><td>▁▅██</td></tr><tr><td>train/global_step</td><td>▁▅██</td></tr><tr><td>train/total_flos</td><td>▁</td></tr><tr><td>train/train_loss</td><td>▁</td></tr><tr><td>train/train_runtime</td><td>▁</td></tr><tr><td>train/train_samples_per_second</td><td>▁</td></tr><tr><td>train/train_steps_per_second</td><td>▁</td></tr></table><br/></div><div class=\"wandb-col\"><h3>Run summary:</h3><br/><table class=\"wandb\"><tr><td>eval/bleu</td><td>0.00089</td></tr><tr><td>eval/loss</td><td>56.42408</td></tr><tr><td>eval/runtime</td><td>435.6784</td></tr><tr><td>eval/samples_per_second</td><td>0.734</td></tr><tr><td>eval/steps_per_second</td><td>0.046</td></tr><tr><td>train/epoch</td><td>3.0</td></tr><tr><td>train/global_step</td><td>30</td></tr><tr><td>train/total_flos</td><td>32542430330880.0</td></tr><tr><td>train/train_loss</td><td>114.74293</td></tr><tr><td>train/train_runtime</td><td>1332.5519</td></tr><tr><td>train/train_samples_per_second</td><td>2.882</td></tr><tr><td>train/train_steps_per_second</td><td>0.023</td></tr></table><br/></div></div>"
          },
          "metadata": {}
        },
        {
          "output_type": "display_data",
          "data": {
            "text/plain": "<IPython.core.display.HTML object>",
            "text/html": " View run <strong style=\"color:#cdcd00\">vague-sweep-2</strong> at: <a href='https://wandb.ai/solowosophia13/AIconnect_ko_en_translation/runs/jviiii4c' target=\"_blank\">https://wandb.ai/solowosophia13/AIconnect_ko_en_translation/runs/jviiii4c</a><br/>Synced 6 W&B file(s), 0 media file(s), 0 artifact file(s) and 0 other file(s)"
          },
          "metadata": {}
        },
        {
          "output_type": "display_data",
          "data": {
            "text/plain": "<IPython.core.display.HTML object>",
            "text/html": "Find logs at: <code>./wandb/run-20230903_012116-jviiii4c/logs</code>"
          },
          "metadata": {}
        },
        {
          "name": "stderr",
          "text": "\u001b[34m\u001b[1mwandb\u001b[0m: Sweep Agent: Waiting for job.\n\u001b[34m\u001b[1mwandb\u001b[0m: Job received.\n\u001b[34m\u001b[1mwandb\u001b[0m: Agent Starting Run: yuzsooq0 with config:\n\u001b[34m\u001b[1mwandb\u001b[0m: \tSchedulerType: cosine\n\u001b[34m\u001b[1mwandb\u001b[0m: \tlearning_rate: 0.022765140742628837\n\u001b[34m\u001b[1mwandb\u001b[0m: \tweight_decay: 0.03\n",
          "output_type": "stream"
        },
        {
          "output_type": "display_data",
          "data": {
            "text/plain": "<IPython.core.display.HTML object>",
            "text/html": "Tracking run with wandb version 0.15.9"
          },
          "metadata": {}
        },
        {
          "output_type": "display_data",
          "data": {
            "text/plain": "<IPython.core.display.HTML object>",
            "text/html": "Run data is saved locally in <code>/kaggle/working/wandb/run-20230903_014419-yuzsooq0</code>"
          },
          "metadata": {}
        },
        {
          "output_type": "display_data",
          "data": {
            "text/plain": "<IPython.core.display.HTML object>",
            "text/html": "Syncing run <strong><a href='https://wandb.ai/solowosophia13/AIconnect_ko_en_translation/runs/yuzsooq0' target=\"_blank\">spring-sweep-3</a></strong> to <a href='https://wandb.ai/solowosophia13/AIconnect_ko_en_translation' target=\"_blank\">Weights & Biases</a> (<a href='https://wandb.me/run' target=\"_blank\">docs</a>)<br/>Sweep page: <a href='https://wandb.ai/solowosophia13/AIconnect_ko_en_translation/sweeps/sa9bqp9j' target=\"_blank\">https://wandb.ai/solowosophia13/AIconnect_ko_en_translation/sweeps/sa9bqp9j</a>"
          },
          "metadata": {}
        },
        {
          "output_type": "display_data",
          "data": {
            "text/plain": "<IPython.core.display.HTML object>",
            "text/html": " View project at <a href='https://wandb.ai/solowosophia13/AIconnect_ko_en_translation' target=\"_blank\">https://wandb.ai/solowosophia13/AIconnect_ko_en_translation</a>"
          },
          "metadata": {}
        },
        {
          "output_type": "display_data",
          "data": {
            "text/plain": "<IPython.core.display.HTML object>",
            "text/html": " View sweep at <a href='https://wandb.ai/solowosophia13/AIconnect_ko_en_translation/sweeps/sa9bqp9j' target=\"_blank\">https://wandb.ai/solowosophia13/AIconnect_ko_en_translation/sweeps/sa9bqp9j</a>"
          },
          "metadata": {}
        },
        {
          "output_type": "display_data",
          "data": {
            "text/plain": "<IPython.core.display.HTML object>",
            "text/html": " View run at <a href='https://wandb.ai/solowosophia13/AIconnect_ko_en_translation/runs/yuzsooq0' target=\"_blank\">https://wandb.ai/solowosophia13/AIconnect_ko_en_translation/runs/yuzsooq0</a>"
          },
          "metadata": {}
        },
        {
          "name": "stderr",
          "text": "\u001b[34m\u001b[1mwandb\u001b[0m: \u001b[33mWARNING\u001b[0m Config item 'learning_rate' was locked by 'sweep' (ignored update).\n\u001b[34m\u001b[1mwandb\u001b[0m: \u001b[33mWARNING\u001b[0m Config item 'weight_decay' was locked by 'sweep' (ignored update).\n",
          "output_type": "stream"
        },
        {
          "output_type": "display_data",
          "data": {
            "text/plain": "<IPython.core.display.HTML object>",
            "text/html": "\n    <div>\n      \n      <progress value='30' max='30' style='width:300px; height:20px; vertical-align: middle;'></progress>\n      [30/30 22:13, Epoch 3/3]\n    </div>\n    <table border=\"1\" class=\"dataframe\">\n  <thead>\n <tr style=\"text-align: left;\">\n      <th>Epoch</th>\n      <th>Training Loss</th>\n      <th>Validation Loss</th>\n      <th>Bleu</th>\n    </tr>\n  </thead>\n  <tbody>\n    <tr>\n      <td>1</td>\n      <td>No log</td>\n      <td>95.098488</td>\n      <td>0.000376</td>\n    </tr>\n    <tr>\n      <td>2</td>\n      <td>No log</td>\n      <td>61.505829</td>\n      <td>0.001034</td>\n    </tr>\n    <tr>\n      <td>3</td>\n      <td>No log</td>\n      <td>41.972240</td>\n      <td>0.001062</td>\n    </tr>\n  </tbody>\n</table><p>"
          },
          "metadata": {}
        },
        {
          "output_type": "display_data",
          "data": {
            "text/plain": "<IPython.core.display.HTML object>",
            "text/html": "Waiting for W&B process to finish... <strong style=\"color:green\">(success).</strong>"
          },
          "metadata": {}
        },
        {
          "output_type": "display_data",
          "data": {
            "text/plain": "VBox(children=(Label(value='0.001 MB of 0.001 MB uploaded (0.000 MB deduped)\\r'), FloatProgress(value=1.0, max…",
            "application/vnd.jupyter.widget-view+json": {
              "version_major": 2,
              "version_minor": 0,
              "model_id": "668cc6c0adec45f3b2a2e175eb433b54"
            }
          },
          "metadata": {}
        },
        {
          "output_type": "display_data",
          "data": {
            "text/plain": "<IPython.core.display.HTML object>",
            "text/html": "<style>\n    table.wandb td:nth-child(1) { padding: 0 10px; text-align: left ; width: auto;} td:nth-child(2) {text-align: left ; width: 100%}\n    .wandb-row { display: flex; flex-direction: row; flex-wrap: wrap; justify-content: flex-start; width: 100% }\n    .wandb-col { display: flex; flex-direction: column; flex-basis: 100%; flex: 1; padding: 10px; }\n    </style>\n<div class=\"wandb-row\"><div class=\"wandb-col\"><h3>Run history:</h3><br/><table class=\"wandb\"><tr><td>eval/bleu</td><td>▁██</td></tr><tr><td>eval/loss</td><td>█▄▁</td></tr><tr><td>eval/runtime</td><td>█▂▁</td></tr><tr><td>eval/samples_per_second</td><td>▁▇█</td></tr><tr><td>eval/steps_per_second</td><td>▁██</td></tr><tr><td>train/epoch</td><td>▁▅██</td></tr><tr><td>train/global_step</td><td>▁▅██</td></tr><tr><td>train/total_flos</td><td>▁</td></tr><tr><td>train/train_loss</td><td>▁</td></tr><tr><td>train/train_runtime</td><td>▁</td></tr><tr><td>train/train_samples_per_second</td><td>▁</td></tr><tr><td>train/train_steps_per_second</td><td>▁</td></tr></table><br/></div><div class=\"wandb-col\"><h3>Run summary:</h3><br/><table class=\"wandb\"><tr><td>eval/bleu</td><td>0.00106</td></tr><tr><td>eval/loss</td><td>41.97224</td></tr><tr><td>eval/runtime</td><td>436.184</td></tr><tr><td>eval/samples_per_second</td><td>0.734</td></tr><tr><td>eval/steps_per_second</td><td>0.046</td></tr><tr><td>train/epoch</td><td>3.0</td></tr><tr><td>train/global_step</td><td>30</td></tr><tr><td>train/total_flos</td><td>32542430330880.0</td></tr><tr><td>train/train_loss</td><td>69.95447</td></tr><tr><td>train/train_runtime</td><td>1334.1685</td></tr><tr><td>train/train_samples_per_second</td><td>2.878</td></tr><tr><td>train/train_steps_per_second</td><td>0.022</td></tr></table><br/></div></div>"
          },
          "metadata": {}
        },
        {
          "output_type": "display_data",
          "data": {
            "text/plain": "<IPython.core.display.HTML object>",
            "text/html": " View run <strong style=\"color:#cdcd00\">spring-sweep-3</strong> at: <a href='https://wandb.ai/solowosophia13/AIconnect_ko_en_translation/runs/yuzsooq0' target=\"_blank\">https://wandb.ai/solowosophia13/AIconnect_ko_en_translation/runs/yuzsooq0</a><br/>Synced 6 W&B file(s), 0 media file(s), 0 artifact file(s) and 0 other file(s)"
          },
          "metadata": {}
        },
        {
          "output_type": "display_data",
          "data": {
            "text/plain": "<IPython.core.display.HTML object>",
            "text/html": "Find logs at: <code>./wandb/run-20230903_014419-yuzsooq0/logs</code>"
          },
          "metadata": {}
        },
        {
          "name": "stderr",
          "text": "\u001b[34m\u001b[1mwandb\u001b[0m: Agent Starting Run: viqfdtf7 with config:\n\u001b[34m\u001b[1mwandb\u001b[0m: \tSchedulerType: cosine\n\u001b[34m\u001b[1mwandb\u001b[0m: \tlearning_rate: 0.01581792772593911\n\u001b[34m\u001b[1mwandb\u001b[0m: \tweight_decay: 0.03\n",
          "output_type": "stream"
        },
        {
          "output_type": "display_data",
          "data": {
            "text/plain": "<IPython.core.display.HTML object>",
            "text/html": "Tracking run with wandb version 0.15.9"
          },
          "metadata": {}
        },
        {
          "output_type": "display_data",
          "data": {
            "text/plain": "<IPython.core.display.HTML object>",
            "text/html": "Run data is saved locally in <code>/kaggle/working/wandb/run-20230903_020718-viqfdtf7</code>"
          },
          "metadata": {}
        },
        {
          "output_type": "display_data",
          "data": {
            "text/plain": "<IPython.core.display.HTML object>",
            "text/html": "Syncing run <strong><a href='https://wandb.ai/solowosophia13/AIconnect_ko_en_translation/runs/viqfdtf7' target=\"_blank\">unique-sweep-4</a></strong> to <a href='https://wandb.ai/solowosophia13/AIconnect_ko_en_translation' target=\"_blank\">Weights & Biases</a> (<a href='https://wandb.me/run' target=\"_blank\">docs</a>)<br/>Sweep page: <a href='https://wandb.ai/solowosophia13/AIconnect_ko_en_translation/sweeps/sa9bqp9j' target=\"_blank\">https://wandb.ai/solowosophia13/AIconnect_ko_en_translation/sweeps/sa9bqp9j</a>"
          },
          "metadata": {}
        },
        {
          "output_type": "display_data",
          "data": {
            "text/plain": "<IPython.core.display.HTML object>",
            "text/html": " View project at <a href='https://wandb.ai/solowosophia13/AIconnect_ko_en_translation' target=\"_blank\">https://wandb.ai/solowosophia13/AIconnect_ko_en_translation</a>"
          },
          "metadata": {}
        },
        {
          "output_type": "display_data",
          "data": {
            "text/plain": "<IPython.core.display.HTML object>",
            "text/html": " View sweep at <a href='https://wandb.ai/solowosophia13/AIconnect_ko_en_translation/sweeps/sa9bqp9j' target=\"_blank\">https://wandb.ai/solowosophia13/AIconnect_ko_en_translation/sweeps/sa9bqp9j</a>"
          },
          "metadata": {}
        },
        {
          "output_type": "display_data",
          "data": {
            "text/plain": "<IPython.core.display.HTML object>",
            "text/html": " View run at <a href='https://wandb.ai/solowosophia13/AIconnect_ko_en_translation/runs/viqfdtf7' target=\"_blank\">https://wandb.ai/solowosophia13/AIconnect_ko_en_translation/runs/viqfdtf7</a>"
          },
          "metadata": {}
        },
        {
          "name": "stderr",
          "text": "\u001b[34m\u001b[1mwandb\u001b[0m: \u001b[33mWARNING\u001b[0m Config item 'learning_rate' was locked by 'sweep' (ignored update).\n\u001b[34m\u001b[1mwandb\u001b[0m: \u001b[33mWARNING\u001b[0m Config item 'weight_decay' was locked by 'sweep' (ignored update).\n",
          "output_type": "stream"
        },
        {
          "output_type": "display_data",
          "data": {
            "text/plain": "<IPython.core.display.HTML object>",
            "text/html": "\n    <div>\n      \n      <progress value='30' max='30' style='width:300px; height:20px; vertical-align: middle;'></progress>\n      [30/30 22:26, Epoch 3/3]\n    </div>\n    <table border=\"1\" class=\"dataframe\">\n  <thead>\n <tr style=\"text-align: left;\">\n      <th>Epoch</th>\n      <th>Training Loss</th>\n      <th>Validation Loss</th>\n      <th>Bleu</th>\n    </tr>\n  </thead>\n  <tbody>\n    <tr>\n      <td>1</td>\n      <td>No log</td>\n      <td>65.408493</td>\n      <td>0.000782</td>\n    </tr>\n    <tr>\n      <td>2</td>\n      <td>No log</td>\n      <td>65.408493</td>\n      <td>0.000782</td>\n    </tr>\n    <tr>\n      <td>3</td>\n      <td>No log</td>\n      <td>65.408493</td>\n      <td>0.000782</td>\n    </tr>\n  </tbody>\n</table><p>"
          },
          "metadata": {}
        },
        {
          "output_type": "display_data",
          "data": {
            "text/plain": "<IPython.core.display.HTML object>",
            "text/html": "Waiting for W&B process to finish... <strong style=\"color:green\">(success).</strong>"
          },
          "metadata": {}
        },
        {
          "output_type": "display_data",
          "data": {
            "text/plain": "VBox(children=(Label(value='0.001 MB of 0.001 MB uploaded (0.000 MB deduped)\\r'), FloatProgress(value=1.0, max…",
            "application/vnd.jupyter.widget-view+json": {
              "version_major": 2,
              "version_minor": 0,
              "model_id": "72bb6b826ac448ebb21facb1e8725bd2"
            }
          },
          "metadata": {}
        },
        {
          "output_type": "display_data",
          "data": {
            "text/plain": "<IPython.core.display.HTML object>",
            "text/html": "<style>\n    table.wandb td:nth-child(1) { padding: 0 10px; text-align: left ; width: auto;} td:nth-child(2) {text-align: left ; width: 100%}\n    .wandb-row { display: flex; flex-direction: row; flex-wrap: wrap; justify-content: flex-start; width: 100% }\n    .wandb-col { display: flex; flex-direction: column; flex-basis: 100%; flex: 1; padding: 10px; }\n    </style>\n<div class=\"wandb-row\"><div class=\"wandb-col\"><h3>Run history:</h3><br/><table class=\"wandb\"><tr><td>eval/bleu</td><td>▁▁▁</td></tr><tr><td>eval/loss</td><td>▁▁▁</td></tr><tr><td>eval/runtime</td><td>█▁▃</td></tr><tr><td>eval/samples_per_second</td><td>▁█▆</td></tr><tr><td>eval/steps_per_second</td><td>▁▁▁</td></tr><tr><td>train/epoch</td><td>▁▅██</td></tr><tr><td>train/global_step</td><td>▁▅██</td></tr><tr><td>train/total_flos</td><td>▁</td></tr><tr><td>train/train_loss</td><td>▁</td></tr><tr><td>train/train_runtime</td><td>▁</td></tr><tr><td>train/train_samples_per_second</td><td>▁</td></tr><tr><td>train/train_steps_per_second</td><td>▁</td></tr></table><br/></div><div class=\"wandb-col\"><h3>Run summary:</h3><br/><table class=\"wandb\"><tr><td>eval/bleu</td><td>0.00078</td></tr><tr><td>eval/loss</td><td>65.40849</td></tr><tr><td>eval/runtime</td><td>441.6073</td></tr><tr><td>eval/samples_per_second</td><td>0.725</td></tr><tr><td>eval/steps_per_second</td><td>0.045</td></tr><tr><td>train/epoch</td><td>3.0</td></tr><tr><td>train/global_step</td><td>30</td></tr><tr><td>train/total_flos</td><td>32542430330880.0</td></tr><tr><td>train/train_loss</td><td>1720545.2</td></tr><tr><td>train/train_runtime</td><td>1346.9987</td></tr><tr><td>train/train_samples_per_second</td><td>2.851</td></tr><tr><td>train/train_steps_per_second</td><td>0.022</td></tr></table><br/></div></div>"
          },
          "metadata": {}
        },
        {
          "output_type": "display_data",
          "data": {
            "text/plain": "<IPython.core.display.HTML object>",
            "text/html": " View run <strong style=\"color:#cdcd00\">unique-sweep-4</strong> at: <a href='https://wandb.ai/solowosophia13/AIconnect_ko_en_translation/runs/viqfdtf7' target=\"_blank\">https://wandb.ai/solowosophia13/AIconnect_ko_en_translation/runs/viqfdtf7</a><br/>Synced 6 W&B file(s), 0 media file(s), 0 artifact file(s) and 0 other file(s)"
          },
          "metadata": {}
        },
        {
          "output_type": "display_data",
          "data": {
            "text/plain": "<IPython.core.display.HTML object>",
            "text/html": "Find logs at: <code>./wandb/run-20230903_020718-viqfdtf7/logs</code>"
          },
          "metadata": {}
        },
        {
          "name": "stderr",
          "text": "\u001b[34m\u001b[1mwandb\u001b[0m: Sweep Agent: Waiting for job.\n\u001b[34m\u001b[1mwandb\u001b[0m: Job received.\n\u001b[34m\u001b[1mwandb\u001b[0m: Agent Starting Run: y8frmrbo with config:\n\u001b[34m\u001b[1mwandb\u001b[0m: \tSchedulerType: constant\n\u001b[34m\u001b[1mwandb\u001b[0m: \tlearning_rate: 0.07572469026631366\n\u001b[34m\u001b[1mwandb\u001b[0m: \tweight_decay: 0.01\n",
          "output_type": "stream"
        },
        {
          "output_type": "display_data",
          "data": {
            "text/plain": "<IPython.core.display.HTML object>",
            "text/html": "Tracking run with wandb version 0.15.9"
          },
          "metadata": {}
        },
        {
          "output_type": "display_data",
          "data": {
            "text/plain": "<IPython.core.display.HTML object>",
            "text/html": "Run data is saved locally in <code>/kaggle/working/wandb/run-20230903_023035-y8frmrbo</code>"
          },
          "metadata": {}
        },
        {
          "output_type": "display_data",
          "data": {
            "text/plain": "<IPython.core.display.HTML object>",
            "text/html": "Syncing run <strong><a href='https://wandb.ai/solowosophia13/AIconnect_ko_en_translation/runs/y8frmrbo' target=\"_blank\">fluent-sweep-5</a></strong> to <a href='https://wandb.ai/solowosophia13/AIconnect_ko_en_translation' target=\"_blank\">Weights & Biases</a> (<a href='https://wandb.me/run' target=\"_blank\">docs</a>)<br/>Sweep page: <a href='https://wandb.ai/solowosophia13/AIconnect_ko_en_translation/sweeps/sa9bqp9j' target=\"_blank\">https://wandb.ai/solowosophia13/AIconnect_ko_en_translation/sweeps/sa9bqp9j</a>"
          },
          "metadata": {}
        },
        {
          "output_type": "display_data",
          "data": {
            "text/plain": "<IPython.core.display.HTML object>",
            "text/html": " View project at <a href='https://wandb.ai/solowosophia13/AIconnect_ko_en_translation' target=\"_blank\">https://wandb.ai/solowosophia13/AIconnect_ko_en_translation</a>"
          },
          "metadata": {}
        },
        {
          "output_type": "display_data",
          "data": {
            "text/plain": "<IPython.core.display.HTML object>",
            "text/html": " View sweep at <a href='https://wandb.ai/solowosophia13/AIconnect_ko_en_translation/sweeps/sa9bqp9j' target=\"_blank\">https://wandb.ai/solowosophia13/AIconnect_ko_en_translation/sweeps/sa9bqp9j</a>"
          },
          "metadata": {}
        },
        {
          "output_type": "display_data",
          "data": {
            "text/plain": "<IPython.core.display.HTML object>",
            "text/html": " View run at <a href='https://wandb.ai/solowosophia13/AIconnect_ko_en_translation/runs/y8frmrbo' target=\"_blank\">https://wandb.ai/solowosophia13/AIconnect_ko_en_translation/runs/y8frmrbo</a>"
          },
          "metadata": {}
        },
        {
          "name": "stderr",
          "text": "\u001b[34m\u001b[1mwandb\u001b[0m: \u001b[33mWARNING\u001b[0m Config item 'learning_rate' was locked by 'sweep' (ignored update).\n\u001b[34m\u001b[1mwandb\u001b[0m: \u001b[33mWARNING\u001b[0m Config item 'weight_decay' was locked by 'sweep' (ignored update).\n",
          "output_type": "stream"
        },
        {
          "output_type": "display_data",
          "data": {
            "text/plain": "<IPython.core.display.HTML object>",
            "text/html": "\n    <div>\n      \n      <progress value='30' max='30' style='width:300px; height:20px; vertical-align: middle;'></progress>\n      [30/30 22:36, Epoch 3/3]\n    </div>\n    <table border=\"1\" class=\"dataframe\">\n  <thead>\n <tr style=\"text-align: left;\">\n      <th>Epoch</th>\n      <th>Training Loss</th>\n      <th>Validation Loss</th>\n      <th>Bleu</th>\n    </tr>\n  </thead>\n  <tbody>\n    <tr>\n      <td>1</td>\n      <td>No log</td>\n      <td>65.408493</td>\n      <td>0.000782</td>\n    </tr>\n    <tr>\n      <td>2</td>\n      <td>No log</td>\n      <td>65.408493</td>\n      <td>0.000782</td>\n    </tr>\n    <tr>\n      <td>3</td>\n      <td>No log</td>\n      <td>65.408493</td>\n      <td>0.000782</td>\n    </tr>\n  </tbody>\n</table><p>"
          },
          "metadata": {}
        },
        {
          "output_type": "display_data",
          "data": {
            "text/plain": "<IPython.core.display.HTML object>",
            "text/html": "Waiting for W&B process to finish... <strong style=\"color:green\">(success).</strong>"
          },
          "metadata": {}
        },
        {
          "output_type": "display_data",
          "data": {
            "text/plain": "VBox(children=(Label(value='0.001 MB of 0.001 MB uploaded (0.000 MB deduped)\\r'), FloatProgress(value=1.0, max…",
            "application/vnd.jupyter.widget-view+json": {
              "version_major": 2,
              "version_minor": 0,
              "model_id": "c73c587d42a24d11b284c16783458cde"
            }
          },
          "metadata": {}
        },
        {
          "output_type": "display_data",
          "data": {
            "text/plain": "<IPython.core.display.HTML object>",
            "text/html": "<style>\n    table.wandb td:nth-child(1) { padding: 0 10px; text-align: left ; width: auto;} td:nth-child(2) {text-align: left ; width: 100%}\n    .wandb-row { display: flex; flex-direction: row; flex-wrap: wrap; justify-content: flex-start; width: 100% }\n    .wandb-col { display: flex; flex-direction: column; flex-basis: 100%; flex: 1; padding: 10px; }\n    </style>\n<div class=\"wandb-row\"><div class=\"wandb-col\"><h3>Run history:</h3><br/><table class=\"wandb\"><tr><td>eval/bleu</td><td>▁▁▁</td></tr><tr><td>eval/loss</td><td>▁▁▁</td></tr><tr><td>eval/runtime</td><td>█▁▁</td></tr><tr><td>eval/samples_per_second</td><td>▁██</td></tr><tr><td>eval/steps_per_second</td><td>▁▁▁</td></tr><tr><td>train/epoch</td><td>▁▅██</td></tr><tr><td>train/global_step</td><td>▁▅██</td></tr><tr><td>train/total_flos</td><td>▁</td></tr><tr><td>train/train_loss</td><td>▁</td></tr><tr><td>train/train_runtime</td><td>▁</td></tr><tr><td>train/train_samples_per_second</td><td>▁</td></tr><tr><td>train/train_steps_per_second</td><td>▁</td></tr></table><br/></div><div class=\"wandb-col\"><h3>Run summary:</h3><br/><table class=\"wandb\"><tr><td>eval/bleu</td><td>0.00078</td></tr><tr><td>eval/loss</td><td>65.40849</td></tr><tr><td>eval/runtime</td><td>444.48</td></tr><tr><td>eval/samples_per_second</td><td>0.72</td></tr><tr><td>eval/steps_per_second</td><td>0.045</td></tr><tr><td>train/epoch</td><td>3.0</td></tr><tr><td>train/global_step</td><td>30</td></tr><tr><td>train/total_flos</td><td>32542430330880.0</td></tr><tr><td>train/train_loss</td><td>0.0</td></tr><tr><td>train/train_runtime</td><td>1357.4246</td></tr><tr><td>train/train_samples_per_second</td><td>2.829</td></tr><tr><td>train/train_steps_per_second</td><td>0.022</td></tr></table><br/></div></div>"
          },
          "metadata": {}
        },
        {
          "output_type": "display_data",
          "data": {
            "text/plain": "<IPython.core.display.HTML object>",
            "text/html": " View run <strong style=\"color:#cdcd00\">fluent-sweep-5</strong> at: <a href='https://wandb.ai/solowosophia13/AIconnect_ko_en_translation/runs/y8frmrbo' target=\"_blank\">https://wandb.ai/solowosophia13/AIconnect_ko_en_translation/runs/y8frmrbo</a><br/>Synced 6 W&B file(s), 0 media file(s), 0 artifact file(s) and 0 other file(s)"
          },
          "metadata": {}
        },
        {
          "output_type": "display_data",
          "data": {
            "text/plain": "<IPython.core.display.HTML object>",
            "text/html": "Find logs at: <code>./wandb/run-20230903_023035-y8frmrbo/logs</code>"
          },
          "metadata": {}
        },
        {
          "name": "stderr",
          "text": "\u001b[34m\u001b[1mwandb\u001b[0m: Agent Starting Run: 8jg089js with config:\n\u001b[34m\u001b[1mwandb\u001b[0m: \tSchedulerType: cosine\n\u001b[34m\u001b[1mwandb\u001b[0m: \tlearning_rate: 0.05282319869138941\n\u001b[34m\u001b[1mwandb\u001b[0m: \tweight_decay: 0.01\n",
          "output_type": "stream"
        },
        {
          "output_type": "display_data",
          "data": {
            "text/plain": "<IPython.core.display.HTML object>",
            "text/html": "Tracking run with wandb version 0.15.9"
          },
          "metadata": {}
        },
        {
          "output_type": "display_data",
          "data": {
            "text/plain": "<IPython.core.display.HTML object>",
            "text/html": "Run data is saved locally in <code>/kaggle/working/wandb/run-20230903_025357-8jg089js</code>"
          },
          "metadata": {}
        },
        {
          "output_type": "display_data",
          "data": {
            "text/plain": "<IPython.core.display.HTML object>",
            "text/html": "Syncing run <strong><a href='https://wandb.ai/solowosophia13/AIconnect_ko_en_translation/runs/8jg089js' target=\"_blank\">glowing-sweep-6</a></strong> to <a href='https://wandb.ai/solowosophia13/AIconnect_ko_en_translation' target=\"_blank\">Weights & Biases</a> (<a href='https://wandb.me/run' target=\"_blank\">docs</a>)<br/>Sweep page: <a href='https://wandb.ai/solowosophia13/AIconnect_ko_en_translation/sweeps/sa9bqp9j' target=\"_blank\">https://wandb.ai/solowosophia13/AIconnect_ko_en_translation/sweeps/sa9bqp9j</a>"
          },
          "metadata": {}
        },
        {
          "output_type": "display_data",
          "data": {
            "text/plain": "<IPython.core.display.HTML object>",
            "text/html": " View project at <a href='https://wandb.ai/solowosophia13/AIconnect_ko_en_translation' target=\"_blank\">https://wandb.ai/solowosophia13/AIconnect_ko_en_translation</a>"
          },
          "metadata": {}
        },
        {
          "output_type": "display_data",
          "data": {
            "text/plain": "<IPython.core.display.HTML object>",
            "text/html": " View sweep at <a href='https://wandb.ai/solowosophia13/AIconnect_ko_en_translation/sweeps/sa9bqp9j' target=\"_blank\">https://wandb.ai/solowosophia13/AIconnect_ko_en_translation/sweeps/sa9bqp9j</a>"
          },
          "metadata": {}
        },
        {
          "output_type": "display_data",
          "data": {
            "text/plain": "<IPython.core.display.HTML object>",
            "text/html": " View run at <a href='https://wandb.ai/solowosophia13/AIconnect_ko_en_translation/runs/8jg089js' target=\"_blank\">https://wandb.ai/solowosophia13/AIconnect_ko_en_translation/runs/8jg089js</a>"
          },
          "metadata": {}
        },
        {
          "name": "stderr",
          "text": "\u001b[34m\u001b[1mwandb\u001b[0m: \u001b[33mWARNING\u001b[0m Config item 'learning_rate' was locked by 'sweep' (ignored update).\n\u001b[34m\u001b[1mwandb\u001b[0m: \u001b[33mWARNING\u001b[0m Config item 'weight_decay' was locked by 'sweep' (ignored update).\n",
          "output_type": "stream"
        },
        {
          "output_type": "display_data",
          "data": {
            "text/plain": "<IPython.core.display.HTML object>",
            "text/html": "\n    <div>\n      \n      <progress value='30' max='30' style='width:300px; height:20px; vertical-align: middle;'></progress>\n      [30/30 22:52, Epoch 3/3]\n    </div>\n    <table border=\"1\" class=\"dataframe\">\n  <thead>\n <tr style=\"text-align: left;\">\n      <th>Epoch</th>\n      <th>Training Loss</th>\n      <th>Validation Loss</th>\n      <th>Bleu</th>\n    </tr>\n  </thead>\n  <tbody>\n    <tr>\n      <td>1</td>\n      <td>No log</td>\n      <td>65.408493</td>\n      <td>0.000782</td>\n    </tr>\n    <tr>\n      <td>2</td>\n      <td>No log</td>\n      <td>65.408493</td>\n      <td>0.000782</td>\n    </tr>\n    <tr>\n      <td>3</td>\n      <td>No log</td>\n      <td>65.408493</td>\n      <td>0.000782</td>\n    </tr>\n  </tbody>\n</table><p>"
          },
          "metadata": {}
        },
        {
          "output_type": "display_data",
          "data": {
            "text/plain": "<IPython.core.display.HTML object>",
            "text/html": "Waiting for W&B process to finish... <strong style=\"color:green\">(success).</strong>"
          },
          "metadata": {}
        },
        {
          "output_type": "display_data",
          "data": {
            "text/plain": "VBox(children=(Label(value='0.001 MB of 0.001 MB uploaded (0.000 MB deduped)\\r'), FloatProgress(value=1.0, max…",
            "application/vnd.jupyter.widget-view+json": {
              "version_major": 2,
              "version_minor": 0,
              "model_id": "0b923d9c0cfc4c4abb4fcb7249ef460d"
            }
          },
          "metadata": {}
        },
        {
          "output_type": "display_data",
          "data": {
            "text/plain": "<IPython.core.display.HTML object>",
            "text/html": "<style>\n    table.wandb td:nth-child(1) { padding: 0 10px; text-align: left ; width: auto;} td:nth-child(2) {text-align: left ; width: 100%}\n    .wandb-row { display: flex; flex-direction: row; flex-wrap: wrap; justify-content: flex-start; width: 100% }\n    .wandb-col { display: flex; flex-direction: column; flex-basis: 100%; flex: 1; padding: 10px; }\n    </style>\n<div class=\"wandb-row\"><div class=\"wandb-col\"><h3>Run history:</h3><br/><table class=\"wandb\"><tr><td>eval/bleu</td><td>▁▁▁</td></tr><tr><td>eval/loss</td><td>▁▁▁</td></tr><tr><td>eval/runtime</td><td>█▁▂</td></tr><tr><td>eval/samples_per_second</td><td>▁█▇</td></tr><tr><td>eval/steps_per_second</td><td>▁█▁</td></tr><tr><td>train/epoch</td><td>▁▅██</td></tr><tr><td>train/global_step</td><td>▁▅██</td></tr><tr><td>train/total_flos</td><td>▁</td></tr><tr><td>train/train_loss</td><td>▁</td></tr><tr><td>train/train_runtime</td><td>▁</td></tr><tr><td>train/train_samples_per_second</td><td>▁</td></tr><tr><td>train/train_steps_per_second</td><td>▁</td></tr></table><br/></div><div class=\"wandb-col\"><h3>Run summary:</h3><br/><table class=\"wandb\"><tr><td>eval/bleu</td><td>0.00078</td></tr><tr><td>eval/loss</td><td>65.40849</td></tr><tr><td>eval/runtime</td><td>449.8299</td></tr><tr><td>eval/samples_per_second</td><td>0.711</td></tr><tr><td>eval/steps_per_second</td><td>0.044</td></tr><tr><td>train/epoch</td><td>3.0</td></tr><tr><td>train/global_step</td><td>30</td></tr><tr><td>train/total_flos</td><td>32542430330880.0</td></tr><tr><td>train/train_loss</td><td>0.0</td></tr><tr><td>train/train_runtime</td><td>1373.3178</td></tr><tr><td>train/train_samples_per_second</td><td>2.796</td></tr><tr><td>train/train_steps_per_second</td><td>0.022</td></tr></table><br/></div></div>"
          },
          "metadata": {}
        },
        {
          "output_type": "display_data",
          "data": {
            "text/plain": "<IPython.core.display.HTML object>",
            "text/html": " View run <strong style=\"color:#cdcd00\">glowing-sweep-6</strong> at: <a href='https://wandb.ai/solowosophia13/AIconnect_ko_en_translation/runs/8jg089js' target=\"_blank\">https://wandb.ai/solowosophia13/AIconnect_ko_en_translation/runs/8jg089js</a><br/>Synced 6 W&B file(s), 0 media file(s), 0 artifact file(s) and 0 other file(s)"
          },
          "metadata": {}
        },
        {
          "output_type": "display_data",
          "data": {
            "text/plain": "<IPython.core.display.HTML object>",
            "text/html": "Find logs at: <code>./wandb/run-20230903_025357-8jg089js/logs</code>"
          },
          "metadata": {}
        },
        {
          "name": "stderr",
          "text": "\u001b[34m\u001b[1mwandb\u001b[0m: Agent Starting Run: ynixsrj5 with config:\n\u001b[34m\u001b[1mwandb\u001b[0m: \tSchedulerType: linear\n\u001b[34m\u001b[1mwandb\u001b[0m: \tlearning_rate: 0.0510100468121328\n\u001b[34m\u001b[1mwandb\u001b[0m: \tweight_decay: 0.01\n",
          "output_type": "stream"
        },
        {
          "output_type": "display_data",
          "data": {
            "text/plain": "<IPython.core.display.HTML object>",
            "text/html": "Tracking run with wandb version 0.15.9"
          },
          "metadata": {}
        },
        {
          "output_type": "display_data",
          "data": {
            "text/plain": "<IPython.core.display.HTML object>",
            "text/html": "Run data is saved locally in <code>/kaggle/working/wandb/run-20230903_031734-ynixsrj5</code>"
          },
          "metadata": {}
        },
        {
          "output_type": "display_data",
          "data": {
            "text/plain": "<IPython.core.display.HTML object>",
            "text/html": "Syncing run <strong><a href='https://wandb.ai/solowosophia13/AIconnect_ko_en_translation/runs/ynixsrj5' target=\"_blank\">blooming-sweep-7</a></strong> to <a href='https://wandb.ai/solowosophia13/AIconnect_ko_en_translation' target=\"_blank\">Weights & Biases</a> (<a href='https://wandb.me/run' target=\"_blank\">docs</a>)<br/>Sweep page: <a href='https://wandb.ai/solowosophia13/AIconnect_ko_en_translation/sweeps/sa9bqp9j' target=\"_blank\">https://wandb.ai/solowosophia13/AIconnect_ko_en_translation/sweeps/sa9bqp9j</a>"
          },
          "metadata": {}
        },
        {
          "output_type": "display_data",
          "data": {
            "text/plain": "<IPython.core.display.HTML object>",
            "text/html": " View project at <a href='https://wandb.ai/solowosophia13/AIconnect_ko_en_translation' target=\"_blank\">https://wandb.ai/solowosophia13/AIconnect_ko_en_translation</a>"
          },
          "metadata": {}
        },
        {
          "output_type": "display_data",
          "data": {
            "text/plain": "<IPython.core.display.HTML object>",
            "text/html": " View sweep at <a href='https://wandb.ai/solowosophia13/AIconnect_ko_en_translation/sweeps/sa9bqp9j' target=\"_blank\">https://wandb.ai/solowosophia13/AIconnect_ko_en_translation/sweeps/sa9bqp9j</a>"
          },
          "metadata": {}
        },
        {
          "output_type": "display_data",
          "data": {
            "text/plain": "<IPython.core.display.HTML object>",
            "text/html": " View run at <a href='https://wandb.ai/solowosophia13/AIconnect_ko_en_translation/runs/ynixsrj5' target=\"_blank\">https://wandb.ai/solowosophia13/AIconnect_ko_en_translation/runs/ynixsrj5</a>"
          },
          "metadata": {}
        },
        {
          "name": "stderr",
          "text": "\u001b[34m\u001b[1mwandb\u001b[0m: \u001b[33mWARNING\u001b[0m Config item 'learning_rate' was locked by 'sweep' (ignored update).\n\u001b[34m\u001b[1mwandb\u001b[0m: \u001b[33mWARNING\u001b[0m Config item 'weight_decay' was locked by 'sweep' (ignored update).\n",
          "output_type": "stream"
        },
        {
          "output_type": "display_data",
          "data": {
            "text/plain": "<IPython.core.display.HTML object>",
            "text/html": "\n    <div>\n      \n      <progress value='30' max='30' style='width:300px; height:20px; vertical-align: middle;'></progress>\n      [30/30 22:58, Epoch 3/3]\n    </div>\n    <table border=\"1\" class=\"dataframe\">\n  <thead>\n <tr style=\"text-align: left;\">\n      <th>Epoch</th>\n      <th>Training Loss</th>\n      <th>Validation Loss</th>\n      <th>Bleu</th>\n    </tr>\n  </thead>\n  <tbody>\n    <tr>\n      <td>1</td>\n      <td>No log</td>\n      <td>65.408493</td>\n      <td>0.000782</td>\n    </tr>\n    <tr>\n      <td>2</td>\n      <td>No log</td>\n      <td>65.408493</td>\n      <td>0.000782</td>\n    </tr>\n    <tr>\n      <td>3</td>\n      <td>No log</td>\n      <td>65.408493</td>\n      <td>0.000782</td>\n    </tr>\n  </tbody>\n</table><p>"
          },
          "metadata": {}
        },
        {
          "output_type": "display_data",
          "data": {
            "text/plain": "<IPython.core.display.HTML object>",
            "text/html": "Waiting for W&B process to finish... <strong style=\"color:green\">(success).</strong>"
          },
          "metadata": {}
        },
        {
          "output_type": "display_data",
          "data": {
            "text/plain": "VBox(children=(Label(value='0.001 MB of 0.001 MB uploaded (0.000 MB deduped)\\r'), FloatProgress(value=1.0, max…",
            "application/vnd.jupyter.widget-view+json": {
              "version_major": 2,
              "version_minor": 0,
              "model_id": "8e32bf525b324d14a41b1026f6e3b0f1"
            }
          },
          "metadata": {}
        },
        {
          "output_type": "display_data",
          "data": {
            "text/plain": "<IPython.core.display.HTML object>",
            "text/html": "<style>\n    table.wandb td:nth-child(1) { padding: 0 10px; text-align: left ; width: auto;} td:nth-child(2) {text-align: left ; width: 100%}\n    .wandb-row { display: flex; flex-direction: row; flex-wrap: wrap; justify-content: flex-start; width: 100% }\n    .wandb-col { display: flex; flex-direction: column; flex-basis: 100%; flex: 1; padding: 10px; }\n    </style>\n<div class=\"wandb-row\"><div class=\"wandb-col\"><h3>Run history:</h3><br/><table class=\"wandb\"><tr><td>eval/bleu</td><td>▁▁▁</td></tr><tr><td>eval/loss</td><td>▁▁▁</td></tr><tr><td>eval/runtime</td><td>█▁▁</td></tr><tr><td>eval/samples_per_second</td><td>▁██</td></tr><tr><td>eval/steps_per_second</td><td>▁▁▁</td></tr><tr><td>train/epoch</td><td>▁▅██</td></tr><tr><td>train/global_step</td><td>▁▅██</td></tr><tr><td>train/total_flos</td><td>▁</td></tr><tr><td>train/train_loss</td><td>▁</td></tr><tr><td>train/train_runtime</td><td>▁</td></tr><tr><td>train/train_samples_per_second</td><td>▁</td></tr><tr><td>train/train_steps_per_second</td><td>▁</td></tr></table><br/></div><div class=\"wandb-col\"><h3>Run summary:</h3><br/><table class=\"wandb\"><tr><td>eval/bleu</td><td>0.00078</td></tr><tr><td>eval/loss</td><td>65.40849</td></tr><tr><td>eval/runtime</td><td>451.9494</td></tr><tr><td>eval/samples_per_second</td><td>0.708</td></tr><tr><td>eval/steps_per_second</td><td>0.044</td></tr><tr><td>train/epoch</td><td>3.0</td></tr><tr><td>train/global_step</td><td>30</td></tr><tr><td>train/total_flos</td><td>32542430330880.0</td></tr><tr><td>train/train_loss</td><td>0.0</td></tr><tr><td>train/train_runtime</td><td>1379.0353</td></tr><tr><td>train/train_samples_per_second</td><td>2.785</td></tr><tr><td>train/train_steps_per_second</td><td>0.022</td></tr></table><br/></div></div>"
          },
          "metadata": {}
        },
        {
          "output_type": "display_data",
          "data": {
            "text/plain": "<IPython.core.display.HTML object>",
            "text/html": " View run <strong style=\"color:#cdcd00\">blooming-sweep-7</strong> at: <a href='https://wandb.ai/solowosophia13/AIconnect_ko_en_translation/runs/ynixsrj5' target=\"_blank\">https://wandb.ai/solowosophia13/AIconnect_ko_en_translation/runs/ynixsrj5</a><br/>Synced 6 W&B file(s), 0 media file(s), 0 artifact file(s) and 0 other file(s)"
          },
          "metadata": {}
        },
        {
          "output_type": "display_data",
          "data": {
            "text/plain": "<IPython.core.display.HTML object>",
            "text/html": "Find logs at: <code>./wandb/run-20230903_031734-ynixsrj5/logs</code>"
          },
          "metadata": {}
        },
        {
          "name": "stderr",
          "text": "\u001b[34m\u001b[1mwandb\u001b[0m: Agent Starting Run: ejzsejko with config:\n\u001b[34m\u001b[1mwandb\u001b[0m: \tSchedulerType: cosine\n\u001b[34m\u001b[1mwandb\u001b[0m: \tlearning_rate: 0.04980169756930875\n\u001b[34m\u001b[1mwandb\u001b[0m: \tweight_decay: 0.1\n",
          "output_type": "stream"
        },
        {
          "output_type": "display_data",
          "data": {
            "text/plain": "<IPython.core.display.HTML object>",
            "text/html": "Tracking run with wandb version 0.15.9"
          },
          "metadata": {}
        },
        {
          "output_type": "display_data",
          "data": {
            "text/plain": "<IPython.core.display.HTML object>",
            "text/html": "Run data is saved locally in <code>/kaggle/working/wandb/run-20230903_034117-ejzsejko</code>"
          },
          "metadata": {}
        },
        {
          "output_type": "display_data",
          "data": {
            "text/plain": "<IPython.core.display.HTML object>",
            "text/html": "Syncing run <strong><a href='https://wandb.ai/solowosophia13/AIconnect_ko_en_translation/runs/ejzsejko' target=\"_blank\">divine-sweep-8</a></strong> to <a href='https://wandb.ai/solowosophia13/AIconnect_ko_en_translation' target=\"_blank\">Weights & Biases</a> (<a href='https://wandb.me/run' target=\"_blank\">docs</a>)<br/>Sweep page: <a href='https://wandb.ai/solowosophia13/AIconnect_ko_en_translation/sweeps/sa9bqp9j' target=\"_blank\">https://wandb.ai/solowosophia13/AIconnect_ko_en_translation/sweeps/sa9bqp9j</a>"
          },
          "metadata": {}
        },
        {
          "output_type": "display_data",
          "data": {
            "text/plain": "<IPython.core.display.HTML object>",
            "text/html": " View project at <a href='https://wandb.ai/solowosophia13/AIconnect_ko_en_translation' target=\"_blank\">https://wandb.ai/solowosophia13/AIconnect_ko_en_translation</a>"
          },
          "metadata": {}
        },
        {
          "output_type": "display_data",
          "data": {
            "text/plain": "<IPython.core.display.HTML object>",
            "text/html": " View sweep at <a href='https://wandb.ai/solowosophia13/AIconnect_ko_en_translation/sweeps/sa9bqp9j' target=\"_blank\">https://wandb.ai/solowosophia13/AIconnect_ko_en_translation/sweeps/sa9bqp9j</a>"
          },
          "metadata": {}
        },
        {
          "output_type": "display_data",
          "data": {
            "text/plain": "<IPython.core.display.HTML object>",
            "text/html": " View run at <a href='https://wandb.ai/solowosophia13/AIconnect_ko_en_translation/runs/ejzsejko' target=\"_blank\">https://wandb.ai/solowosophia13/AIconnect_ko_en_translation/runs/ejzsejko</a>"
          },
          "metadata": {}
        },
        {
          "name": "stderr",
          "text": "\u001b[34m\u001b[1mwandb\u001b[0m: \u001b[33mWARNING\u001b[0m Config item 'learning_rate' was locked by 'sweep' (ignored update).\n\u001b[34m\u001b[1mwandb\u001b[0m: \u001b[33mWARNING\u001b[0m Config item 'weight_decay' was locked by 'sweep' (ignored update).\n",
          "output_type": "stream"
        },
        {
          "output_type": "display_data",
          "data": {
            "text/plain": "<IPython.core.display.HTML object>",
            "text/html": "\n    <div>\n      \n      <progress value='30' max='30' style='width:300px; height:20px; vertical-align: middle;'></progress>\n      [30/30 23:10, Epoch 3/3]\n    </div>\n    <table border=\"1\" class=\"dataframe\">\n  <thead>\n <tr style=\"text-align: left;\">\n      <th>Epoch</th>\n      <th>Training Loss</th>\n      <th>Validation Loss</th>\n      <th>Bleu</th>\n    </tr>\n  </thead>\n  <tbody>\n    <tr>\n      <td>1</td>\n      <td>No log</td>\n      <td>65.408493</td>\n      <td>0.000782</td>\n    </tr>\n    <tr>\n      <td>2</td>\n      <td>No log</td>\n      <td>65.408493</td>\n      <td>0.000782</td>\n    </tr>\n    <tr>\n      <td>3</td>\n      <td>No log</td>\n      <td>65.408493</td>\n      <td>0.000782</td>\n    </tr>\n  </tbody>\n</table><p>"
          },
          "metadata": {}
        },
        {
          "output_type": "display_data",
          "data": {
            "text/plain": "<IPython.core.display.HTML object>",
            "text/html": "Waiting for W&B process to finish... <strong style=\"color:green\">(success).</strong>"
          },
          "metadata": {}
        },
        {
          "output_type": "display_data",
          "data": {
            "text/plain": "VBox(children=(Label(value='0.001 MB of 0.001 MB uploaded (0.000 MB deduped)\\r'), FloatProgress(value=1.0, max…",
            "application/vnd.jupyter.widget-view+json": {
              "version_major": 2,
              "version_minor": 0,
              "model_id": "57cc55e488134efb9826a4b5723cfbee"
            }
          },
          "metadata": {}
        },
        {
          "output_type": "display_data",
          "data": {
            "text/plain": "<IPython.core.display.HTML object>",
            "text/html": "<style>\n    table.wandb td:nth-child(1) { padding: 0 10px; text-align: left ; width: auto;} td:nth-child(2) {text-align: left ; width: 100%}\n    .wandb-row { display: flex; flex-direction: row; flex-wrap: wrap; justify-content: flex-start; width: 100% }\n    .wandb-col { display: flex; flex-direction: column; flex-basis: 100%; flex: 1; padding: 10px; }\n    </style>\n<div class=\"wandb-row\"><div class=\"wandb-col\"><h3>Run history:</h3><br/><table class=\"wandb\"><tr><td>eval/bleu</td><td>▁▁▁</td></tr><tr><td>eval/loss</td><td>▁▁▁</td></tr><tr><td>eval/runtime</td><td>█▄▁</td></tr><tr><td>eval/samples_per_second</td><td>▁▆█</td></tr><tr><td>eval/steps_per_second</td><td>▁██</td></tr><tr><td>train/epoch</td><td>▁▅██</td></tr><tr><td>train/global_step</td><td>▁▅██</td></tr><tr><td>train/total_flos</td><td>▁</td></tr><tr><td>train/train_loss</td><td>▁</td></tr><tr><td>train/train_runtime</td><td>▁</td></tr><tr><td>train/train_samples_per_second</td><td>▁</td></tr><tr><td>train/train_steps_per_second</td><td>▁</td></tr></table><br/></div><div class=\"wandb-col\"><h3>Run summary:</h3><br/><table class=\"wandb\"><tr><td>eval/bleu</td><td>0.00078</td></tr><tr><td>eval/loss</td><td>65.40849</td></tr><tr><td>eval/runtime</td><td>454.4303</td></tr><tr><td>eval/samples_per_second</td><td>0.704</td></tr><tr><td>eval/steps_per_second</td><td>0.044</td></tr><tr><td>train/epoch</td><td>3.0</td></tr><tr><td>train/global_step</td><td>30</td></tr><tr><td>train/total_flos</td><td>32542430330880.0</td></tr><tr><td>train/train_loss</td><td>0.0</td></tr><tr><td>train/train_runtime</td><td>1390.7677</td></tr><tr><td>train/train_samples_per_second</td><td>2.761</td></tr><tr><td>train/train_steps_per_second</td><td>0.022</td></tr></table><br/></div></div>"
          },
          "metadata": {}
        },
        {
          "output_type": "display_data",
          "data": {
            "text/plain": "<IPython.core.display.HTML object>",
            "text/html": " View run <strong style=\"color:#cdcd00\">divine-sweep-8</strong> at: <a href='https://wandb.ai/solowosophia13/AIconnect_ko_en_translation/runs/ejzsejko' target=\"_blank\">https://wandb.ai/solowosophia13/AIconnect_ko_en_translation/runs/ejzsejko</a><br/>Synced 6 W&B file(s), 0 media file(s), 0 artifact file(s) and 0 other file(s)"
          },
          "metadata": {}
        },
        {
          "output_type": "display_data",
          "data": {
            "text/plain": "<IPython.core.display.HTML object>",
            "text/html": "Find logs at: <code>./wandb/run-20230903_034117-ejzsejko/logs</code>"
          },
          "metadata": {}
        },
        {
          "name": "stderr",
          "text": "\u001b[34m\u001b[1mwandb\u001b[0m: Agent Starting Run: j2wpm7yp with config:\n\u001b[34m\u001b[1mwandb\u001b[0m: \tSchedulerType: cosine\n\u001b[34m\u001b[1mwandb\u001b[0m: \tlearning_rate: 0.005807934968764984\n\u001b[34m\u001b[1mwandb\u001b[0m: \tweight_decay: 0.5\n",
          "output_type": "stream"
        },
        {
          "output_type": "display_data",
          "data": {
            "text/plain": "VBox(children=(Label(value='Waiting for wandb.init()...\\r'), FloatProgress(value=0.016669053466678938, max=1.0…",
            "application/vnd.jupyter.widget-view+json": {
              "version_major": 2,
              "version_minor": 0,
              "model_id": "19b0cc99216941f3b728ae47997f3983"
            }
          },
          "metadata": {}
        },
        {
          "output_type": "display_data",
          "data": {
            "text/plain": "<IPython.core.display.HTML object>",
            "text/html": "Tracking run with wandb version 0.15.9"
          },
          "metadata": {}
        },
        {
          "output_type": "display_data",
          "data": {
            "text/plain": "<IPython.core.display.HTML object>",
            "text/html": "Run data is saved locally in <code>/kaggle/working/wandb/run-20230903_040510-j2wpm7yp</code>"
          },
          "metadata": {}
        },
        {
          "output_type": "display_data",
          "data": {
            "text/plain": "<IPython.core.display.HTML object>",
            "text/html": "Syncing run <strong><a href='https://wandb.ai/solowosophia13/AIconnect_ko_en_translation/runs/j2wpm7yp' target=\"_blank\">serene-sweep-9</a></strong> to <a href='https://wandb.ai/solowosophia13/AIconnect_ko_en_translation' target=\"_blank\">Weights & Biases</a> (<a href='https://wandb.me/run' target=\"_blank\">docs</a>)<br/>Sweep page: <a href='https://wandb.ai/solowosophia13/AIconnect_ko_en_translation/sweeps/sa9bqp9j' target=\"_blank\">https://wandb.ai/solowosophia13/AIconnect_ko_en_translation/sweeps/sa9bqp9j</a>"
          },
          "metadata": {}
        },
        {
          "output_type": "display_data",
          "data": {
            "text/plain": "<IPython.core.display.HTML object>",
            "text/html": " View project at <a href='https://wandb.ai/solowosophia13/AIconnect_ko_en_translation' target=\"_blank\">https://wandb.ai/solowosophia13/AIconnect_ko_en_translation</a>"
          },
          "metadata": {}
        },
        {
          "output_type": "display_data",
          "data": {
            "text/plain": "<IPython.core.display.HTML object>",
            "text/html": " View sweep at <a href='https://wandb.ai/solowosophia13/AIconnect_ko_en_translation/sweeps/sa9bqp9j' target=\"_blank\">https://wandb.ai/solowosophia13/AIconnect_ko_en_translation/sweeps/sa9bqp9j</a>"
          },
          "metadata": {}
        },
        {
          "output_type": "display_data",
          "data": {
            "text/plain": "<IPython.core.display.HTML object>",
            "text/html": " View run at <a href='https://wandb.ai/solowosophia13/AIconnect_ko_en_translation/runs/j2wpm7yp' target=\"_blank\">https://wandb.ai/solowosophia13/AIconnect_ko_en_translation/runs/j2wpm7yp</a>"
          },
          "metadata": {}
        },
        {
          "name": "stderr",
          "text": "\u001b[34m\u001b[1mwandb\u001b[0m: \u001b[33mWARNING\u001b[0m Config item 'learning_rate' was locked by 'sweep' (ignored update).\n\u001b[34m\u001b[1mwandb\u001b[0m: \u001b[33mWARNING\u001b[0m Config item 'weight_decay' was locked by 'sweep' (ignored update).\n",
          "output_type": "stream"
        },
        {
          "output_type": "display_data",
          "data": {
            "text/plain": "<IPython.core.display.HTML object>",
            "text/html": "\n    <div>\n      \n      <progress value='30' max='30' style='width:300px; height:20px; vertical-align: middle;'></progress>\n      [30/30 23:23, Epoch 3/3]\n    </div>\n    <table border=\"1\" class=\"dataframe\">\n  <thead>\n <tr style=\"text-align: left;\">\n      <th>Epoch</th>\n      <th>Training Loss</th>\n      <th>Validation Loss</th>\n      <th>Bleu</th>\n    </tr>\n  </thead>\n  <tbody>\n    <tr>\n      <td>1</td>\n      <td>No log</td>\n      <td>65.408493</td>\n      <td>0.000782</td>\n    </tr>\n    <tr>\n      <td>2</td>\n      <td>No log</td>\n      <td>65.408493</td>\n      <td>0.000782</td>\n    </tr>\n    <tr>\n      <td>3</td>\n      <td>No log</td>\n      <td>65.408493</td>\n      <td>0.000782</td>\n    </tr>\n  </tbody>\n</table><p>"
          },
          "metadata": {}
        },
        {
          "output_type": "display_data",
          "data": {
            "text/plain": "<IPython.core.display.HTML object>",
            "text/html": "Waiting for W&B process to finish... <strong style=\"color:green\">(success).</strong>"
          },
          "metadata": {}
        },
        {
          "output_type": "display_data",
          "data": {
            "text/plain": "<IPython.core.display.HTML object>",
            "text/html": "<style>\n    table.wandb td:nth-child(1) { padding: 0 10px; text-align: left ; width: auto;} td:nth-child(2) {text-align: left ; width: 100%}\n    .wandb-row { display: flex; flex-direction: row; flex-wrap: wrap; justify-content: flex-start; width: 100% }\n    .wandb-col { display: flex; flex-direction: column; flex-basis: 100%; flex: 1; padding: 10px; }\n    </style>\n<div class=\"wandb-row\"><div class=\"wandb-col\"><h3>Run history:</h3><br/><table class=\"wandb\"><tr><td>eval/bleu</td><td>▁▁▁</td></tr><tr><td>eval/loss</td><td>▁▁▁</td></tr><tr><td>eval/runtime</td><td>█▁▄</td></tr><tr><td>eval/samples_per_second</td><td>▁█▅</td></tr><tr><td>eval/steps_per_second</td><td>▁█▁</td></tr><tr><td>train/epoch</td><td>▁▅██</td></tr><tr><td>train/global_step</td><td>▁▅██</td></tr><tr><td>train/total_flos</td><td>▁</td></tr><tr><td>train/train_loss</td><td>▁</td></tr><tr><td>train/train_runtime</td><td>▁</td></tr><tr><td>train/train_samples_per_second</td><td>▁</td></tr><tr><td>train/train_steps_per_second</td><td>▁</td></tr></table><br/></div><div class=\"wandb-col\"><h3>Run summary:</h3><br/><table class=\"wandb\"><tr><td>eval/bleu</td><td>0.00078</td></tr><tr><td>eval/loss</td><td>65.40849</td></tr><tr><td>eval/runtime</td><td>460.7818</td></tr><tr><td>eval/samples_per_second</td><td>0.694</td></tr><tr><td>eval/steps_per_second</td><td>0.043</td></tr><tr><td>train/epoch</td><td>3.0</td></tr><tr><td>train/global_step</td><td>30</td></tr><tr><td>train/total_flos</td><td>32542430330880.0</td></tr><tr><td>train/train_loss</td><td>0.0</td></tr><tr><td>train/train_runtime</td><td>1404.601</td></tr><tr><td>train/train_samples_per_second</td><td>2.734</td></tr><tr><td>train/train_steps_per_second</td><td>0.021</td></tr></table><br/></div></div>"
          },
          "metadata": {}
        },
        {
          "output_type": "display_data",
          "data": {
            "text/plain": "<IPython.core.display.HTML object>",
            "text/html": " View run <strong style=\"color:#cdcd00\">serene-sweep-9</strong> at: <a href='https://wandb.ai/solowosophia13/AIconnect_ko_en_translation/runs/j2wpm7yp' target=\"_blank\">https://wandb.ai/solowosophia13/AIconnect_ko_en_translation/runs/j2wpm7yp</a><br/>Synced 6 W&B file(s), 0 media file(s), 0 artifact file(s) and 0 other file(s)"
          },
          "metadata": {}
        },
        {
          "output_type": "display_data",
          "data": {
            "text/plain": "<IPython.core.display.HTML object>",
            "text/html": "Find logs at: <code>./wandb/run-20230903_040510-j2wpm7yp/logs</code>"
          },
          "metadata": {}
        },
        {
          "name": "stderr",
          "text": "\u001b[34m\u001b[1mwandb\u001b[0m: Agent Starting Run: k1r5vmav with config:\n\u001b[34m\u001b[1mwandb\u001b[0m: \tSchedulerType: constant\n\u001b[34m\u001b[1mwandb\u001b[0m: \tlearning_rate: 0.05899796212918163\n\u001b[34m\u001b[1mwandb\u001b[0m: \tweight_decay: 0.01\n",
          "output_type": "stream"
        },
        {
          "output_type": "display_data",
          "data": {
            "text/plain": "<IPython.core.display.HTML object>",
            "text/html": "Tracking run with wandb version 0.15.9"
          },
          "metadata": {}
        },
        {
          "output_type": "display_data",
          "data": {
            "text/plain": "<IPython.core.display.HTML object>",
            "text/html": "Run data is saved locally in <code>/kaggle/working/wandb/run-20230903_042919-k1r5vmav</code>"
          },
          "metadata": {}
        },
        {
          "output_type": "display_data",
          "data": {
            "text/plain": "<IPython.core.display.HTML object>",
            "text/html": "Syncing run <strong><a href='https://wandb.ai/solowosophia13/AIconnect_ko_en_translation/runs/k1r5vmav' target=\"_blank\">worldly-sweep-10</a></strong> to <a href='https://wandb.ai/solowosophia13/AIconnect_ko_en_translation' target=\"_blank\">Weights & Biases</a> (<a href='https://wandb.me/run' target=\"_blank\">docs</a>)<br/>Sweep page: <a href='https://wandb.ai/solowosophia13/AIconnect_ko_en_translation/sweeps/sa9bqp9j' target=\"_blank\">https://wandb.ai/solowosophia13/AIconnect_ko_en_translation/sweeps/sa9bqp9j</a>"
          },
          "metadata": {}
        },
        {
          "output_type": "display_data",
          "data": {
            "text/plain": "<IPython.core.display.HTML object>",
            "text/html": " View project at <a href='https://wandb.ai/solowosophia13/AIconnect_ko_en_translation' target=\"_blank\">https://wandb.ai/solowosophia13/AIconnect_ko_en_translation</a>"
          },
          "metadata": {}
        },
        {
          "output_type": "display_data",
          "data": {
            "text/plain": "<IPython.core.display.HTML object>",
            "text/html": " View sweep at <a href='https://wandb.ai/solowosophia13/AIconnect_ko_en_translation/sweeps/sa9bqp9j' target=\"_blank\">https://wandb.ai/solowosophia13/AIconnect_ko_en_translation/sweeps/sa9bqp9j</a>"
          },
          "metadata": {}
        },
        {
          "output_type": "display_data",
          "data": {
            "text/plain": "<IPython.core.display.HTML object>",
            "text/html": " View run at <a href='https://wandb.ai/solowosophia13/AIconnect_ko_en_translation/runs/k1r5vmav' target=\"_blank\">https://wandb.ai/solowosophia13/AIconnect_ko_en_translation/runs/k1r5vmav</a>"
          },
          "metadata": {}
        },
        {
          "name": "stderr",
          "text": "\u001b[34m\u001b[1mwandb\u001b[0m: \u001b[33mWARNING\u001b[0m Config item 'learning_rate' was locked by 'sweep' (ignored update).\n\u001b[34m\u001b[1mwandb\u001b[0m: \u001b[33mWARNING\u001b[0m Config item 'weight_decay' was locked by 'sweep' (ignored update).\n",
          "output_type": "stream"
        },
        {
          "output_type": "display_data",
          "data": {
            "text/plain": "<IPython.core.display.HTML object>",
            "text/html": "\n    <div>\n      \n      <progress value='30' max='30' style='width:300px; height:20px; vertical-align: middle;'></progress>\n      [30/30 23:36, Epoch 3/3]\n    </div>\n    <table border=\"1\" class=\"dataframe\">\n  <thead>\n <tr style=\"text-align: left;\">\n      <th>Epoch</th>\n      <th>Training Loss</th>\n      <th>Validation Loss</th>\n      <th>Bleu</th>\n    </tr>\n  </thead>\n  <tbody>\n    <tr>\n      <td>1</td>\n      <td>No log</td>\n      <td>65.408493</td>\n      <td>0.000782</td>\n    </tr>\n    <tr>\n      <td>2</td>\n      <td>No log</td>\n      <td>65.408493</td>\n      <td>0.000782</td>\n    </tr>\n    <tr>\n      <td>3</td>\n      <td>No log</td>\n      <td>65.408493</td>\n      <td>0.000782</td>\n    </tr>\n  </tbody>\n</table><p>"
          },
          "metadata": {}
        },
        {
          "output_type": "display_data",
          "data": {
            "text/plain": "<IPython.core.display.HTML object>",
            "text/html": "Waiting for W&B process to finish... <strong style=\"color:green\">(success).</strong>"
          },
          "metadata": {}
        },
        {
          "output_type": "display_data",
          "data": {
            "text/plain": "VBox(children=(Label(value='0.001 MB of 0.001 MB uploaded (0.000 MB deduped)\\r'), FloatProgress(value=1.0, max…",
            "application/vnd.jupyter.widget-view+json": {
              "version_major": 2,
              "version_minor": 0,
              "model_id": "5e1a29a53fd64862acd579d5988e217e"
            }
          },
          "metadata": {}
        },
        {
          "output_type": "display_data",
          "data": {
            "text/plain": "<IPython.core.display.HTML object>",
            "text/html": "<style>\n    table.wandb td:nth-child(1) { padding: 0 10px; text-align: left ; width: auto;} td:nth-child(2) {text-align: left ; width: 100%}\n    .wandb-row { display: flex; flex-direction: row; flex-wrap: wrap; justify-content: flex-start; width: 100% }\n    .wandb-col { display: flex; flex-direction: column; flex-basis: 100%; flex: 1; padding: 10px; }\n    </style>\n<div class=\"wandb-row\"><div class=\"wandb-col\"><h3>Run history:</h3><br/><table class=\"wandb\"><tr><td>eval/bleu</td><td>▁▁▁</td></tr><tr><td>eval/loss</td><td>▁▁▁</td></tr><tr><td>eval/runtime</td><td>█▃▁</td></tr><tr><td>eval/samples_per_second</td><td>▁▆█</td></tr><tr><td>eval/steps_per_second</td><td>▁▁▁</td></tr><tr><td>train/epoch</td><td>▁▅██</td></tr><tr><td>train/global_step</td><td>▁▅██</td></tr><tr><td>train/total_flos</td><td>▁</td></tr><tr><td>train/train_loss</td><td>▁</td></tr><tr><td>train/train_runtime</td><td>▁</td></tr><tr><td>train/train_samples_per_second</td><td>▁</td></tr><tr><td>train/train_steps_per_second</td><td>▁</td></tr></table><br/></div><div class=\"wandb-col\"><h3>Run summary:</h3><br/><table class=\"wandb\"><tr><td>eval/bleu</td><td>0.00078</td></tr><tr><td>eval/loss</td><td>65.40849</td></tr><tr><td>eval/runtime</td><td>463.4481</td></tr><tr><td>eval/samples_per_second</td><td>0.69</td></tr><tr><td>eval/steps_per_second</td><td>0.043</td></tr><tr><td>train/epoch</td><td>3.0</td></tr><tr><td>train/global_step</td><td>30</td></tr><tr><td>train/total_flos</td><td>32542430330880.0</td></tr><tr><td>train/train_loss</td><td>0.0</td></tr><tr><td>train/train_runtime</td><td>1417.4781</td></tr><tr><td>train/train_samples_per_second</td><td>2.709</td></tr><tr><td>train/train_steps_per_second</td><td>0.021</td></tr></table><br/></div></div>"
          },
          "metadata": {}
        },
        {
          "output_type": "display_data",
          "data": {
            "text/plain": "<IPython.core.display.HTML object>",
            "text/html": " View run <strong style=\"color:#cdcd00\">worldly-sweep-10</strong> at: <a href='https://wandb.ai/solowosophia13/AIconnect_ko_en_translation/runs/k1r5vmav' target=\"_blank\">https://wandb.ai/solowosophia13/AIconnect_ko_en_translation/runs/k1r5vmav</a><br/>Synced 6 W&B file(s), 0 media file(s), 0 artifact file(s) and 0 other file(s)"
          },
          "metadata": {}
        },
        {
          "output_type": "display_data",
          "data": {
            "text/plain": "<IPython.core.display.HTML object>",
            "text/html": "Find logs at: <code>./wandb/run-20230903_042919-k1r5vmav/logs</code>"
          },
          "metadata": {}
        },
        {
          "name": "stderr",
          "text": "\u001b[34m\u001b[1mwandb\u001b[0m: Agent Starting Run: ag8rzvwx with config:\n\u001b[34m\u001b[1mwandb\u001b[0m: \tSchedulerType: linear\n\u001b[34m\u001b[1mwandb\u001b[0m: \tlearning_rate: 0.037643677639381146\n\u001b[34m\u001b[1mwandb\u001b[0m: \tweight_decay: 0.03\n",
          "output_type": "stream"
        },
        {
          "output_type": "display_data",
          "data": {
            "text/plain": "<IPython.core.display.HTML object>",
            "text/html": "Tracking run with wandb version 0.15.9"
          },
          "metadata": {}
        },
        {
          "output_type": "display_data",
          "data": {
            "text/plain": "<IPython.core.display.HTML object>",
            "text/html": "Run data is saved locally in <code>/kaggle/working/wandb/run-20230903_045338-ag8rzvwx</code>"
          },
          "metadata": {}
        },
        {
          "output_type": "display_data",
          "data": {
            "text/plain": "<IPython.core.display.HTML object>",
            "text/html": "Syncing run <strong><a href='https://wandb.ai/solowosophia13/AIconnect_ko_en_translation/runs/ag8rzvwx' target=\"_blank\">hardy-sweep-11</a></strong> to <a href='https://wandb.ai/solowosophia13/AIconnect_ko_en_translation' target=\"_blank\">Weights & Biases</a> (<a href='https://wandb.me/run' target=\"_blank\">docs</a>)<br/>Sweep page: <a href='https://wandb.ai/solowosophia13/AIconnect_ko_en_translation/sweeps/sa9bqp9j' target=\"_blank\">https://wandb.ai/solowosophia13/AIconnect_ko_en_translation/sweeps/sa9bqp9j</a>"
          },
          "metadata": {}
        },
        {
          "output_type": "display_data",
          "data": {
            "text/plain": "<IPython.core.display.HTML object>",
            "text/html": " View project at <a href='https://wandb.ai/solowosophia13/AIconnect_ko_en_translation' target=\"_blank\">https://wandb.ai/solowosophia13/AIconnect_ko_en_translation</a>"
          },
          "metadata": {}
        },
        {
          "output_type": "display_data",
          "data": {
            "text/plain": "<IPython.core.display.HTML object>",
            "text/html": " View sweep at <a href='https://wandb.ai/solowosophia13/AIconnect_ko_en_translation/sweeps/sa9bqp9j' target=\"_blank\">https://wandb.ai/solowosophia13/AIconnect_ko_en_translation/sweeps/sa9bqp9j</a>"
          },
          "metadata": {}
        },
        {
          "output_type": "display_data",
          "data": {
            "text/plain": "<IPython.core.display.HTML object>",
            "text/html": " View run at <a href='https://wandb.ai/solowosophia13/AIconnect_ko_en_translation/runs/ag8rzvwx' target=\"_blank\">https://wandb.ai/solowosophia13/AIconnect_ko_en_translation/runs/ag8rzvwx</a>"
          },
          "metadata": {}
        },
        {
          "name": "stderr",
          "text": "\u001b[34m\u001b[1mwandb\u001b[0m: \u001b[33mWARNING\u001b[0m Config item 'learning_rate' was locked by 'sweep' (ignored update).\n\u001b[34m\u001b[1mwandb\u001b[0m: \u001b[33mWARNING\u001b[0m Config item 'weight_decay' was locked by 'sweep' (ignored update).\n",
          "output_type": "stream"
        },
        {
          "output_type": "display_data",
          "data": {
            "text/plain": "<IPython.core.display.HTML object>",
            "text/html": "\n    <div>\n      \n      <progress value='30' max='30' style='width:300px; height:20px; vertical-align: middle;'></progress>\n      [30/30 23:30, Epoch 3/3]\n    </div>\n    <table border=\"1\" class=\"dataframe\">\n  <thead>\n <tr style=\"text-align: left;\">\n      <th>Epoch</th>\n      <th>Training Loss</th>\n      <th>Validation Loss</th>\n      <th>Bleu</th>\n    </tr>\n  </thead>\n  <tbody>\n    <tr>\n      <td>1</td>\n      <td>No log</td>\n      <td>65.408493</td>\n      <td>0.000782</td>\n    </tr>\n    <tr>\n      <td>2</td>\n      <td>No log</td>\n      <td>65.408493</td>\n      <td>0.000782</td>\n    </tr>\n    <tr>\n      <td>3</td>\n      <td>No log</td>\n      <td>65.408493</td>\n      <td>0.000782</td>\n    </tr>\n  </tbody>\n</table><p>"
          },
          "metadata": {}
        },
        {
          "output_type": "display_data",
          "data": {
            "text/plain": "<IPython.core.display.HTML object>",
            "text/html": "Waiting for W&B process to finish... <strong style=\"color:green\">(success).</strong>"
          },
          "metadata": {}
        },
        {
          "output_type": "display_data",
          "data": {
            "text/plain": "VBox(children=(Label(value='0.001 MB of 0.001 MB uploaded (0.000 MB deduped)\\r'), FloatProgress(value=1.0, max…",
            "application/vnd.jupyter.widget-view+json": {
              "version_major": 2,
              "version_minor": 0,
              "model_id": "567c9a52ece34b3da64f59dbb910ef0c"
            }
          },
          "metadata": {}
        },
        {
          "output_type": "display_data",
          "data": {
            "text/plain": "<IPython.core.display.HTML object>",
            "text/html": "<style>\n    table.wandb td:nth-child(1) { padding: 0 10px; text-align: left ; width: auto;} td:nth-child(2) {text-align: left ; width: 100%}\n    .wandb-row { display: flex; flex-direction: row; flex-wrap: wrap; justify-content: flex-start; width: 100% }\n    .wandb-col { display: flex; flex-direction: column; flex-basis: 100%; flex: 1; padding: 10px; }\n    </style>\n<div class=\"wandb-row\"><div class=\"wandb-col\"><h3>Run history:</h3><br/><table class=\"wandb\"><tr><td>eval/bleu</td><td>▁▁▁</td></tr><tr><td>eval/loss</td><td>▁▁▁</td></tr><tr><td>eval/runtime</td><td>█▁▁</td></tr><tr><td>eval/samples_per_second</td><td>▁██</td></tr><tr><td>eval/steps_per_second</td><td>▁▁▁</td></tr><tr><td>train/epoch</td><td>▁▅██</td></tr><tr><td>train/global_step</td><td>▁▅██</td></tr><tr><td>train/total_flos</td><td>▁</td></tr><tr><td>train/train_loss</td><td>▁</td></tr><tr><td>train/train_runtime</td><td>▁</td></tr><tr><td>train/train_samples_per_second</td><td>▁</td></tr><tr><td>train/train_steps_per_second</td><td>▁</td></tr></table><br/></div><div class=\"wandb-col\"><h3>Run summary:</h3><br/><table class=\"wandb\"><tr><td>eval/bleu</td><td>0.00078</td></tr><tr><td>eval/loss</td><td>65.40849</td></tr><tr><td>eval/runtime</td><td>461.1997</td></tr><tr><td>eval/samples_per_second</td><td>0.694</td></tr><tr><td>eval/steps_per_second</td><td>0.043</td></tr><tr><td>train/epoch</td><td>3.0</td></tr><tr><td>train/global_step</td><td>30</td></tr><tr><td>train/total_flos</td><td>32542430330880.0</td></tr><tr><td>train/train_loss</td><td>0.0</td></tr><tr><td>train/train_runtime</td><td>1411.9244</td></tr><tr><td>train/train_samples_per_second</td><td>2.72</td></tr><tr><td>train/train_steps_per_second</td><td>0.021</td></tr></table><br/></div></div>"
          },
          "metadata": {}
        },
        {
          "output_type": "display_data",
          "data": {
            "text/plain": "<IPython.core.display.HTML object>",
            "text/html": " View run <strong style=\"color:#cdcd00\">hardy-sweep-11</strong> at: <a href='https://wandb.ai/solowosophia13/AIconnect_ko_en_translation/runs/ag8rzvwx' target=\"_blank\">https://wandb.ai/solowosophia13/AIconnect_ko_en_translation/runs/ag8rzvwx</a><br/>Synced 6 W&B file(s), 0 media file(s), 0 artifact file(s) and 0 other file(s)"
          },
          "metadata": {}
        },
        {
          "output_type": "display_data",
          "data": {
            "text/plain": "<IPython.core.display.HTML object>",
            "text/html": "Find logs at: <code>./wandb/run-20230903_045338-ag8rzvwx/logs</code>"
          },
          "metadata": {}
        },
        {
          "name": "stderr",
          "text": "\u001b[34m\u001b[1mwandb\u001b[0m: Agent Starting Run: er0thpx9 with config:\n\u001b[34m\u001b[1mwandb\u001b[0m: \tSchedulerType: cosine\n\u001b[34m\u001b[1mwandb\u001b[0m: \tlearning_rate: 0.004486096224528517\n\u001b[34m\u001b[1mwandb\u001b[0m: \tweight_decay: 0.1\n",
          "output_type": "stream"
        },
        {
          "output_type": "display_data",
          "data": {
            "text/plain": "<IPython.core.display.HTML object>",
            "text/html": "Tracking run with wandb version 0.15.9"
          },
          "metadata": {}
        },
        {
          "output_type": "display_data",
          "data": {
            "text/plain": "<IPython.core.display.HTML object>",
            "text/html": "Run data is saved locally in <code>/kaggle/working/wandb/run-20230903_051751-er0thpx9</code>"
          },
          "metadata": {}
        },
        {
          "output_type": "display_data",
          "data": {
            "text/plain": "<IPython.core.display.HTML object>",
            "text/html": "Syncing run <strong><a href='https://wandb.ai/solowosophia13/AIconnect_ko_en_translation/runs/er0thpx9' target=\"_blank\">apricot-sweep-12</a></strong> to <a href='https://wandb.ai/solowosophia13/AIconnect_ko_en_translation' target=\"_blank\">Weights & Biases</a> (<a href='https://wandb.me/run' target=\"_blank\">docs</a>)<br/>Sweep page: <a href='https://wandb.ai/solowosophia13/AIconnect_ko_en_translation/sweeps/sa9bqp9j' target=\"_blank\">https://wandb.ai/solowosophia13/AIconnect_ko_en_translation/sweeps/sa9bqp9j</a>"
          },
          "metadata": {}
        },
        {
          "output_type": "display_data",
          "data": {
            "text/plain": "<IPython.core.display.HTML object>",
            "text/html": " View project at <a href='https://wandb.ai/solowosophia13/AIconnect_ko_en_translation' target=\"_blank\">https://wandb.ai/solowosophia13/AIconnect_ko_en_translation</a>"
          },
          "metadata": {}
        },
        {
          "output_type": "display_data",
          "data": {
            "text/plain": "<IPython.core.display.HTML object>",
            "text/html": " View sweep at <a href='https://wandb.ai/solowosophia13/AIconnect_ko_en_translation/sweeps/sa9bqp9j' target=\"_blank\">https://wandb.ai/solowosophia13/AIconnect_ko_en_translation/sweeps/sa9bqp9j</a>"
          },
          "metadata": {}
        },
        {
          "output_type": "display_data",
          "data": {
            "text/plain": "<IPython.core.display.HTML object>",
            "text/html": " View run at <a href='https://wandb.ai/solowosophia13/AIconnect_ko_en_translation/runs/er0thpx9' target=\"_blank\">https://wandb.ai/solowosophia13/AIconnect_ko_en_translation/runs/er0thpx9</a>"
          },
          "metadata": {}
        },
        {
          "name": "stderr",
          "text": "\u001b[34m\u001b[1mwandb\u001b[0m: \u001b[33mWARNING\u001b[0m Config item 'learning_rate' was locked by 'sweep' (ignored update).\n\u001b[34m\u001b[1mwandb\u001b[0m: \u001b[33mWARNING\u001b[0m Config item 'weight_decay' was locked by 'sweep' (ignored update).\n",
          "output_type": "stream"
        },
        {
          "output_type": "display_data",
          "data": {
            "text/plain": "<IPython.core.display.HTML object>",
            "text/html": "\n    <div>\n      \n      <progress value='30' max='30' style='width:300px; height:20px; vertical-align: middle;'></progress>\n      [30/30 23:39, Epoch 3/3]\n    </div>\n    <table border=\"1\" class=\"dataframe\">\n  <thead>\n <tr style=\"text-align: left;\">\n      <th>Epoch</th>\n      <th>Training Loss</th>\n      <th>Validation Loss</th>\n      <th>Bleu</th>\n    </tr>\n  </thead>\n  <tbody>\n    <tr>\n      <td>1</td>\n      <td>No log</td>\n      <td>65.408493</td>\n      <td>0.000782</td>\n    </tr>\n    <tr>\n      <td>2</td>\n      <td>No log</td>\n      <td>65.408493</td>\n      <td>0.000782</td>\n    </tr>\n    <tr>\n      <td>3</td>\n      <td>No log</td>\n      <td>65.408493</td>\n      <td>0.000782</td>\n    </tr>\n  </tbody>\n</table><p>"
          },
          "metadata": {}
        },
        {
          "output_type": "display_data",
          "data": {
            "text/plain": "<IPython.core.display.HTML object>",
            "text/html": "Waiting for W&B process to finish... <strong style=\"color:green\">(success).</strong>"
          },
          "metadata": {}
        },
        {
          "output_type": "display_data",
          "data": {
            "text/plain": "VBox(children=(Label(value='0.001 MB of 0.001 MB uploaded (0.000 MB deduped)\\r'), FloatProgress(value=1.0, max…",
            "application/vnd.jupyter.widget-view+json": {
              "version_major": 2,
              "version_minor": 0,
              "model_id": "61431a18b02441b5a4c629552630630d"
            }
          },
          "metadata": {}
        },
        {
          "output_type": "display_data",
          "data": {
            "text/plain": "<IPython.core.display.HTML object>",
            "text/html": "<style>\n    table.wandb td:nth-child(1) { padding: 0 10px; text-align: left ; width: auto;} td:nth-child(2) {text-align: left ; width: 100%}\n    .wandb-row { display: flex; flex-direction: row; flex-wrap: wrap; justify-content: flex-start; width: 100% }\n    .wandb-col { display: flex; flex-direction: column; flex-basis: 100%; flex: 1; padding: 10px; }\n    </style>\n<div class=\"wandb-row\"><div class=\"wandb-col\"><h3>Run history:</h3><br/><table class=\"wandb\"><tr><td>eval/bleu</td><td>▁▁▁</td></tr><tr><td>eval/loss</td><td>▁▁▁</td></tr><tr><td>eval/runtime</td><td>█▁▂</td></tr><tr><td>eval/samples_per_second</td><td>▁█▇</td></tr><tr><td>eval/steps_per_second</td><td>▁▁▁</td></tr><tr><td>train/epoch</td><td>▁▅██</td></tr><tr><td>train/global_step</td><td>▁▅██</td></tr><tr><td>train/total_flos</td><td>▁</td></tr><tr><td>train/train_loss</td><td>▁</td></tr><tr><td>train/train_runtime</td><td>▁</td></tr><tr><td>train/train_samples_per_second</td><td>▁</td></tr><tr><td>train/train_steps_per_second</td><td>▁</td></tr></table><br/></div><div class=\"wandb-col\"><h3>Run summary:</h3><br/><table class=\"wandb\"><tr><td>eval/bleu</td><td>0.00078</td></tr><tr><td>eval/loss</td><td>65.40849</td></tr><tr><td>eval/runtime</td><td>465.9978</td></tr><tr><td>eval/samples_per_second</td><td>0.687</td></tr><tr><td>eval/steps_per_second</td><td>0.043</td></tr><tr><td>train/epoch</td><td>3.0</td></tr><tr><td>train/global_step</td><td>30</td></tr><tr><td>train/total_flos</td><td>32542430330880.0</td></tr><tr><td>train/train_loss</td><td>0.0</td></tr><tr><td>train/train_runtime</td><td>1419.9403</td></tr><tr><td>train/train_samples_per_second</td><td>2.704</td></tr><tr><td>train/train_steps_per_second</td><td>0.021</td></tr></table><br/></div></div>"
          },
          "metadata": {}
        },
        {
          "output_type": "display_data",
          "data": {
            "text/plain": "<IPython.core.display.HTML object>",
            "text/html": " View run <strong style=\"color:#cdcd00\">apricot-sweep-12</strong> at: <a href='https://wandb.ai/solowosophia13/AIconnect_ko_en_translation/runs/er0thpx9' target=\"_blank\">https://wandb.ai/solowosophia13/AIconnect_ko_en_translation/runs/er0thpx9</a><br/>Synced 6 W&B file(s), 0 media file(s), 0 artifact file(s) and 0 other file(s)"
          },
          "metadata": {}
        },
        {
          "output_type": "display_data",
          "data": {
            "text/plain": "<IPython.core.display.HTML object>",
            "text/html": "Find logs at: <code>./wandb/run-20230903_051751-er0thpx9/logs</code>"
          },
          "metadata": {}
        },
        {
          "name": "stderr",
          "text": "\u001b[34m\u001b[1mwandb\u001b[0m: Agent Starting Run: 9eve0qus with config:\n\u001b[34m\u001b[1mwandb\u001b[0m: \tSchedulerType: linear\n\u001b[34m\u001b[1mwandb\u001b[0m: \tlearning_rate: 0.03479991226699735\n\u001b[34m\u001b[1mwandb\u001b[0m: \tweight_decay: 0.03\n",
          "output_type": "stream"
        },
        {
          "output_type": "display_data",
          "data": {
            "text/plain": "<IPython.core.display.HTML object>",
            "text/html": "Tracking run with wandb version 0.15.9"
          },
          "metadata": {}
        },
        {
          "output_type": "display_data",
          "data": {
            "text/plain": "<IPython.core.display.HTML object>",
            "text/html": "Run data is saved locally in <code>/kaggle/working/wandb/run-20230903_054215-9eve0qus</code>"
          },
          "metadata": {}
        },
        {
          "output_type": "display_data",
          "data": {
            "text/plain": "<IPython.core.display.HTML object>",
            "text/html": "Syncing run <strong><a href='https://wandb.ai/solowosophia13/AIconnect_ko_en_translation/runs/9eve0qus' target=\"_blank\">fluent-sweep-13</a></strong> to <a href='https://wandb.ai/solowosophia13/AIconnect_ko_en_translation' target=\"_blank\">Weights & Biases</a> (<a href='https://wandb.me/run' target=\"_blank\">docs</a>)<br/>Sweep page: <a href='https://wandb.ai/solowosophia13/AIconnect_ko_en_translation/sweeps/sa9bqp9j' target=\"_blank\">https://wandb.ai/solowosophia13/AIconnect_ko_en_translation/sweeps/sa9bqp9j</a>"
          },
          "metadata": {}
        },
        {
          "output_type": "display_data",
          "data": {
            "text/plain": "<IPython.core.display.HTML object>",
            "text/html": " View project at <a href='https://wandb.ai/solowosophia13/AIconnect_ko_en_translation' target=\"_blank\">https://wandb.ai/solowosophia13/AIconnect_ko_en_translation</a>"
          },
          "metadata": {}
        },
        {
          "output_type": "display_data",
          "data": {
            "text/plain": "<IPython.core.display.HTML object>",
            "text/html": " View sweep at <a href='https://wandb.ai/solowosophia13/AIconnect_ko_en_translation/sweeps/sa9bqp9j' target=\"_blank\">https://wandb.ai/solowosophia13/AIconnect_ko_en_translation/sweeps/sa9bqp9j</a>"
          },
          "metadata": {}
        },
        {
          "output_type": "display_data",
          "data": {
            "text/plain": "<IPython.core.display.HTML object>",
            "text/html": " View run at <a href='https://wandb.ai/solowosophia13/AIconnect_ko_en_translation/runs/9eve0qus' target=\"_blank\">https://wandb.ai/solowosophia13/AIconnect_ko_en_translation/runs/9eve0qus</a>"
          },
          "metadata": {}
        },
        {
          "name": "stderr",
          "text": "\u001b[34m\u001b[1mwandb\u001b[0m: \u001b[33mWARNING\u001b[0m Config item 'learning_rate' was locked by 'sweep' (ignored update).\n\u001b[34m\u001b[1mwandb\u001b[0m: \u001b[33mWARNING\u001b[0m Config item 'weight_decay' was locked by 'sweep' (ignored update).\n",
          "output_type": "stream"
        },
        {
          "output_type": "display_data",
          "data": {
            "text/plain": "<IPython.core.display.HTML object>",
            "text/html": "\n    <div>\n      \n      <progress value='30' max='30' style='width:300px; height:20px; vertical-align: middle;'></progress>\n      [30/30 23:46, Epoch 3/3]\n    </div>\n    <table border=\"1\" class=\"dataframe\">\n  <thead>\n <tr style=\"text-align: left;\">\n      <th>Epoch</th>\n      <th>Training Loss</th>\n      <th>Validation Loss</th>\n      <th>Bleu</th>\n    </tr>\n  </thead>\n  <tbody>\n    <tr>\n      <td>1</td>\n      <td>No log</td>\n      <td>65.408493</td>\n      <td>0.000782</td>\n    </tr>\n    <tr>\n      <td>2</td>\n      <td>No log</td>\n      <td>65.408493</td>\n      <td>0.000782</td>\n    </tr>\n    <tr>\n      <td>3</td>\n      <td>No log</td>\n      <td>65.408493</td>\n      <td>0.000782</td>\n    </tr>\n  </tbody>\n</table><p>"
          },
          "metadata": {}
        },
        {
          "output_type": "display_data",
          "data": {
            "text/plain": "<IPython.core.display.HTML object>",
            "text/html": "Waiting for W&B process to finish... <strong style=\"color:green\">(success).</strong>"
          },
          "metadata": {}
        },
        {
          "output_type": "display_data",
          "data": {
            "text/plain": "VBox(children=(Label(value='0.001 MB of 0.001 MB uploaded (0.000 MB deduped)\\r'), FloatProgress(value=1.0, max…",
            "application/vnd.jupyter.widget-view+json": {
              "version_major": 2,
              "version_minor": 0,
              "model_id": "25ab6a59d4ce4b0ba7b09c203adfd48f"
            }
          },
          "metadata": {}
        },
        {
          "output_type": "display_data",
          "data": {
            "text/plain": "<IPython.core.display.HTML object>",
            "text/html": "<style>\n    table.wandb td:nth-child(1) { padding: 0 10px; text-align: left ; width: auto;} td:nth-child(2) {text-align: left ; width: 100%}\n    .wandb-row { display: flex; flex-direction: row; flex-wrap: wrap; justify-content: flex-start; width: 100% }\n    .wandb-col { display: flex; flex-direction: column; flex-basis: 100%; flex: 1; padding: 10px; }\n    </style>\n<div class=\"wandb-row\"><div class=\"wandb-col\"><h3>Run history:</h3><br/><table class=\"wandb\"><tr><td>eval/bleu</td><td>▁▁▁</td></tr><tr><td>eval/loss</td><td>▁▁▁</td></tr><tr><td>eval/runtime</td><td>█▁▂</td></tr><tr><td>eval/samples_per_second</td><td>▁██</td></tr><tr><td>eval/steps_per_second</td><td>▁██</td></tr><tr><td>train/epoch</td><td>▁▅██</td></tr><tr><td>train/global_step</td><td>▁▅██</td></tr><tr><td>train/total_flos</td><td>▁</td></tr><tr><td>train/train_loss</td><td>▁</td></tr><tr><td>train/train_runtime</td><td>▁</td></tr><tr><td>train/train_samples_per_second</td><td>▁</td></tr><tr><td>train/train_steps_per_second</td><td>▁</td></tr></table><br/></div><div class=\"wandb-col\"><h3>Run summary:</h3><br/><table class=\"wandb\"><tr><td>eval/bleu</td><td>0.00078</td></tr><tr><td>eval/loss</td><td>65.40849</td></tr><tr><td>eval/runtime</td><td>468.1139</td></tr><tr><td>eval/samples_per_second</td><td>0.684</td></tr><tr><td>eval/steps_per_second</td><td>0.043</td></tr><tr><td>train/epoch</td><td>3.0</td></tr><tr><td>train/global_step</td><td>30</td></tr><tr><td>train/total_flos</td><td>32542430330880.0</td></tr><tr><td>train/train_loss</td><td>0.0</td></tr><tr><td>train/train_runtime</td><td>1427.6247</td></tr><tr><td>train/train_samples_per_second</td><td>2.69</td></tr><tr><td>train/train_steps_per_second</td><td>0.021</td></tr></table><br/></div></div>"
          },
          "metadata": {}
        },
        {
          "output_type": "display_data",
          "data": {
            "text/plain": "<IPython.core.display.HTML object>",
            "text/html": " View run <strong style=\"color:#cdcd00\">fluent-sweep-13</strong> at: <a href='https://wandb.ai/solowosophia13/AIconnect_ko_en_translation/runs/9eve0qus' target=\"_blank\">https://wandb.ai/solowosophia13/AIconnect_ko_en_translation/runs/9eve0qus</a><br/>Synced 6 W&B file(s), 0 media file(s), 0 artifact file(s) and 0 other file(s)"
          },
          "metadata": {}
        },
        {
          "output_type": "display_data",
          "data": {
            "text/plain": "<IPython.core.display.HTML object>",
            "text/html": "Find logs at: <code>./wandb/run-20230903_054215-9eve0qus/logs</code>"
          },
          "metadata": {}
        },
        {
          "name": "stderr",
          "text": "\u001b[34m\u001b[1mwandb\u001b[0m: Agent Starting Run: fr5n8x3b with config:\n\u001b[34m\u001b[1mwandb\u001b[0m: \tSchedulerType: linear\n\u001b[34m\u001b[1mwandb\u001b[0m: \tlearning_rate: 0.08700728624636371\n\u001b[34m\u001b[1mwandb\u001b[0m: \tweight_decay: 0.3\n",
          "output_type": "stream"
        },
        {
          "output_type": "display_data",
          "data": {
            "text/plain": "<IPython.core.display.HTML object>",
            "text/html": "Tracking run with wandb version 0.15.9"
          },
          "metadata": {}
        },
        {
          "output_type": "display_data",
          "data": {
            "text/plain": "<IPython.core.display.HTML object>",
            "text/html": "Run data is saved locally in <code>/kaggle/working/wandb/run-20230903_060646-fr5n8x3b</code>"
          },
          "metadata": {}
        },
        {
          "output_type": "display_data",
          "data": {
            "text/plain": "<IPython.core.display.HTML object>",
            "text/html": "Syncing run <strong><a href='https://wandb.ai/solowosophia13/AIconnect_ko_en_translation/runs/fr5n8x3b' target=\"_blank\">fresh-sweep-14</a></strong> to <a href='https://wandb.ai/solowosophia13/AIconnect_ko_en_translation' target=\"_blank\">Weights & Biases</a> (<a href='https://wandb.me/run' target=\"_blank\">docs</a>)<br/>Sweep page: <a href='https://wandb.ai/solowosophia13/AIconnect_ko_en_translation/sweeps/sa9bqp9j' target=\"_blank\">https://wandb.ai/solowosophia13/AIconnect_ko_en_translation/sweeps/sa9bqp9j</a>"
          },
          "metadata": {}
        },
        {
          "output_type": "display_data",
          "data": {
            "text/plain": "<IPython.core.display.HTML object>",
            "text/html": " View project at <a href='https://wandb.ai/solowosophia13/AIconnect_ko_en_translation' target=\"_blank\">https://wandb.ai/solowosophia13/AIconnect_ko_en_translation</a>"
          },
          "metadata": {}
        },
        {
          "output_type": "display_data",
          "data": {
            "text/plain": "<IPython.core.display.HTML object>",
            "text/html": " View sweep at <a href='https://wandb.ai/solowosophia13/AIconnect_ko_en_translation/sweeps/sa9bqp9j' target=\"_blank\">https://wandb.ai/solowosophia13/AIconnect_ko_en_translation/sweeps/sa9bqp9j</a>"
          },
          "metadata": {}
        },
        {
          "output_type": "display_data",
          "data": {
            "text/plain": "<IPython.core.display.HTML object>",
            "text/html": " View run at <a href='https://wandb.ai/solowosophia13/AIconnect_ko_en_translation/runs/fr5n8x3b' target=\"_blank\">https://wandb.ai/solowosophia13/AIconnect_ko_en_translation/runs/fr5n8x3b</a>"
          },
          "metadata": {}
        },
        {
          "name": "stderr",
          "text": "\u001b[34m\u001b[1mwandb\u001b[0m: \u001b[33mWARNING\u001b[0m Config item 'learning_rate' was locked by 'sweep' (ignored update).\n\u001b[34m\u001b[1mwandb\u001b[0m: \u001b[33mWARNING\u001b[0m Config item 'weight_decay' was locked by 'sweep' (ignored update).\n",
          "output_type": "stream"
        },
        {
          "output_type": "display_data",
          "data": {
            "text/plain": "<IPython.core.display.HTML object>",
            "text/html": "\n    <div>\n      \n      <progress value='30' max='30' style='width:300px; height:20px; vertical-align: middle;'></progress>\n      [30/30 24:02, Epoch 3/3]\n    </div>\n    <table border=\"1\" class=\"dataframe\">\n  <thead>\n <tr style=\"text-align: left;\">\n      <th>Epoch</th>\n      <th>Training Loss</th>\n      <th>Validation Loss</th>\n      <th>Bleu</th>\n    </tr>\n  </thead>\n  <tbody>\n    <tr>\n      <td>1</td>\n      <td>No log</td>\n      <td>65.408493</td>\n      <td>0.000782</td>\n    </tr>\n    <tr>\n      <td>2</td>\n      <td>No log</td>\n      <td>65.408493</td>\n      <td>0.000782</td>\n    </tr>\n    <tr>\n      <td>3</td>\n      <td>No log</td>\n      <td>65.408493</td>\n      <td>0.000782</td>\n    </tr>\n  </tbody>\n</table><p>"
          },
          "metadata": {}
        },
        {
          "output_type": "display_data",
          "data": {
            "text/plain": "<IPython.core.display.HTML object>",
            "text/html": "Waiting for W&B process to finish... <strong style=\"color:green\">(success).</strong>"
          },
          "metadata": {}
        },
        {
          "output_type": "display_data",
          "data": {
            "text/plain": "VBox(children=(Label(value='0.001 MB of 0.001 MB uploaded (0.000 MB deduped)\\r'), FloatProgress(value=1.0, max…",
            "application/vnd.jupyter.widget-view+json": {
              "version_major": 2,
              "version_minor": 0,
              "model_id": "8c91e802ee2c45f7b84a682ca4a93889"
            }
          },
          "metadata": {}
        },
        {
          "output_type": "display_data",
          "data": {
            "text/plain": "<IPython.core.display.HTML object>",
            "text/html": "<style>\n    table.wandb td:nth-child(1) { padding: 0 10px; text-align: left ; width: auto;} td:nth-child(2) {text-align: left ; width: 100%}\n    .wandb-row { display: flex; flex-direction: row; flex-wrap: wrap; justify-content: flex-start; width: 100% }\n    .wandb-col { display: flex; flex-direction: column; flex-basis: 100%; flex: 1; padding: 10px; }\n    </style>\n<div class=\"wandb-row\"><div class=\"wandb-col\"><h3>Run history:</h3><br/><table class=\"wandb\"><tr><td>eval/bleu</td><td>▁▁▁</td></tr><tr><td>eval/loss</td><td>▁▁▁</td></tr><tr><td>eval/runtime</td><td>█▁▂</td></tr><tr><td>eval/samples_per_second</td><td>▁█▇</td></tr><tr><td>eval/steps_per_second</td><td>▁▁▁</td></tr><tr><td>train/epoch</td><td>▁▅██</td></tr><tr><td>train/global_step</td><td>▁▅██</td></tr><tr><td>train/total_flos</td><td>▁</td></tr><tr><td>train/train_loss</td><td>▁</td></tr><tr><td>train/train_runtime</td><td>▁</td></tr><tr><td>train/train_samples_per_second</td><td>▁</td></tr><tr><td>train/train_steps_per_second</td><td>▁</td></tr></table><br/></div><div class=\"wandb-col\"><h3>Run summary:</h3><br/><table class=\"wandb\"><tr><td>eval/bleu</td><td>0.00078</td></tr><tr><td>eval/loss</td><td>65.40849</td></tr><tr><td>eval/runtime</td><td>473.3344</td></tr><tr><td>eval/samples_per_second</td><td>0.676</td></tr><tr><td>eval/steps_per_second</td><td>0.042</td></tr><tr><td>train/epoch</td><td>3.0</td></tr><tr><td>train/global_step</td><td>30</td></tr><tr><td>train/total_flos</td><td>32542430330880.0</td></tr><tr><td>train/train_loss</td><td>0.0</td></tr><tr><td>train/train_runtime</td><td>1442.8611</td></tr><tr><td>train/train_samples_per_second</td><td>2.661</td></tr><tr><td>train/train_steps_per_second</td><td>0.021</td></tr></table><br/></div></div>"
          },
          "metadata": {}
        },
        {
          "output_type": "display_data",
          "data": {
            "text/plain": "<IPython.core.display.HTML object>",
            "text/html": " View run <strong style=\"color:#cdcd00\">fresh-sweep-14</strong> at: <a href='https://wandb.ai/solowosophia13/AIconnect_ko_en_translation/runs/fr5n8x3b' target=\"_blank\">https://wandb.ai/solowosophia13/AIconnect_ko_en_translation/runs/fr5n8x3b</a><br/>Synced 6 W&B file(s), 0 media file(s), 0 artifact file(s) and 0 other file(s)"
          },
          "metadata": {}
        },
        {
          "output_type": "display_data",
          "data": {
            "text/plain": "<IPython.core.display.HTML object>",
            "text/html": "Find logs at: <code>./wandb/run-20230903_060646-fr5n8x3b/logs</code>"
          },
          "metadata": {}
        },
        {
          "name": "stderr",
          "text": "\u001b[34m\u001b[1mwandb\u001b[0m: Agent Starting Run: ftu1cibo with config:\n\u001b[34m\u001b[1mwandb\u001b[0m: \tSchedulerType: constant\n\u001b[34m\u001b[1mwandb\u001b[0m: \tlearning_rate: 0.04597859377523781\n\u001b[34m\u001b[1mwandb\u001b[0m: \tweight_decay: 0.3\n",
          "output_type": "stream"
        },
        {
          "output_type": "display_data",
          "data": {
            "text/plain": "<IPython.core.display.HTML object>",
            "text/html": "Tracking run with wandb version 0.15.9"
          },
          "metadata": {}
        },
        {
          "output_type": "display_data",
          "data": {
            "text/plain": "<IPython.core.display.HTML object>",
            "text/html": "Run data is saved locally in <code>/kaggle/working/wandb/run-20230903_063135-ftu1cibo</code>"
          },
          "metadata": {}
        },
        {
          "output_type": "display_data",
          "data": {
            "text/plain": "<IPython.core.display.HTML object>",
            "text/html": "Syncing run <strong><a href='https://wandb.ai/solowosophia13/AIconnect_ko_en_translation/runs/ftu1cibo' target=\"_blank\">spring-sweep-15</a></strong> to <a href='https://wandb.ai/solowosophia13/AIconnect_ko_en_translation' target=\"_blank\">Weights & Biases</a> (<a href='https://wandb.me/run' target=\"_blank\">docs</a>)<br/>Sweep page: <a href='https://wandb.ai/solowosophia13/AIconnect_ko_en_translation/sweeps/sa9bqp9j' target=\"_blank\">https://wandb.ai/solowosophia13/AIconnect_ko_en_translation/sweeps/sa9bqp9j</a>"
          },
          "metadata": {}
        },
        {
          "output_type": "display_data",
          "data": {
            "text/plain": "<IPython.core.display.HTML object>",
            "text/html": " View project at <a href='https://wandb.ai/solowosophia13/AIconnect_ko_en_translation' target=\"_blank\">https://wandb.ai/solowosophia13/AIconnect_ko_en_translation</a>"
          },
          "metadata": {}
        },
        {
          "output_type": "display_data",
          "data": {
            "text/plain": "<IPython.core.display.HTML object>",
            "text/html": " View sweep at <a href='https://wandb.ai/solowosophia13/AIconnect_ko_en_translation/sweeps/sa9bqp9j' target=\"_blank\">https://wandb.ai/solowosophia13/AIconnect_ko_en_translation/sweeps/sa9bqp9j</a>"
          },
          "metadata": {}
        },
        {
          "output_type": "display_data",
          "data": {
            "text/plain": "<IPython.core.display.HTML object>",
            "text/html": " View run at <a href='https://wandb.ai/solowosophia13/AIconnect_ko_en_translation/runs/ftu1cibo' target=\"_blank\">https://wandb.ai/solowosophia13/AIconnect_ko_en_translation/runs/ftu1cibo</a>"
          },
          "metadata": {}
        },
        {
          "name": "stderr",
          "text": "\u001b[34m\u001b[1mwandb\u001b[0m: \u001b[33mWARNING\u001b[0m Config item 'learning_rate' was locked by 'sweep' (ignored update).\n\u001b[34m\u001b[1mwandb\u001b[0m: \u001b[33mWARNING\u001b[0m Config item 'weight_decay' was locked by 'sweep' (ignored update).\n",
          "output_type": "stream"
        },
        {
          "output_type": "display_data",
          "data": {
            "text/plain": "<IPython.core.display.HTML object>",
            "text/html": "\n    <div>\n      \n      <progress value='30' max='30' style='width:300px; height:20px; vertical-align: middle;'></progress>\n      [30/30 24:17, Epoch 3/3]\n    </div>\n    <table border=\"1\" class=\"dataframe\">\n  <thead>\n <tr style=\"text-align: left;\">\n      <th>Epoch</th>\n      <th>Training Loss</th>\n      <th>Validation Loss</th>\n      <th>Bleu</th>\n    </tr>\n  </thead>\n  <tbody>\n    <tr>\n      <td>1</td>\n      <td>No log</td>\n      <td>65.408493</td>\n      <td>0.000782</td>\n    </tr>\n    <tr>\n      <td>2</td>\n      <td>No log</td>\n      <td>65.408493</td>\n      <td>0.000782</td>\n    </tr>\n    <tr>\n      <td>3</td>\n      <td>No log</td>\n      <td>65.408493</td>\n      <td>0.000782</td>\n    </tr>\n  </tbody>\n</table><p>"
          },
          "metadata": {}
        },
        {
          "output_type": "display_data",
          "data": {
            "text/plain": "<IPython.core.display.HTML object>",
            "text/html": "Waiting for W&B process to finish... <strong style=\"color:green\">(success).</strong>"
          },
          "metadata": {}
        },
        {
          "output_type": "display_data",
          "data": {
            "text/plain": "VBox(children=(Label(value='0.001 MB of 0.001 MB uploaded (0.000 MB deduped)\\r'), FloatProgress(value=1.0, max…",
            "application/vnd.jupyter.widget-view+json": {
              "version_major": 2,
              "version_minor": 0,
              "model_id": "3dcc9f85cf544781a7693c4a9de3b9f4"
            }
          },
          "metadata": {}
        },
        {
          "output_type": "display_data",
          "data": {
            "text/plain": "<IPython.core.display.HTML object>",
            "text/html": "<style>\n    table.wandb td:nth-child(1) { padding: 0 10px; text-align: left ; width: auto;} td:nth-child(2) {text-align: left ; width: 100%}\n    .wandb-row { display: flex; flex-direction: row; flex-wrap: wrap; justify-content: flex-start; width: 100% }\n    .wandb-col { display: flex; flex-direction: column; flex-basis: 100%; flex: 1; padding: 10px; }\n    </style>\n<div class=\"wandb-row\"><div class=\"wandb-col\"><h3>Run history:</h3><br/><table class=\"wandb\"><tr><td>eval/bleu</td><td>▁▁▁</td></tr><tr><td>eval/loss</td><td>▁▁▁</td></tr><tr><td>eval/runtime</td><td>█▁▁</td></tr><tr><td>eval/samples_per_second</td><td>▁██</td></tr><tr><td>eval/steps_per_second</td><td>▁██</td></tr><tr><td>train/epoch</td><td>▁▅██</td></tr><tr><td>train/global_step</td><td>▁▅██</td></tr><tr><td>train/total_flos</td><td>▁</td></tr><tr><td>train/train_loss</td><td>▁</td></tr><tr><td>train/train_runtime</td><td>▁</td></tr><tr><td>train/train_samples_per_second</td><td>▁</td></tr><tr><td>train/train_steps_per_second</td><td>▁</td></tr></table><br/></div><div class=\"wandb-col\"><h3>Run summary:</h3><br/><table class=\"wandb\"><tr><td>eval/bleu</td><td>0.00078</td></tr><tr><td>eval/loss</td><td>65.40849</td></tr><tr><td>eval/runtime</td><td>478.3719</td></tr><tr><td>eval/samples_per_second</td><td>0.669</td></tr><tr><td>eval/steps_per_second</td><td>0.042</td></tr><tr><td>train/epoch</td><td>3.0</td></tr><tr><td>train/global_step</td><td>30</td></tr><tr><td>train/total_flos</td><td>32542430330880.0</td></tr><tr><td>train/train_loss</td><td>0.0</td></tr><tr><td>train/train_runtime</td><td>1457.9204</td></tr><tr><td>train/train_samples_per_second</td><td>2.634</td></tr><tr><td>train/train_steps_per_second</td><td>0.021</td></tr></table><br/></div></div>"
          },
          "metadata": {}
        },
        {
          "output_type": "display_data",
          "data": {
            "text/plain": "<IPython.core.display.HTML object>",
            "text/html": " View run <strong style=\"color:#cdcd00\">spring-sweep-15</strong> at: <a href='https://wandb.ai/solowosophia13/AIconnect_ko_en_translation/runs/ftu1cibo' target=\"_blank\">https://wandb.ai/solowosophia13/AIconnect_ko_en_translation/runs/ftu1cibo</a><br/>Synced 6 W&B file(s), 0 media file(s), 0 artifact file(s) and 0 other file(s)"
          },
          "metadata": {}
        },
        {
          "output_type": "display_data",
          "data": {
            "text/plain": "<IPython.core.display.HTML object>",
            "text/html": "Find logs at: <code>./wandb/run-20230903_063135-ftu1cibo/logs</code>"
          },
          "metadata": {}
        },
        {
          "name": "stderr",
          "text": "\u001b[34m\u001b[1mwandb\u001b[0m: Agent Starting Run: sw0kufu7 with config:\n\u001b[34m\u001b[1mwandb\u001b[0m: \tSchedulerType: linear\n\u001b[34m\u001b[1mwandb\u001b[0m: \tlearning_rate: 0.04543940666192847\n\u001b[34m\u001b[1mwandb\u001b[0m: \tweight_decay: 0.1\n",
          "output_type": "stream"
        },
        {
          "output_type": "display_data",
          "data": {
            "text/plain": "<IPython.core.display.HTML object>",
            "text/html": "Tracking run with wandb version 0.15.9"
          },
          "metadata": {}
        },
        {
          "output_type": "display_data",
          "data": {
            "text/plain": "<IPython.core.display.HTML object>",
            "text/html": "Run data is saved locally in <code>/kaggle/working/wandb/run-20230903_065634-sw0kufu7</code>"
          },
          "metadata": {}
        },
        {
          "output_type": "display_data",
          "data": {
            "text/plain": "<IPython.core.display.HTML object>",
            "text/html": "Syncing run <strong><a href='https://wandb.ai/solowosophia13/AIconnect_ko_en_translation/runs/sw0kufu7' target=\"_blank\">lemon-sweep-16</a></strong> to <a href='https://wandb.ai/solowosophia13/AIconnect_ko_en_translation' target=\"_blank\">Weights & Biases</a> (<a href='https://wandb.me/run' target=\"_blank\">docs</a>)<br/>Sweep page: <a href='https://wandb.ai/solowosophia13/AIconnect_ko_en_translation/sweeps/sa9bqp9j' target=\"_blank\">https://wandb.ai/solowosophia13/AIconnect_ko_en_translation/sweeps/sa9bqp9j</a>"
          },
          "metadata": {}
        },
        {
          "output_type": "display_data",
          "data": {
            "text/plain": "<IPython.core.display.HTML object>",
            "text/html": " View project at <a href='https://wandb.ai/solowosophia13/AIconnect_ko_en_translation' target=\"_blank\">https://wandb.ai/solowosophia13/AIconnect_ko_en_translation</a>"
          },
          "metadata": {}
        },
        {
          "output_type": "display_data",
          "data": {
            "text/plain": "<IPython.core.display.HTML object>",
            "text/html": " View sweep at <a href='https://wandb.ai/solowosophia13/AIconnect_ko_en_translation/sweeps/sa9bqp9j' target=\"_blank\">https://wandb.ai/solowosophia13/AIconnect_ko_en_translation/sweeps/sa9bqp9j</a>"
          },
          "metadata": {}
        },
        {
          "output_type": "display_data",
          "data": {
            "text/plain": "<IPython.core.display.HTML object>",
            "text/html": " View run at <a href='https://wandb.ai/solowosophia13/AIconnect_ko_en_translation/runs/sw0kufu7' target=\"_blank\">https://wandb.ai/solowosophia13/AIconnect_ko_en_translation/runs/sw0kufu7</a>"
          },
          "metadata": {}
        },
        {
          "name": "stderr",
          "text": "\u001b[34m\u001b[1mwandb\u001b[0m: \u001b[33mWARNING\u001b[0m Config item 'learning_rate' was locked by 'sweep' (ignored update).\n\u001b[34m\u001b[1mwandb\u001b[0m: \u001b[33mWARNING\u001b[0m Config item 'weight_decay' was locked by 'sweep' (ignored update).\n",
          "output_type": "stream"
        },
        {
          "output_type": "display_data",
          "data": {
            "text/plain": "<IPython.core.display.HTML object>",
            "text/html": "\n    <div>\n      \n      <progress value='30' max='30' style='width:300px; height:20px; vertical-align: middle;'></progress>\n      [30/30 24:30, Epoch 3/3]\n    </div>\n    <table border=\"1\" class=\"dataframe\">\n  <thead>\n <tr style=\"text-align: left;\">\n      <th>Epoch</th>\n      <th>Training Loss</th>\n      <th>Validation Loss</th>\n      <th>Bleu</th>\n    </tr>\n  </thead>\n  <tbody>\n    <tr>\n      <td>1</td>\n      <td>No log</td>\n      <td>65.408493</td>\n      <td>0.000782</td>\n    </tr>\n    <tr>\n      <td>2</td>\n      <td>No log</td>\n      <td>65.408493</td>\n      <td>0.000782</td>\n    </tr>\n    <tr>\n      <td>3</td>\n      <td>No log</td>\n      <td>65.408493</td>\n      <td>0.000782</td>\n    </tr>\n  </tbody>\n</table><p>"
          },
          "metadata": {}
        },
        {
          "output_type": "display_data",
          "data": {
            "text/plain": "<IPython.core.display.HTML object>",
            "text/html": "Waiting for W&B process to finish... <strong style=\"color:green\">(success).</strong>"
          },
          "metadata": {}
        },
        {
          "output_type": "display_data",
          "data": {
            "text/plain": "VBox(children=(Label(value='0.001 MB of 0.001 MB uploaded (0.000 MB deduped)\\r'), FloatProgress(value=1.0, max…",
            "application/vnd.jupyter.widget-view+json": {
              "version_major": 2,
              "version_minor": 0,
              "model_id": "ebfeccf22dc3411fa0baa76b3eadf299"
            }
          },
          "metadata": {}
        },
        {
          "output_type": "display_data",
          "data": {
            "text/plain": "<IPython.core.display.HTML object>",
            "text/html": "<style>\n    table.wandb td:nth-child(1) { padding: 0 10px; text-align: left ; width: auto;} td:nth-child(2) {text-align: left ; width: 100%}\n    .wandb-row { display: flex; flex-direction: row; flex-wrap: wrap; justify-content: flex-start; width: 100% }\n    .wandb-col { display: flex; flex-direction: column; flex-basis: 100%; flex: 1; padding: 10px; }\n    </style>\n<div class=\"wandb-row\"><div class=\"wandb-col\"><h3>Run history:</h3><br/><table class=\"wandb\"><tr><td>eval/bleu</td><td>▁▁▁</td></tr><tr><td>eval/loss</td><td>▁▁▁</td></tr><tr><td>eval/runtime</td><td>█▁▃</td></tr><tr><td>eval/samples_per_second</td><td>▁█▆</td></tr><tr><td>eval/steps_per_second</td><td>▁█▁</td></tr><tr><td>train/epoch</td><td>▁▅██</td></tr><tr><td>train/global_step</td><td>▁▅██</td></tr><tr><td>train/total_flos</td><td>▁</td></tr><tr><td>train/train_loss</td><td>▁</td></tr><tr><td>train/train_runtime</td><td>▁</td></tr><tr><td>train/train_samples_per_second</td><td>▁</td></tr><tr><td>train/train_steps_per_second</td><td>▁</td></tr></table><br/></div><div class=\"wandb-col\"><h3>Run summary:</h3><br/><table class=\"wandb\"><tr><td>eval/bleu</td><td>0.00078</td></tr><tr><td>eval/loss</td><td>65.40849</td></tr><tr><td>eval/runtime</td><td>483.3911</td></tr><tr><td>eval/samples_per_second</td><td>0.662</td></tr><tr><td>eval/steps_per_second</td><td>0.041</td></tr><tr><td>train/epoch</td><td>3.0</td></tr><tr><td>train/global_step</td><td>30</td></tr><tr><td>train/total_flos</td><td>32542430330880.0</td></tr><tr><td>train/train_loss</td><td>0.0</td></tr><tr><td>train/train_runtime</td><td>1471.5627</td></tr><tr><td>train/train_samples_per_second</td><td>2.609</td></tr><tr><td>train/train_steps_per_second</td><td>0.02</td></tr></table><br/></div></div>"
          },
          "metadata": {}
        },
        {
          "output_type": "display_data",
          "data": {
            "text/plain": "<IPython.core.display.HTML object>",
            "text/html": " View run <strong style=\"color:#cdcd00\">lemon-sweep-16</strong> at: <a href='https://wandb.ai/solowosophia13/AIconnect_ko_en_translation/runs/sw0kufu7' target=\"_blank\">https://wandb.ai/solowosophia13/AIconnect_ko_en_translation/runs/sw0kufu7</a><br/>Synced 6 W&B file(s), 0 media file(s), 0 artifact file(s) and 0 other file(s)"
          },
          "metadata": {}
        },
        {
          "output_type": "display_data",
          "data": {
            "text/plain": "<IPython.core.display.HTML object>",
            "text/html": "Find logs at: <code>./wandb/run-20230903_065634-sw0kufu7/logs</code>"
          },
          "metadata": {}
        },
        {
          "name": "stderr",
          "text": "\u001b[34m\u001b[1mwandb\u001b[0m: Agent Starting Run: zbunzjoq with config:\n\u001b[34m\u001b[1mwandb\u001b[0m: \tSchedulerType: cosine\n\u001b[34m\u001b[1mwandb\u001b[0m: \tlearning_rate: 0.08580216995626132\n\u001b[34m\u001b[1mwandb\u001b[0m: \tweight_decay: 0.03\n",
          "output_type": "stream"
        },
        {
          "output_type": "display_data",
          "data": {
            "text/plain": "<IPython.core.display.HTML object>",
            "text/html": "Tracking run with wandb version 0.15.9"
          },
          "metadata": {}
        },
        {
          "output_type": "display_data",
          "data": {
            "text/plain": "<IPython.core.display.HTML object>",
            "text/html": "Run data is saved locally in <code>/kaggle/working/wandb/run-20230903_072150-zbunzjoq</code>"
          },
          "metadata": {}
        },
        {
          "output_type": "display_data",
          "data": {
            "text/plain": "<IPython.core.display.HTML object>",
            "text/html": "Syncing run <strong><a href='https://wandb.ai/solowosophia13/AIconnect_ko_en_translation/runs/zbunzjoq' target=\"_blank\">fancy-sweep-17</a></strong> to <a href='https://wandb.ai/solowosophia13/AIconnect_ko_en_translation' target=\"_blank\">Weights & Biases</a> (<a href='https://wandb.me/run' target=\"_blank\">docs</a>)<br/>Sweep page: <a href='https://wandb.ai/solowosophia13/AIconnect_ko_en_translation/sweeps/sa9bqp9j' target=\"_blank\">https://wandb.ai/solowosophia13/AIconnect_ko_en_translation/sweeps/sa9bqp9j</a>"
          },
          "metadata": {}
        },
        {
          "output_type": "display_data",
          "data": {
            "text/plain": "<IPython.core.display.HTML object>",
            "text/html": " View project at <a href='https://wandb.ai/solowosophia13/AIconnect_ko_en_translation' target=\"_blank\">https://wandb.ai/solowosophia13/AIconnect_ko_en_translation</a>"
          },
          "metadata": {}
        },
        {
          "output_type": "display_data",
          "data": {
            "text/plain": "<IPython.core.display.HTML object>",
            "text/html": " View sweep at <a href='https://wandb.ai/solowosophia13/AIconnect_ko_en_translation/sweeps/sa9bqp9j' target=\"_blank\">https://wandb.ai/solowosophia13/AIconnect_ko_en_translation/sweeps/sa9bqp9j</a>"
          },
          "metadata": {}
        },
        {
          "output_type": "display_data",
          "data": {
            "text/plain": "<IPython.core.display.HTML object>",
            "text/html": " View run at <a href='https://wandb.ai/solowosophia13/AIconnect_ko_en_translation/runs/zbunzjoq' target=\"_blank\">https://wandb.ai/solowosophia13/AIconnect_ko_en_translation/runs/zbunzjoq</a>"
          },
          "metadata": {}
        },
        {
          "name": "stderr",
          "text": "\u001b[34m\u001b[1mwandb\u001b[0m: \u001b[33mWARNING\u001b[0m Config item 'learning_rate' was locked by 'sweep' (ignored update).\n\u001b[34m\u001b[1mwandb\u001b[0m: \u001b[33mWARNING\u001b[0m Config item 'weight_decay' was locked by 'sweep' (ignored update).\n",
          "output_type": "stream"
        },
        {
          "output_type": "display_data",
          "data": {
            "text/plain": "<IPython.core.display.HTML object>",
            "text/html": "\n    <div>\n      \n      <progress value='30' max='30' style='width:300px; height:20px; vertical-align: middle;'></progress>\n      [30/30 24:43, Epoch 3/3]\n    </div>\n    <table border=\"1\" class=\"dataframe\">\n  <thead>\n <tr style=\"text-align: left;\">\n      <th>Epoch</th>\n      <th>Training Loss</th>\n      <th>Validation Loss</th>\n      <th>Bleu</th>\n    </tr>\n  </thead>\n  <tbody>\n    <tr>\n      <td>1</td>\n      <td>No log</td>\n      <td>65.408493</td>\n      <td>0.000782</td>\n    </tr>\n    <tr>\n      <td>2</td>\n      <td>No log</td>\n      <td>65.408493</td>\n      <td>0.000782</td>\n    </tr>\n    <tr>\n      <td>3</td>\n      <td>No log</td>\n      <td>65.408493</td>\n      <td>0.000782</td>\n    </tr>\n  </tbody>\n</table><p>"
          },
          "metadata": {}
        },
        {
          "output_type": "display_data",
          "data": {
            "text/plain": "<IPython.core.display.HTML object>",
            "text/html": "Waiting for W&B process to finish... <strong style=\"color:green\">(success).</strong>"
          },
          "metadata": {}
        },
        {
          "output_type": "display_data",
          "data": {
            "text/plain": "VBox(children=(Label(value='0.001 MB of 0.001 MB uploaded (0.000 MB deduped)\\r'), FloatProgress(value=1.0, max…",
            "application/vnd.jupyter.widget-view+json": {
              "version_major": 2,
              "version_minor": 0,
              "model_id": "fdbdfdb82ed04f8487d1b0209b8855d8"
            }
          },
          "metadata": {}
        },
        {
          "output_type": "display_data",
          "data": {
            "text/plain": "<IPython.core.display.HTML object>",
            "text/html": "<style>\n    table.wandb td:nth-child(1) { padding: 0 10px; text-align: left ; width: auto;} td:nth-child(2) {text-align: left ; width: 100%}\n    .wandb-row { display: flex; flex-direction: row; flex-wrap: wrap; justify-content: flex-start; width: 100% }\n    .wandb-col { display: flex; flex-direction: column; flex-basis: 100%; flex: 1; padding: 10px; }\n    </style>\n<div class=\"wandb-row\"><div class=\"wandb-col\"><h3>Run history:</h3><br/><table class=\"wandb\"><tr><td>eval/bleu</td><td>▁▁▁</td></tr><tr><td>eval/loss</td><td>▁▁▁</td></tr><tr><td>eval/runtime</td><td>█▃▁</td></tr><tr><td>eval/samples_per_second</td><td>▁▆█</td></tr><tr><td>eval/steps_per_second</td><td>▁▁▁</td></tr><tr><td>train/epoch</td><td>▁▅██</td></tr><tr><td>train/global_step</td><td>▁▅██</td></tr><tr><td>train/total_flos</td><td>▁</td></tr><tr><td>train/train_loss</td><td>▁</td></tr><tr><td>train/train_runtime</td><td>▁</td></tr><tr><td>train/train_samples_per_second</td><td>▁</td></tr><tr><td>train/train_steps_per_second</td><td>▁</td></tr></table><br/></div><div class=\"wandb-col\"><h3>Run summary:</h3><br/><table class=\"wandb\"><tr><td>eval/bleu</td><td>0.00078</td></tr><tr><td>eval/loss</td><td>65.40849</td></tr><tr><td>eval/runtime</td><td>485.4275</td></tr><tr><td>eval/samples_per_second</td><td>0.659</td></tr><tr><td>eval/steps_per_second</td><td>0.041</td></tr><tr><td>train/epoch</td><td>3.0</td></tr><tr><td>train/global_step</td><td>30</td></tr><tr><td>train/total_flos</td><td>32542430330880.0</td></tr><tr><td>train/train_loss</td><td>0.0</td></tr><tr><td>train/train_runtime</td><td>1484.4135</td></tr><tr><td>train/train_samples_per_second</td><td>2.587</td></tr><tr><td>train/train_steps_per_second</td><td>0.02</td></tr></table><br/></div></div>"
          },
          "metadata": {}
        },
        {
          "output_type": "display_data",
          "data": {
            "text/plain": "<IPython.core.display.HTML object>",
            "text/html": " View run <strong style=\"color:#cdcd00\">fancy-sweep-17</strong> at: <a href='https://wandb.ai/solowosophia13/AIconnect_ko_en_translation/runs/zbunzjoq' target=\"_blank\">https://wandb.ai/solowosophia13/AIconnect_ko_en_translation/runs/zbunzjoq</a><br/>Synced 6 W&B file(s), 0 media file(s), 0 artifact file(s) and 0 other file(s)"
          },
          "metadata": {}
        },
        {
          "output_type": "display_data",
          "data": {
            "text/plain": "<IPython.core.display.HTML object>",
            "text/html": "Find logs at: <code>./wandb/run-20230903_072150-zbunzjoq/logs</code>"
          },
          "metadata": {}
        },
        {
          "name": "stderr",
          "text": "\u001b[34m\u001b[1mwandb\u001b[0m: Agent Starting Run: nl2acv2d with config:\n\u001b[34m\u001b[1mwandb\u001b[0m: \tSchedulerType: linear\n\u001b[34m\u001b[1mwandb\u001b[0m: \tlearning_rate: 0.06237247659553065\n\u001b[34m\u001b[1mwandb\u001b[0m: \tweight_decay: 0.03\n",
          "output_type": "stream"
        },
        {
          "output_type": "display_data",
          "data": {
            "text/plain": "<IPython.core.display.HTML object>",
            "text/html": "Tracking run with wandb version 0.15.9"
          },
          "metadata": {}
        },
        {
          "output_type": "display_data",
          "data": {
            "text/plain": "<IPython.core.display.HTML object>",
            "text/html": "Run data is saved locally in <code>/kaggle/working/wandb/run-20230903_074714-nl2acv2d</code>"
          },
          "metadata": {}
        },
        {
          "output_type": "display_data",
          "data": {
            "text/plain": "<IPython.core.display.HTML object>",
            "text/html": "Syncing run <strong><a href='https://wandb.ai/solowosophia13/AIconnect_ko_en_translation/runs/nl2acv2d' target=\"_blank\">fearless-sweep-18</a></strong> to <a href='https://wandb.ai/solowosophia13/AIconnect_ko_en_translation' target=\"_blank\">Weights & Biases</a> (<a href='https://wandb.me/run' target=\"_blank\">docs</a>)<br/>Sweep page: <a href='https://wandb.ai/solowosophia13/AIconnect_ko_en_translation/sweeps/sa9bqp9j' target=\"_blank\">https://wandb.ai/solowosophia13/AIconnect_ko_en_translation/sweeps/sa9bqp9j</a>"
          },
          "metadata": {}
        },
        {
          "output_type": "display_data",
          "data": {
            "text/plain": "<IPython.core.display.HTML object>",
            "text/html": " View project at <a href='https://wandb.ai/solowosophia13/AIconnect_ko_en_translation' target=\"_blank\">https://wandb.ai/solowosophia13/AIconnect_ko_en_translation</a>"
          },
          "metadata": {}
        },
        {
          "output_type": "display_data",
          "data": {
            "text/plain": "<IPython.core.display.HTML object>",
            "text/html": " View sweep at <a href='https://wandb.ai/solowosophia13/AIconnect_ko_en_translation/sweeps/sa9bqp9j' target=\"_blank\">https://wandb.ai/solowosophia13/AIconnect_ko_en_translation/sweeps/sa9bqp9j</a>"
          },
          "metadata": {}
        },
        {
          "output_type": "display_data",
          "data": {
            "text/plain": "<IPython.core.display.HTML object>",
            "text/html": " View run at <a href='https://wandb.ai/solowosophia13/AIconnect_ko_en_translation/runs/nl2acv2d' target=\"_blank\">https://wandb.ai/solowosophia13/AIconnect_ko_en_translation/runs/nl2acv2d</a>"
          },
          "metadata": {}
        },
        {
          "name": "stderr",
          "text": "\u001b[34m\u001b[1mwandb\u001b[0m: \u001b[33mWARNING\u001b[0m Config item 'learning_rate' was locked by 'sweep' (ignored update).\n\u001b[34m\u001b[1mwandb\u001b[0m: \u001b[33mWARNING\u001b[0m Config item 'weight_decay' was locked by 'sweep' (ignored update).\n",
          "output_type": "stream"
        },
        {
          "output_type": "display_data",
          "data": {
            "text/plain": "<IPython.core.display.HTML object>",
            "text/html": "\n    <div>\n      \n      <progress value='30' max='30' style='width:300px; height:20px; vertical-align: middle;'></progress>\n      [30/30 24:56, Epoch 3/3]\n    </div>\n    <table border=\"1\" class=\"dataframe\">\n  <thead>\n <tr style=\"text-align: left;\">\n      <th>Epoch</th>\n      <th>Training Loss</th>\n      <th>Validation Loss</th>\n      <th>Bleu</th>\n    </tr>\n  </thead>\n  <tbody>\n    <tr>\n      <td>1</td>\n      <td>No log</td>\n      <td>65.408493</td>\n      <td>0.000782</td>\n    </tr>\n    <tr>\n      <td>2</td>\n      <td>No log</td>\n      <td>65.408493</td>\n      <td>0.000782</td>\n    </tr>\n    <tr>\n      <td>3</td>\n      <td>No log</td>\n      <td>65.408493</td>\n      <td>0.000782</td>\n    </tr>\n  </tbody>\n</table><p>"
          },
          "metadata": {}
        },
        {
          "output_type": "display_data",
          "data": {
            "text/plain": "<IPython.core.display.HTML object>",
            "text/html": "Waiting for W&B process to finish... <strong style=\"color:green\">(success).</strong>"
          },
          "metadata": {}
        },
        {
          "output_type": "display_data",
          "data": {
            "text/plain": "VBox(children=(Label(value='0.001 MB of 0.001 MB uploaded (0.000 MB deduped)\\r'), FloatProgress(value=1.0, max…",
            "application/vnd.jupyter.widget-view+json": {
              "version_major": 2,
              "version_minor": 0,
              "model_id": "6e4650b2653d4388bc73244875b86771"
            }
          },
          "metadata": {}
        },
        {
          "output_type": "display_data",
          "data": {
            "text/plain": "<IPython.core.display.HTML object>",
            "text/html": "<style>\n    table.wandb td:nth-child(1) { padding: 0 10px; text-align: left ; width: auto;} td:nth-child(2) {text-align: left ; width: 100%}\n    .wandb-row { display: flex; flex-direction: row; flex-wrap: wrap; justify-content: flex-start; width: 100% }\n    .wandb-col { display: flex; flex-direction: column; flex-basis: 100%; flex: 1; padding: 10px; }\n    </style>\n<div class=\"wandb-row\"><div class=\"wandb-col\"><h3>Run history:</h3><br/><table class=\"wandb\"><tr><td>eval/bleu</td><td>▁▁▁</td></tr><tr><td>eval/loss</td><td>▁▁▁</td></tr><tr><td>eval/runtime</td><td>█▁▂</td></tr><tr><td>eval/samples_per_second</td><td>▁█▆</td></tr><tr><td>eval/steps_per_second</td><td>▁██</td></tr><tr><td>train/epoch</td><td>▁▅██</td></tr><tr><td>train/global_step</td><td>▁▅██</td></tr><tr><td>train/total_flos</td><td>▁</td></tr><tr><td>train/train_loss</td><td>▁</td></tr><tr><td>train/train_runtime</td><td>▁</td></tr><tr><td>train/train_samples_per_second</td><td>▁</td></tr><tr><td>train/train_steps_per_second</td><td>▁</td></tr></table><br/></div><div class=\"wandb-col\"><h3>Run summary:</h3><br/><table class=\"wandb\"><tr><td>eval/bleu</td><td>0.00078</td></tr><tr><td>eval/loss</td><td>65.40849</td></tr><tr><td>eval/runtime</td><td>491.1786</td></tr><tr><td>eval/samples_per_second</td><td>0.651</td></tr><tr><td>eval/steps_per_second</td><td>0.041</td></tr><tr><td>train/epoch</td><td>3.0</td></tr><tr><td>train/global_step</td><td>30</td></tr><tr><td>train/total_flos</td><td>32542430330880.0</td></tr><tr><td>train/train_loss</td><td>0.0</td></tr><tr><td>train/train_runtime</td><td>1497.1304</td></tr><tr><td>train/train_samples_per_second</td><td>2.565</td></tr><tr><td>train/train_steps_per_second</td><td>0.02</td></tr></table><br/></div></div>"
          },
          "metadata": {}
        },
        {
          "output_type": "display_data",
          "data": {
            "text/plain": "<IPython.core.display.HTML object>",
            "text/html": " View run <strong style=\"color:#cdcd00\">fearless-sweep-18</strong> at: <a href='https://wandb.ai/solowosophia13/AIconnect_ko_en_translation/runs/nl2acv2d' target=\"_blank\">https://wandb.ai/solowosophia13/AIconnect_ko_en_translation/runs/nl2acv2d</a><br/>Synced 6 W&B file(s), 0 media file(s), 0 artifact file(s) and 0 other file(s)"
          },
          "metadata": {}
        },
        {
          "output_type": "display_data",
          "data": {
            "text/plain": "<IPython.core.display.HTML object>",
            "text/html": "Find logs at: <code>./wandb/run-20230903_074714-nl2acv2d/logs</code>"
          },
          "metadata": {}
        },
        {
          "name": "stderr",
          "text": "\u001b[34m\u001b[1mwandb\u001b[0m: Agent Starting Run: azit4q8x with config:\n\u001b[34m\u001b[1mwandb\u001b[0m: \tSchedulerType: linear\n\u001b[34m\u001b[1mwandb\u001b[0m: \tlearning_rate: 0.060242339914711486\n\u001b[34m\u001b[1mwandb\u001b[0m: \tweight_decay: 0.5\n",
          "output_type": "stream"
        },
        {
          "output_type": "display_data",
          "data": {
            "text/plain": "<IPython.core.display.HTML object>",
            "text/html": "Tracking run with wandb version 0.15.9"
          },
          "metadata": {}
        },
        {
          "output_type": "display_data",
          "data": {
            "text/plain": "<IPython.core.display.HTML object>",
            "text/html": "Run data is saved locally in <code>/kaggle/working/wandb/run-20230903_081253-azit4q8x</code>"
          },
          "metadata": {}
        },
        {
          "output_type": "display_data",
          "data": {
            "text/plain": "<IPython.core.display.HTML object>",
            "text/html": "Syncing run <strong><a href='https://wandb.ai/solowosophia13/AIconnect_ko_en_translation/runs/azit4q8x' target=\"_blank\">rose-sweep-19</a></strong> to <a href='https://wandb.ai/solowosophia13/AIconnect_ko_en_translation' target=\"_blank\">Weights & Biases</a> (<a href='https://wandb.me/run' target=\"_blank\">docs</a>)<br/>Sweep page: <a href='https://wandb.ai/solowosophia13/AIconnect_ko_en_translation/sweeps/sa9bqp9j' target=\"_blank\">https://wandb.ai/solowosophia13/AIconnect_ko_en_translation/sweeps/sa9bqp9j</a>"
          },
          "metadata": {}
        },
        {
          "output_type": "display_data",
          "data": {
            "text/plain": "<IPython.core.display.HTML object>",
            "text/html": " View project at <a href='https://wandb.ai/solowosophia13/AIconnect_ko_en_translation' target=\"_blank\">https://wandb.ai/solowosophia13/AIconnect_ko_en_translation</a>"
          },
          "metadata": {}
        },
        {
          "output_type": "display_data",
          "data": {
            "text/plain": "<IPython.core.display.HTML object>",
            "text/html": " View sweep at <a href='https://wandb.ai/solowosophia13/AIconnect_ko_en_translation/sweeps/sa9bqp9j' target=\"_blank\">https://wandb.ai/solowosophia13/AIconnect_ko_en_translation/sweeps/sa9bqp9j</a>"
          },
          "metadata": {}
        },
        {
          "output_type": "display_data",
          "data": {
            "text/plain": "<IPython.core.display.HTML object>",
            "text/html": " View run at <a href='https://wandb.ai/solowosophia13/AIconnect_ko_en_translation/runs/azit4q8x' target=\"_blank\">https://wandb.ai/solowosophia13/AIconnect_ko_en_translation/runs/azit4q8x</a>"
          },
          "metadata": {}
        },
        {
          "name": "stderr",
          "text": "\u001b[34m\u001b[1mwandb\u001b[0m: \u001b[33mWARNING\u001b[0m Config item 'learning_rate' was locked by 'sweep' (ignored update).\n\u001b[34m\u001b[1mwandb\u001b[0m: \u001b[33mWARNING\u001b[0m Config item 'weight_decay' was locked by 'sweep' (ignored update).\n",
          "output_type": "stream"
        },
        {
          "output_type": "display_data",
          "data": {
            "text/plain": "<IPython.core.display.HTML object>",
            "text/html": "\n    <div>\n      \n      <progress value='30' max='30' style='width:300px; height:20px; vertical-align: middle;'></progress>\n      [30/30 25:19, Epoch 3/3]\n    </div>\n    <table border=\"1\" class=\"dataframe\">\n  <thead>\n <tr style=\"text-align: left;\">\n      <th>Epoch</th>\n      <th>Training Loss</th>\n      <th>Validation Loss</th>\n      <th>Bleu</th>\n    </tr>\n  </thead>\n  <tbody>\n    <tr>\n      <td>1</td>\n      <td>No log</td>\n      <td>65.408493</td>\n      <td>0.000782</td>\n    </tr>\n    <tr>\n      <td>2</td>\n      <td>No log</td>\n      <td>65.408493</td>\n      <td>0.000782</td>\n    </tr>\n    <tr>\n      <td>3</td>\n      <td>No log</td>\n      <td>65.408493</td>\n      <td>0.000782</td>\n    </tr>\n  </tbody>\n</table><p>"
          },
          "metadata": {}
        },
        {
          "output_type": "display_data",
          "data": {
            "text/plain": "<IPython.core.display.HTML object>",
            "text/html": "Waiting for W&B process to finish... <strong style=\"color:green\">(success).</strong>"
          },
          "metadata": {}
        },
        {
          "output_type": "display_data",
          "data": {
            "text/plain": "VBox(children=(Label(value='0.001 MB of 0.057 MB uploaded (0.000 MB deduped)\\r'), FloatProgress(value=0.018707…",
            "application/vnd.jupyter.widget-view+json": {
              "version_major": 2,
              "version_minor": 0,
              "model_id": "ce072c60b82642b3ab3b16952f1cc343"
            }
          },
          "metadata": {}
        },
        {
          "output_type": "display_data",
          "data": {
            "text/plain": "<IPython.core.display.HTML object>",
            "text/html": "<style>\n    table.wandb td:nth-child(1) { padding: 0 10px; text-align: left ; width: auto;} td:nth-child(2) {text-align: left ; width: 100%}\n    .wandb-row { display: flex; flex-direction: row; flex-wrap: wrap; justify-content: flex-start; width: 100% }\n    .wandb-col { display: flex; flex-direction: column; flex-basis: 100%; flex: 1; padding: 10px; }\n    </style>\n<div class=\"wandb-row\"><div class=\"wandb-col\"><h3>Run history:</h3><br/><table class=\"wandb\"><tr><td>eval/bleu</td><td>▁▁▁</td></tr><tr><td>eval/loss</td><td>▁▁▁</td></tr><tr><td>eval/runtime</td><td>█▁▄</td></tr><tr><td>eval/samples_per_second</td><td>▁█▅</td></tr><tr><td>eval/steps_per_second</td><td>▁▁▁</td></tr><tr><td>train/epoch</td><td>▁▅██</td></tr><tr><td>train/global_step</td><td>▁▅██</td></tr><tr><td>train/total_flos</td><td>▁</td></tr><tr><td>train/train_loss</td><td>▁</td></tr><tr><td>train/train_runtime</td><td>▁</td></tr><tr><td>train/train_samples_per_second</td><td>▁</td></tr><tr><td>train/train_steps_per_second</td><td>▁</td></tr></table><br/></div><div class=\"wandb-col\"><h3>Run summary:</h3><br/><table class=\"wandb\"><tr><td>eval/bleu</td><td>0.00078</td></tr><tr><td>eval/loss</td><td>65.40849</td></tr><tr><td>eval/runtime</td><td>499.9797</td></tr><tr><td>eval/samples_per_second</td><td>0.64</td></tr><tr><td>eval/steps_per_second</td><td>0.04</td></tr><tr><td>train/epoch</td><td>3.0</td></tr><tr><td>train/global_step</td><td>30</td></tr><tr><td>train/total_flos</td><td>32542430330880.0</td></tr><tr><td>train/train_loss</td><td>0.0</td></tr><tr><td>train/train_runtime</td><td>1520.2916</td></tr><tr><td>train/train_samples_per_second</td><td>2.526</td></tr><tr><td>train/train_steps_per_second</td><td>0.02</td></tr></table><br/></div></div>"
          },
          "metadata": {}
        },
        {
          "output_type": "display_data",
          "data": {
            "text/plain": "<IPython.core.display.HTML object>",
            "text/html": " View run <strong style=\"color:#cdcd00\">rose-sweep-19</strong> at: <a href='https://wandb.ai/solowosophia13/AIconnect_ko_en_translation/runs/azit4q8x' target=\"_blank\">https://wandb.ai/solowosophia13/AIconnect_ko_en_translation/runs/azit4q8x</a><br/>Synced 6 W&B file(s), 0 media file(s), 0 artifact file(s) and 0 other file(s)"
          },
          "metadata": {}
        },
        {
          "output_type": "display_data",
          "data": {
            "text/plain": "<IPython.core.display.HTML object>",
            "text/html": "Find logs at: <code>./wandb/run-20230903_081253-azit4q8x/logs</code>"
          },
          "metadata": {}
        },
        {
          "name": "stderr",
          "text": "\u001b[34m\u001b[1mwandb\u001b[0m: Agent Starting Run: wecq42bv with config:\n\u001b[34m\u001b[1mwandb\u001b[0m: \tSchedulerType: cosine\n\u001b[34m\u001b[1mwandb\u001b[0m: \tlearning_rate: 0.024403682573358176\n\u001b[34m\u001b[1mwandb\u001b[0m: \tweight_decay: 0.01\n",
          "output_type": "stream"
        },
        {
          "output_type": "display_data",
          "data": {
            "text/plain": "<IPython.core.display.HTML object>",
            "text/html": "Tracking run with wandb version 0.15.9"
          },
          "metadata": {}
        },
        {
          "output_type": "display_data",
          "data": {
            "text/plain": "<IPython.core.display.HTML object>",
            "text/html": "Run data is saved locally in <code>/kaggle/working/wandb/run-20230903_083853-wecq42bv</code>"
          },
          "metadata": {}
        },
        {
          "output_type": "display_data",
          "data": {
            "text/plain": "<IPython.core.display.HTML object>",
            "text/html": "Syncing run <strong><a href='https://wandb.ai/solowosophia13/AIconnect_ko_en_translation/runs/wecq42bv' target=\"_blank\">warm-sweep-20</a></strong> to <a href='https://wandb.ai/solowosophia13/AIconnect_ko_en_translation' target=\"_blank\">Weights & Biases</a> (<a href='https://wandb.me/run' target=\"_blank\">docs</a>)<br/>Sweep page: <a href='https://wandb.ai/solowosophia13/AIconnect_ko_en_translation/sweeps/sa9bqp9j' target=\"_blank\">https://wandb.ai/solowosophia13/AIconnect_ko_en_translation/sweeps/sa9bqp9j</a>"
          },
          "metadata": {}
        },
        {
          "output_type": "display_data",
          "data": {
            "text/plain": "<IPython.core.display.HTML object>",
            "text/html": " View project at <a href='https://wandb.ai/solowosophia13/AIconnect_ko_en_translation' target=\"_blank\">https://wandb.ai/solowosophia13/AIconnect_ko_en_translation</a>"
          },
          "metadata": {}
        },
        {
          "output_type": "display_data",
          "data": {
            "text/plain": "<IPython.core.display.HTML object>",
            "text/html": " View sweep at <a href='https://wandb.ai/solowosophia13/AIconnect_ko_en_translation/sweeps/sa9bqp9j' target=\"_blank\">https://wandb.ai/solowosophia13/AIconnect_ko_en_translation/sweeps/sa9bqp9j</a>"
          },
          "metadata": {}
        },
        {
          "output_type": "display_data",
          "data": {
            "text/plain": "<IPython.core.display.HTML object>",
            "text/html": " View run at <a href='https://wandb.ai/solowosophia13/AIconnect_ko_en_translation/runs/wecq42bv' target=\"_blank\">https://wandb.ai/solowosophia13/AIconnect_ko_en_translation/runs/wecq42bv</a>"
          },
          "metadata": {}
        },
        {
          "name": "stderr",
          "text": "\u001b[34m\u001b[1mwandb\u001b[0m: \u001b[33mWARNING\u001b[0m Config item 'learning_rate' was locked by 'sweep' (ignored update).\n\u001b[34m\u001b[1mwandb\u001b[0m: \u001b[33mWARNING\u001b[0m Config item 'weight_decay' was locked by 'sweep' (ignored update).\n",
          "output_type": "stream"
        },
        {
          "output_type": "display_data",
          "data": {
            "text/plain": "<IPython.core.display.HTML object>",
            "text/html": "\n    <div>\n      \n      <progress value='30' max='30' style='width:300px; height:20px; vertical-align: middle;'></progress>\n      [30/30 25:32, Epoch 3/3]\n    </div>\n    <table border=\"1\" class=\"dataframe\">\n  <thead>\n <tr style=\"text-align: left;\">\n      <th>Epoch</th>\n      <th>Training Loss</th>\n      <th>Validation Loss</th>\n      <th>Bleu</th>\n    </tr>\n  </thead>\n  <tbody>\n    <tr>\n      <td>1</td>\n      <td>No log</td>\n      <td>65.408493</td>\n      <td>0.000782</td>\n    </tr>\n    <tr>\n      <td>2</td>\n      <td>No log</td>\n      <td>65.408493</td>\n      <td>0.000782</td>\n    </tr>\n    <tr>\n      <td>3</td>\n      <td>No log</td>\n      <td>65.408493</td>\n      <td>0.000782</td>\n    </tr>\n  </tbody>\n</table><p>"
          },
          "metadata": {}
        },
        {
          "output_type": "display_data",
          "data": {
            "text/plain": "<IPython.core.display.HTML object>",
            "text/html": "Waiting for W&B process to finish... <strong style=\"color:green\">(success).</strong>"
          },
          "metadata": {}
        },
        {
          "output_type": "display_data",
          "data": {
            "text/plain": "VBox(children=(Label(value='0.001 MB of 0.001 MB uploaded (0.000 MB deduped)\\r'), FloatProgress(value=1.0, max…",
            "application/vnd.jupyter.widget-view+json": {
              "version_major": 2,
              "version_minor": 0,
              "model_id": "8c85799b493e480fbfc121183aac79fb"
            }
          },
          "metadata": {}
        },
        {
          "output_type": "display_data",
          "data": {
            "text/plain": "<IPython.core.display.HTML object>",
            "text/html": "<style>\n    table.wandb td:nth-child(1) { padding: 0 10px; text-align: left ; width: auto;} td:nth-child(2) {text-align: left ; width: 100%}\n    .wandb-row { display: flex; flex-direction: row; flex-wrap: wrap; justify-content: flex-start; width: 100% }\n    .wandb-col { display: flex; flex-direction: column; flex-basis: 100%; flex: 1; padding: 10px; }\n    </style>\n<div class=\"wandb-row\"><div class=\"wandb-col\"><h3>Run history:</h3><br/><table class=\"wandb\"><tr><td>eval/bleu</td><td>▁▁▁</td></tr><tr><td>eval/loss</td><td>▁▁▁</td></tr><tr><td>eval/runtime</td><td>█▁▁</td></tr><tr><td>eval/samples_per_second</td><td>▁██</td></tr><tr><td>eval/steps_per_second</td><td>▁██</td></tr><tr><td>train/epoch</td><td>▁▅██</td></tr><tr><td>train/global_step</td><td>▁▅██</td></tr><tr><td>train/total_flos</td><td>▁</td></tr><tr><td>train/train_loss</td><td>▁</td></tr><tr><td>train/train_runtime</td><td>▁</td></tr><tr><td>train/train_samples_per_second</td><td>▁</td></tr><tr><td>train/train_steps_per_second</td><td>▁</td></tr></table><br/></div><div class=\"wandb-col\"><h3>Run summary:</h3><br/><table class=\"wandb\"><tr><td>eval/bleu</td><td>0.00078</td></tr><tr><td>eval/loss</td><td>65.40849</td></tr><tr><td>eval/runtime</td><td>502.4364</td></tr><tr><td>eval/samples_per_second</td><td>0.637</td></tr><tr><td>eval/steps_per_second</td><td>0.04</td></tr><tr><td>train/epoch</td><td>3.0</td></tr><tr><td>train/global_step</td><td>30</td></tr><tr><td>train/total_flos</td><td>32542430330880.0</td></tr><tr><td>train/train_loss</td><td>0.0</td></tr><tr><td>train/train_runtime</td><td>1533.6887</td></tr><tr><td>train/train_samples_per_second</td><td>2.504</td></tr><tr><td>train/train_steps_per_second</td><td>0.02</td></tr></table><br/></div></div>"
          },
          "metadata": {}
        },
        {
          "output_type": "display_data",
          "data": {
            "text/plain": "<IPython.core.display.HTML object>",
            "text/html": " View run <strong style=\"color:#cdcd00\">warm-sweep-20</strong> at: <a href='https://wandb.ai/solowosophia13/AIconnect_ko_en_translation/runs/wecq42bv' target=\"_blank\">https://wandb.ai/solowosophia13/AIconnect_ko_en_translation/runs/wecq42bv</a><br/>Synced 6 W&B file(s), 0 media file(s), 0 artifact file(s) and 0 other file(s)"
          },
          "metadata": {}
        },
        {
          "output_type": "display_data",
          "data": {
            "text/plain": "<IPython.core.display.HTML object>",
            "text/html": "Find logs at: <code>./wandb/run-20230903_083853-wecq42bv/logs</code>"
          },
          "metadata": {}
        }
      ]
    },
    {
      "cell_type": "code",
      "source": [
        "wandb.finish()"
      ],
      "metadata": {
        "id": "KzXGMY6VkSlm",
        "execution": {
          "iopub.status.busy": "2023-09-03T09:05:03.666420Z",
          "iopub.execute_input": "2023-09-03T09:05:03.666762Z",
          "iopub.status.idle": "2023-09-03T09:05:03.672254Z",
          "shell.execute_reply.started": "2023-09-03T09:05:03.666728Z",
          "shell.execute_reply": "2023-09-03T09:05:03.671270Z"
        },
        "trusted": true
      },
      "execution_count": null,
      "outputs": []
    },
    {
      "cell_type": "code",
      "source": [],
      "metadata": {
        "id": "06FY4_KMQFdg"
      },
      "execution_count": null,
      "outputs": []
    }
  ]
}